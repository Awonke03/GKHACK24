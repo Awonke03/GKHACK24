{
 "cells": [
  {
   "cell_type": "code",
   "execution_count": 1,
   "metadata": {},
   "outputs": [
    {
     "name": "stderr",
     "output_type": "stream",
     "text": [
      "C:\\Users\\Admin\\AppData\\Roaming\\Python\\Python310\\site-packages\\pandas\\core\\arrays\\masked.py:60: UserWarning: Pandas requires version '1.3.6' or newer of 'bottleneck' (version '1.3.5' currently installed).\n",
      "  from pandas.core import (\n"
     ]
    }
   ],
   "source": [
    "import pandas as pd\n",
    "import plotly.express as px\n",
    "import dash\n",
    "from dash import dcc, html\n",
    "from dash.dependencies import Input, Output\n",
    "import dash_bootstrap_components as dbc\n",
    "import plotly.graph_objs as go\n",
    "from plotly.subplots import make_subplots\n",
    "from jupyter_dash import JupyterDash \n",
    "import statsmodels.api as sm\n",
    "from matplotlib import pyplot as plt"
   ]
  },
  {
   "cell_type": "code",
   "execution_count": 2,
   "metadata": {},
   "outputs": [
    {
     "data": {
      "text/html": [
       "<div>\n",
       "<style scoped>\n",
       "    .dataframe tbody tr th:only-of-type {\n",
       "        vertical-align: middle;\n",
       "    }\n",
       "\n",
       "    .dataframe tbody tr th {\n",
       "        vertical-align: top;\n",
       "    }\n",
       "\n",
       "    .dataframe thead th {\n",
       "        text-align: right;\n",
       "    }\n",
       "</style>\n",
       "<table border=\"1\" class=\"dataframe\">\n",
       "  <thead>\n",
       "    <tr style=\"text-align: right;\">\n",
       "      <th></th>\n",
       "      <th>Country Name</th>\n",
       "      <th>Country Code</th>\n",
       "      <th>Indicator Name</th>\n",
       "      <th>Indicator Code</th>\n",
       "      <th>1960</th>\n",
       "      <th>1961</th>\n",
       "      <th>1962</th>\n",
       "      <th>1963</th>\n",
       "      <th>1964</th>\n",
       "      <th>1965</th>\n",
       "      <th>...</th>\n",
       "      <th>2014</th>\n",
       "      <th>2015</th>\n",
       "      <th>2016</th>\n",
       "      <th>2017</th>\n",
       "      <th>2018</th>\n",
       "      <th>2019</th>\n",
       "      <th>2020</th>\n",
       "      <th>2021</th>\n",
       "      <th>2022</th>\n",
       "      <th>Unnamed: 67</th>\n",
       "    </tr>\n",
       "  </thead>\n",
       "  <tbody>\n",
       "    <tr>\n",
       "      <th>0</th>\n",
       "      <td>Aruba</td>\n",
       "      <td>ABW</td>\n",
       "      <td>water leakage</td>\n",
       "      <td>SL.UEM.1524.ZS</td>\n",
       "      <td>NaN</td>\n",
       "      <td>NaN</td>\n",
       "      <td>NaN</td>\n",
       "      <td>NaN</td>\n",
       "      <td>NaN</td>\n",
       "      <td>NaN</td>\n",
       "      <td>...</td>\n",
       "      <td>NaN</td>\n",
       "      <td>NaN</td>\n",
       "      <td>NaN</td>\n",
       "      <td>NaN</td>\n",
       "      <td>NaN</td>\n",
       "      <td>NaN</td>\n",
       "      <td>NaN</td>\n",
       "      <td>NaN</td>\n",
       "      <td>NaN</td>\n",
       "      <td>NaN</td>\n",
       "    </tr>\n",
       "    <tr>\n",
       "      <th>1</th>\n",
       "      <td>Africa Eastern and Southern</td>\n",
       "      <td>AFE</td>\n",
       "      <td>water leakage</td>\n",
       "      <td>SL.UEM.1524.ZS</td>\n",
       "      <td>NaN</td>\n",
       "      <td>NaN</td>\n",
       "      <td>NaN</td>\n",
       "      <td>NaN</td>\n",
       "      <td>NaN</td>\n",
       "      <td>NaN</td>\n",
       "      <td>...</td>\n",
       "      <td>12.992790</td>\n",
       "      <td>12.874319</td>\n",
       "      <td>13.007650</td>\n",
       "      <td>12.973653</td>\n",
       "      <td>12.887711</td>\n",
       "      <td>13.281005</td>\n",
       "      <td>14.138644</td>\n",
       "      <td>14.137466</td>\n",
       "      <td>14.134125</td>\n",
       "      <td>NaN</td>\n",
       "    </tr>\n",
       "    <tr>\n",
       "      <th>2</th>\n",
       "      <td>Afghanistan</td>\n",
       "      <td>AFG</td>\n",
       "      <td>water leakage</td>\n",
       "      <td>SL.UEM.1524.ZS</td>\n",
       "      <td>NaN</td>\n",
       "      <td>NaN</td>\n",
       "      <td>NaN</td>\n",
       "      <td>NaN</td>\n",
       "      <td>NaN</td>\n",
       "      <td>NaN</td>\n",
       "      <td>...</td>\n",
       "      <td>10.086000</td>\n",
       "      <td>12.495000</td>\n",
       "      <td>14.902000</td>\n",
       "      <td>17.303000</td>\n",
       "      <td>17.292000</td>\n",
       "      <td>17.339000</td>\n",
       "      <td>16.053000</td>\n",
       "      <td>NaN</td>\n",
       "      <td>NaN</td>\n",
       "      <td>NaN</td>\n",
       "    </tr>\n",
       "    <tr>\n",
       "      <th>3</th>\n",
       "      <td>Africa Western and Central</td>\n",
       "      <td>AFW</td>\n",
       "      <td>water leakage</td>\n",
       "      <td>SL.UEM.1524.ZS</td>\n",
       "      <td>NaN</td>\n",
       "      <td>NaN</td>\n",
       "      <td>NaN</td>\n",
       "      <td>NaN</td>\n",
       "      <td>NaN</td>\n",
       "      <td>NaN</td>\n",
       "      <td>...</td>\n",
       "      <td>8.432707</td>\n",
       "      <td>8.860586</td>\n",
       "      <td>8.690286</td>\n",
       "      <td>8.785932</td>\n",
       "      <td>8.910159</td>\n",
       "      <td>9.005565</td>\n",
       "      <td>10.444833</td>\n",
       "      <td>9.874787</td>\n",
       "      <td>9.726148</td>\n",
       "      <td>NaN</td>\n",
       "    </tr>\n",
       "    <tr>\n",
       "      <th>4</th>\n",
       "      <td>Angola</td>\n",
       "      <td>AGO</td>\n",
       "      <td>water leakage</td>\n",
       "      <td>SL.UEM.1524.ZS</td>\n",
       "      <td>NaN</td>\n",
       "      <td>NaN</td>\n",
       "      <td>NaN</td>\n",
       "      <td>NaN</td>\n",
       "      <td>NaN</td>\n",
       "      <td>NaN</td>\n",
       "      <td>...</td>\n",
       "      <td>16.428000</td>\n",
       "      <td>16.437000</td>\n",
       "      <td>16.436000</td>\n",
       "      <td>16.363000</td>\n",
       "      <td>16.343000</td>\n",
       "      <td>16.283000</td>\n",
       "      <td>17.967000</td>\n",
       "      <td>17.523000</td>\n",
       "      <td>17.279000</td>\n",
       "      <td>NaN</td>\n",
       "    </tr>\n",
       "  </tbody>\n",
       "</table>\n",
       "<p>5 rows × 68 columns</p>\n",
       "</div>"
      ],
      "text/plain": [
       "                  Country Name Country Code Indicator Name  Indicator Code  \\\n",
       "0                        Aruba          ABW  water leakage  SL.UEM.1524.ZS   \n",
       "1  Africa Eastern and Southern          AFE  water leakage  SL.UEM.1524.ZS   \n",
       "2                  Afghanistan          AFG  water leakage  SL.UEM.1524.ZS   \n",
       "3   Africa Western and Central          AFW  water leakage  SL.UEM.1524.ZS   \n",
       "4                       Angola          AGO  water leakage  SL.UEM.1524.ZS   \n",
       "\n",
       "   1960  1961  1962  1963  1964  1965  ...       2014       2015       2016  \\\n",
       "0   NaN   NaN   NaN   NaN   NaN   NaN  ...        NaN        NaN        NaN   \n",
       "1   NaN   NaN   NaN   NaN   NaN   NaN  ...  12.992790  12.874319  13.007650   \n",
       "2   NaN   NaN   NaN   NaN   NaN   NaN  ...  10.086000  12.495000  14.902000   \n",
       "3   NaN   NaN   NaN   NaN   NaN   NaN  ...   8.432707   8.860586   8.690286   \n",
       "4   NaN   NaN   NaN   NaN   NaN   NaN  ...  16.428000  16.437000  16.436000   \n",
       "\n",
       "        2017       2018       2019       2020       2021       2022  \\\n",
       "0        NaN        NaN        NaN        NaN        NaN        NaN   \n",
       "1  12.973653  12.887711  13.281005  14.138644  14.137466  14.134125   \n",
       "2  17.303000  17.292000  17.339000  16.053000        NaN        NaN   \n",
       "3   8.785932   8.910159   9.005565  10.444833   9.874787   9.726148   \n",
       "4  16.363000  16.343000  16.283000  17.967000  17.523000  17.279000   \n",
       "\n",
       "   Unnamed: 67  \n",
       "0          NaN  \n",
       "1          NaN  \n",
       "2          NaN  \n",
       "3          NaN  \n",
       "4          NaN  \n",
       "\n",
       "[5 rows x 68 columns]"
      ]
     },
     "execution_count": 2,
     "metadata": {},
     "output_type": "execute_result"
    }
   ],
   "source": [
    "# Load the data from the CSV file (adjust header as necessary)\n",
    "data = pd.read_csv(\"Water_Leakages.csv\")\n",
    "\n",
    "# Display the first few rows of the updated DataFrame\n",
    "data.head()\n"
   ]
  },
  {
   "cell_type": "code",
   "execution_count": 3,
   "metadata": {},
   "outputs": [
    {
     "data": {
      "text/plain": [
       "(266, 68)"
      ]
     },
     "execution_count": 3,
     "metadata": {},
     "output_type": "execute_result"
    }
   ],
   "source": [
    "#shape of data \n",
    "data.shape"
   ]
  },
  {
   "cell_type": "code",
   "execution_count": 4,
   "metadata": {},
   "outputs": [
    {
     "data": {
      "text/plain": [
       "Index(['Country Name', 'Country Code', 'Indicator Name', 'Indicator Code',\n",
       "       '1960', '1961', '1962', '1963', '1964', '1965', '1966', '1967', '1968',\n",
       "       '1969', '1970', '1971', '1972', '1973', '1974', '1975', '1976', '1977',\n",
       "       '1978', '1979', '1980', '1981', '1982', '1983', '1984', '1985', '1986',\n",
       "       '1987', '1988', '1989', '1990', '1991', '1992', '1993', '1994', '1995',\n",
       "       '1996', '1997', '1998', '1999', '2000', '2001', '2002', '2003', '2004',\n",
       "       '2005', '2006', '2007', '2008', '2009', '2010', '2011', '2012', '2013',\n",
       "       '2014', '2015', '2016', '2017', '2018', '2019', '2020', '2021', '2022',\n",
       "       'Unnamed: 67'],\n",
       "      dtype='object')"
      ]
     },
     "execution_count": 4,
     "metadata": {},
     "output_type": "execute_result"
    }
   ],
   "source": [
    "data.columns"
   ]
  },
  {
   "cell_type": "code",
   "execution_count": 5,
   "metadata": {},
   "outputs": [
    {
     "name": "stdout",
     "output_type": "stream",
     "text": [
      "<class 'pandas.core.frame.DataFrame'>\n",
      "RangeIndex: 266 entries, 0 to 265\n",
      "Data columns (total 68 columns):\n",
      " #   Column          Non-Null Count  Dtype  \n",
      "---  ------          --------------  -----  \n",
      " 0   Country Name    266 non-null    object \n",
      " 1   Country Code    266 non-null    object \n",
      " 2   Indicator Name  266 non-null    object \n",
      " 3   Indicator Code  266 non-null    object \n",
      " 4   1960            0 non-null      float64\n",
      " 5   1961            0 non-null      float64\n",
      " 6   1962            0 non-null      float64\n",
      " 7   1963            0 non-null      float64\n",
      " 8   1964            0 non-null      float64\n",
      " 9   1965            0 non-null      float64\n",
      " 10  1966            0 non-null      float64\n",
      " 11  1967            0 non-null      float64\n",
      " 12  1968            0 non-null      float64\n",
      " 13  1969            0 non-null      float64\n",
      " 14  1970            0 non-null      float64\n",
      " 15  1971            0 non-null      float64\n",
      " 16  1972            0 non-null      float64\n",
      " 17  1973            0 non-null      float64\n",
      " 18  1974            0 non-null      float64\n",
      " 19  1975            0 non-null      float64\n",
      " 20  1976            0 non-null      float64\n",
      " 21  1977            0 non-null      float64\n",
      " 22  1978            0 non-null      float64\n",
      " 23  1979            0 non-null      float64\n",
      " 24  1980            0 non-null      float64\n",
      " 25  1981            0 non-null      float64\n",
      " 26  1982            0 non-null      float64\n",
      " 27  1983            0 non-null      float64\n",
      " 28  1984            0 non-null      float64\n",
      " 29  1985            0 non-null      float64\n",
      " 30  1986            0 non-null      float64\n",
      " 31  1987            0 non-null      float64\n",
      " 32  1988            0 non-null      float64\n",
      " 33  1989            0 non-null      float64\n",
      " 34  1990            0 non-null      float64\n",
      " 35  1991            235 non-null    float64\n",
      " 36  1992            235 non-null    float64\n",
      " 37  1993            235 non-null    float64\n",
      " 38  1994            235 non-null    float64\n",
      " 39  1995            235 non-null    float64\n",
      " 40  1996            235 non-null    float64\n",
      " 41  1997            235 non-null    float64\n",
      " 42  1998            235 non-null    float64\n",
      " 43  1999            235 non-null    float64\n",
      " 44  2000            235 non-null    float64\n",
      " 45  2001            235 non-null    float64\n",
      " 46  2002            235 non-null    float64\n",
      " 47  2003            235 non-null    float64\n",
      " 48  2004            235 non-null    float64\n",
      " 49  2005            235 non-null    float64\n",
      " 50  2006            235 non-null    float64\n",
      " 51  2007            235 non-null    float64\n",
      " 52  2008            235 non-null    float64\n",
      " 53  2009            235 non-null    float64\n",
      " 54  2010            235 non-null    float64\n",
      " 55  2011            235 non-null    float64\n",
      " 56  2012            235 non-null    float64\n",
      " 57  2013            235 non-null    float64\n",
      " 58  2014            235 non-null    float64\n",
      " 59  2015            235 non-null    float64\n",
      " 60  2016            235 non-null    float64\n",
      " 61  2017            235 non-null    float64\n",
      " 62  2018            235 non-null    float64\n",
      " 63  2019            235 non-null    float64\n",
      " 64  2020            235 non-null    float64\n",
      " 65  2021            233 non-null    float64\n",
      " 66  2022            229 non-null    float64\n",
      " 67  Unnamed: 67     0 non-null      float64\n",
      "dtypes: float64(64), object(4)\n",
      "memory usage: 141.4+ KB\n"
     ]
    }
   ],
   "source": [
    "#data info\n",
    "data.info()"
   ]
  },
  {
   "cell_type": "code",
   "execution_count": 6,
   "metadata": {},
   "outputs": [
    {
     "data": {
      "text/plain": [
       "Country Name        0\n",
       "Country Code        0\n",
       "Indicator Name      0\n",
       "Indicator Code      0\n",
       "1960              266\n",
       "                 ... \n",
       "2019               31\n",
       "2020               31\n",
       "2021               33\n",
       "2022               37\n",
       "Unnamed: 67       266\n",
       "Length: 68, dtype: int64"
      ]
     },
     "execution_count": 6,
     "metadata": {},
     "output_type": "execute_result"
    }
   ],
   "source": [
    "#finding if there are missing data \n",
    "data.isnull().sum()"
   ]
  },
  {
   "cell_type": "code",
   "execution_count": 7,
   "metadata": {},
   "outputs": [
    {
     "data": {
      "text/plain": [
       "Country Name        0.000000\n",
       "Country Code        0.000000\n",
       "Indicator Name      0.000000\n",
       "Indicator Code      0.000000\n",
       "1960              100.000000\n",
       "                     ...    \n",
       "2019               11.654135\n",
       "2020               11.654135\n",
       "2021               12.406015\n",
       "2022               13.909774\n",
       "Unnamed: 67       100.000000\n",
       "Length: 68, dtype: float64"
      ]
     },
     "execution_count": 7,
     "metadata": {},
     "output_type": "execute_result"
    }
   ],
   "source": [
    "#findingmissing value percentage \n",
    "data.isnull().sum()/data.shape[0]*100"
   ]
  },
  {
   "cell_type": "code",
   "execution_count": 8,
   "metadata": {},
   "outputs": [
    {
     "data": {
      "text/plain": [
       "0"
      ]
     },
     "execution_count": 8,
     "metadata": {},
     "output_type": "execute_result"
    }
   ],
   "source": [
    "#finding the duplicates \n",
    "data.duplicated().sum()"
   ]
  },
  {
   "cell_type": "code",
   "execution_count": 9,
   "metadata": {},
   "outputs": [
    {
     "data": {
      "text/html": [
       "<div>\n",
       "<style scoped>\n",
       "    .dataframe tbody tr th:only-of-type {\n",
       "        vertical-align: middle;\n",
       "    }\n",
       "\n",
       "    .dataframe tbody tr th {\n",
       "        vertical-align: top;\n",
       "    }\n",
       "\n",
       "    .dataframe thead th {\n",
       "        text-align: right;\n",
       "    }\n",
       "</style>\n",
       "<table border=\"1\" class=\"dataframe\">\n",
       "  <thead>\n",
       "    <tr style=\"text-align: right;\">\n",
       "      <th></th>\n",
       "      <th>Country Name</th>\n",
       "      <th>Country Code</th>\n",
       "      <th>Indicator Name</th>\n",
       "      <th>Indicator Code</th>\n",
       "      <th>1960</th>\n",
       "      <th>1961</th>\n",
       "      <th>1962</th>\n",
       "      <th>1963</th>\n",
       "      <th>1964</th>\n",
       "      <th>1965</th>\n",
       "      <th>...</th>\n",
       "      <th>2014</th>\n",
       "      <th>2015</th>\n",
       "      <th>2016</th>\n",
       "      <th>2017</th>\n",
       "      <th>2018</th>\n",
       "      <th>2019</th>\n",
       "      <th>2020</th>\n",
       "      <th>2021</th>\n",
       "      <th>2022</th>\n",
       "      <th>Unnamed: 67</th>\n",
       "    </tr>\n",
       "  </thead>\n",
       "  <tbody>\n",
       "    <tr>\n",
       "      <th>0</th>\n",
       "      <td>Aruba</td>\n",
       "      <td>ABW</td>\n",
       "      <td>water leakage</td>\n",
       "      <td>SL.UEM.1524.ZS</td>\n",
       "      <td>NaN</td>\n",
       "      <td>NaN</td>\n",
       "      <td>NaN</td>\n",
       "      <td>NaN</td>\n",
       "      <td>NaN</td>\n",
       "      <td>NaN</td>\n",
       "      <td>...</td>\n",
       "      <td>NaN</td>\n",
       "      <td>NaN</td>\n",
       "      <td>NaN</td>\n",
       "      <td>NaN</td>\n",
       "      <td>NaN</td>\n",
       "      <td>NaN</td>\n",
       "      <td>NaN</td>\n",
       "      <td>NaN</td>\n",
       "      <td>NaN</td>\n",
       "      <td>NaN</td>\n",
       "    </tr>\n",
       "  </tbody>\n",
       "</table>\n",
       "<p>1 rows × 68 columns</p>\n",
       "</div>"
      ],
      "text/plain": [
       "  Country Name Country Code Indicator Name  Indicator Code  1960  1961  1962  \\\n",
       "0        Aruba          ABW  water leakage  SL.UEM.1524.ZS   NaN   NaN   NaN   \n",
       "\n",
       "   1963  1964  1965  ...  2014  2015  2016  2017  2018  2019  2020  2021  \\\n",
       "0   NaN   NaN   NaN  ...   NaN   NaN   NaN   NaN   NaN   NaN   NaN   NaN   \n",
       "\n",
       "   2022  Unnamed: 67  \n",
       "0   NaN          NaN  \n",
       "\n",
       "[1 rows x 68 columns]"
      ]
     },
     "execution_count": 9,
     "metadata": {},
     "output_type": "execute_result"
    }
   ],
   "source": [
    "data.head(1)"
   ]
  },
  {
   "cell_type": "markdown",
   "metadata": {},
   "source": [
    "We can observe that no data was recorded from 1960 to 1990, as there is only one unique value—a blank space—for nearly all, if not all, of the years in this range. Therefore, it is safe to conclude that these years should be dropped from our dataset."
   ]
  },
  {
   "cell_type": "code",
   "execution_count": 10,
   "metadata": {},
   "outputs": [
    {
     "data": {
      "application/vnd.plotly.v1+json": {
       "config": {
        "plotlyServerURL": "https://plot.ly"
       },
       "data": [
        {
         "domain": {
          "x": [
           0,
           0.45
          ],
          "y": [
           0,
           1
          ]
         },
         "hole": 0.3,
         "labels": [
          "1960",
          "1961",
          "1962",
          "1963",
          "1964",
          "1965",
          "1966",
          "1967",
          "1968",
          "1969",
          "1970",
          "1971",
          "1972",
          "1973",
          "1974",
          "1975",
          "1976",
          "1977",
          "1978",
          "1979",
          "1980",
          "1981",
          "1982",
          "1983",
          "1984",
          "1985",
          "1986",
          "1987",
          "1988",
          "1989",
          "1990",
          "Unnamed: 67"
         ],
         "textinfo": "percent+label",
         "type": "pie",
         "values": [
          100,
          100,
          100,
          100,
          100,
          100,
          100,
          100,
          100,
          100,
          100,
          100,
          100,
          100,
          100,
          100,
          100,
          100,
          100,
          100,
          100,
          100,
          100,
          100,
          100,
          100,
          100,
          100,
          100,
          100,
          100,
          100
         ]
        },
        {
         "domain": {
          "x": [
           0.55,
           1
          ],
          "y": [
           0,
           1
          ]
         },
         "hole": 0.3,
         "labels": [
          "1991",
          "1992",
          "1993",
          "1994",
          "1995",
          "1996",
          "1997",
          "1998",
          "1999",
          "2000",
          "2001",
          "2002",
          "2003",
          "2004",
          "2005",
          "2006",
          "2007",
          "2008",
          "2009",
          "2010",
          "2011",
          "2012",
          "2013",
          "2014",
          "2015",
          "2016",
          "2017",
          "2018",
          "2019",
          "2020",
          "2021",
          "2022"
         ],
         "textinfo": "percent+label",
         "type": "pie",
         "values": [
          11.654135338345863,
          11.654135338345863,
          11.654135338345863,
          11.654135338345863,
          11.654135338345863,
          11.654135338345863,
          11.654135338345863,
          11.654135338345863,
          11.654135338345863,
          11.654135338345863,
          11.654135338345863,
          11.654135338345863,
          11.654135338345863,
          11.654135338345863,
          11.654135338345863,
          11.654135338345863,
          11.654135338345863,
          11.654135338345863,
          11.654135338345863,
          11.654135338345863,
          11.654135338345863,
          11.654135338345863,
          11.654135338345863,
          11.654135338345863,
          11.654135338345863,
          11.654135338345863,
          11.654135338345863,
          11.654135338345863,
          11.654135338345863,
          11.654135338345863,
          12.406015037593985,
          13.909774436090224
         ]
        }
       ],
       "layout": {
        "annotations": [
         {
          "font": {
           "size": 14
          },
          "showarrow": false,
          "text": "Columns with ≥50% Missing Values",
          "x": 0.25,
          "xanchor": "center",
          "xref": "paper",
          "y": -0.15,
          "yanchor": "top",
          "yref": "paper"
         },
         {
          "font": {
           "size": 14
          },
          "showarrow": false,
          "text": "Columns with <50% Missing Values",
          "x": 0.75,
          "xanchor": "center",
          "xref": "paper",
          "y": -0.15,
          "yanchor": "top",
          "yref": "paper"
         }
        ],
        "height": 600,
        "template": {
         "data": {
          "bar": [
           {
            "error_x": {
             "color": "#2a3f5f"
            },
            "error_y": {
             "color": "#2a3f5f"
            },
            "marker": {
             "line": {
              "color": "#E5ECF6",
              "width": 0.5
             },
             "pattern": {
              "fillmode": "overlay",
              "size": 10,
              "solidity": 0.2
             }
            },
            "type": "bar"
           }
          ],
          "barpolar": [
           {
            "marker": {
             "line": {
              "color": "#E5ECF6",
              "width": 0.5
             },
             "pattern": {
              "fillmode": "overlay",
              "size": 10,
              "solidity": 0.2
             }
            },
            "type": "barpolar"
           }
          ],
          "carpet": [
           {
            "aaxis": {
             "endlinecolor": "#2a3f5f",
             "gridcolor": "white",
             "linecolor": "white",
             "minorgridcolor": "white",
             "startlinecolor": "#2a3f5f"
            },
            "baxis": {
             "endlinecolor": "#2a3f5f",
             "gridcolor": "white",
             "linecolor": "white",
             "minorgridcolor": "white",
             "startlinecolor": "#2a3f5f"
            },
            "type": "carpet"
           }
          ],
          "choropleth": [
           {
            "colorbar": {
             "outlinewidth": 0,
             "ticks": ""
            },
            "type": "choropleth"
           }
          ],
          "contour": [
           {
            "colorbar": {
             "outlinewidth": 0,
             "ticks": ""
            },
            "colorscale": [
             [
              0,
              "#0d0887"
             ],
             [
              0.1111111111111111,
              "#46039f"
             ],
             [
              0.2222222222222222,
              "#7201a8"
             ],
             [
              0.3333333333333333,
              "#9c179e"
             ],
             [
              0.4444444444444444,
              "#bd3786"
             ],
             [
              0.5555555555555556,
              "#d8576b"
             ],
             [
              0.6666666666666666,
              "#ed7953"
             ],
             [
              0.7777777777777778,
              "#fb9f3a"
             ],
             [
              0.8888888888888888,
              "#fdca26"
             ],
             [
              1,
              "#f0f921"
             ]
            ],
            "type": "contour"
           }
          ],
          "contourcarpet": [
           {
            "colorbar": {
             "outlinewidth": 0,
             "ticks": ""
            },
            "type": "contourcarpet"
           }
          ],
          "heatmap": [
           {
            "colorbar": {
             "outlinewidth": 0,
             "ticks": ""
            },
            "colorscale": [
             [
              0,
              "#0d0887"
             ],
             [
              0.1111111111111111,
              "#46039f"
             ],
             [
              0.2222222222222222,
              "#7201a8"
             ],
             [
              0.3333333333333333,
              "#9c179e"
             ],
             [
              0.4444444444444444,
              "#bd3786"
             ],
             [
              0.5555555555555556,
              "#d8576b"
             ],
             [
              0.6666666666666666,
              "#ed7953"
             ],
             [
              0.7777777777777778,
              "#fb9f3a"
             ],
             [
              0.8888888888888888,
              "#fdca26"
             ],
             [
              1,
              "#f0f921"
             ]
            ],
            "type": "heatmap"
           }
          ],
          "heatmapgl": [
           {
            "colorbar": {
             "outlinewidth": 0,
             "ticks": ""
            },
            "colorscale": [
             [
              0,
              "#0d0887"
             ],
             [
              0.1111111111111111,
              "#46039f"
             ],
             [
              0.2222222222222222,
              "#7201a8"
             ],
             [
              0.3333333333333333,
              "#9c179e"
             ],
             [
              0.4444444444444444,
              "#bd3786"
             ],
             [
              0.5555555555555556,
              "#d8576b"
             ],
             [
              0.6666666666666666,
              "#ed7953"
             ],
             [
              0.7777777777777778,
              "#fb9f3a"
             ],
             [
              0.8888888888888888,
              "#fdca26"
             ],
             [
              1,
              "#f0f921"
             ]
            ],
            "type": "heatmapgl"
           }
          ],
          "histogram": [
           {
            "marker": {
             "pattern": {
              "fillmode": "overlay",
              "size": 10,
              "solidity": 0.2
             }
            },
            "type": "histogram"
           }
          ],
          "histogram2d": [
           {
            "colorbar": {
             "outlinewidth": 0,
             "ticks": ""
            },
            "colorscale": [
             [
              0,
              "#0d0887"
             ],
             [
              0.1111111111111111,
              "#46039f"
             ],
             [
              0.2222222222222222,
              "#7201a8"
             ],
             [
              0.3333333333333333,
              "#9c179e"
             ],
             [
              0.4444444444444444,
              "#bd3786"
             ],
             [
              0.5555555555555556,
              "#d8576b"
             ],
             [
              0.6666666666666666,
              "#ed7953"
             ],
             [
              0.7777777777777778,
              "#fb9f3a"
             ],
             [
              0.8888888888888888,
              "#fdca26"
             ],
             [
              1,
              "#f0f921"
             ]
            ],
            "type": "histogram2d"
           }
          ],
          "histogram2dcontour": [
           {
            "colorbar": {
             "outlinewidth": 0,
             "ticks": ""
            },
            "colorscale": [
             [
              0,
              "#0d0887"
             ],
             [
              0.1111111111111111,
              "#46039f"
             ],
             [
              0.2222222222222222,
              "#7201a8"
             ],
             [
              0.3333333333333333,
              "#9c179e"
             ],
             [
              0.4444444444444444,
              "#bd3786"
             ],
             [
              0.5555555555555556,
              "#d8576b"
             ],
             [
              0.6666666666666666,
              "#ed7953"
             ],
             [
              0.7777777777777778,
              "#fb9f3a"
             ],
             [
              0.8888888888888888,
              "#fdca26"
             ],
             [
              1,
              "#f0f921"
             ]
            ],
            "type": "histogram2dcontour"
           }
          ],
          "mesh3d": [
           {
            "colorbar": {
             "outlinewidth": 0,
             "ticks": ""
            },
            "type": "mesh3d"
           }
          ],
          "parcoords": [
           {
            "line": {
             "colorbar": {
              "outlinewidth": 0,
              "ticks": ""
             }
            },
            "type": "parcoords"
           }
          ],
          "pie": [
           {
            "automargin": true,
            "type": "pie"
           }
          ],
          "scatter": [
           {
            "fillpattern": {
             "fillmode": "overlay",
             "size": 10,
             "solidity": 0.2
            },
            "type": "scatter"
           }
          ],
          "scatter3d": [
           {
            "line": {
             "colorbar": {
              "outlinewidth": 0,
              "ticks": ""
             }
            },
            "marker": {
             "colorbar": {
              "outlinewidth": 0,
              "ticks": ""
             }
            },
            "type": "scatter3d"
           }
          ],
          "scattercarpet": [
           {
            "marker": {
             "colorbar": {
              "outlinewidth": 0,
              "ticks": ""
             }
            },
            "type": "scattercarpet"
           }
          ],
          "scattergeo": [
           {
            "marker": {
             "colorbar": {
              "outlinewidth": 0,
              "ticks": ""
             }
            },
            "type": "scattergeo"
           }
          ],
          "scattergl": [
           {
            "marker": {
             "colorbar": {
              "outlinewidth": 0,
              "ticks": ""
             }
            },
            "type": "scattergl"
           }
          ],
          "scattermapbox": [
           {
            "marker": {
             "colorbar": {
              "outlinewidth": 0,
              "ticks": ""
             }
            },
            "type": "scattermapbox"
           }
          ],
          "scatterpolar": [
           {
            "marker": {
             "colorbar": {
              "outlinewidth": 0,
              "ticks": ""
             }
            },
            "type": "scatterpolar"
           }
          ],
          "scatterpolargl": [
           {
            "marker": {
             "colorbar": {
              "outlinewidth": 0,
              "ticks": ""
             }
            },
            "type": "scatterpolargl"
           }
          ],
          "scatterternary": [
           {
            "marker": {
             "colorbar": {
              "outlinewidth": 0,
              "ticks": ""
             }
            },
            "type": "scatterternary"
           }
          ],
          "surface": [
           {
            "colorbar": {
             "outlinewidth": 0,
             "ticks": ""
            },
            "colorscale": [
             [
              0,
              "#0d0887"
             ],
             [
              0.1111111111111111,
              "#46039f"
             ],
             [
              0.2222222222222222,
              "#7201a8"
             ],
             [
              0.3333333333333333,
              "#9c179e"
             ],
             [
              0.4444444444444444,
              "#bd3786"
             ],
             [
              0.5555555555555556,
              "#d8576b"
             ],
             [
              0.6666666666666666,
              "#ed7953"
             ],
             [
              0.7777777777777778,
              "#fb9f3a"
             ],
             [
              0.8888888888888888,
              "#fdca26"
             ],
             [
              1,
              "#f0f921"
             ]
            ],
            "type": "surface"
           }
          ],
          "table": [
           {
            "cells": {
             "fill": {
              "color": "#EBF0F8"
             },
             "line": {
              "color": "white"
             }
            },
            "header": {
             "fill": {
              "color": "#C8D4E3"
             },
             "line": {
              "color": "white"
             }
            },
            "type": "table"
           }
          ]
         },
         "layout": {
          "annotationdefaults": {
           "arrowcolor": "#2a3f5f",
           "arrowhead": 0,
           "arrowwidth": 1
          },
          "autotypenumbers": "strict",
          "coloraxis": {
           "colorbar": {
            "outlinewidth": 0,
            "ticks": ""
           }
          },
          "colorscale": {
           "diverging": [
            [
             0,
             "#8e0152"
            ],
            [
             0.1,
             "#c51b7d"
            ],
            [
             0.2,
             "#de77ae"
            ],
            [
             0.3,
             "#f1b6da"
            ],
            [
             0.4,
             "#fde0ef"
            ],
            [
             0.5,
             "#f7f7f7"
            ],
            [
             0.6,
             "#e6f5d0"
            ],
            [
             0.7,
             "#b8e186"
            ],
            [
             0.8,
             "#7fbc41"
            ],
            [
             0.9,
             "#4d9221"
            ],
            [
             1,
             "#276419"
            ]
           ],
           "sequential": [
            [
             0,
             "#0d0887"
            ],
            [
             0.1111111111111111,
             "#46039f"
            ],
            [
             0.2222222222222222,
             "#7201a8"
            ],
            [
             0.3333333333333333,
             "#9c179e"
            ],
            [
             0.4444444444444444,
             "#bd3786"
            ],
            [
             0.5555555555555556,
             "#d8576b"
            ],
            [
             0.6666666666666666,
             "#ed7953"
            ],
            [
             0.7777777777777778,
             "#fb9f3a"
            ],
            [
             0.8888888888888888,
             "#fdca26"
            ],
            [
             1,
             "#f0f921"
            ]
           ],
           "sequentialminus": [
            [
             0,
             "#0d0887"
            ],
            [
             0.1111111111111111,
             "#46039f"
            ],
            [
             0.2222222222222222,
             "#7201a8"
            ],
            [
             0.3333333333333333,
             "#9c179e"
            ],
            [
             0.4444444444444444,
             "#bd3786"
            ],
            [
             0.5555555555555556,
             "#d8576b"
            ],
            [
             0.6666666666666666,
             "#ed7953"
            ],
            [
             0.7777777777777778,
             "#fb9f3a"
            ],
            [
             0.8888888888888888,
             "#fdca26"
            ],
            [
             1,
             "#f0f921"
            ]
           ]
          },
          "colorway": [
           "#636efa",
           "#EF553B",
           "#00cc96",
           "#ab63fa",
           "#FFA15A",
           "#19d3f3",
           "#FF6692",
           "#B6E880",
           "#FF97FF",
           "#FECB52"
          ],
          "font": {
           "color": "#2a3f5f"
          },
          "geo": {
           "bgcolor": "white",
           "lakecolor": "white",
           "landcolor": "#E5ECF6",
           "showlakes": true,
           "showland": true,
           "subunitcolor": "white"
          },
          "hoverlabel": {
           "align": "left"
          },
          "hovermode": "closest",
          "mapbox": {
           "style": "light"
          },
          "paper_bgcolor": "white",
          "plot_bgcolor": "#E5ECF6",
          "polar": {
           "angularaxis": {
            "gridcolor": "white",
            "linecolor": "white",
            "ticks": ""
           },
           "bgcolor": "#E5ECF6",
           "radialaxis": {
            "gridcolor": "white",
            "linecolor": "white",
            "ticks": ""
           }
          },
          "scene": {
           "xaxis": {
            "backgroundcolor": "#E5ECF6",
            "gridcolor": "white",
            "gridwidth": 2,
            "linecolor": "white",
            "showbackground": true,
            "ticks": "",
            "zerolinecolor": "white"
           },
           "yaxis": {
            "backgroundcolor": "#E5ECF6",
            "gridcolor": "white",
            "gridwidth": 2,
            "linecolor": "white",
            "showbackground": true,
            "ticks": "",
            "zerolinecolor": "white"
           },
           "zaxis": {
            "backgroundcolor": "#E5ECF6",
            "gridcolor": "white",
            "gridwidth": 2,
            "linecolor": "white",
            "showbackground": true,
            "ticks": "",
            "zerolinecolor": "white"
           }
          },
          "shapedefaults": {
           "line": {
            "color": "#2a3f5f"
           }
          },
          "ternary": {
           "aaxis": {
            "gridcolor": "white",
            "linecolor": "white",
            "ticks": ""
           },
           "baxis": {
            "gridcolor": "white",
            "linecolor": "white",
            "ticks": ""
           },
           "bgcolor": "#E5ECF6",
           "caxis": {
            "gridcolor": "white",
            "linecolor": "white",
            "ticks": ""
           }
          },
          "title": {
           "x": 0.05
          },
          "xaxis": {
           "automargin": true,
           "gridcolor": "white",
           "linecolor": "white",
           "ticks": "",
           "title": {
            "standoff": 15
           },
           "zerolinecolor": "white",
           "zerolinewidth": 2
          },
          "yaxis": {
           "automargin": true,
           "gridcolor": "white",
           "linecolor": "white",
           "ticks": "",
           "title": {
            "standoff": 15
           },
           "zerolinecolor": "white",
           "zerolinewidth": 2
          }
         }
        },
        "title": {
         "text": "Percentage of Missing Values by Column"
        },
        "width": 1350
       }
      }
     },
     "metadata": {},
     "output_type": "display_data"
    }
   ],
   "source": [
    "from plotly.subplots import make_subplots  # Import make_subplots\n",
    "if data.isnull().values.any():\n",
    "    missing_percentage = (data.isnull().sum() / len(data)) * 100\n",
    "    columns_with_missing = missing_percentage[missing_percentage > 0]\n",
    "    \n",
    "    # Separate columns with 50% or greater missing values and those with less than 50%\n",
    "    high_missing = columns_with_missing[columns_with_missing >= 50]\n",
    "    low_missing = columns_with_missing[columns_with_missing < 50]\n",
    "    \n",
    "    # Creating subplots\n",
    "    fig = make_subplots(\n",
    "        rows=1, cols=2,\n",
    "        specs=[[{\"type\": \"pie\"}, {\"type\": \"pie\"}]]\n",
    "    )\n",
    "    \n",
    "    # Donut plot for columns with 50% or greater missing values\n",
    "    fig.add_trace(\n",
    "        go.Pie(\n",
    "            values=high_missing.values,\n",
    "            labels=high_missing.index,\n",
    "            hole=.3,\n",
    "            textinfo='percent+label'\n",
    "        ), \n",
    "        row=1, col=1\n",
    "    )\n",
    "    \n",
    "    # Donut plot for columns with less than 50% missing values\n",
    "    fig.add_trace(\n",
    "        go.Pie(\n",
    "            values=low_missing.values,\n",
    "            labels=low_missing.index,\n",
    "            hole=.3,\n",
    "            textinfo='percent+label'\n",
    "        ), \n",
    "        row=1, col=2\n",
    "    )\n",
    "    \n",
    "    fig.update_layout(\n",
    "        title_text=\"Percentage of Missing Values by Column\",  \n",
    "        width=1350,\n",
    "        height=600,\n",
    "        annotations=[\n",
    "            dict(\n",
    "                text=\"Columns with ≥50% Missing Values\",\n",
    "                showarrow=False,\n",
    "                xref=\"paper\", yref=\"paper\",\n",
    "                x=0.25, y=-0.15,\n",
    "                xanchor=\"center\", yanchor=\"top\",\n",
    "                font=dict(size=14)\n",
    "            ),\n",
    "            dict(\n",
    "                text=\"Columns with <50% Missing Values\",\n",
    "                showarrow=False,\n",
    "                xref=\"paper\", yref=\"paper\",\n",
    "                x=0.75, y=-0.15,\n",
    "                xanchor=\"center\", yanchor=\"top\",\n",
    "                font=dict(size=14)\n",
    "            )\n",
    "        ]\n",
    "    )\n",
    "    \n",
    "    fig.show()\n",
    "else:\n",
    "    print(\"No missing values in the dataset.\")"
   ]
  },
  {
   "cell_type": "markdown",
   "metadata": {},
   "source": [
    "We can observed that from 1960 to 1990 no data was acquired, there are no obeservations at all in the years in this range. Therefore With the knowledge that all columns with more than 50% missing data are to be dropped since any imputions would be regarded as in accurate."
   ]
  },
  {
   "cell_type": "code",
   "execution_count": 11,
   "metadata": {},
   "outputs": [],
   "source": [
    "#droping the cols \n",
    "df1= data.drop(['1960', '1961', '1962', '1963', '1964', '1965', '1966', '1967', '1968',\n",
    "       '1969', '1970', '1971', '1972', '1973', '1974', '1975', '1976', '1977',\n",
    "       '1978', '1979', '1980', '1981', '1982', '1983', '1984', '1985', '1986',\n",
    "       '1987', '1988', '1989', '1990', '1991', '1992', '1993', '1994', '1995',\n",
    "       '1996', '1997', '1998', '1999', '2000', '2001', '2002', '2003', '2004',\n",
    "       '2005', '2006', '2007',], axis= 1 ) "
   ]
  },
  {
   "cell_type": "code",
   "execution_count": 12,
   "metadata": {},
   "outputs": [
    {
     "data": {
      "text/html": [
       "<div>\n",
       "<style scoped>\n",
       "    .dataframe tbody tr th:only-of-type {\n",
       "        vertical-align: middle;\n",
       "    }\n",
       "\n",
       "    .dataframe tbody tr th {\n",
       "        vertical-align: top;\n",
       "    }\n",
       "\n",
       "    .dataframe thead th {\n",
       "        text-align: right;\n",
       "    }\n",
       "</style>\n",
       "<table border=\"1\" class=\"dataframe\">\n",
       "  <thead>\n",
       "    <tr style=\"text-align: right;\">\n",
       "      <th></th>\n",
       "      <th>Country Name</th>\n",
       "      <th>Country Code</th>\n",
       "      <th>Indicator Name</th>\n",
       "      <th>Indicator Code</th>\n",
       "      <th>2008</th>\n",
       "      <th>2009</th>\n",
       "      <th>2010</th>\n",
       "      <th>2011</th>\n",
       "      <th>2012</th>\n",
       "      <th>2013</th>\n",
       "      <th>2014</th>\n",
       "      <th>2015</th>\n",
       "      <th>2016</th>\n",
       "      <th>2017</th>\n",
       "      <th>2018</th>\n",
       "      <th>2019</th>\n",
       "      <th>2020</th>\n",
       "      <th>2021</th>\n",
       "      <th>2022</th>\n",
       "      <th>Unnamed: 67</th>\n",
       "    </tr>\n",
       "  </thead>\n",
       "  <tbody>\n",
       "    <tr>\n",
       "      <th>0</th>\n",
       "      <td>Aruba</td>\n",
       "      <td>ABW</td>\n",
       "      <td>water leakage</td>\n",
       "      <td>SL.UEM.1524.ZS</td>\n",
       "      <td>NaN</td>\n",
       "      <td>NaN</td>\n",
       "      <td>NaN</td>\n",
       "      <td>NaN</td>\n",
       "      <td>NaN</td>\n",
       "      <td>NaN</td>\n",
       "      <td>NaN</td>\n",
       "      <td>NaN</td>\n",
       "      <td>NaN</td>\n",
       "      <td>NaN</td>\n",
       "      <td>NaN</td>\n",
       "      <td>NaN</td>\n",
       "      <td>NaN</td>\n",
       "      <td>NaN</td>\n",
       "      <td>NaN</td>\n",
       "      <td>NaN</td>\n",
       "    </tr>\n",
       "    <tr>\n",
       "      <th>1</th>\n",
       "      <td>Africa Eastern and Southern</td>\n",
       "      <td>AFE</td>\n",
       "      <td>water leakage</td>\n",
       "      <td>SL.UEM.1524.ZS</td>\n",
       "      <td>12.391843</td>\n",
       "      <td>12.543647</td>\n",
       "      <td>14.277086</td>\n",
       "      <td>13.593977</td>\n",
       "      <td>13.402498</td>\n",
       "      <td>13.102415</td>\n",
       "      <td>12.99279</td>\n",
       "      <td>12.874319</td>\n",
       "      <td>13.00765</td>\n",
       "      <td>12.973653</td>\n",
       "      <td>12.887711</td>\n",
       "      <td>13.281005</td>\n",
       "      <td>14.138644</td>\n",
       "      <td>14.137466</td>\n",
       "      <td>14.134125</td>\n",
       "      <td>NaN</td>\n",
       "    </tr>\n",
       "  </tbody>\n",
       "</table>\n",
       "</div>"
      ],
      "text/plain": [
       "                  Country Name Country Code Indicator Name  Indicator Code  \\\n",
       "0                        Aruba          ABW  water leakage  SL.UEM.1524.ZS   \n",
       "1  Africa Eastern and Southern          AFE  water leakage  SL.UEM.1524.ZS   \n",
       "\n",
       "        2008       2009       2010       2011       2012       2013      2014  \\\n",
       "0        NaN        NaN        NaN        NaN        NaN        NaN       NaN   \n",
       "1  12.391843  12.543647  14.277086  13.593977  13.402498  13.102415  12.99279   \n",
       "\n",
       "        2015      2016       2017       2018       2019       2020       2021  \\\n",
       "0        NaN       NaN        NaN        NaN        NaN        NaN        NaN   \n",
       "1  12.874319  13.00765  12.973653  12.887711  13.281005  14.138644  14.137466   \n",
       "\n",
       "        2022  Unnamed: 67  \n",
       "0        NaN          NaN  \n",
       "1  14.134125          NaN  "
      ]
     },
     "execution_count": 12,
     "metadata": {},
     "output_type": "execute_result"
    }
   ],
   "source": [
    "df1.head(2)"
   ]
  },
  {
   "cell_type": "markdown",
   "metadata": {},
   "source": [
    "Understanding that the data represents Waker leakage by Percentage, measured as a percentage, we can now remove the two columns, Indicator Name and Indicator Code"
   ]
  },
  {
   "cell_type": "code",
   "execution_count": 13,
   "metadata": {},
   "outputs": [],
   "source": [
    "df = df1.drop(columns=['Indicator Name', 'Indicator Code'])"
   ]
  },
  {
   "cell_type": "code",
   "execution_count": 14,
   "metadata": {},
   "outputs": [
    {
     "data": {
      "text/plain": [
       "Country Name     object\n",
       "Country Code     object\n",
       "2008            float64\n",
       "2009            float64\n",
       "2010            float64\n",
       "2011            float64\n",
       "2012            float64\n",
       "2013            float64\n",
       "2014            float64\n",
       "2015            float64\n",
       "2016            float64\n",
       "2017            float64\n",
       "2018            float64\n",
       "2019            float64\n",
       "2020            float64\n",
       "2021            float64\n",
       "2022            float64\n",
       "Unnamed: 67     float64\n",
       "dtype: object"
      ]
     },
     "execution_count": 14,
     "metadata": {},
     "output_type": "execute_result"
    }
   ],
   "source": [
    "df.dtypes"
   ]
  },
  {
   "cell_type": "code",
   "execution_count": 15,
   "metadata": {},
   "outputs": [
    {
     "data": {
      "text/html": [
       "<div>\n",
       "<style scoped>\n",
       "    .dataframe tbody tr th:only-of-type {\n",
       "        vertical-align: middle;\n",
       "    }\n",
       "\n",
       "    .dataframe tbody tr th {\n",
       "        vertical-align: top;\n",
       "    }\n",
       "\n",
       "    .dataframe thead th {\n",
       "        text-align: right;\n",
       "    }\n",
       "</style>\n",
       "<table border=\"1\" class=\"dataframe\">\n",
       "  <thead>\n",
       "    <tr style=\"text-align: right;\">\n",
       "      <th></th>\n",
       "      <th>Country Name</th>\n",
       "      <th>Country Code</th>\n",
       "      <th>2008</th>\n",
       "      <th>2009</th>\n",
       "      <th>2010</th>\n",
       "      <th>2011</th>\n",
       "      <th>2012</th>\n",
       "      <th>2013</th>\n",
       "      <th>2014</th>\n",
       "      <th>2015</th>\n",
       "      <th>2016</th>\n",
       "      <th>2017</th>\n",
       "      <th>2018</th>\n",
       "      <th>2019</th>\n",
       "      <th>2020</th>\n",
       "      <th>2021</th>\n",
       "      <th>2022</th>\n",
       "    </tr>\n",
       "  </thead>\n",
       "  <tbody>\n",
       "    <tr>\n",
       "      <th>0</th>\n",
       "      <td>Aruba</td>\n",
       "      <td>ABW</td>\n",
       "      <td>NaN</td>\n",
       "      <td>NaN</td>\n",
       "      <td>NaN</td>\n",
       "      <td>NaN</td>\n",
       "      <td>NaN</td>\n",
       "      <td>NaN</td>\n",
       "      <td>NaN</td>\n",
       "      <td>NaN</td>\n",
       "      <td>NaN</td>\n",
       "      <td>NaN</td>\n",
       "      <td>NaN</td>\n",
       "      <td>NaN</td>\n",
       "      <td>NaN</td>\n",
       "      <td>NaN</td>\n",
       "      <td>NaN</td>\n",
       "    </tr>\n",
       "    <tr>\n",
       "      <th>1</th>\n",
       "      <td>Africa Eastern and Southern</td>\n",
       "      <td>AFE</td>\n",
       "      <td>12.391843</td>\n",
       "      <td>12.543647</td>\n",
       "      <td>14.277086</td>\n",
       "      <td>13.593977</td>\n",
       "      <td>13.402498</td>\n",
       "      <td>13.102415</td>\n",
       "      <td>12.992790</td>\n",
       "      <td>12.874319</td>\n",
       "      <td>13.007650</td>\n",
       "      <td>12.973653</td>\n",
       "      <td>12.887711</td>\n",
       "      <td>13.281005</td>\n",
       "      <td>14.138644</td>\n",
       "      <td>14.137466</td>\n",
       "      <td>14.134125</td>\n",
       "    </tr>\n",
       "    <tr>\n",
       "      <th>2</th>\n",
       "      <td>Afghanistan</td>\n",
       "      <td>AFG</td>\n",
       "      <td>10.852000</td>\n",
       "      <td>10.794000</td>\n",
       "      <td>10.667000</td>\n",
       "      <td>10.441000</td>\n",
       "      <td>10.393000</td>\n",
       "      <td>10.224000</td>\n",
       "      <td>10.086000</td>\n",
       "      <td>12.495000</td>\n",
       "      <td>14.902000</td>\n",
       "      <td>17.303000</td>\n",
       "      <td>17.292000</td>\n",
       "      <td>17.339000</td>\n",
       "      <td>16.053000</td>\n",
       "      <td>NaN</td>\n",
       "      <td>NaN</td>\n",
       "    </tr>\n",
       "    <tr>\n",
       "      <th>3</th>\n",
       "      <td>Africa Western and Central</td>\n",
       "      <td>AFW</td>\n",
       "      <td>8.528799</td>\n",
       "      <td>8.588388</td>\n",
       "      <td>8.626529</td>\n",
       "      <td>8.531824</td>\n",
       "      <td>8.539699</td>\n",
       "      <td>8.084479</td>\n",
       "      <td>8.432707</td>\n",
       "      <td>8.860586</td>\n",
       "      <td>8.690286</td>\n",
       "      <td>8.785932</td>\n",
       "      <td>8.910159</td>\n",
       "      <td>9.005565</td>\n",
       "      <td>10.444833</td>\n",
       "      <td>9.874787</td>\n",
       "      <td>9.726148</td>\n",
       "    </tr>\n",
       "    <tr>\n",
       "      <th>4</th>\n",
       "      <td>Angola</td>\n",
       "      <td>AGO</td>\n",
       "      <td>8.641000</td>\n",
       "      <td>8.659000</td>\n",
       "      <td>19.800000</td>\n",
       "      <td>17.216000</td>\n",
       "      <td>16.791000</td>\n",
       "      <td>16.595000</td>\n",
       "      <td>16.428000</td>\n",
       "      <td>16.437000</td>\n",
       "      <td>16.436000</td>\n",
       "      <td>16.363000</td>\n",
       "      <td>16.343000</td>\n",
       "      <td>16.283000</td>\n",
       "      <td>17.967000</td>\n",
       "      <td>17.523000</td>\n",
       "      <td>17.279000</td>\n",
       "    </tr>\n",
       "  </tbody>\n",
       "</table>\n",
       "</div>"
      ],
      "text/plain": [
       "                  Country Name Country Code       2008       2009       2010  \\\n",
       "0                        Aruba          ABW        NaN        NaN        NaN   \n",
       "1  Africa Eastern and Southern          AFE  12.391843  12.543647  14.277086   \n",
       "2                  Afghanistan          AFG  10.852000  10.794000  10.667000   \n",
       "3   Africa Western and Central          AFW   8.528799   8.588388   8.626529   \n",
       "4                       Angola          AGO   8.641000   8.659000  19.800000   \n",
       "\n",
       "        2011       2012       2013       2014       2015       2016  \\\n",
       "0        NaN        NaN        NaN        NaN        NaN        NaN   \n",
       "1  13.593977  13.402498  13.102415  12.992790  12.874319  13.007650   \n",
       "2  10.441000  10.393000  10.224000  10.086000  12.495000  14.902000   \n",
       "3   8.531824   8.539699   8.084479   8.432707   8.860586   8.690286   \n",
       "4  17.216000  16.791000  16.595000  16.428000  16.437000  16.436000   \n",
       "\n",
       "        2017       2018       2019       2020       2021       2022  \n",
       "0        NaN        NaN        NaN        NaN        NaN        NaN  \n",
       "1  12.973653  12.887711  13.281005  14.138644  14.137466  14.134125  \n",
       "2  17.303000  17.292000  17.339000  16.053000        NaN        NaN  \n",
       "3   8.785932   8.910159   9.005565  10.444833   9.874787   9.726148  \n",
       "4  16.363000  16.343000  16.283000  17.967000  17.523000  17.279000  "
      ]
     },
     "execution_count": 15,
     "metadata": {},
     "output_type": "execute_result"
    }
   ],
   "source": [
    "# Delete the last column from the dataset\n",
    "df = df.iloc[:, :-1]\n",
    "\n",
    "# Reset the index of the DataFrame\n",
    "df = df.reset_index(drop=True)\n",
    "\n",
    "# Display the first few rows of the updated DataFrame\n",
    "df.head()"
   ]
  },
  {
   "cell_type": "code",
   "execution_count": 16,
   "metadata": {},
   "outputs": [
    {
     "data": {
      "text/html": [
       "<div>\n",
       "<style scoped>\n",
       "    .dataframe tbody tr th:only-of-type {\n",
       "        vertical-align: middle;\n",
       "    }\n",
       "\n",
       "    .dataframe tbody tr th {\n",
       "        vertical-align: top;\n",
       "    }\n",
       "\n",
       "    .dataframe thead th {\n",
       "        text-align: right;\n",
       "    }\n",
       "</style>\n",
       "<table border=\"1\" class=\"dataframe\">\n",
       "  <thead>\n",
       "    <tr style=\"text-align: right;\">\n",
       "      <th></th>\n",
       "      <th>Country Name</th>\n",
       "      <th>Country Code</th>\n",
       "      <th>2008</th>\n",
       "      <th>2009</th>\n",
       "      <th>2010</th>\n",
       "      <th>2011</th>\n",
       "      <th>2012</th>\n",
       "      <th>2013</th>\n",
       "      <th>2014</th>\n",
       "      <th>2015</th>\n",
       "      <th>2016</th>\n",
       "      <th>2017</th>\n",
       "      <th>2018</th>\n",
       "      <th>2019</th>\n",
       "      <th>2020</th>\n",
       "      <th>2021</th>\n",
       "      <th>2022</th>\n",
       "    </tr>\n",
       "  </thead>\n",
       "  <tbody>\n",
       "    <tr>\n",
       "      <th>0</th>\n",
       "      <td>Aruba</td>\n",
       "      <td>ABW</td>\n",
       "      <td>NaN</td>\n",
       "      <td>NaN</td>\n",
       "      <td>NaN</td>\n",
       "      <td>NaN</td>\n",
       "      <td>NaN</td>\n",
       "      <td>NaN</td>\n",
       "      <td>NaN</td>\n",
       "      <td>NaN</td>\n",
       "      <td>NaN</td>\n",
       "      <td>NaN</td>\n",
       "      <td>NaN</td>\n",
       "      <td>NaN</td>\n",
       "      <td>NaN</td>\n",
       "      <td>NaN</td>\n",
       "      <td>NaN</td>\n",
       "    </tr>\n",
       "    <tr>\n",
       "      <th>6</th>\n",
       "      <td>Andorra</td>\n",
       "      <td>AND</td>\n",
       "      <td>NaN</td>\n",
       "      <td>NaN</td>\n",
       "      <td>NaN</td>\n",
       "      <td>NaN</td>\n",
       "      <td>NaN</td>\n",
       "      <td>NaN</td>\n",
       "      <td>NaN</td>\n",
       "      <td>NaN</td>\n",
       "      <td>NaN</td>\n",
       "      <td>NaN</td>\n",
       "      <td>NaN</td>\n",
       "      <td>NaN</td>\n",
       "      <td>NaN</td>\n",
       "      <td>NaN</td>\n",
       "      <td>NaN</td>\n",
       "    </tr>\n",
       "    <tr>\n",
       "      <th>11</th>\n",
       "      <td>American Samoa</td>\n",
       "      <td>ASM</td>\n",
       "      <td>NaN</td>\n",
       "      <td>NaN</td>\n",
       "      <td>NaN</td>\n",
       "      <td>NaN</td>\n",
       "      <td>NaN</td>\n",
       "      <td>NaN</td>\n",
       "      <td>NaN</td>\n",
       "      <td>NaN</td>\n",
       "      <td>NaN</td>\n",
       "      <td>NaN</td>\n",
       "      <td>NaN</td>\n",
       "      <td>NaN</td>\n",
       "      <td>NaN</td>\n",
       "      <td>NaN</td>\n",
       "      <td>NaN</td>\n",
       "    </tr>\n",
       "    <tr>\n",
       "      <th>12</th>\n",
       "      <td>Antigua and Barbuda</td>\n",
       "      <td>ATG</td>\n",
       "      <td>NaN</td>\n",
       "      <td>NaN</td>\n",
       "      <td>NaN</td>\n",
       "      <td>NaN</td>\n",
       "      <td>NaN</td>\n",
       "      <td>NaN</td>\n",
       "      <td>NaN</td>\n",
       "      <td>NaN</td>\n",
       "      <td>NaN</td>\n",
       "      <td>NaN</td>\n",
       "      <td>NaN</td>\n",
       "      <td>NaN</td>\n",
       "      <td>NaN</td>\n",
       "      <td>NaN</td>\n",
       "      <td>NaN</td>\n",
       "    </tr>\n",
       "    <tr>\n",
       "      <th>27</th>\n",
       "      <td>Bermuda</td>\n",
       "      <td>BMU</td>\n",
       "      <td>NaN</td>\n",
       "      <td>NaN</td>\n",
       "      <td>NaN</td>\n",
       "      <td>NaN</td>\n",
       "      <td>NaN</td>\n",
       "      <td>NaN</td>\n",
       "      <td>NaN</td>\n",
       "      <td>NaN</td>\n",
       "      <td>NaN</td>\n",
       "      <td>NaN</td>\n",
       "      <td>NaN</td>\n",
       "      <td>NaN</td>\n",
       "      <td>NaN</td>\n",
       "      <td>NaN</td>\n",
       "      <td>NaN</td>\n",
       "    </tr>\n",
       "    <tr>\n",
       "      <th>51</th>\n",
       "      <td>Curacao</td>\n",
       "      <td>CUW</td>\n",
       "      <td>NaN</td>\n",
       "      <td>NaN</td>\n",
       "      <td>NaN</td>\n",
       "      <td>NaN</td>\n",
       "      <td>NaN</td>\n",
       "      <td>NaN</td>\n",
       "      <td>NaN</td>\n",
       "      <td>NaN</td>\n",
       "      <td>NaN</td>\n",
       "      <td>NaN</td>\n",
       "      <td>NaN</td>\n",
       "      <td>NaN</td>\n",
       "      <td>NaN</td>\n",
       "      <td>NaN</td>\n",
       "      <td>NaN</td>\n",
       "    </tr>\n",
       "    <tr>\n",
       "      <th>52</th>\n",
       "      <td>Cayman Islands</td>\n",
       "      <td>CYM</td>\n",
       "      <td>NaN</td>\n",
       "      <td>NaN</td>\n",
       "      <td>NaN</td>\n",
       "      <td>NaN</td>\n",
       "      <td>NaN</td>\n",
       "      <td>NaN</td>\n",
       "      <td>NaN</td>\n",
       "      <td>NaN</td>\n",
       "      <td>NaN</td>\n",
       "      <td>NaN</td>\n",
       "      <td>NaN</td>\n",
       "      <td>NaN</td>\n",
       "      <td>NaN</td>\n",
       "      <td>NaN</td>\n",
       "      <td>NaN</td>\n",
       "    </tr>\n",
       "    <tr>\n",
       "      <th>57</th>\n",
       "      <td>Dominica</td>\n",
       "      <td>DMA</td>\n",
       "      <td>NaN</td>\n",
       "      <td>NaN</td>\n",
       "      <td>NaN</td>\n",
       "      <td>NaN</td>\n",
       "      <td>NaN</td>\n",
       "      <td>NaN</td>\n",
       "      <td>NaN</td>\n",
       "      <td>NaN</td>\n",
       "      <td>NaN</td>\n",
       "      <td>NaN</td>\n",
       "      <td>NaN</td>\n",
       "      <td>NaN</td>\n",
       "      <td>NaN</td>\n",
       "      <td>NaN</td>\n",
       "      <td>NaN</td>\n",
       "    </tr>\n",
       "    <tr>\n",
       "      <th>78</th>\n",
       "      <td>Faroe Islands</td>\n",
       "      <td>FRO</td>\n",
       "      <td>NaN</td>\n",
       "      <td>NaN</td>\n",
       "      <td>NaN</td>\n",
       "      <td>NaN</td>\n",
       "      <td>NaN</td>\n",
       "      <td>NaN</td>\n",
       "      <td>NaN</td>\n",
       "      <td>NaN</td>\n",
       "      <td>NaN</td>\n",
       "      <td>NaN</td>\n",
       "      <td>NaN</td>\n",
       "      <td>NaN</td>\n",
       "      <td>NaN</td>\n",
       "      <td>NaN</td>\n",
       "      <td>NaN</td>\n",
       "    </tr>\n",
       "    <tr>\n",
       "      <th>79</th>\n",
       "      <td>Micronesia, Fed. Sts.</td>\n",
       "      <td>FSM</td>\n",
       "      <td>NaN</td>\n",
       "      <td>NaN</td>\n",
       "      <td>NaN</td>\n",
       "      <td>NaN</td>\n",
       "      <td>NaN</td>\n",
       "      <td>NaN</td>\n",
       "      <td>NaN</td>\n",
       "      <td>NaN</td>\n",
       "      <td>NaN</td>\n",
       "      <td>NaN</td>\n",
       "      <td>NaN</td>\n",
       "      <td>NaN</td>\n",
       "      <td>NaN</td>\n",
       "      <td>NaN</td>\n",
       "      <td>NaN</td>\n",
       "    </tr>\n",
       "    <tr>\n",
       "      <th>84</th>\n",
       "      <td>Gibraltar</td>\n",
       "      <td>GIB</td>\n",
       "      <td>NaN</td>\n",
       "      <td>NaN</td>\n",
       "      <td>NaN</td>\n",
       "      <td>NaN</td>\n",
       "      <td>NaN</td>\n",
       "      <td>NaN</td>\n",
       "      <td>NaN</td>\n",
       "      <td>NaN</td>\n",
       "      <td>NaN</td>\n",
       "      <td>NaN</td>\n",
       "      <td>NaN</td>\n",
       "      <td>NaN</td>\n",
       "      <td>NaN</td>\n",
       "      <td>NaN</td>\n",
       "      <td>NaN</td>\n",
       "    </tr>\n",
       "    <tr>\n",
       "      <th>90</th>\n",
       "      <td>Grenada</td>\n",
       "      <td>GRD</td>\n",
       "      <td>NaN</td>\n",
       "      <td>NaN</td>\n",
       "      <td>NaN</td>\n",
       "      <td>NaN</td>\n",
       "      <td>NaN</td>\n",
       "      <td>NaN</td>\n",
       "      <td>NaN</td>\n",
       "      <td>NaN</td>\n",
       "      <td>NaN</td>\n",
       "      <td>NaN</td>\n",
       "      <td>NaN</td>\n",
       "      <td>NaN</td>\n",
       "      <td>NaN</td>\n",
       "      <td>NaN</td>\n",
       "      <td>NaN</td>\n",
       "    </tr>\n",
       "    <tr>\n",
       "      <th>91</th>\n",
       "      <td>Greenland</td>\n",
       "      <td>GRL</td>\n",
       "      <td>NaN</td>\n",
       "      <td>NaN</td>\n",
       "      <td>NaN</td>\n",
       "      <td>NaN</td>\n",
       "      <td>NaN</td>\n",
       "      <td>NaN</td>\n",
       "      <td>NaN</td>\n",
       "      <td>NaN</td>\n",
       "      <td>NaN</td>\n",
       "      <td>NaN</td>\n",
       "      <td>NaN</td>\n",
       "      <td>NaN</td>\n",
       "      <td>NaN</td>\n",
       "      <td>NaN</td>\n",
       "      <td>NaN</td>\n",
       "    </tr>\n",
       "    <tr>\n",
       "      <th>108</th>\n",
       "      <td>Isle of Man</td>\n",
       "      <td>IMN</td>\n",
       "      <td>NaN</td>\n",
       "      <td>NaN</td>\n",
       "      <td>NaN</td>\n",
       "      <td>NaN</td>\n",
       "      <td>NaN</td>\n",
       "      <td>NaN</td>\n",
       "      <td>NaN</td>\n",
       "      <td>NaN</td>\n",
       "      <td>NaN</td>\n",
       "      <td>NaN</td>\n",
       "      <td>NaN</td>\n",
       "      <td>NaN</td>\n",
       "      <td>NaN</td>\n",
       "      <td>NaN</td>\n",
       "      <td>NaN</td>\n",
       "    </tr>\n",
       "    <tr>\n",
       "      <th>110</th>\n",
       "      <td>Not classified</td>\n",
       "      <td>INX</td>\n",
       "      <td>NaN</td>\n",
       "      <td>NaN</td>\n",
       "      <td>NaN</td>\n",
       "      <td>NaN</td>\n",
       "      <td>NaN</td>\n",
       "      <td>NaN</td>\n",
       "      <td>NaN</td>\n",
       "      <td>NaN</td>\n",
       "      <td>NaN</td>\n",
       "      <td>NaN</td>\n",
       "      <td>NaN</td>\n",
       "      <td>NaN</td>\n",
       "      <td>NaN</td>\n",
       "      <td>NaN</td>\n",
       "      <td>NaN</td>\n",
       "    </tr>\n",
       "    <tr>\n",
       "      <th>124</th>\n",
       "      <td>Kiribati</td>\n",
       "      <td>KIR</td>\n",
       "      <td>NaN</td>\n",
       "      <td>NaN</td>\n",
       "      <td>NaN</td>\n",
       "      <td>NaN</td>\n",
       "      <td>NaN</td>\n",
       "      <td>NaN</td>\n",
       "      <td>NaN</td>\n",
       "      <td>NaN</td>\n",
       "      <td>NaN</td>\n",
       "      <td>NaN</td>\n",
       "      <td>NaN</td>\n",
       "      <td>NaN</td>\n",
       "      <td>NaN</td>\n",
       "      <td>NaN</td>\n",
       "      <td>NaN</td>\n",
       "    </tr>\n",
       "    <tr>\n",
       "      <th>125</th>\n",
       "      <td>St. Kitts and Nevis</td>\n",
       "      <td>KNA</td>\n",
       "      <td>NaN</td>\n",
       "      <td>NaN</td>\n",
       "      <td>NaN</td>\n",
       "      <td>NaN</td>\n",
       "      <td>NaN</td>\n",
       "      <td>NaN</td>\n",
       "      <td>NaN</td>\n",
       "      <td>NaN</td>\n",
       "      <td>NaN</td>\n",
       "      <td>NaN</td>\n",
       "      <td>NaN</td>\n",
       "      <td>NaN</td>\n",
       "      <td>NaN</td>\n",
       "      <td>NaN</td>\n",
       "      <td>NaN</td>\n",
       "    </tr>\n",
       "    <tr>\n",
       "      <th>137</th>\n",
       "      <td>Liechtenstein</td>\n",
       "      <td>LIE</td>\n",
       "      <td>NaN</td>\n",
       "      <td>NaN</td>\n",
       "      <td>NaN</td>\n",
       "      <td>NaN</td>\n",
       "      <td>NaN</td>\n",
       "      <td>NaN</td>\n",
       "      <td>NaN</td>\n",
       "      <td>NaN</td>\n",
       "      <td>NaN</td>\n",
       "      <td>NaN</td>\n",
       "      <td>NaN</td>\n",
       "      <td>NaN</td>\n",
       "      <td>NaN</td>\n",
       "      <td>NaN</td>\n",
       "      <td>NaN</td>\n",
       "    </tr>\n",
       "    <tr>\n",
       "      <th>147</th>\n",
       "      <td>St. Martin (French part)</td>\n",
       "      <td>MAF</td>\n",
       "      <td>NaN</td>\n",
       "      <td>NaN</td>\n",
       "      <td>NaN</td>\n",
       "      <td>NaN</td>\n",
       "      <td>NaN</td>\n",
       "      <td>NaN</td>\n",
       "      <td>NaN</td>\n",
       "      <td>NaN</td>\n",
       "      <td>NaN</td>\n",
       "      <td>NaN</td>\n",
       "      <td>NaN</td>\n",
       "      <td>NaN</td>\n",
       "      <td>NaN</td>\n",
       "      <td>NaN</td>\n",
       "      <td>NaN</td>\n",
       "    </tr>\n",
       "    <tr>\n",
       "      <th>149</th>\n",
       "      <td>Monaco</td>\n",
       "      <td>MCO</td>\n",
       "      <td>NaN</td>\n",
       "      <td>NaN</td>\n",
       "      <td>NaN</td>\n",
       "      <td>NaN</td>\n",
       "      <td>NaN</td>\n",
       "      <td>NaN</td>\n",
       "      <td>NaN</td>\n",
       "      <td>NaN</td>\n",
       "      <td>NaN</td>\n",
       "      <td>NaN</td>\n",
       "      <td>NaN</td>\n",
       "      <td>NaN</td>\n",
       "      <td>NaN</td>\n",
       "      <td>NaN</td>\n",
       "      <td>NaN</td>\n",
       "    </tr>\n",
       "    <tr>\n",
       "      <th>155</th>\n",
       "      <td>Marshall Islands</td>\n",
       "      <td>MHL</td>\n",
       "      <td>NaN</td>\n",
       "      <td>NaN</td>\n",
       "      <td>NaN</td>\n",
       "      <td>NaN</td>\n",
       "      <td>NaN</td>\n",
       "      <td>NaN</td>\n",
       "      <td>NaN</td>\n",
       "      <td>NaN</td>\n",
       "      <td>NaN</td>\n",
       "      <td>NaN</td>\n",
       "      <td>NaN</td>\n",
       "      <td>NaN</td>\n",
       "      <td>NaN</td>\n",
       "      <td>NaN</td>\n",
       "      <td>NaN</td>\n",
       "    </tr>\n",
       "    <tr>\n",
       "      <th>164</th>\n",
       "      <td>Northern Mariana Islands</td>\n",
       "      <td>MNP</td>\n",
       "      <td>NaN</td>\n",
       "      <td>NaN</td>\n",
       "      <td>NaN</td>\n",
       "      <td>NaN</td>\n",
       "      <td>NaN</td>\n",
       "      <td>NaN</td>\n",
       "      <td>NaN</td>\n",
       "      <td>NaN</td>\n",
       "      <td>NaN</td>\n",
       "      <td>NaN</td>\n",
       "      <td>NaN</td>\n",
       "      <td>NaN</td>\n",
       "      <td>NaN</td>\n",
       "      <td>NaN</td>\n",
       "      <td>NaN</td>\n",
       "    </tr>\n",
       "    <tr>\n",
       "      <th>179</th>\n",
       "      <td>Nauru</td>\n",
       "      <td>NRU</td>\n",
       "      <td>NaN</td>\n",
       "      <td>NaN</td>\n",
       "      <td>NaN</td>\n",
       "      <td>NaN</td>\n",
       "      <td>NaN</td>\n",
       "      <td>NaN</td>\n",
       "      <td>NaN</td>\n",
       "      <td>NaN</td>\n",
       "      <td>NaN</td>\n",
       "      <td>NaN</td>\n",
       "      <td>NaN</td>\n",
       "      <td>NaN</td>\n",
       "      <td>NaN</td>\n",
       "      <td>NaN</td>\n",
       "      <td>NaN</td>\n",
       "    </tr>\n",
       "    <tr>\n",
       "      <th>188</th>\n",
       "      <td>Palau</td>\n",
       "      <td>PLW</td>\n",
       "      <td>NaN</td>\n",
       "      <td>NaN</td>\n",
       "      <td>NaN</td>\n",
       "      <td>NaN</td>\n",
       "      <td>NaN</td>\n",
       "      <td>NaN</td>\n",
       "      <td>NaN</td>\n",
       "      <td>NaN</td>\n",
       "      <td>NaN</td>\n",
       "      <td>NaN</td>\n",
       "      <td>NaN</td>\n",
       "      <td>NaN</td>\n",
       "      <td>NaN</td>\n",
       "      <td>NaN</td>\n",
       "      <td>NaN</td>\n",
       "    </tr>\n",
       "    <tr>\n",
       "      <th>212</th>\n",
       "      <td>San Marino</td>\n",
       "      <td>SMR</td>\n",
       "      <td>NaN</td>\n",
       "      <td>NaN</td>\n",
       "      <td>NaN</td>\n",
       "      <td>NaN</td>\n",
       "      <td>NaN</td>\n",
       "      <td>NaN</td>\n",
       "      <td>NaN</td>\n",
       "      <td>NaN</td>\n",
       "      <td>NaN</td>\n",
       "      <td>NaN</td>\n",
       "      <td>NaN</td>\n",
       "      <td>NaN</td>\n",
       "      <td>NaN</td>\n",
       "      <td>NaN</td>\n",
       "      <td>NaN</td>\n",
       "    </tr>\n",
       "    <tr>\n",
       "      <th>225</th>\n",
       "      <td>Sint Maarten (Dutch part)</td>\n",
       "      <td>SXM</td>\n",
       "      <td>NaN</td>\n",
       "      <td>NaN</td>\n",
       "      <td>NaN</td>\n",
       "      <td>NaN</td>\n",
       "      <td>NaN</td>\n",
       "      <td>NaN</td>\n",
       "      <td>NaN</td>\n",
       "      <td>NaN</td>\n",
       "      <td>NaN</td>\n",
       "      <td>NaN</td>\n",
       "      <td>NaN</td>\n",
       "      <td>NaN</td>\n",
       "      <td>NaN</td>\n",
       "      <td>NaN</td>\n",
       "      <td>NaN</td>\n",
       "    </tr>\n",
       "    <tr>\n",
       "      <th>226</th>\n",
       "      <td>Seychelles</td>\n",
       "      <td>SYC</td>\n",
       "      <td>NaN</td>\n",
       "      <td>NaN</td>\n",
       "      <td>NaN</td>\n",
       "      <td>NaN</td>\n",
       "      <td>NaN</td>\n",
       "      <td>NaN</td>\n",
       "      <td>NaN</td>\n",
       "      <td>NaN</td>\n",
       "      <td>NaN</td>\n",
       "      <td>NaN</td>\n",
       "      <td>NaN</td>\n",
       "      <td>NaN</td>\n",
       "      <td>NaN</td>\n",
       "      <td>NaN</td>\n",
       "      <td>NaN</td>\n",
       "    </tr>\n",
       "    <tr>\n",
       "      <th>228</th>\n",
       "      <td>Turks and Caicos Islands</td>\n",
       "      <td>TCA</td>\n",
       "      <td>NaN</td>\n",
       "      <td>NaN</td>\n",
       "      <td>NaN</td>\n",
       "      <td>NaN</td>\n",
       "      <td>NaN</td>\n",
       "      <td>NaN</td>\n",
       "      <td>NaN</td>\n",
       "      <td>NaN</td>\n",
       "      <td>NaN</td>\n",
       "      <td>NaN</td>\n",
       "      <td>NaN</td>\n",
       "      <td>NaN</td>\n",
       "      <td>NaN</td>\n",
       "      <td>NaN</td>\n",
       "      <td>NaN</td>\n",
       "    </tr>\n",
       "    <tr>\n",
       "      <th>245</th>\n",
       "      <td>Tuvalu</td>\n",
       "      <td>TUV</td>\n",
       "      <td>NaN</td>\n",
       "      <td>NaN</td>\n",
       "      <td>NaN</td>\n",
       "      <td>NaN</td>\n",
       "      <td>NaN</td>\n",
       "      <td>NaN</td>\n",
       "      <td>NaN</td>\n",
       "      <td>NaN</td>\n",
       "      <td>NaN</td>\n",
       "      <td>NaN</td>\n",
       "      <td>NaN</td>\n",
       "      <td>NaN</td>\n",
       "      <td>NaN</td>\n",
       "      <td>NaN</td>\n",
       "      <td>NaN</td>\n",
       "    </tr>\n",
       "    <tr>\n",
       "      <th>255</th>\n",
       "      <td>British Virgin Islands</td>\n",
       "      <td>VGB</td>\n",
       "      <td>NaN</td>\n",
       "      <td>NaN</td>\n",
       "      <td>NaN</td>\n",
       "      <td>NaN</td>\n",
       "      <td>NaN</td>\n",
       "      <td>NaN</td>\n",
       "      <td>NaN</td>\n",
       "      <td>NaN</td>\n",
       "      <td>NaN</td>\n",
       "      <td>NaN</td>\n",
       "      <td>NaN</td>\n",
       "      <td>NaN</td>\n",
       "      <td>NaN</td>\n",
       "      <td>NaN</td>\n",
       "      <td>NaN</td>\n",
       "    </tr>\n",
       "    <tr>\n",
       "      <th>261</th>\n",
       "      <td>Kosovo</td>\n",
       "      <td>XKX</td>\n",
       "      <td>NaN</td>\n",
       "      <td>NaN</td>\n",
       "      <td>NaN</td>\n",
       "      <td>NaN</td>\n",
       "      <td>NaN</td>\n",
       "      <td>NaN</td>\n",
       "      <td>NaN</td>\n",
       "      <td>NaN</td>\n",
       "      <td>NaN</td>\n",
       "      <td>NaN</td>\n",
       "      <td>NaN</td>\n",
       "      <td>NaN</td>\n",
       "      <td>NaN</td>\n",
       "      <td>NaN</td>\n",
       "      <td>NaN</td>\n",
       "    </tr>\n",
       "  </tbody>\n",
       "</table>\n",
       "</div>"
      ],
      "text/plain": [
       "                  Country Name Country Code  2008  2009  2010  2011  2012  \\\n",
       "0                        Aruba          ABW   NaN   NaN   NaN   NaN   NaN   \n",
       "6                      Andorra          AND   NaN   NaN   NaN   NaN   NaN   \n",
       "11              American Samoa          ASM   NaN   NaN   NaN   NaN   NaN   \n",
       "12         Antigua and Barbuda          ATG   NaN   NaN   NaN   NaN   NaN   \n",
       "27                     Bermuda          BMU   NaN   NaN   NaN   NaN   NaN   \n",
       "51                     Curacao          CUW   NaN   NaN   NaN   NaN   NaN   \n",
       "52              Cayman Islands          CYM   NaN   NaN   NaN   NaN   NaN   \n",
       "57                    Dominica          DMA   NaN   NaN   NaN   NaN   NaN   \n",
       "78               Faroe Islands          FRO   NaN   NaN   NaN   NaN   NaN   \n",
       "79       Micronesia, Fed. Sts.          FSM   NaN   NaN   NaN   NaN   NaN   \n",
       "84                   Gibraltar          GIB   NaN   NaN   NaN   NaN   NaN   \n",
       "90                     Grenada          GRD   NaN   NaN   NaN   NaN   NaN   \n",
       "91                   Greenland          GRL   NaN   NaN   NaN   NaN   NaN   \n",
       "108                Isle of Man          IMN   NaN   NaN   NaN   NaN   NaN   \n",
       "110             Not classified          INX   NaN   NaN   NaN   NaN   NaN   \n",
       "124                   Kiribati          KIR   NaN   NaN   NaN   NaN   NaN   \n",
       "125        St. Kitts and Nevis          KNA   NaN   NaN   NaN   NaN   NaN   \n",
       "137              Liechtenstein          LIE   NaN   NaN   NaN   NaN   NaN   \n",
       "147   St. Martin (French part)          MAF   NaN   NaN   NaN   NaN   NaN   \n",
       "149                     Monaco          MCO   NaN   NaN   NaN   NaN   NaN   \n",
       "155           Marshall Islands          MHL   NaN   NaN   NaN   NaN   NaN   \n",
       "164   Northern Mariana Islands          MNP   NaN   NaN   NaN   NaN   NaN   \n",
       "179                      Nauru          NRU   NaN   NaN   NaN   NaN   NaN   \n",
       "188                      Palau          PLW   NaN   NaN   NaN   NaN   NaN   \n",
       "212                 San Marino          SMR   NaN   NaN   NaN   NaN   NaN   \n",
       "225  Sint Maarten (Dutch part)          SXM   NaN   NaN   NaN   NaN   NaN   \n",
       "226                 Seychelles          SYC   NaN   NaN   NaN   NaN   NaN   \n",
       "228   Turks and Caicos Islands          TCA   NaN   NaN   NaN   NaN   NaN   \n",
       "245                     Tuvalu          TUV   NaN   NaN   NaN   NaN   NaN   \n",
       "255     British Virgin Islands          VGB   NaN   NaN   NaN   NaN   NaN   \n",
       "261                     Kosovo          XKX   NaN   NaN   NaN   NaN   NaN   \n",
       "\n",
       "     2013  2014  2015  2016  2017  2018  2019  2020  2021  2022  \n",
       "0     NaN   NaN   NaN   NaN   NaN   NaN   NaN   NaN   NaN   NaN  \n",
       "6     NaN   NaN   NaN   NaN   NaN   NaN   NaN   NaN   NaN   NaN  \n",
       "11    NaN   NaN   NaN   NaN   NaN   NaN   NaN   NaN   NaN   NaN  \n",
       "12    NaN   NaN   NaN   NaN   NaN   NaN   NaN   NaN   NaN   NaN  \n",
       "27    NaN   NaN   NaN   NaN   NaN   NaN   NaN   NaN   NaN   NaN  \n",
       "51    NaN   NaN   NaN   NaN   NaN   NaN   NaN   NaN   NaN   NaN  \n",
       "52    NaN   NaN   NaN   NaN   NaN   NaN   NaN   NaN   NaN   NaN  \n",
       "57    NaN   NaN   NaN   NaN   NaN   NaN   NaN   NaN   NaN   NaN  \n",
       "78    NaN   NaN   NaN   NaN   NaN   NaN   NaN   NaN   NaN   NaN  \n",
       "79    NaN   NaN   NaN   NaN   NaN   NaN   NaN   NaN   NaN   NaN  \n",
       "84    NaN   NaN   NaN   NaN   NaN   NaN   NaN   NaN   NaN   NaN  \n",
       "90    NaN   NaN   NaN   NaN   NaN   NaN   NaN   NaN   NaN   NaN  \n",
       "91    NaN   NaN   NaN   NaN   NaN   NaN   NaN   NaN   NaN   NaN  \n",
       "108   NaN   NaN   NaN   NaN   NaN   NaN   NaN   NaN   NaN   NaN  \n",
       "110   NaN   NaN   NaN   NaN   NaN   NaN   NaN   NaN   NaN   NaN  \n",
       "124   NaN   NaN   NaN   NaN   NaN   NaN   NaN   NaN   NaN   NaN  \n",
       "125   NaN   NaN   NaN   NaN   NaN   NaN   NaN   NaN   NaN   NaN  \n",
       "137   NaN   NaN   NaN   NaN   NaN   NaN   NaN   NaN   NaN   NaN  \n",
       "147   NaN   NaN   NaN   NaN   NaN   NaN   NaN   NaN   NaN   NaN  \n",
       "149   NaN   NaN   NaN   NaN   NaN   NaN   NaN   NaN   NaN   NaN  \n",
       "155   NaN   NaN   NaN   NaN   NaN   NaN   NaN   NaN   NaN   NaN  \n",
       "164   NaN   NaN   NaN   NaN   NaN   NaN   NaN   NaN   NaN   NaN  \n",
       "179   NaN   NaN   NaN   NaN   NaN   NaN   NaN   NaN   NaN   NaN  \n",
       "188   NaN   NaN   NaN   NaN   NaN   NaN   NaN   NaN   NaN   NaN  \n",
       "212   NaN   NaN   NaN   NaN   NaN   NaN   NaN   NaN   NaN   NaN  \n",
       "225   NaN   NaN   NaN   NaN   NaN   NaN   NaN   NaN   NaN   NaN  \n",
       "226   NaN   NaN   NaN   NaN   NaN   NaN   NaN   NaN   NaN   NaN  \n",
       "228   NaN   NaN   NaN   NaN   NaN   NaN   NaN   NaN   NaN   NaN  \n",
       "245   NaN   NaN   NaN   NaN   NaN   NaN   NaN   NaN   NaN   NaN  \n",
       "255   NaN   NaN   NaN   NaN   NaN   NaN   NaN   NaN   NaN   NaN  \n",
       "261   NaN   NaN   NaN   NaN   NaN   NaN   NaN   NaN   NaN   NaN  "
      ]
     },
     "execution_count": 16,
     "metadata": {},
     "output_type": "execute_result"
    }
   ],
   "source": [
    "# Extract the columns to check first, all but \"Country Name\" and \"Country Code\"\n",
    "cols_2_see = df.columns.difference(['Country Name', 'Country Code'])\n",
    "\n",
    "NaNs = df[cols_2_see].isna().all(axis=1)\n",
    "df[NaNs]"
   ]
  },
  {
   "cell_type": "code",
   "execution_count": 17,
   "metadata": {},
   "outputs": [
    {
     "data": {
      "text/html": [
       "<div>\n",
       "<style scoped>\n",
       "    .dataframe tbody tr th:only-of-type {\n",
       "        vertical-align: middle;\n",
       "    }\n",
       "\n",
       "    .dataframe tbody tr th {\n",
       "        vertical-align: top;\n",
       "    }\n",
       "\n",
       "    .dataframe thead th {\n",
       "        text-align: right;\n",
       "    }\n",
       "</style>\n",
       "<table border=\"1\" class=\"dataframe\">\n",
       "  <thead>\n",
       "    <tr style=\"text-align: right;\">\n",
       "      <th></th>\n",
       "      <th>Country Name</th>\n",
       "      <th>Country Code</th>\n",
       "      <th>2008</th>\n",
       "      <th>2009</th>\n",
       "      <th>2010</th>\n",
       "      <th>2011</th>\n",
       "      <th>2012</th>\n",
       "      <th>2013</th>\n",
       "      <th>2014</th>\n",
       "      <th>2015</th>\n",
       "      <th>2016</th>\n",
       "      <th>2017</th>\n",
       "      <th>2018</th>\n",
       "      <th>2019</th>\n",
       "      <th>2020</th>\n",
       "      <th>2021</th>\n",
       "      <th>2022</th>\n",
       "    </tr>\n",
       "  </thead>\n",
       "  <tbody>\n",
       "    <tr>\n",
       "      <th>1</th>\n",
       "      <td>Africa Eastern and Southern</td>\n",
       "      <td>AFE</td>\n",
       "      <td>12.391843</td>\n",
       "      <td>12.543647</td>\n",
       "      <td>14.277086</td>\n",
       "      <td>13.593977</td>\n",
       "      <td>13.402498</td>\n",
       "      <td>13.102415</td>\n",
       "      <td>12.99279</td>\n",
       "      <td>12.874319</td>\n",
       "      <td>13.00765</td>\n",
       "      <td>12.973653</td>\n",
       "      <td>12.887711</td>\n",
       "      <td>13.281005</td>\n",
       "      <td>14.138644</td>\n",
       "      <td>14.137466</td>\n",
       "      <td>14.134125</td>\n",
       "    </tr>\n",
       "    <tr>\n",
       "      <th>2</th>\n",
       "      <td>Afghanistan</td>\n",
       "      <td>AFG</td>\n",
       "      <td>10.852000</td>\n",
       "      <td>10.794000</td>\n",
       "      <td>10.667000</td>\n",
       "      <td>10.441000</td>\n",
       "      <td>10.393000</td>\n",
       "      <td>10.224000</td>\n",
       "      <td>10.08600</td>\n",
       "      <td>12.495000</td>\n",
       "      <td>14.90200</td>\n",
       "      <td>17.303000</td>\n",
       "      <td>17.292000</td>\n",
       "      <td>17.339000</td>\n",
       "      <td>16.053000</td>\n",
       "      <td>NaN</td>\n",
       "      <td>NaN</td>\n",
       "    </tr>\n",
       "  </tbody>\n",
       "</table>\n",
       "</div>"
      ],
      "text/plain": [
       "                  Country Name Country Code       2008       2009       2010  \\\n",
       "1  Africa Eastern and Southern          AFE  12.391843  12.543647  14.277086   \n",
       "2                  Afghanistan          AFG  10.852000  10.794000  10.667000   \n",
       "\n",
       "        2011       2012       2013      2014       2015      2016       2017  \\\n",
       "1  13.593977  13.402498  13.102415  12.99279  12.874319  13.00765  12.973653   \n",
       "2  10.441000  10.393000  10.224000  10.08600  12.495000  14.90200  17.303000   \n",
       "\n",
       "        2018       2019       2020       2021       2022  \n",
       "1  12.887711  13.281005  14.138644  14.137466  14.134125  \n",
       "2  17.292000  17.339000  16.053000        NaN        NaN  "
      ]
     },
     "execution_count": 17,
     "metadata": {},
     "output_type": "execute_result"
    }
   ],
   "source": [
    "# Remove these rows from the dataset\n",
    "df = df[~NaNs]\n",
    "df.head(2)"
   ]
  },
  {
   "cell_type": "code",
   "execution_count": 18,
   "metadata": {},
   "outputs": [
    {
     "data": {
      "text/plain": [
       "(235, 17)"
      ]
     },
     "execution_count": 18,
     "metadata": {},
     "output_type": "execute_result"
    }
   ],
   "source": [
    "df.shape"
   ]
  },
  {
   "cell_type": "code",
   "execution_count": 19,
   "metadata": {},
   "outputs": [
    {
     "data": {
      "text/html": [
       "<div>\n",
       "<style scoped>\n",
       "    .dataframe tbody tr th:only-of-type {\n",
       "        vertical-align: middle;\n",
       "    }\n",
       "\n",
       "    .dataframe tbody tr th {\n",
       "        vertical-align: top;\n",
       "    }\n",
       "\n",
       "    .dataframe thead th {\n",
       "        text-align: right;\n",
       "    }\n",
       "</style>\n",
       "<table border=\"1\" class=\"dataframe\">\n",
       "  <thead>\n",
       "    <tr style=\"text-align: right;\">\n",
       "      <th></th>\n",
       "      <th>Entity</th>\n",
       "      <th>Code</th>\n",
       "      <th>Year</th>\n",
       "      <th>Continent</th>\n",
       "    </tr>\n",
       "  </thead>\n",
       "  <tbody>\n",
       "    <tr>\n",
       "      <th>193</th>\n",
       "      <td>Parma</td>\n",
       "      <td>OWID_PMA</td>\n",
       "      <td>2015</td>\n",
       "      <td>Europe</td>\n",
       "    </tr>\n",
       "    <tr>\n",
       "      <th>233</th>\n",
       "      <td>South Korea</td>\n",
       "      <td>KOR</td>\n",
       "      <td>2015</td>\n",
       "      <td>Asia</td>\n",
       "    </tr>\n",
       "    <tr>\n",
       "      <th>245</th>\n",
       "      <td>Tajikistan</td>\n",
       "      <td>TJK</td>\n",
       "      <td>2015</td>\n",
       "      <td>Asia</td>\n",
       "    </tr>\n",
       "    <tr>\n",
       "      <th>185</th>\n",
       "      <td>Norway</td>\n",
       "      <td>NOR</td>\n",
       "      <td>2015</td>\n",
       "      <td>Europe</td>\n",
       "    </tr>\n",
       "    <tr>\n",
       "      <th>241</th>\n",
       "      <td>Sweden</td>\n",
       "      <td>SWE</td>\n",
       "      <td>2015</td>\n",
       "      <td>Europe</td>\n",
       "    </tr>\n",
       "  </tbody>\n",
       "</table>\n",
       "</div>"
      ],
      "text/plain": [
       "          Entity      Code  Year Continent\n",
       "193        Parma  OWID_PMA  2015    Europe\n",
       "233  South Korea       KOR  2015      Asia\n",
       "245   Tajikistan       TJK  2015      Asia\n",
       "185       Norway       NOR  2015    Europe\n",
       "241       Sweden       SWE  2015    Europe"
      ]
     },
     "execution_count": 19,
     "metadata": {},
     "output_type": "execute_result"
    }
   ],
   "source": [
    "#importing the continents dataset \n",
    "data2=pd.read_csv(\"continents-according-to-our-world-in-data.csv\")  \n",
    "data2.sample(n=5)"
   ]
  },
  {
   "cell_type": "code",
   "execution_count": 20,
   "metadata": {},
   "outputs": [
    {
     "data": {
      "text/html": [
       "<div>\n",
       "<style scoped>\n",
       "    .dataframe tbody tr th:only-of-type {\n",
       "        vertical-align: middle;\n",
       "    }\n",
       "\n",
       "    .dataframe tbody tr th {\n",
       "        vertical-align: top;\n",
       "    }\n",
       "\n",
       "    .dataframe thead th {\n",
       "        text-align: right;\n",
       "    }\n",
       "</style>\n",
       "<table border=\"1\" class=\"dataframe\">\n",
       "  <thead>\n",
       "    <tr style=\"text-align: right;\">\n",
       "      <th></th>\n",
       "      <th>Country Name</th>\n",
       "      <th>Country Code</th>\n",
       "      <th>Continent</th>\n",
       "      <th>2008</th>\n",
       "      <th>2009</th>\n",
       "      <th>2010</th>\n",
       "      <th>2011</th>\n",
       "      <th>2012</th>\n",
       "      <th>2013</th>\n",
       "      <th>2014</th>\n",
       "      <th>2015</th>\n",
       "      <th>2016</th>\n",
       "      <th>2017</th>\n",
       "      <th>2018</th>\n",
       "      <th>2019</th>\n",
       "      <th>2020</th>\n",
       "      <th>2021</th>\n",
       "      <th>2022</th>\n",
       "    </tr>\n",
       "  </thead>\n",
       "  <tbody>\n",
       "    <tr>\n",
       "      <th>0</th>\n",
       "      <td>Africa Eastern and Southern</td>\n",
       "      <td>AFE</td>\n",
       "      <td>NaN</td>\n",
       "      <td>12.391843</td>\n",
       "      <td>12.543647</td>\n",
       "      <td>14.277086</td>\n",
       "      <td>13.593977</td>\n",
       "      <td>13.402498</td>\n",
       "      <td>13.102415</td>\n",
       "      <td>12.99279</td>\n",
       "      <td>12.874319</td>\n",
       "      <td>13.00765</td>\n",
       "      <td>12.973653</td>\n",
       "      <td>12.887711</td>\n",
       "      <td>13.281005</td>\n",
       "      <td>14.138644</td>\n",
       "      <td>14.137466</td>\n",
       "      <td>14.134125</td>\n",
       "    </tr>\n",
       "    <tr>\n",
       "      <th>1</th>\n",
       "      <td>Afghanistan</td>\n",
       "      <td>AFG</td>\n",
       "      <td>Asia</td>\n",
       "      <td>10.852000</td>\n",
       "      <td>10.794000</td>\n",
       "      <td>10.667000</td>\n",
       "      <td>10.441000</td>\n",
       "      <td>10.393000</td>\n",
       "      <td>10.224000</td>\n",
       "      <td>10.08600</td>\n",
       "      <td>12.495000</td>\n",
       "      <td>14.90200</td>\n",
       "      <td>17.303000</td>\n",
       "      <td>17.292000</td>\n",
       "      <td>17.339000</td>\n",
       "      <td>16.053000</td>\n",
       "      <td>NaN</td>\n",
       "      <td>NaN</td>\n",
       "    </tr>\n",
       "  </tbody>\n",
       "</table>\n",
       "</div>"
      ],
      "text/plain": [
       "                  Country Name Country Code Continent       2008       2009  \\\n",
       "0  Africa Eastern and Southern          AFE       NaN  12.391843  12.543647   \n",
       "1                  Afghanistan          AFG      Asia  10.852000  10.794000   \n",
       "\n",
       "        2010       2011       2012       2013      2014       2015      2016  \\\n",
       "0  14.277086  13.593977  13.402498  13.102415  12.99279  12.874319  13.00765   \n",
       "1  10.667000  10.441000  10.393000  10.224000  10.08600  12.495000  14.90200   \n",
       "\n",
       "        2017       2018       2019       2020       2021       2022  \n",
       "0  12.973653  12.887711  13.281005  14.138644  14.137466  14.134125  \n",
       "1  17.303000  17.292000  17.339000  16.053000        NaN        NaN  "
      ]
     },
     "execution_count": 20,
     "metadata": {},
     "output_type": "execute_result"
    }
   ],
   "source": [
    "# Merge the DataFrames based on 'Country Name' and 'Country Code'\n",
    "df_merged = df.merge(data2[['Entity', 'Continent', 'Code']],\n",
    "                     left_on=['Country Name', 'Country Code'],\n",
    "                     right_on=['Entity', 'Code'],\n",
    "                     how='left')\n",
    "\n",
    "# Move the 'Continent' column to position 3\n",
    "continent_col = df_merged.pop('Continent')\n",
    "df_merged.insert(2, continent_col.name, continent_col)\n",
    "\n",
    "# Drop the redundant columns 'Entity' and 'Code'\n",
    "df_merged = df_merged.drop(['Entity', 'Code'], axis=1)\n",
    "\n",
    "# Display the first few rows of the updated DataFrame\n",
    "df_merged.head(2)"
   ]
  },
  {
   "cell_type": "code",
   "execution_count": 21,
   "metadata": {},
   "outputs": [
    {
     "name": "stdout",
     "output_type": "stream",
     "text": [
      "Columns with NaN values from 1991 to 2022:\n",
      "Index(['2021', '2022'], dtype='object')\n"
     ]
    }
   ],
   "source": [
    "# Select the columns from 1991 to 2022\n",
    "columns_to_check = df_merged.loc[:, '2008':'2022']\n",
    "\n",
    "# Find columns with NaN values\n",
    "columns_with_na = columns_to_check.columns[columns_to_check.isnull().any()]\n",
    "\n",
    "# Display the columns with NaN values\n",
    "print(\"Columns with NaN values from 1991 to 2022:\")\n",
    "print(columns_with_na)"
   ]
  },
  {
   "cell_type": "code",
   "execution_count": 22,
   "metadata": {},
   "outputs": [
    {
     "data": {
      "text/html": [
       "<div>\n",
       "<style scoped>\n",
       "    .dataframe tbody tr th:only-of-type {\n",
       "        vertical-align: middle;\n",
       "    }\n",
       "\n",
       "    .dataframe tbody tr th {\n",
       "        vertical-align: top;\n",
       "    }\n",
       "\n",
       "    .dataframe thead th {\n",
       "        text-align: right;\n",
       "    }\n",
       "</style>\n",
       "<table border=\"1\" class=\"dataframe\">\n",
       "  <thead>\n",
       "    <tr style=\"text-align: right;\">\n",
       "      <th></th>\n",
       "      <th>Country Name</th>\n",
       "      <th>2021</th>\n",
       "      <th>2022</th>\n",
       "    </tr>\n",
       "  </thead>\n",
       "  <tbody>\n",
       "    <tr>\n",
       "      <th>1</th>\n",
       "      <td>Afghanistan</td>\n",
       "      <td>NaN</td>\n",
       "      <td>NaN</td>\n",
       "    </tr>\n",
       "    <tr>\n",
       "      <th>56</th>\n",
       "      <td>Europe &amp; Central Asia (excluding high income)</td>\n",
       "      <td>17.445115</td>\n",
       "      <td>NaN</td>\n",
       "    </tr>\n",
       "    <tr>\n",
       "      <th>139</th>\n",
       "      <td>Myanmar</td>\n",
       "      <td>NaN</td>\n",
       "      <td>NaN</td>\n",
       "    </tr>\n",
       "    <tr>\n",
       "      <th>178</th>\n",
       "      <td>Russian Federation</td>\n",
       "      <td>16.144000</td>\n",
       "      <td>NaN</td>\n",
       "    </tr>\n",
       "    <tr>\n",
       "      <th>203</th>\n",
       "      <td>Europe &amp; Central Asia (IDA &amp; IBRD countries)</td>\n",
       "      <td>17.237121</td>\n",
       "      <td>NaN</td>\n",
       "    </tr>\n",
       "    <tr>\n",
       "      <th>219</th>\n",
       "      <td>Ukraine</td>\n",
       "      <td>19.110000</td>\n",
       "      <td>NaN</td>\n",
       "    </tr>\n",
       "  </tbody>\n",
       "</table>\n",
       "</div>"
      ],
      "text/plain": [
       "                                      Country Name       2021  2022\n",
       "1                                      Afghanistan        NaN   NaN\n",
       "56   Europe & Central Asia (excluding high income)  17.445115   NaN\n",
       "139                                        Myanmar        NaN   NaN\n",
       "178                             Russian Federation  16.144000   NaN\n",
       "203   Europe & Central Asia (IDA & IBRD countries)  17.237121   NaN\n",
       "219                                        Ukraine  19.110000   NaN"
      ]
     },
     "execution_count": 22,
     "metadata": {},
     "output_type": "execute_result"
    }
   ],
   "source": [
    "#Filter rows where '2021' or '2022' have NaN values\n",
    "nan_rows = df_merged[df_merged[['2021', '2022']].isna().any(axis=1)]\n",
    "\n",
    "# Select the 'Country Name' column along with '2021' and '2022' columns\n",
    "result = nan_rows[['Country Name', '2021', '2022']]\n",
    "\n",
    "result"
   ]
  },
  {
   "cell_type": "code",
   "execution_count": 23,
   "metadata": {},
   "outputs": [
    {
     "name": "stdout",
     "output_type": "stream",
     "text": [
      "           Country Name    2021   2022\n",
      "1           Afghanistan  16.390  17.75\n",
      "178  Russian Federation  16.144  14.37\n"
     ]
    }
   ],
   "source": [
    "# Updating the values for Afghanistan and the Russian Federation in the df_merged DataFrame\n",
    "df_merged.loc[df_merged['Country Name'] == 'Afghanistan', '2021'] = 16.39\n",
    "df_merged.loc[df_merged['Country Name'] == 'Afghanistan', '2022'] = 17.75\n",
    "df_merged.loc[df_merged['Country Name'] == 'Russian Federation', '2022'] = 14.37\n",
    "\n",
    "# Verify the changes for Afghanistan and the Russian Federation\n",
    "print(df_merged[df_merged['Country Name'].isin(['Afghanistan', 'Russian Federation'])][['Country Name', '2021', '2022']])"
   ]
  },
  {
   "cell_type": "code",
   "execution_count": 24,
   "metadata": {},
   "outputs": [],
   "source": [
    "# Fill NaN values with the mean of each column\n",
    "df_merged[['2021', '2022']] = df_merged[['2021', '2022']].apply(lambda col: col.fillna(col.mean()))"
   ]
  },
  {
   "cell_type": "code",
   "execution_count": 25,
   "metadata": {},
   "outputs": [
    {
     "data": {
      "text/html": [
       "<div>\n",
       "<style scoped>\n",
       "    .dataframe tbody tr th:only-of-type {\n",
       "        vertical-align: middle;\n",
       "    }\n",
       "\n",
       "    .dataframe tbody tr th {\n",
       "        vertical-align: top;\n",
       "    }\n",
       "\n",
       "    .dataframe thead th {\n",
       "        text-align: right;\n",
       "    }\n",
       "</style>\n",
       "<table border=\"1\" class=\"dataframe\">\n",
       "  <thead>\n",
       "    <tr style=\"text-align: right;\">\n",
       "      <th></th>\n",
       "      <th>Country Name</th>\n",
       "      <th>Country Code</th>\n",
       "      <th>Continent</th>\n",
       "      <th>2008</th>\n",
       "      <th>2009</th>\n",
       "      <th>2010</th>\n",
       "      <th>2011</th>\n",
       "      <th>2012</th>\n",
       "      <th>2013</th>\n",
       "      <th>2014</th>\n",
       "      <th>2015</th>\n",
       "      <th>2016</th>\n",
       "      <th>2017</th>\n",
       "      <th>2018</th>\n",
       "      <th>2019</th>\n",
       "      <th>2020</th>\n",
       "      <th>2021</th>\n",
       "      <th>2022</th>\n",
       "    </tr>\n",
       "  </thead>\n",
       "  <tbody>\n",
       "    <tr>\n",
       "      <th>0</th>\n",
       "      <td>Africa Eastern and Southern</td>\n",
       "      <td>AFE</td>\n",
       "      <td>NaN</td>\n",
       "      <td>12.391843</td>\n",
       "      <td>12.543647</td>\n",
       "      <td>14.277086</td>\n",
       "      <td>13.593977</td>\n",
       "      <td>13.402498</td>\n",
       "      <td>13.102415</td>\n",
       "      <td>12.992790</td>\n",
       "      <td>12.874319</td>\n",
       "      <td>13.007650</td>\n",
       "      <td>12.973653</td>\n",
       "      <td>12.887711</td>\n",
       "      <td>13.281005</td>\n",
       "      <td>14.138644</td>\n",
       "      <td>14.137466</td>\n",
       "      <td>14.134125</td>\n",
       "    </tr>\n",
       "    <tr>\n",
       "      <th>1</th>\n",
       "      <td>Afghanistan</td>\n",
       "      <td>AFG</td>\n",
       "      <td>Asia</td>\n",
       "      <td>10.852000</td>\n",
       "      <td>10.794000</td>\n",
       "      <td>10.667000</td>\n",
       "      <td>10.441000</td>\n",
       "      <td>10.393000</td>\n",
       "      <td>10.224000</td>\n",
       "      <td>10.086000</td>\n",
       "      <td>12.495000</td>\n",
       "      <td>14.902000</td>\n",
       "      <td>17.303000</td>\n",
       "      <td>17.292000</td>\n",
       "      <td>17.339000</td>\n",
       "      <td>16.053000</td>\n",
       "      <td>16.390000</td>\n",
       "      <td>17.750000</td>\n",
       "    </tr>\n",
       "    <tr>\n",
       "      <th>2</th>\n",
       "      <td>Africa Western and Central</td>\n",
       "      <td>AFW</td>\n",
       "      <td>NaN</td>\n",
       "      <td>8.528799</td>\n",
       "      <td>8.588388</td>\n",
       "      <td>8.626529</td>\n",
       "      <td>8.531824</td>\n",
       "      <td>8.539699</td>\n",
       "      <td>8.084479</td>\n",
       "      <td>8.432707</td>\n",
       "      <td>8.860586</td>\n",
       "      <td>8.690286</td>\n",
       "      <td>8.785932</td>\n",
       "      <td>8.910159</td>\n",
       "      <td>9.005565</td>\n",
       "      <td>10.444833</td>\n",
       "      <td>9.874787</td>\n",
       "      <td>9.726148</td>\n",
       "    </tr>\n",
       "  </tbody>\n",
       "</table>\n",
       "</div>"
      ],
      "text/plain": [
       "                  Country Name Country Code Continent       2008       2009  \\\n",
       "0  Africa Eastern and Southern          AFE       NaN  12.391843  12.543647   \n",
       "1                  Afghanistan          AFG      Asia  10.852000  10.794000   \n",
       "2   Africa Western and Central          AFW       NaN   8.528799   8.588388   \n",
       "\n",
       "        2010       2011       2012       2013       2014       2015  \\\n",
       "0  14.277086  13.593977  13.402498  13.102415  12.992790  12.874319   \n",
       "1  10.667000  10.441000  10.393000  10.224000  10.086000  12.495000   \n",
       "2   8.626529   8.531824   8.539699   8.084479   8.432707   8.860586   \n",
       "\n",
       "        2016       2017       2018       2019       2020       2021       2022  \n",
       "0  13.007650  12.973653  12.887711  13.281005  14.138644  14.137466  14.134125  \n",
       "1  14.902000  17.303000  17.292000  17.339000  16.053000  16.390000  17.750000  \n",
       "2   8.690286   8.785932   8.910159   9.005565  10.444833   9.874787   9.726148  "
      ]
     },
     "execution_count": 25,
     "metadata": {},
     "output_type": "execute_result"
    }
   ],
   "source": [
    "df_merged.head(3)"
   ]
  },
  {
   "cell_type": "code",
   "execution_count": 26,
   "metadata": {},
   "outputs": [
    {
     "data": {
      "text/plain": [
       "75"
      ]
     },
     "execution_count": 26,
     "metadata": {},
     "output_type": "execute_result"
    }
   ],
   "source": [
    "# Get the sum of na values in the continent col \n",
    "df_merged['Continent'].isna().sum()"
   ]
  },
  {
   "cell_type": "code",
   "execution_count": 27,
   "metadata": {},
   "outputs": [
    {
     "data": {
      "text/html": [
       "<div>\n",
       "<style scoped>\n",
       "    .dataframe tbody tr th:only-of-type {\n",
       "        vertical-align: middle;\n",
       "    }\n",
       "\n",
       "    .dataframe tbody tr th {\n",
       "        vertical-align: top;\n",
       "    }\n",
       "\n",
       "    .dataframe thead th {\n",
       "        text-align: right;\n",
       "    }\n",
       "</style>\n",
       "<table border=\"1\" class=\"dataframe\">\n",
       "  <thead>\n",
       "    <tr style=\"text-align: right;\">\n",
       "      <th></th>\n",
       "      <th>Country Name</th>\n",
       "      <th>Country Code</th>\n",
       "      <th>Continent</th>\n",
       "      <th>2008</th>\n",
       "      <th>2009</th>\n",
       "      <th>2010</th>\n",
       "      <th>2011</th>\n",
       "      <th>2012</th>\n",
       "      <th>2013</th>\n",
       "      <th>2014</th>\n",
       "      <th>2015</th>\n",
       "      <th>2016</th>\n",
       "      <th>2017</th>\n",
       "      <th>2018</th>\n",
       "      <th>2019</th>\n",
       "      <th>2020</th>\n",
       "      <th>2021</th>\n",
       "      <th>2022</th>\n",
       "    </tr>\n",
       "  </thead>\n",
       "  <tbody>\n",
       "    <tr>\n",
       "      <th>0</th>\n",
       "      <td>Africa Eastern and Southern</td>\n",
       "      <td>AFE</td>\n",
       "      <td>NaN</td>\n",
       "      <td>12.391843</td>\n",
       "      <td>12.543647</td>\n",
       "      <td>14.277086</td>\n",
       "      <td>13.593977</td>\n",
       "      <td>13.402498</td>\n",
       "      <td>13.102415</td>\n",
       "      <td>12.992790</td>\n",
       "      <td>12.874319</td>\n",
       "      <td>13.007650</td>\n",
       "      <td>12.973653</td>\n",
       "      <td>12.887711</td>\n",
       "      <td>13.281005</td>\n",
       "      <td>14.138644</td>\n",
       "      <td>14.137466</td>\n",
       "      <td>14.134125</td>\n",
       "    </tr>\n",
       "    <tr>\n",
       "      <th>2</th>\n",
       "      <td>Africa Western and Central</td>\n",
       "      <td>AFW</td>\n",
       "      <td>NaN</td>\n",
       "      <td>8.528799</td>\n",
       "      <td>8.588388</td>\n",
       "      <td>8.626529</td>\n",
       "      <td>8.531824</td>\n",
       "      <td>8.539699</td>\n",
       "      <td>8.084479</td>\n",
       "      <td>8.432707</td>\n",
       "      <td>8.860586</td>\n",
       "      <td>8.690286</td>\n",
       "      <td>8.785932</td>\n",
       "      <td>8.910159</td>\n",
       "      <td>9.005565</td>\n",
       "      <td>10.444833</td>\n",
       "      <td>9.874787</td>\n",
       "      <td>9.726148</td>\n",
       "    </tr>\n",
       "    <tr>\n",
       "      <th>5</th>\n",
       "      <td>Arab World</td>\n",
       "      <td>ARB</td>\n",
       "      <td>NaN</td>\n",
       "      <td>23.806125</td>\n",
       "      <td>22.609268</td>\n",
       "      <td>23.203179</td>\n",
       "      <td>25.307581</td>\n",
       "      <td>26.960191</td>\n",
       "      <td>27.061260</td>\n",
       "      <td>27.068250</td>\n",
       "      <td>28.245065</td>\n",
       "      <td>27.876574</td>\n",
       "      <td>28.554279</td>\n",
       "      <td>27.544687</td>\n",
       "      <td>26.373932</td>\n",
       "      <td>28.255717</td>\n",
       "      <td>27.276824</td>\n",
       "      <td>26.682374</td>\n",
       "    </tr>\n",
       "    <tr>\n",
       "      <th>19</th>\n",
       "      <td>Bahamas, The</td>\n",
       "      <td>BHS</td>\n",
       "      <td>NaN</td>\n",
       "      <td>17.155000</td>\n",
       "      <td>26.255000</td>\n",
       "      <td>26.688000</td>\n",
       "      <td>27.287000</td>\n",
       "      <td>30.740000</td>\n",
       "      <td>34.847000</td>\n",
       "      <td>29.238000</td>\n",
       "      <td>25.001000</td>\n",
       "      <td>25.944000</td>\n",
       "      <td>21.561000</td>\n",
       "      <td>24.250000</td>\n",
       "      <td>24.434000</td>\n",
       "      <td>29.898000</td>\n",
       "      <td>27.210000</td>\n",
       "      <td>23.854000</td>\n",
       "    </tr>\n",
       "    <tr>\n",
       "      <th>26</th>\n",
       "      <td>Brunei Darussalam</td>\n",
       "      <td>BRN</td>\n",
       "      <td>NaN</td>\n",
       "      <td>19.285000</td>\n",
       "      <td>20.092000</td>\n",
       "      <td>21.143000</td>\n",
       "      <td>22.095000</td>\n",
       "      <td>22.820000</td>\n",
       "      <td>23.546000</td>\n",
       "      <td>24.397000</td>\n",
       "      <td>26.258000</td>\n",
       "      <td>27.812000</td>\n",
       "      <td>29.652000</td>\n",
       "      <td>31.453000</td>\n",
       "      <td>21.513000</td>\n",
       "      <td>27.129000</td>\n",
       "      <td>24.265000</td>\n",
       "      <td>23.887000</td>\n",
       "    </tr>\n",
       "    <tr>\n",
       "      <th>...</th>\n",
       "      <td>...</td>\n",
       "      <td>...</td>\n",
       "      <td>...</td>\n",
       "      <td>...</td>\n",
       "      <td>...</td>\n",
       "      <td>...</td>\n",
       "      <td>...</td>\n",
       "      <td>...</td>\n",
       "      <td>...</td>\n",
       "      <td>...</td>\n",
       "      <td>...</td>\n",
       "      <td>...</td>\n",
       "      <td>...</td>\n",
       "      <td>...</td>\n",
       "      <td>...</td>\n",
       "      <td>...</td>\n",
       "      <td>...</td>\n",
       "      <td>...</td>\n",
       "    </tr>\n",
       "    <tr>\n",
       "      <th>225</th>\n",
       "      <td>Venezuela, RB</td>\n",
       "      <td>VEN</td>\n",
       "      <td>NaN</td>\n",
       "      <td>12.365000</td>\n",
       "      <td>12.135000</td>\n",
       "      <td>14.176000</td>\n",
       "      <td>14.037000</td>\n",
       "      <td>14.077000</td>\n",
       "      <td>16.221000</td>\n",
       "      <td>14.823000</td>\n",
       "      <td>13.235000</td>\n",
       "      <td>11.673000</td>\n",
       "      <td>12.336000</td>\n",
       "      <td>12.446000</td>\n",
       "      <td>12.712000</td>\n",
       "      <td>13.800000</td>\n",
       "      <td>13.445000</td>\n",
       "      <td>11.388000</td>\n",
       "    </tr>\n",
       "    <tr>\n",
       "      <th>226</th>\n",
       "      <td>Virgin Islands (U.S.)</td>\n",
       "      <td>VIR</td>\n",
       "      <td>NaN</td>\n",
       "      <td>20.919000</td>\n",
       "      <td>24.076000</td>\n",
       "      <td>24.068000</td>\n",
       "      <td>25.339000</td>\n",
       "      <td>26.018000</td>\n",
       "      <td>27.559000</td>\n",
       "      <td>27.615000</td>\n",
       "      <td>26.595000</td>\n",
       "      <td>27.849000</td>\n",
       "      <td>26.931000</td>\n",
       "      <td>26.988000</td>\n",
       "      <td>27.412000</td>\n",
       "      <td>29.674000</td>\n",
       "      <td>28.567000</td>\n",
       "      <td>27.198000</td>\n",
       "    </tr>\n",
       "    <tr>\n",
       "      <th>227</th>\n",
       "      <td>Viet Nam</td>\n",
       "      <td>VNM</td>\n",
       "      <td>NaN</td>\n",
       "      <td>5.317000</td>\n",
       "      <td>4.494000</td>\n",
       "      <td>3.474000</td>\n",
       "      <td>3.265000</td>\n",
       "      <td>3.703000</td>\n",
       "      <td>4.632000</td>\n",
       "      <td>4.756000</td>\n",
       "      <td>6.351000</td>\n",
       "      <td>6.788000</td>\n",
       "      <td>7.016000</td>\n",
       "      <td>4.505000</td>\n",
       "      <td>5.501000</td>\n",
       "      <td>6.422000</td>\n",
       "      <td>6.805000</td>\n",
       "      <td>7.438000</td>\n",
       "    </tr>\n",
       "    <tr>\n",
       "      <th>229</th>\n",
       "      <td>World</td>\n",
       "      <td>WLD</td>\n",
       "      <td>NaN</td>\n",
       "      <td>13.232263</td>\n",
       "      <td>14.253475</td>\n",
       "      <td>14.329581</td>\n",
       "      <td>14.431704</td>\n",
       "      <td>14.704453</td>\n",
       "      <td>14.978708</td>\n",
       "      <td>15.081434</td>\n",
       "      <td>15.557598</td>\n",
       "      <td>15.860100</td>\n",
       "      <td>15.959626</td>\n",
       "      <td>15.919090</td>\n",
       "      <td>15.236170</td>\n",
       "      <td>18.401152</td>\n",
       "      <td>16.356035</td>\n",
       "      <td>15.581516</td>\n",
       "    </tr>\n",
       "    <tr>\n",
       "      <th>231</th>\n",
       "      <td>Yemen, Rep.</td>\n",
       "      <td>YEM</td>\n",
       "      <td>NaN</td>\n",
       "      <td>21.145000</td>\n",
       "      <td>21.531000</td>\n",
       "      <td>21.875000</td>\n",
       "      <td>22.832000</td>\n",
       "      <td>23.165000</td>\n",
       "      <td>23.751000</td>\n",
       "      <td>24.495000</td>\n",
       "      <td>24.997000</td>\n",
       "      <td>24.640000</td>\n",
       "      <td>24.583000</td>\n",
       "      <td>24.508000</td>\n",
       "      <td>24.524000</td>\n",
       "      <td>26.077000</td>\n",
       "      <td>25.981000</td>\n",
       "      <td>25.641000</td>\n",
       "    </tr>\n",
       "  </tbody>\n",
       "</table>\n",
       "<p>75 rows × 18 columns</p>\n",
       "</div>"
      ],
      "text/plain": [
       "                    Country Name Country Code Continent       2008       2009  \\\n",
       "0    Africa Eastern and Southern          AFE       NaN  12.391843  12.543647   \n",
       "2     Africa Western and Central          AFW       NaN   8.528799   8.588388   \n",
       "5                     Arab World          ARB       NaN  23.806125  22.609268   \n",
       "19                  Bahamas, The          BHS       NaN  17.155000  26.255000   \n",
       "26             Brunei Darussalam          BRN       NaN  19.285000  20.092000   \n",
       "..                           ...          ...       ...        ...        ...   \n",
       "225                Venezuela, RB          VEN       NaN  12.365000  12.135000   \n",
       "226        Virgin Islands (U.S.)          VIR       NaN  20.919000  24.076000   \n",
       "227                     Viet Nam          VNM       NaN   5.317000   4.494000   \n",
       "229                        World          WLD       NaN  13.232263  14.253475   \n",
       "231                  Yemen, Rep.          YEM       NaN  21.145000  21.531000   \n",
       "\n",
       "          2010       2011       2012       2013       2014       2015  \\\n",
       "0    14.277086  13.593977  13.402498  13.102415  12.992790  12.874319   \n",
       "2     8.626529   8.531824   8.539699   8.084479   8.432707   8.860586   \n",
       "5    23.203179  25.307581  26.960191  27.061260  27.068250  28.245065   \n",
       "19   26.688000  27.287000  30.740000  34.847000  29.238000  25.001000   \n",
       "26   21.143000  22.095000  22.820000  23.546000  24.397000  26.258000   \n",
       "..         ...        ...        ...        ...        ...        ...   \n",
       "225  14.176000  14.037000  14.077000  16.221000  14.823000  13.235000   \n",
       "226  24.068000  25.339000  26.018000  27.559000  27.615000  26.595000   \n",
       "227   3.474000   3.265000   3.703000   4.632000   4.756000   6.351000   \n",
       "229  14.329581  14.431704  14.704453  14.978708  15.081434  15.557598   \n",
       "231  21.875000  22.832000  23.165000  23.751000  24.495000  24.997000   \n",
       "\n",
       "          2016       2017       2018       2019       2020       2021  \\\n",
       "0    13.007650  12.973653  12.887711  13.281005  14.138644  14.137466   \n",
       "2     8.690286   8.785932   8.910159   9.005565  10.444833   9.874787   \n",
       "5    27.876574  28.554279  27.544687  26.373932  28.255717  27.276824   \n",
       "19   25.944000  21.561000  24.250000  24.434000  29.898000  27.210000   \n",
       "26   27.812000  29.652000  31.453000  21.513000  27.129000  24.265000   \n",
       "..         ...        ...        ...        ...        ...        ...   \n",
       "225  11.673000  12.336000  12.446000  12.712000  13.800000  13.445000   \n",
       "226  27.849000  26.931000  26.988000  27.412000  29.674000  28.567000   \n",
       "227   6.788000   7.016000   4.505000   5.501000   6.422000   6.805000   \n",
       "229  15.860100  15.959626  15.919090  15.236170  18.401152  16.356035   \n",
       "231  24.640000  24.583000  24.508000  24.524000  26.077000  25.981000   \n",
       "\n",
       "          2022  \n",
       "0    14.134125  \n",
       "2     9.726148  \n",
       "5    26.682374  \n",
       "19   23.854000  \n",
       "26   23.887000  \n",
       "..         ...  \n",
       "225  11.388000  \n",
       "226  27.198000  \n",
       "227   7.438000  \n",
       "229  15.581516  \n",
       "231  25.641000  \n",
       "\n",
       "[75 rows x 18 columns]"
      ]
     },
     "execution_count": 27,
     "metadata": {},
     "output_type": "execute_result"
    }
   ],
   "source": [
    "# Filter rows where 'Continent' has NaN values\n",
    "rows_with_na = df_merged[df_merged['Continent'].isna()]\n",
    "rows_with_na"
   ]
  },
  {
   "cell_type": "markdown",
   "metadata": {},
   "source": [
    "Here we notice that there are 75 rows, or rather 75 countries that are not 'continent classifies'. Maybe the issue is with the naming of the countries, that is to say 'South Africa', 'Suid Afrika' and 'South Africa ' are all different with the same country code. So we try matching using the country code alone"
   ]
  },
  {
   "cell_type": "code",
   "execution_count": 28,
   "metadata": {},
   "outputs": [
    {
     "data": {
      "text/plain": [
       "49"
      ]
     },
     "execution_count": 28,
     "metadata": {},
     "output_type": "execute_result"
    }
   ],
   "source": [
    "# Merge the DataFrames based only on 'Country Code'\n",
    "merged_data1 = df.merge(data2[['Code', 'Continent']],\n",
    "                              left_on='Country Code',\n",
    "                              right_on='Code',\n",
    "                              how='left')\n",
    "\n",
    "# Drop the redundant column 'Code'\n",
    "merged_data1 = merged_data1.drop(['Code'], axis=1)\n",
    "\n",
    "# Move column \"Continent\" to position 3\n",
    "col = merged_data1.pop('Continent')\n",
    "merged_data1.insert(2, col.name, col)\n",
    "\n",
    "merged_data1['Continent'].isna().sum()"
   ]
  },
  {
   "cell_type": "code",
   "execution_count": 29,
   "metadata": {},
   "outputs": [
    {
     "data": {
      "text/plain": [
       "(75, 18)"
      ]
     },
     "execution_count": 29,
     "metadata": {},
     "output_type": "execute_result"
    }
   ],
   "source": [
    "rows_with_na.shape"
   ]
  },
  {
   "cell_type": "code",
   "execution_count": 30,
   "metadata": {},
   "outputs": [
    {
     "name": "stdout",
     "output_type": "stream",
     "text": [
      "Countries without a continent assigned:\n",
      "                    Country Name Continent Country Code\n",
      "0    Africa Eastern and Southern       NaN          AFE\n",
      "2     Africa Western and Central       NaN          AFW\n",
      "5                     Arab World       NaN          ARB\n",
      "19                  Bahamas, The       NaN          BHS\n",
      "26             Brunei Darussalam       NaN          BRN\n",
      "..                           ...       ...          ...\n",
      "225                Venezuela, RB       NaN          VEN\n",
      "226        Virgin Islands (U.S.)       NaN          VIR\n",
      "227                     Viet Nam       NaN          VNM\n",
      "229                        World       NaN          WLD\n",
      "231                  Yemen, Rep.       NaN          YEM\n",
      "\n",
      "[75 rows x 3 columns]\n"
     ]
    }
   ],
   "source": [
    "# Check if the column 'Continent' exists and has NaN values\n",
    "countries_without_continent = df_merged[df_merged['Continent'].isna()]\n",
    "\n",
    "# Display the countries that do not have a continent assigned\n",
    "print(\"Countries without a continent assigned:\")\n",
    "print(countries_without_continent[['Country Name', 'Continent','Country Code']])"
   ]
  },
  {
   "cell_type": "code",
   "execution_count": 31,
   "metadata": {},
   "outputs": [
    {
     "name": "stdout",
     "output_type": "stream",
     "text": [
      "Country codes of countries without a continent assigned:\n",
      "['AFE', 'AFW', 'ARB', 'BHS', 'BRN', 'CEB', 'CHI', 'COD', 'COG', 'CPV', 'CSS', 'EAP', 'EAR', 'EAS', 'ECA', 'ECS', 'EGY', 'EMU', 'EUU', 'FCS', 'GMB', 'HIC', 'HKG', 'HPC', 'IBD', 'IBT', 'IDA', 'IDB', 'IDX', 'IRN', 'KGZ', 'KOR', 'LAC', 'LAO', 'LCA', 'LCN', 'LDC', 'LIC', 'LMC', 'LMY', 'LTE', 'MAC', 'MEA', 'MIC', 'MNA', 'NAC', 'OED', 'OSS', 'PRE', 'PRK', 'PSE', 'PSS', 'PST', 'RUS', 'SAS', 'SSA', 'SSF', 'SST', 'SVK', 'SYR', 'TEA', 'TEC', 'TLA', 'TLS', 'TMN', 'TSA', 'TSS', 'TUR', 'UMC', 'VCT', 'VEN', 'VIR', 'VNM', 'WLD', 'YEM']\n"
     ]
    }
   ],
   "source": [
    "# Display the list of country codes without continents  \n",
    "print(\"Country codes of countries without a continent assigned:\")\n",
    "print(countries_without_continent['Country Code'].tolist())"
   ]
  },
  {
   "cell_type": "code",
   "execution_count": 32,
   "metadata": {},
   "outputs": [
    {
     "data": {
      "text/html": [
       "<div>\n",
       "<style scoped>\n",
       "    .dataframe tbody tr th:only-of-type {\n",
       "        vertical-align: middle;\n",
       "    }\n",
       "\n",
       "    .dataframe tbody tr th {\n",
       "        vertical-align: top;\n",
       "    }\n",
       "\n",
       "    .dataframe thead th {\n",
       "        text-align: right;\n",
       "    }\n",
       "</style>\n",
       "<table border=\"1\" class=\"dataframe\">\n",
       "  <thead>\n",
       "    <tr style=\"text-align: right;\">\n",
       "      <th></th>\n",
       "      <th>Country Name</th>\n",
       "      <th>Country Code</th>\n",
       "      <th>Continent</th>\n",
       "      <th>2008</th>\n",
       "      <th>2009</th>\n",
       "      <th>2010</th>\n",
       "      <th>2011</th>\n",
       "      <th>2012</th>\n",
       "      <th>2013</th>\n",
       "      <th>2014</th>\n",
       "      <th>2015</th>\n",
       "      <th>2016</th>\n",
       "      <th>2017</th>\n",
       "      <th>2018</th>\n",
       "      <th>2019</th>\n",
       "      <th>2020</th>\n",
       "      <th>2021</th>\n",
       "      <th>2022</th>\n",
       "    </tr>\n",
       "  </thead>\n",
       "  <tbody>\n",
       "    <tr>\n",
       "      <th>0</th>\n",
       "      <td>Africa Eastern and Southern</td>\n",
       "      <td>AFE</td>\n",
       "      <td>NaN</td>\n",
       "      <td>12.391843</td>\n",
       "      <td>12.543647</td>\n",
       "      <td>14.277086</td>\n",
       "      <td>13.593977</td>\n",
       "      <td>13.402498</td>\n",
       "      <td>13.102415</td>\n",
       "      <td>12.99279</td>\n",
       "      <td>12.874319</td>\n",
       "      <td>13.00765</td>\n",
       "      <td>12.973653</td>\n",
       "      <td>12.887711</td>\n",
       "      <td>13.281005</td>\n",
       "      <td>14.138644</td>\n",
       "      <td>14.137466</td>\n",
       "      <td>14.134125</td>\n",
       "    </tr>\n",
       "    <tr>\n",
       "      <th>1</th>\n",
       "      <td>Afghanistan</td>\n",
       "      <td>AFG</td>\n",
       "      <td>Asia</td>\n",
       "      <td>10.852000</td>\n",
       "      <td>10.794000</td>\n",
       "      <td>10.667000</td>\n",
       "      <td>10.441000</td>\n",
       "      <td>10.393000</td>\n",
       "      <td>10.224000</td>\n",
       "      <td>10.08600</td>\n",
       "      <td>12.495000</td>\n",
       "      <td>14.90200</td>\n",
       "      <td>17.303000</td>\n",
       "      <td>17.292000</td>\n",
       "      <td>17.339000</td>\n",
       "      <td>16.053000</td>\n",
       "      <td>16.390000</td>\n",
       "      <td>17.750000</td>\n",
       "    </tr>\n",
       "  </tbody>\n",
       "</table>\n",
       "</div>"
      ],
      "text/plain": [
       "                  Country Name Country Code Continent       2008       2009  \\\n",
       "0  Africa Eastern and Southern          AFE       NaN  12.391843  12.543647   \n",
       "1                  Afghanistan          AFG      Asia  10.852000  10.794000   \n",
       "\n",
       "        2010       2011       2012       2013      2014       2015      2016  \\\n",
       "0  14.277086  13.593977  13.402498  13.102415  12.99279  12.874319  13.00765   \n",
       "1  10.667000  10.441000  10.393000  10.224000  10.08600  12.495000  14.90200   \n",
       "\n",
       "        2017       2018       2019       2020       2021       2022  \n",
       "0  12.973653  12.887711  13.281005  14.138644  14.137466  14.134125  \n",
       "1  17.303000  17.292000  17.339000  16.053000  16.390000  17.750000  "
      ]
     },
     "execution_count": 32,
     "metadata": {},
     "output_type": "execute_result"
    }
   ],
   "source": [
    "df_merged.head(2)"
   ]
  },
  {
   "cell_type": "code",
   "execution_count": 33,
   "metadata": {},
   "outputs": [],
   "source": [
    "# clean dataset \n",
    "df4 = pd.read_csv(\"country_continent.csv\")"
   ]
  },
  {
   "cell_type": "code",
   "execution_count": 34,
   "metadata": {},
   "outputs": [
    {
     "data": {
      "text/html": [
       "<div>\n",
       "<style scoped>\n",
       "    .dataframe tbody tr th:only-of-type {\n",
       "        vertical-align: middle;\n",
       "    }\n",
       "\n",
       "    .dataframe tbody tr th {\n",
       "        vertical-align: top;\n",
       "    }\n",
       "\n",
       "    .dataframe thead th {\n",
       "        text-align: right;\n",
       "    }\n",
       "</style>\n",
       "<table border=\"1\" class=\"dataframe\">\n",
       "  <thead>\n",
       "    <tr style=\"text-align: right;\">\n",
       "      <th></th>\n",
       "      <th>Country Code</th>\n",
       "      <th>Country Name_x</th>\n",
       "      <th>Continent_x</th>\n",
       "      <th>Country Name_y</th>\n",
       "      <th>Continent_y</th>\n",
       "      <th>2008</th>\n",
       "      <th>2009</th>\n",
       "      <th>2010</th>\n",
       "      <th>2011</th>\n",
       "      <th>2012</th>\n",
       "      <th>2013</th>\n",
       "      <th>2014</th>\n",
       "      <th>2015</th>\n",
       "      <th>2016</th>\n",
       "      <th>2017</th>\n",
       "      <th>2018</th>\n",
       "      <th>2019</th>\n",
       "      <th>2020</th>\n",
       "      <th>2021</th>\n",
       "      <th>2022</th>\n",
       "    </tr>\n",
       "  </thead>\n",
       "  <tbody>\n",
       "    <tr>\n",
       "      <th>0</th>\n",
       "      <td>AFE</td>\n",
       "      <td>Africa Eastern and Southern</td>\n",
       "      <td>Africa</td>\n",
       "      <td>Africa Eastern and Southern</td>\n",
       "      <td>NaN</td>\n",
       "      <td>12.391843</td>\n",
       "      <td>12.543647</td>\n",
       "      <td>14.277086</td>\n",
       "      <td>13.593977</td>\n",
       "      <td>13.402498</td>\n",
       "      <td>13.102415</td>\n",
       "      <td>12.992790</td>\n",
       "      <td>12.874319</td>\n",
       "      <td>13.007650</td>\n",
       "      <td>12.973653</td>\n",
       "      <td>12.887711</td>\n",
       "      <td>13.281005</td>\n",
       "      <td>14.138644</td>\n",
       "      <td>14.137466</td>\n",
       "      <td>14.134125</td>\n",
       "    </tr>\n",
       "    <tr>\n",
       "      <th>1</th>\n",
       "      <td>AFG</td>\n",
       "      <td>Afghanistan</td>\n",
       "      <td>Asia</td>\n",
       "      <td>Afghanistan</td>\n",
       "      <td>Asia</td>\n",
       "      <td>10.852000</td>\n",
       "      <td>10.794000</td>\n",
       "      <td>10.667000</td>\n",
       "      <td>10.441000</td>\n",
       "      <td>10.393000</td>\n",
       "      <td>10.224000</td>\n",
       "      <td>10.086000</td>\n",
       "      <td>12.495000</td>\n",
       "      <td>14.902000</td>\n",
       "      <td>17.303000</td>\n",
       "      <td>17.292000</td>\n",
       "      <td>17.339000</td>\n",
       "      <td>16.053000</td>\n",
       "      <td>16.390000</td>\n",
       "      <td>17.750000</td>\n",
       "    </tr>\n",
       "    <tr>\n",
       "      <th>2</th>\n",
       "      <td>AFW</td>\n",
       "      <td>Africa Western and Central</td>\n",
       "      <td>Africa</td>\n",
       "      <td>Africa Western and Central</td>\n",
       "      <td>NaN</td>\n",
       "      <td>8.528799</td>\n",
       "      <td>8.588388</td>\n",
       "      <td>8.626529</td>\n",
       "      <td>8.531824</td>\n",
       "      <td>8.539699</td>\n",
       "      <td>8.084479</td>\n",
       "      <td>8.432707</td>\n",
       "      <td>8.860586</td>\n",
       "      <td>8.690286</td>\n",
       "      <td>8.785932</td>\n",
       "      <td>8.910159</td>\n",
       "      <td>9.005565</td>\n",
       "      <td>10.444833</td>\n",
       "      <td>9.874787</td>\n",
       "      <td>9.726148</td>\n",
       "    </tr>\n",
       "    <tr>\n",
       "      <th>3</th>\n",
       "      <td>AGO</td>\n",
       "      <td>Angola</td>\n",
       "      <td>Africa</td>\n",
       "      <td>Angola</td>\n",
       "      <td>Africa</td>\n",
       "      <td>8.641000</td>\n",
       "      <td>8.659000</td>\n",
       "      <td>19.800000</td>\n",
       "      <td>17.216000</td>\n",
       "      <td>16.791000</td>\n",
       "      <td>16.595000</td>\n",
       "      <td>16.428000</td>\n",
       "      <td>16.437000</td>\n",
       "      <td>16.436000</td>\n",
       "      <td>16.363000</td>\n",
       "      <td>16.343000</td>\n",
       "      <td>16.283000</td>\n",
       "      <td>17.967000</td>\n",
       "      <td>17.523000</td>\n",
       "      <td>17.279000</td>\n",
       "    </tr>\n",
       "    <tr>\n",
       "      <th>4</th>\n",
       "      <td>ALB</td>\n",
       "      <td>Albania</td>\n",
       "      <td>Europe</td>\n",
       "      <td>Albania</td>\n",
       "      <td>Europe</td>\n",
       "      <td>26.553000</td>\n",
       "      <td>27.324000</td>\n",
       "      <td>30.885000</td>\n",
       "      <td>22.733000</td>\n",
       "      <td>28.987000</td>\n",
       "      <td>31.318000</td>\n",
       "      <td>39.744000</td>\n",
       "      <td>39.874000</td>\n",
       "      <td>36.172000</td>\n",
       "      <td>31.403000</td>\n",
       "      <td>28.305000</td>\n",
       "      <td>27.161000</td>\n",
       "      <td>30.846000</td>\n",
       "      <td>29.505000</td>\n",
       "      <td>27.788000</td>\n",
       "    </tr>\n",
       "  </tbody>\n",
       "</table>\n",
       "</div>"
      ],
      "text/plain": [
       "  Country Code               Country Name_x Continent_x  \\\n",
       "0          AFE  Africa Eastern and Southern      Africa   \n",
       "1          AFG                  Afghanistan        Asia   \n",
       "2          AFW   Africa Western and Central      Africa   \n",
       "3          AGO                       Angola      Africa   \n",
       "4          ALB                      Albania      Europe   \n",
       "\n",
       "                Country Name_y Continent_y       2008       2009       2010  \\\n",
       "0  Africa Eastern and Southern         NaN  12.391843  12.543647  14.277086   \n",
       "1                  Afghanistan        Asia  10.852000  10.794000  10.667000   \n",
       "2   Africa Western and Central         NaN   8.528799   8.588388   8.626529   \n",
       "3                       Angola      Africa   8.641000   8.659000  19.800000   \n",
       "4                      Albania      Europe  26.553000  27.324000  30.885000   \n",
       "\n",
       "        2011       2012       2013       2014       2015       2016  \\\n",
       "0  13.593977  13.402498  13.102415  12.992790  12.874319  13.007650   \n",
       "1  10.441000  10.393000  10.224000  10.086000  12.495000  14.902000   \n",
       "2   8.531824   8.539699   8.084479   8.432707   8.860586   8.690286   \n",
       "3  17.216000  16.791000  16.595000  16.428000  16.437000  16.436000   \n",
       "4  22.733000  28.987000  31.318000  39.744000  39.874000  36.172000   \n",
       "\n",
       "        2017       2018       2019       2020       2021       2022  \n",
       "0  12.973653  12.887711  13.281005  14.138644  14.137466  14.134125  \n",
       "1  17.303000  17.292000  17.339000  16.053000  16.390000  17.750000  \n",
       "2   8.785932   8.910159   9.005565  10.444833   9.874787   9.726148  \n",
       "3  16.363000  16.343000  16.283000  17.967000  17.523000  17.279000  \n",
       "4  31.403000  28.305000  27.161000  30.846000  29.505000  27.788000  "
      ]
     },
     "execution_count": 34,
     "metadata": {},
     "output_type": "execute_result"
    }
   ],
   "source": [
    "# Merge df3 with df_merged on the 'Country Code' column\n",
    "data = pd.merge(df4, df_merged, on='Country Code', how='inner')\n",
    "\n",
    "# Display the first few rows of the merged DataFrame\n",
    "data.head()"
   ]
  },
  {
   "cell_type": "code",
   "execution_count": null,
   "metadata": {},
   "outputs": [],
   "source": []
  },
  {
   "cell_type": "markdown",
   "metadata": {},
   "source": [
    "we can see that we have redundent rows and columns and so we are going to keep Country Name_y, Continent_y which is from df3 and drop Country Name_x , Continent_x which are coming from the pd.merge."
   ]
  },
  {
   "cell_type": "code",
   "execution_count": 35,
   "metadata": {},
   "outputs": [],
   "source": [
    "# Drop the 'Country Name_y' and 'Continent_y' columns from the DataFrame 'data'\n",
    "data = data.drop(columns=['Country Name_y', 'Continent_y'])"
   ]
  },
  {
   "cell_type": "code",
   "execution_count": 36,
   "metadata": {},
   "outputs": [
    {
     "data": {
      "text/html": [
       "<div>\n",
       "<style scoped>\n",
       "    .dataframe tbody tr th:only-of-type {\n",
       "        vertical-align: middle;\n",
       "    }\n",
       "\n",
       "    .dataframe tbody tr th {\n",
       "        vertical-align: top;\n",
       "    }\n",
       "\n",
       "    .dataframe thead th {\n",
       "        text-align: right;\n",
       "    }\n",
       "</style>\n",
       "<table border=\"1\" class=\"dataframe\">\n",
       "  <thead>\n",
       "    <tr style=\"text-align: right;\">\n",
       "      <th></th>\n",
       "      <th>Country Code</th>\n",
       "      <th>Country Name_x</th>\n",
       "      <th>Continent_x</th>\n",
       "      <th>2008</th>\n",
       "      <th>2009</th>\n",
       "      <th>2010</th>\n",
       "      <th>2011</th>\n",
       "      <th>2012</th>\n",
       "      <th>2013</th>\n",
       "      <th>2014</th>\n",
       "      <th>2015</th>\n",
       "      <th>2016</th>\n",
       "      <th>2017</th>\n",
       "      <th>2018</th>\n",
       "      <th>2019</th>\n",
       "      <th>2020</th>\n",
       "      <th>2021</th>\n",
       "      <th>2022</th>\n",
       "    </tr>\n",
       "  </thead>\n",
       "  <tbody>\n",
       "    <tr>\n",
       "      <th>0</th>\n",
       "      <td>AFE</td>\n",
       "      <td>Africa Eastern and Southern</td>\n",
       "      <td>Africa</td>\n",
       "      <td>12.391843</td>\n",
       "      <td>12.543647</td>\n",
       "      <td>14.277086</td>\n",
       "      <td>13.593977</td>\n",
       "      <td>13.402498</td>\n",
       "      <td>13.102415</td>\n",
       "      <td>12.992790</td>\n",
       "      <td>12.874319</td>\n",
       "      <td>13.007650</td>\n",
       "      <td>12.973653</td>\n",
       "      <td>12.887711</td>\n",
       "      <td>13.281005</td>\n",
       "      <td>14.138644</td>\n",
       "      <td>14.137466</td>\n",
       "      <td>14.134125</td>\n",
       "    </tr>\n",
       "    <tr>\n",
       "      <th>1</th>\n",
       "      <td>AFG</td>\n",
       "      <td>Afghanistan</td>\n",
       "      <td>Asia</td>\n",
       "      <td>10.852000</td>\n",
       "      <td>10.794000</td>\n",
       "      <td>10.667000</td>\n",
       "      <td>10.441000</td>\n",
       "      <td>10.393000</td>\n",
       "      <td>10.224000</td>\n",
       "      <td>10.086000</td>\n",
       "      <td>12.495000</td>\n",
       "      <td>14.902000</td>\n",
       "      <td>17.303000</td>\n",
       "      <td>17.292000</td>\n",
       "      <td>17.339000</td>\n",
       "      <td>16.053000</td>\n",
       "      <td>16.390000</td>\n",
       "      <td>17.750000</td>\n",
       "    </tr>\n",
       "    <tr>\n",
       "      <th>2</th>\n",
       "      <td>AFW</td>\n",
       "      <td>Africa Western and Central</td>\n",
       "      <td>Africa</td>\n",
       "      <td>8.528799</td>\n",
       "      <td>8.588388</td>\n",
       "      <td>8.626529</td>\n",
       "      <td>8.531824</td>\n",
       "      <td>8.539699</td>\n",
       "      <td>8.084479</td>\n",
       "      <td>8.432707</td>\n",
       "      <td>8.860586</td>\n",
       "      <td>8.690286</td>\n",
       "      <td>8.785932</td>\n",
       "      <td>8.910159</td>\n",
       "      <td>9.005565</td>\n",
       "      <td>10.444833</td>\n",
       "      <td>9.874787</td>\n",
       "      <td>9.726148</td>\n",
       "    </tr>\n",
       "    <tr>\n",
       "      <th>3</th>\n",
       "      <td>AGO</td>\n",
       "      <td>Angola</td>\n",
       "      <td>Africa</td>\n",
       "      <td>8.641000</td>\n",
       "      <td>8.659000</td>\n",
       "      <td>19.800000</td>\n",
       "      <td>17.216000</td>\n",
       "      <td>16.791000</td>\n",
       "      <td>16.595000</td>\n",
       "      <td>16.428000</td>\n",
       "      <td>16.437000</td>\n",
       "      <td>16.436000</td>\n",
       "      <td>16.363000</td>\n",
       "      <td>16.343000</td>\n",
       "      <td>16.283000</td>\n",
       "      <td>17.967000</td>\n",
       "      <td>17.523000</td>\n",
       "      <td>17.279000</td>\n",
       "    </tr>\n",
       "    <tr>\n",
       "      <th>4</th>\n",
       "      <td>ALB</td>\n",
       "      <td>Albania</td>\n",
       "      <td>Europe</td>\n",
       "      <td>26.553000</td>\n",
       "      <td>27.324000</td>\n",
       "      <td>30.885000</td>\n",
       "      <td>22.733000</td>\n",
       "      <td>28.987000</td>\n",
       "      <td>31.318000</td>\n",
       "      <td>39.744000</td>\n",
       "      <td>39.874000</td>\n",
       "      <td>36.172000</td>\n",
       "      <td>31.403000</td>\n",
       "      <td>28.305000</td>\n",
       "      <td>27.161000</td>\n",
       "      <td>30.846000</td>\n",
       "      <td>29.505000</td>\n",
       "      <td>27.788000</td>\n",
       "    </tr>\n",
       "  </tbody>\n",
       "</table>\n",
       "</div>"
      ],
      "text/plain": [
       "  Country Code               Country Name_x Continent_x       2008       2009  \\\n",
       "0          AFE  Africa Eastern and Southern      Africa  12.391843  12.543647   \n",
       "1          AFG                  Afghanistan        Asia  10.852000  10.794000   \n",
       "2          AFW   Africa Western and Central      Africa   8.528799   8.588388   \n",
       "3          AGO                       Angola      Africa   8.641000   8.659000   \n",
       "4          ALB                      Albania      Europe  26.553000  27.324000   \n",
       "\n",
       "        2010       2011       2012       2013       2014       2015  \\\n",
       "0  14.277086  13.593977  13.402498  13.102415  12.992790  12.874319   \n",
       "1  10.667000  10.441000  10.393000  10.224000  10.086000  12.495000   \n",
       "2   8.626529   8.531824   8.539699   8.084479   8.432707   8.860586   \n",
       "3  19.800000  17.216000  16.791000  16.595000  16.428000  16.437000   \n",
       "4  30.885000  22.733000  28.987000  31.318000  39.744000  39.874000   \n",
       "\n",
       "        2016       2017       2018       2019       2020       2021       2022  \n",
       "0  13.007650  12.973653  12.887711  13.281005  14.138644  14.137466  14.134125  \n",
       "1  14.902000  17.303000  17.292000  17.339000  16.053000  16.390000  17.750000  \n",
       "2   8.690286   8.785932   8.910159   9.005565  10.444833   9.874787   9.726148  \n",
       "3  16.436000  16.363000  16.343000  16.283000  17.967000  17.523000  17.279000  \n",
       "4  36.172000  31.403000  28.305000  27.161000  30.846000  29.505000  27.788000  "
      ]
     },
     "execution_count": 36,
     "metadata": {},
     "output_type": "execute_result"
    }
   ],
   "source": [
    "data.head(5)"
   ]
  },
  {
   "cell_type": "code",
   "execution_count": 37,
   "metadata": {},
   "outputs": [
    {
     "name": "stderr",
     "output_type": "stream",
     "text": [
      "c:\\ProgramData\\anaconda3\\lib\\site-packages\\plotly\\express\\_core.py:1979: FutureWarning:\n",
      "\n",
      "When grouping with a length-1 list-like, you will need to pass a length-1 tuple to get_group in a future version of pandas. Pass `(name,)` instead of `name` to silence this warning.\n",
      "\n"
     ]
    },
    {
     "data": {
      "application/vnd.plotly.v1+json": {
       "config": {
        "plotlyServerURL": "https://plot.ly"
       },
       "data": [
        {
         "coloraxis": "coloraxis",
         "geo": "geo",
         "hovertemplate": "<b>%{hovertext}</b><br><br>Year=2008<br>Country Code=%{location}<br>Water Leakage=%{z}<extra></extra>",
         "hovertext": [
          "Africa Eastern and Southern",
          "Afghanistan",
          "Africa Western and Central",
          "Angola",
          "Albania",
          "Arab World",
          "United Arab Emirates",
          "Argentina",
          "Armenia",
          "Australia",
          "Austria",
          "Azerbaijan",
          "Burundi",
          "Belgium",
          "Benin",
          "Burkina Faso",
          "Bangladesh",
          "Bulgaria",
          "Bahrain",
          "Bahamas",
          "Bosnia and Herzegovina",
          "Belarus",
          "Belize",
          "Bolivia",
          "Brazil",
          "Barbados",
          "Brunei Darussalam",
          "Bhutan",
          "Botswana",
          "Central African Republic",
          "Canada",
          "Central Europe and the Baltics",
          "Switzerland",
          "Channel Islands",
          "Chile",
          "China",
          "Cote d'Ivoire",
          "Cameroon",
          "Congo, Dem. Rep.",
          "Congo, Rep.",
          "Colombia",
          "Comoros",
          "Cabo Verde",
          "Costa Rica",
          "Caribbean small states",
          "Cuba",
          "Cyprus",
          "Czech Republic",
          "Germany",
          "Djibouti",
          "Denmark",
          "Dominican Republic",
          "Algeria",
          "East Asia and Pacific",
          "Early-demographic dividend",
          "East Asia & Pacific (excluding high income)",
          "Europe and Central Asia",
          "Europe & Central Asia (excluding high income)",
          "Ecuador",
          "Egypt",
          "Euro area",
          "Eritrea",
          "Spain",
          "Estonia",
          "Ethiopia",
          "European Union",
          "Fragile and conflict affected situations",
          "Finland",
          "Fiji",
          "France",
          "Gabon",
          "United Kingdom",
          "Georgia",
          "Ghana",
          "Guinea",
          "Gambia, The",
          "Guinea-Bissau",
          "Equatorial Guinea",
          "Greece",
          "Guatemala",
          "Guam",
          "Guyana",
          "High income",
          "Hong Kong SAR, China",
          "Honduras",
          "Heavily indebted poor countries (HIPC)",
          "Croatia",
          "Haiti",
          "Hungary",
          "IBRD only",
          "IDA & IBRD total",
          "IDA only",
          "Indonesia",
          "Indonesia",
          "East Asia & Pacific (IDA & IBRD countries)",
          "India",
          "Ireland",
          "Iran, Islamic Rep.",
          "Iraq",
          "Iceland",
          "Israel",
          "Italy",
          "Jamaica",
          "Jordan",
          "Japan",
          "Kazakhstan",
          "Kenya",
          "Kyrgyz Republic",
          "Cambodia",
          "Korea, Rep.",
          "Kuwait",
          "Latin America & Caribbean",
          "Lao PDR",
          "Lebanon",
          "Liberia",
          "Libya",
          "St. Lucia",
          "Latin America & the Caribbean (excluding high income)",
          "Least developed countries: UN classification",
          "Low income",
          "Sri Lanka",
          "Lower middle income",
          "Low & middle income",
          "Lesotho",
          "Late-demographic dividend",
          "Lithuania",
          "Luxembourg",
          "Latvia",
          "Macao SAR, China",
          "Morocco",
          "Moldova",
          "Madagascar",
          "Maldives",
          "Middle East & North Africa",
          "Mexico",
          "Middle income",
          "North Macedonia",
          "Mali",
          "Malta",
          "Myanmar",
          "Middle East & North Africa (excluding high income)",
          "Montenegro",
          "Mongolia",
          "Mozambique",
          "Mauritania",
          "Mauritius",
          "Malawi",
          "Malaysia",
          "North America",
          "Namibia",
          "New Caledonia",
          "Niger",
          "Nigeria",
          "Nicaragua",
          "Netherlands",
          "Norway",
          "Nepal",
          "New Zealand",
          "OECD members",
          "Oman",
          "Other small states",
          "Pakistan",
          "Panama",
          "Peru",
          "Philippines",
          "Papua New Guinea",
          "Poland",
          "Pre-demographic dividend",
          "Puerto Rico",
          "Korea, Dem. People’s Rep.",
          "Portugal",
          "Paraguay",
          "West Bank and Gaza",
          "Pacific island small states",
          "Post-demographic dividend",
          "French Polynesia",
          "Qatar",
          "Romania",
          "Russian Federation",
          "Rwanda",
          "South Asia",
          "Saudi Arabia",
          "Sudan",
          "Senegal",
          "Singapore",
          "Solomon Islands",
          "Sierra Leone",
          "El Salvador",
          "Somalia",
          "Serbia",
          "Sub-Saharan Africa",
          "South Sudan",
          "Sub-Saharan Africa (IDA & IBRD countries)",
          "Small states",
          "Sao Tome and Principe",
          "Suriname",
          "Slovak Republic",
          "Slovenia",
          "Sweden",
          "Eswatini",
          "Syrian Arab Republic",
          "Chad",
          "East Asia & Pacific (IDA & IBRD countries)",
          "Europe & Central Asia (IDA & IBRD countries)",
          "Togo",
          "Thailand",
          "Tajikistan",
          "Turkmenistan",
          "Latin America & the Caribbean (IDA & IBRD countries)",
          "Timor-Leste",
          "Middle East & North Africa (IDA & IBRD countries)",
          "Tonga",
          "South Asia (IDA & IBRD)",
          "Sub-Saharan Africa (IDA & IBRD)",
          "Trinidad and Tobago",
          "Tunisia",
          "Turkey",
          "Tanzania",
          "Uganda",
          "Ukraine",
          "Upper middle income",
          "Uruguay",
          "United States",
          "Uzbekistan",
          "St. Vincent and the Grenadines",
          "Venezuela, RB",
          "Virgin Islands (U.S.)",
          "Vietnam",
          "Vanuatu",
          "World",
          "Samoa",
          "Yemen, Rep.",
          "South Africa",
          "Zambia",
          "Zimbabwe"
         ],
         "locations": [
          "AFE",
          "AFG",
          "AFW",
          "AGO",
          "ALB",
          "ARB",
          "ARE",
          "ARG",
          "ARM",
          "AUS",
          "AUT",
          "AZE",
          "BDI",
          "BEL",
          "BEN",
          "BFA",
          "BGD",
          "BGR",
          "BHR",
          "BHS",
          "BIH",
          "BLR",
          "BLZ",
          "BOL",
          "BRA",
          "BRB",
          "BRN",
          "BTN",
          "BWA",
          "CAF",
          "CAN",
          "CEB",
          "CHE",
          "CHI",
          "CHL",
          "CHN",
          "CIV",
          "CMR",
          "COD",
          "COG",
          "COL",
          "COM",
          "CPV",
          "CRI",
          "CSS",
          "CUB",
          "CYP",
          "CZE",
          "DEU",
          "DJI",
          "DNK",
          "DOM",
          "DZA",
          "EAP",
          "EAR",
          "EAS",
          "ECA",
          "ECS",
          "ECU",
          "EGY",
          "EMU",
          "ERI",
          "ESP",
          "EST",
          "ETH",
          "EUU",
          "FCS",
          "FIN",
          "FJI",
          "FRA",
          "GAB",
          "GBR",
          "GEO",
          "GHA",
          "GIN",
          "GMB",
          "GNB",
          "GNQ",
          "GRC",
          "GTM",
          "GUM",
          "GUY",
          "HIC",
          "HKG",
          "HND",
          "HPC",
          "HRV",
          "HTI",
          "HUN",
          "IBD",
          "IBT",
          "IDA",
          "IDB",
          "IDN",
          "IDX",
          "IND",
          "IRL",
          "IRN",
          "IRQ",
          "ISL",
          "ISR",
          "ITA",
          "JAM",
          "JOR",
          "JPN",
          "KAZ",
          "KEN",
          "KGZ",
          "KHM",
          "KOR",
          "KWT",
          "LAC",
          "LAO",
          "LBN",
          "LBR",
          "LBY",
          "LCA",
          "LCN",
          "LDC",
          "LIC",
          "LKA",
          "LMC",
          "LMY",
          "LSO",
          "LTE",
          "LTU",
          "LUX",
          "LVA",
          "MAC",
          "MAR",
          "MDA",
          "MDG",
          "MDV",
          "MEA",
          "MEX",
          "MIC",
          "MKD",
          "MLI",
          "MLT",
          "MMR",
          "MNA",
          "MNE",
          "MNG",
          "MOZ",
          "MRT",
          "MUS",
          "MWI",
          "MYS",
          "NAC",
          "NAM",
          "NCL",
          "NER",
          "NGA",
          "NIC",
          "NLD",
          "NOR",
          "NPL",
          "NZL",
          "OED",
          "OMN",
          "OSS",
          "PAK",
          "PAN",
          "PER",
          "PHL",
          "PNG",
          "POL",
          "PRE",
          "PRI",
          "PRK",
          "PRT",
          "PRY",
          "PSE",
          "PSS",
          "PST",
          "PYF",
          "QAT",
          "ROU",
          "RUS",
          "RWA",
          "SAS",
          "SAU",
          "SDN",
          "SEN",
          "SGP",
          "SLB",
          "SLE",
          "SLV",
          "SOM",
          "SRB",
          "SSA",
          "SSD",
          "SSF",
          "SST",
          "STP",
          "SUR",
          "SVK",
          "SVN",
          "SWE",
          "SWZ",
          "SYR",
          "TCD",
          "TEA",
          "TEC",
          "TGO",
          "THA",
          "TJK",
          "TKM",
          "TLA",
          "TLS",
          "TMN",
          "TON",
          "TSA",
          "TSS",
          "TTO",
          "TUN",
          "TUR",
          "TZA",
          "UGA",
          "UKR",
          "UMC",
          "URY",
          "USA",
          "UZB",
          "VCT",
          "VEN",
          "VIR",
          "VNM",
          "VUT",
          "WLD",
          "WSM",
          "YEM",
          "ZAF",
          "ZMB",
          "ZWE"
         ],
         "name": "",
         "type": "choropleth",
         "z": [
          12.391843429179,
          10.852,
          8.5287988364513,
          8.641,
          26.553,
          23.8061252245583,
          6.071,
          18.932,
          12.683,
          8.806,
          8.488,
          13.613,
          2.144,
          17.975,
          1.766,
          5.547,
          8.953,
          12.766,
          4.552,
          17.155,
          47.581,
          12.932,
          16.577,
          5.578,
          17.432,
          18.877,
          19.285,
          11.612,
          31.806,
          9.686,
          11.616,
          16.723763523484,
          7.014,
          12.573,
          23.738,
          9.795,
          9.006,
          5.135,
          6.294,
          39.766,
          21.58,
          13.479,
          22.265,
          11.043,
          17.0739429168728,
          3.36,
          8.438,
          9.86,
          10.553,
          65.09,
          9.456,
          10.576,
          24.272,
          10.3034034989196,
          15.2870711583321,
          10.1710278299439,
          15.2196708710281,
          15.7454896607351,
          9.152,
          25.437,
          16.615970889561,
          10.054,
          24.455,
          12.022,
          3.523,
          16.6933811633746,
          11.0851615474516,
          16.347,
          11.602,
          18.248,
          34.848,
          14.918,
          36.86,
          9.912,
          6.08,
          12.791,
          4.384,
          14.746,
          21.81,
          5.325,
          20.344,
          22.155,
          14.0674036220868,
          8.538,
          5.545,
          8.83908572120957,
          23.591,
          38.062,
          19.482,
          14.8323178134827,
          13.2074442471857,
          8.44198801567736,
          5.75327411942573,
          19.701,
          9.80974834523307,
          17.143,
          13.471,
          23.025,
          16.986,
          7.885,
          12.475,
          21.202,
          17.108,
          29.686,
          7.303,
          7.392,
          7.149,
          5.38,
          1.332,
          8.653,
          7.71,
          13.8971772368597,
          2.133,
          18.414,
          3.219,
          47.921,
          25.391,
          14.1788905027654,
          9.16235095597612,
          9.61835913991836,
          18.791,
          13.7545739698884,
          13.1150681007624,
          23.935,
          11.563699555686,
          13.366,
          17.827,
          13.699,
          5.889,
          18.233,
          11.246,
          3.528,
          22.57,
          23.0308182863708,
          7.6,
          13.4642732535637,
          56.757,
          2.255,
          11.673,
          1.585,
          23.5601488393198,
          31.909,
          9.722,
          6.598,
          15.191,
          19.194,
          6.832,
          10.611,
          12.6411579084247,
          44.126,
          35.687,
          3.124,
          9.619,
          9.91,
          8.577,
          7.484,
          19.693,
          11.465,
          13.5785379959747,
          9.632,
          23.1934102433682,
          0.978,
          13.277,
          7.423,
          10.154,
          4.029,
          17.235,
          9.48674514605902,
          24.62,
          6.639,
          16.653,
          9.619,
          37.283,
          8.342702113818,
          13.1606694337366,
          34.156,
          0.992,
          18.837,
          14.1,
          16.496,
          14.3452149951467,
          29.419,
          27.039,
          13.98,
          9.101,
          3.625,
          6.772,
          10.827,
          33.005,
          35.223,
          10.8720003406138,
          18.563,
          10.8720003406138,
          21.1991613023177,
          22.832,
          20.032,
          19.096,
          10.462,
          20.199,
          56.078,
          22.288,
          1.57,
          10.3451105392785,
          15.5784171623629,
          5.716,
          4.915,
          25.328,
          9.6,
          14.289486347379,
          9.174,
          23.4066154941231,
          3.481,
          14.3452149951467,
          10.8720003406138,
          10.404,
          28.435,
          18.075,
          5.334,
          4.83,
          12.979,
          13.1310842895817,
          22.371,
          12.748,
          10.123,
          36.624,
          12.365,
          20.919,
          5.317,
          4.076,
          13.2322629970691,
          14.36,
          21.145,
          36.536,
          16.648,
          8.733
         ]
        }
       ],
       "frames": [
        {
         "data": [
          {
           "coloraxis": "coloraxis",
           "geo": "geo",
           "hovertemplate": "<b>%{hovertext}</b><br><br>Year=2008<br>Country Code=%{location}<br>Water Leakage=%{z}<extra></extra>",
           "hovertext": [
            "Africa Eastern and Southern",
            "Afghanistan",
            "Africa Western and Central",
            "Angola",
            "Albania",
            "Arab World",
            "United Arab Emirates",
            "Argentina",
            "Armenia",
            "Australia",
            "Austria",
            "Azerbaijan",
            "Burundi",
            "Belgium",
            "Benin",
            "Burkina Faso",
            "Bangladesh",
            "Bulgaria",
            "Bahrain",
            "Bahamas",
            "Bosnia and Herzegovina",
            "Belarus",
            "Belize",
            "Bolivia",
            "Brazil",
            "Barbados",
            "Brunei Darussalam",
            "Bhutan",
            "Botswana",
            "Central African Republic",
            "Canada",
            "Central Europe and the Baltics",
            "Switzerland",
            "Channel Islands",
            "Chile",
            "China",
            "Cote d'Ivoire",
            "Cameroon",
            "Congo, Dem. Rep.",
            "Congo, Rep.",
            "Colombia",
            "Comoros",
            "Cabo Verde",
            "Costa Rica",
            "Caribbean small states",
            "Cuba",
            "Cyprus",
            "Czech Republic",
            "Germany",
            "Djibouti",
            "Denmark",
            "Dominican Republic",
            "Algeria",
            "East Asia and Pacific",
            "Early-demographic dividend",
            "East Asia & Pacific (excluding high income)",
            "Europe and Central Asia",
            "Europe & Central Asia (excluding high income)",
            "Ecuador",
            "Egypt",
            "Euro area",
            "Eritrea",
            "Spain",
            "Estonia",
            "Ethiopia",
            "European Union",
            "Fragile and conflict affected situations",
            "Finland",
            "Fiji",
            "France",
            "Gabon",
            "United Kingdom",
            "Georgia",
            "Ghana",
            "Guinea",
            "Gambia, The",
            "Guinea-Bissau",
            "Equatorial Guinea",
            "Greece",
            "Guatemala",
            "Guam",
            "Guyana",
            "High income",
            "Hong Kong SAR, China",
            "Honduras",
            "Heavily indebted poor countries (HIPC)",
            "Croatia",
            "Haiti",
            "Hungary",
            "IBRD only",
            "IDA & IBRD total",
            "IDA only",
            "Indonesia",
            "Indonesia",
            "East Asia & Pacific (IDA & IBRD countries)",
            "India",
            "Ireland",
            "Iran, Islamic Rep.",
            "Iraq",
            "Iceland",
            "Israel",
            "Italy",
            "Jamaica",
            "Jordan",
            "Japan",
            "Kazakhstan",
            "Kenya",
            "Kyrgyz Republic",
            "Cambodia",
            "Korea, Rep.",
            "Kuwait",
            "Latin America & Caribbean",
            "Lao PDR",
            "Lebanon",
            "Liberia",
            "Libya",
            "St. Lucia",
            "Latin America & the Caribbean (excluding high income)",
            "Least developed countries: UN classification",
            "Low income",
            "Sri Lanka",
            "Lower middle income",
            "Low & middle income",
            "Lesotho",
            "Late-demographic dividend",
            "Lithuania",
            "Luxembourg",
            "Latvia",
            "Macao SAR, China",
            "Morocco",
            "Moldova",
            "Madagascar",
            "Maldives",
            "Middle East & North Africa",
            "Mexico",
            "Middle income",
            "North Macedonia",
            "Mali",
            "Malta",
            "Myanmar",
            "Middle East & North Africa (excluding high income)",
            "Montenegro",
            "Mongolia",
            "Mozambique",
            "Mauritania",
            "Mauritius",
            "Malawi",
            "Malaysia",
            "North America",
            "Namibia",
            "New Caledonia",
            "Niger",
            "Nigeria",
            "Nicaragua",
            "Netherlands",
            "Norway",
            "Nepal",
            "New Zealand",
            "OECD members",
            "Oman",
            "Other small states",
            "Pakistan",
            "Panama",
            "Peru",
            "Philippines",
            "Papua New Guinea",
            "Poland",
            "Pre-demographic dividend",
            "Puerto Rico",
            "Korea, Dem. People’s Rep.",
            "Portugal",
            "Paraguay",
            "West Bank and Gaza",
            "Pacific island small states",
            "Post-demographic dividend",
            "French Polynesia",
            "Qatar",
            "Romania",
            "Russian Federation",
            "Rwanda",
            "South Asia",
            "Saudi Arabia",
            "Sudan",
            "Senegal",
            "Singapore",
            "Solomon Islands",
            "Sierra Leone",
            "El Salvador",
            "Somalia",
            "Serbia",
            "Sub-Saharan Africa",
            "South Sudan",
            "Sub-Saharan Africa (IDA & IBRD countries)",
            "Small states",
            "Sao Tome and Principe",
            "Suriname",
            "Slovak Republic",
            "Slovenia",
            "Sweden",
            "Eswatini",
            "Syrian Arab Republic",
            "Chad",
            "East Asia & Pacific (IDA & IBRD countries)",
            "Europe & Central Asia (IDA & IBRD countries)",
            "Togo",
            "Thailand",
            "Tajikistan",
            "Turkmenistan",
            "Latin America & the Caribbean (IDA & IBRD countries)",
            "Timor-Leste",
            "Middle East & North Africa (IDA & IBRD countries)",
            "Tonga",
            "South Asia (IDA & IBRD)",
            "Sub-Saharan Africa (IDA & IBRD)",
            "Trinidad and Tobago",
            "Tunisia",
            "Turkey",
            "Tanzania",
            "Uganda",
            "Ukraine",
            "Upper middle income",
            "Uruguay",
            "United States",
            "Uzbekistan",
            "St. Vincent and the Grenadines",
            "Venezuela, RB",
            "Virgin Islands (U.S.)",
            "Vietnam",
            "Vanuatu",
            "World",
            "Samoa",
            "Yemen, Rep.",
            "South Africa",
            "Zambia",
            "Zimbabwe"
           ],
           "locations": [
            "AFE",
            "AFG",
            "AFW",
            "AGO",
            "ALB",
            "ARB",
            "ARE",
            "ARG",
            "ARM",
            "AUS",
            "AUT",
            "AZE",
            "BDI",
            "BEL",
            "BEN",
            "BFA",
            "BGD",
            "BGR",
            "BHR",
            "BHS",
            "BIH",
            "BLR",
            "BLZ",
            "BOL",
            "BRA",
            "BRB",
            "BRN",
            "BTN",
            "BWA",
            "CAF",
            "CAN",
            "CEB",
            "CHE",
            "CHI",
            "CHL",
            "CHN",
            "CIV",
            "CMR",
            "COD",
            "COG",
            "COL",
            "COM",
            "CPV",
            "CRI",
            "CSS",
            "CUB",
            "CYP",
            "CZE",
            "DEU",
            "DJI",
            "DNK",
            "DOM",
            "DZA",
            "EAP",
            "EAR",
            "EAS",
            "ECA",
            "ECS",
            "ECU",
            "EGY",
            "EMU",
            "ERI",
            "ESP",
            "EST",
            "ETH",
            "EUU",
            "FCS",
            "FIN",
            "FJI",
            "FRA",
            "GAB",
            "GBR",
            "GEO",
            "GHA",
            "GIN",
            "GMB",
            "GNB",
            "GNQ",
            "GRC",
            "GTM",
            "GUM",
            "GUY",
            "HIC",
            "HKG",
            "HND",
            "HPC",
            "HRV",
            "HTI",
            "HUN",
            "IBD",
            "IBT",
            "IDA",
            "IDB",
            "IDN",
            "IDX",
            "IND",
            "IRL",
            "IRN",
            "IRQ",
            "ISL",
            "ISR",
            "ITA",
            "JAM",
            "JOR",
            "JPN",
            "KAZ",
            "KEN",
            "KGZ",
            "KHM",
            "KOR",
            "KWT",
            "LAC",
            "LAO",
            "LBN",
            "LBR",
            "LBY",
            "LCA",
            "LCN",
            "LDC",
            "LIC",
            "LKA",
            "LMC",
            "LMY",
            "LSO",
            "LTE",
            "LTU",
            "LUX",
            "LVA",
            "MAC",
            "MAR",
            "MDA",
            "MDG",
            "MDV",
            "MEA",
            "MEX",
            "MIC",
            "MKD",
            "MLI",
            "MLT",
            "MMR",
            "MNA",
            "MNE",
            "MNG",
            "MOZ",
            "MRT",
            "MUS",
            "MWI",
            "MYS",
            "NAC",
            "NAM",
            "NCL",
            "NER",
            "NGA",
            "NIC",
            "NLD",
            "NOR",
            "NPL",
            "NZL",
            "OED",
            "OMN",
            "OSS",
            "PAK",
            "PAN",
            "PER",
            "PHL",
            "PNG",
            "POL",
            "PRE",
            "PRI",
            "PRK",
            "PRT",
            "PRY",
            "PSE",
            "PSS",
            "PST",
            "PYF",
            "QAT",
            "ROU",
            "RUS",
            "RWA",
            "SAS",
            "SAU",
            "SDN",
            "SEN",
            "SGP",
            "SLB",
            "SLE",
            "SLV",
            "SOM",
            "SRB",
            "SSA",
            "SSD",
            "SSF",
            "SST",
            "STP",
            "SUR",
            "SVK",
            "SVN",
            "SWE",
            "SWZ",
            "SYR",
            "TCD",
            "TEA",
            "TEC",
            "TGO",
            "THA",
            "TJK",
            "TKM",
            "TLA",
            "TLS",
            "TMN",
            "TON",
            "TSA",
            "TSS",
            "TTO",
            "TUN",
            "TUR",
            "TZA",
            "UGA",
            "UKR",
            "UMC",
            "URY",
            "USA",
            "UZB",
            "VCT",
            "VEN",
            "VIR",
            "VNM",
            "VUT",
            "WLD",
            "WSM",
            "YEM",
            "ZAF",
            "ZMB",
            "ZWE"
           ],
           "name": "",
           "type": "choropleth",
           "z": [
            12.391843429179,
            10.852,
            8.5287988364513,
            8.641,
            26.553,
            23.8061252245583,
            6.071,
            18.932,
            12.683,
            8.806,
            8.488,
            13.613,
            2.144,
            17.975,
            1.766,
            5.547,
            8.953,
            12.766,
            4.552,
            17.155,
            47.581,
            12.932,
            16.577,
            5.578,
            17.432,
            18.877,
            19.285,
            11.612,
            31.806,
            9.686,
            11.616,
            16.723763523484,
            7.014,
            12.573,
            23.738,
            9.795,
            9.006,
            5.135,
            6.294,
            39.766,
            21.58,
            13.479,
            22.265,
            11.043,
            17.0739429168728,
            3.36,
            8.438,
            9.86,
            10.553,
            65.09,
            9.456,
            10.576,
            24.272,
            10.3034034989196,
            15.2870711583321,
            10.1710278299439,
            15.2196708710281,
            15.7454896607351,
            9.152,
            25.437,
            16.615970889561,
            10.054,
            24.455,
            12.022,
            3.523,
            16.6933811633746,
            11.0851615474516,
            16.347,
            11.602,
            18.248,
            34.848,
            14.918,
            36.86,
            9.912,
            6.08,
            12.791,
            4.384,
            14.746,
            21.81,
            5.325,
            20.344,
            22.155,
            14.0674036220868,
            8.538,
            5.545,
            8.83908572120957,
            23.591,
            38.062,
            19.482,
            14.8323178134827,
            13.2074442471857,
            8.44198801567736,
            5.75327411942573,
            19.701,
            9.80974834523307,
            17.143,
            13.471,
            23.025,
            16.986,
            7.885,
            12.475,
            21.202,
            17.108,
            29.686,
            7.303,
            7.392,
            7.149,
            5.38,
            1.332,
            8.653,
            7.71,
            13.8971772368597,
            2.133,
            18.414,
            3.219,
            47.921,
            25.391,
            14.1788905027654,
            9.16235095597612,
            9.61835913991836,
            18.791,
            13.7545739698884,
            13.1150681007624,
            23.935,
            11.563699555686,
            13.366,
            17.827,
            13.699,
            5.889,
            18.233,
            11.246,
            3.528,
            22.57,
            23.0308182863708,
            7.6,
            13.4642732535637,
            56.757,
            2.255,
            11.673,
            1.585,
            23.5601488393198,
            31.909,
            9.722,
            6.598,
            15.191,
            19.194,
            6.832,
            10.611,
            12.6411579084247,
            44.126,
            35.687,
            3.124,
            9.619,
            9.91,
            8.577,
            7.484,
            19.693,
            11.465,
            13.5785379959747,
            9.632,
            23.1934102433682,
            0.978,
            13.277,
            7.423,
            10.154,
            4.029,
            17.235,
            9.48674514605902,
            24.62,
            6.639,
            16.653,
            9.619,
            37.283,
            8.342702113818,
            13.1606694337366,
            34.156,
            0.992,
            18.837,
            14.1,
            16.496,
            14.3452149951467,
            29.419,
            27.039,
            13.98,
            9.101,
            3.625,
            6.772,
            10.827,
            33.005,
            35.223,
            10.8720003406138,
            18.563,
            10.8720003406138,
            21.1991613023177,
            22.832,
            20.032,
            19.096,
            10.462,
            20.199,
            56.078,
            22.288,
            1.57,
            10.3451105392785,
            15.5784171623629,
            5.716,
            4.915,
            25.328,
            9.6,
            14.289486347379,
            9.174,
            23.4066154941231,
            3.481,
            14.3452149951467,
            10.8720003406138,
            10.404,
            28.435,
            18.075,
            5.334,
            4.83,
            12.979,
            13.1310842895817,
            22.371,
            12.748,
            10.123,
            36.624,
            12.365,
            20.919,
            5.317,
            4.076,
            13.2322629970691,
            14.36,
            21.145,
            36.536,
            16.648,
            8.733
           ]
          }
         ],
         "name": "2008"
        },
        {
         "data": [
          {
           "coloraxis": "coloraxis",
           "geo": "geo",
           "hovertemplate": "<b>%{hovertext}</b><br><br>Year=2009<br>Country Code=%{location}<br>Water Leakage=%{z}<extra></extra>",
           "hovertext": [
            "Africa Eastern and Southern",
            "Afghanistan",
            "Africa Western and Central",
            "Angola",
            "Albania",
            "Arab World",
            "United Arab Emirates",
            "Argentina",
            "Armenia",
            "Australia",
            "Austria",
            "Azerbaijan",
            "Burundi",
            "Belgium",
            "Benin",
            "Burkina Faso",
            "Bangladesh",
            "Bulgaria",
            "Bahrain",
            "Bahamas",
            "Bosnia and Herzegovina",
            "Belarus",
            "Belize",
            "Bolivia",
            "Brazil",
            "Barbados",
            "Brunei Darussalam",
            "Bhutan",
            "Botswana",
            "Central African Republic",
            "Canada",
            "Central Europe and the Baltics",
            "Switzerland",
            "Channel Islands",
            "Chile",
            "China",
            "Cote d'Ivoire",
            "Cameroon",
            "Congo, Dem. Rep.",
            "Congo, Rep.",
            "Colombia",
            "Comoros",
            "Cabo Verde",
            "Costa Rica",
            "Caribbean small states",
            "Cuba",
            "Cyprus",
            "Czech Republic",
            "Germany",
            "Djibouti",
            "Denmark",
            "Dominican Republic",
            "Algeria",
            "East Asia and Pacific",
            "Early-demographic dividend",
            "East Asia & Pacific (excluding high income)",
            "Europe and Central Asia",
            "Europe & Central Asia (excluding high income)",
            "Ecuador",
            "Egypt",
            "Euro area",
            "Eritrea",
            "Spain",
            "Estonia",
            "Ethiopia",
            "European Union",
            "Fragile and conflict affected situations",
            "Finland",
            "Fiji",
            "France",
            "Gabon",
            "United Kingdom",
            "Georgia",
            "Ghana",
            "Guinea",
            "Gambia, The",
            "Guinea-Bissau",
            "Equatorial Guinea",
            "Greece",
            "Guatemala",
            "Guam",
            "Guyana",
            "High income",
            "Hong Kong SAR, China",
            "Honduras",
            "Heavily indebted poor countries (HIPC)",
            "Croatia",
            "Haiti",
            "Hungary",
            "IBRD only",
            "IDA & IBRD total",
            "IDA only",
            "Indonesia",
            "Indonesia",
            "East Asia & Pacific (IDA & IBRD countries)",
            "India",
            "Ireland",
            "Iran, Islamic Rep.",
            "Iraq",
            "Iceland",
            "Israel",
            "Italy",
            "Jamaica",
            "Jordan",
            "Japan",
            "Kazakhstan",
            "Kenya",
            "Kyrgyz Republic",
            "Cambodia",
            "Korea, Rep.",
            "Kuwait",
            "Latin America & Caribbean",
            "Lao PDR",
            "Lebanon",
            "Liberia",
            "Libya",
            "St. Lucia",
            "Latin America & the Caribbean (excluding high income)",
            "Least developed countries: UN classification",
            "Low income",
            "Sri Lanka",
            "Lower middle income",
            "Low & middle income",
            "Lesotho",
            "Late-demographic dividend",
            "Lithuania",
            "Luxembourg",
            "Latvia",
            "Macao SAR, China",
            "Morocco",
            "Moldova",
            "Madagascar",
            "Maldives",
            "Middle East & North Africa",
            "Mexico",
            "Middle income",
            "North Macedonia",
            "Mali",
            "Malta",
            "Myanmar",
            "Middle East & North Africa (excluding high income)",
            "Montenegro",
            "Mongolia",
            "Mozambique",
            "Mauritania",
            "Mauritius",
            "Malawi",
            "Malaysia",
            "North America",
            "Namibia",
            "New Caledonia",
            "Niger",
            "Nigeria",
            "Nicaragua",
            "Netherlands",
            "Norway",
            "Nepal",
            "New Zealand",
            "OECD members",
            "Oman",
            "Other small states",
            "Pakistan",
            "Panama",
            "Peru",
            "Philippines",
            "Papua New Guinea",
            "Poland",
            "Pre-demographic dividend",
            "Puerto Rico",
            "Korea, Dem. People’s Rep.",
            "Portugal",
            "Paraguay",
            "West Bank and Gaza",
            "Pacific island small states",
            "Post-demographic dividend",
            "French Polynesia",
            "Qatar",
            "Romania",
            "Russian Federation",
            "Rwanda",
            "South Asia",
            "Saudi Arabia",
            "Sudan",
            "Senegal",
            "Singapore",
            "Solomon Islands",
            "Sierra Leone",
            "El Salvador",
            "Somalia",
            "Serbia",
            "Sub-Saharan Africa",
            "South Sudan",
            "Sub-Saharan Africa (IDA & IBRD countries)",
            "Small states",
            "Sao Tome and Principe",
            "Suriname",
            "Slovak Republic",
            "Slovenia",
            "Sweden",
            "Eswatini",
            "Syrian Arab Republic",
            "Chad",
            "East Asia & Pacific (IDA & IBRD countries)",
            "Europe & Central Asia (IDA & IBRD countries)",
            "Togo",
            "Thailand",
            "Tajikistan",
            "Turkmenistan",
            "Latin America & the Caribbean (IDA & IBRD countries)",
            "Timor-Leste",
            "Middle East & North Africa (IDA & IBRD countries)",
            "Tonga",
            "South Asia (IDA & IBRD)",
            "Sub-Saharan Africa (IDA & IBRD)",
            "Trinidad and Tobago",
            "Tunisia",
            "Turkey",
            "Tanzania",
            "Uganda",
            "Ukraine",
            "Upper middle income",
            "Uruguay",
            "United States",
            "Uzbekistan",
            "St. Vincent and the Grenadines",
            "Venezuela, RB",
            "Virgin Islands (U.S.)",
            "Vietnam",
            "Vanuatu",
            "World",
            "Samoa",
            "Yemen, Rep.",
            "South Africa",
            "Zambia",
            "Zimbabwe"
           ],
           "locations": [
            "AFE",
            "AFG",
            "AFW",
            "AGO",
            "ALB",
            "ARB",
            "ARE",
            "ARG",
            "ARM",
            "AUS",
            "AUT",
            "AZE",
            "BDI",
            "BEL",
            "BEN",
            "BFA",
            "BGD",
            "BGR",
            "BHR",
            "BHS",
            "BIH",
            "BLR",
            "BLZ",
            "BOL",
            "BRA",
            "BRB",
            "BRN",
            "BTN",
            "BWA",
            "CAF",
            "CAN",
            "CEB",
            "CHE",
            "CHI",
            "CHL",
            "CHN",
            "CIV",
            "CMR",
            "COD",
            "COG",
            "COL",
            "COM",
            "CPV",
            "CRI",
            "CSS",
            "CUB",
            "CYP",
            "CZE",
            "DEU",
            "DJI",
            "DNK",
            "DOM",
            "DZA",
            "EAP",
            "EAR",
            "EAS",
            "ECA",
            "ECS",
            "ECU",
            "EGY",
            "EMU",
            "ERI",
            "ESP",
            "EST",
            "ETH",
            "EUU",
            "FCS",
            "FIN",
            "FJI",
            "FRA",
            "GAB",
            "GBR",
            "GEO",
            "GHA",
            "GIN",
            "GMB",
            "GNB",
            "GNQ",
            "GRC",
            "GTM",
            "GUM",
            "GUY",
            "HIC",
            "HKG",
            "HND",
            "HPC",
            "HRV",
            "HTI",
            "HUN",
            "IBD",
            "IBT",
            "IDA",
            "IDB",
            "IDN",
            "IDX",
            "IND",
            "IRL",
            "IRN",
            "IRQ",
            "ISL",
            "ISR",
            "ITA",
            "JAM",
            "JOR",
            "JPN",
            "KAZ",
            "KEN",
            "KGZ",
            "KHM",
            "KOR",
            "KWT",
            "LAC",
            "LAO",
            "LBN",
            "LBR",
            "LBY",
            "LCA",
            "LCN",
            "LDC",
            "LIC",
            "LKA",
            "LMC",
            "LMY",
            "LSO",
            "LTE",
            "LTU",
            "LUX",
            "LVA",
            "MAC",
            "MAR",
            "MDA",
            "MDG",
            "MDV",
            "MEA",
            "MEX",
            "MIC",
            "MKD",
            "MLI",
            "MLT",
            "MMR",
            "MNA",
            "MNE",
            "MNG",
            "MOZ",
            "MRT",
            "MUS",
            "MWI",
            "MYS",
            "NAC",
            "NAM",
            "NCL",
            "NER",
            "NGA",
            "NIC",
            "NLD",
            "NOR",
            "NPL",
            "NZL",
            "OED",
            "OMN",
            "OSS",
            "PAK",
            "PAN",
            "PER",
            "PHL",
            "PNG",
            "POL",
            "PRE",
            "PRI",
            "PRK",
            "PRT",
            "PRY",
            "PSE",
            "PSS",
            "PST",
            "PYF",
            "QAT",
            "ROU",
            "RUS",
            "RWA",
            "SAS",
            "SAU",
            "SDN",
            "SEN",
            "SGP",
            "SLB",
            "SLE",
            "SLV",
            "SOM",
            "SRB",
            "SSA",
            "SSD",
            "SSF",
            "SST",
            "STP",
            "SUR",
            "SVK",
            "SVN",
            "SWE",
            "SWZ",
            "SYR",
            "TCD",
            "TEA",
            "TEC",
            "TGO",
            "THA",
            "TJK",
            "TKM",
            "TLA",
            "TLS",
            "TMN",
            "TON",
            "TSA",
            "TSS",
            "TTO",
            "TUN",
            "TUR",
            "TZA",
            "UGA",
            "UKR",
            "UMC",
            "URY",
            "USA",
            "UZB",
            "VCT",
            "VEN",
            "VIR",
            "VNM",
            "VUT",
            "WLD",
            "WSM",
            "YEM",
            "ZAF",
            "ZMB",
            "ZWE"
           ],
           "name": "",
           "type": "choropleth",
           "z": [
            12.5436468069337,
            10.794,
            8.588387584307,
            8.659,
            27.324,
            22.6092677083681,
            5.903,
            21.198,
            13.557,
            11.459,
            10.646,
            13.616,
            2.221,
            21.935,
            1.959,
            5.829,
            9.66,
            16.226,
            4.824,
            26.255,
            48.94,
            11.383,
            16.698,
            5.218,
            19.64,
            23.572,
            20.092,
            12.43,
            32.158,
            9.832,
            15.339,
            21.6071502161502,
            8.45,
            17.07,
            26.693,
            10.144,
            9.283,
            5.717,
            6.852,
            39.601,
            22.474,
            14.411,
            22.704,
            18.082,
            18.7172122158305,
            3.497,
            13.054,
            16.656,
            11.212,
            66.627,
            13.431,
            12.515,
            21.617,
            10.4863493305159,
            15.9213070172091,
            10.490315451725,
            18.4670435815383,
            19.5959214414056,
            9.852,
            25.127,
            21.4920623473122,
            10.18,
            37.743,
            27.42,
            3.512,
            21.2911272887718,
            10.9433484021991,
            21.397,
            12.433,
            22.886,
            35.46,
            18.978,
            43.299,
            10.594,
            6.244,
            12.839,
            4.359,
            15.073,
            25.63,
            5.384,
            21.537,
            22.447,
            17.8005739072086,
            12.522,
            6.01,
            8.86688334902077,
            25.154,
            36.71,
            26.355,
            15.734879922777,
            13.8651385188519,
            8.50229574935807,
            5.86867624939648,
            19.182,
            9.84384890360145,
            18.098,
            24.526,
            24.657,
            16.835,
            15.469,
            14.71,
            25.378,
            18.479,
            30.469,
            9.204,
            6.676,
            7.122,
            5.399,
            0.805,
            9.215,
            7.293,
            15.6329665041915,
            1.881,
            15.03,
            3.196,
            48.418,
            31.327,
            15.8599984630932,
            9.26725803962195,
            9.19210748637521,
            21.207,
            14.3163449768455,
            13.7499574775097,
            24.244,
            12.4695205904432,
            29.619,
            17.142,
            33.552,
            7.526,
            16.649,
            15.476,
            4.185,
            24.677,
            22.6447180144039,
            10.046,
            14.218297777488,
            55.15,
            2.247,
            14.558,
            1.596,
            23.1093082789837,
            35.682,
            10.071,
            6.696,
            15.175,
            21.42,
            6.816,
            11.527,
            17.3039973997585,
            44.459,
            34.479,
            2.213,
            9.616,
            12.853,
            10.206,
            9.175,
            19.664,
            16.828,
            17.3311847041615,
            9.56,
            24.4082016999176,
            1.088,
            13.545,
            7.106,
            10.475,
            3.761,
            20.57,
            9.49653834006338,
            32.483,
            6.728,
            20.306,
            11.758,
            33.987,
            8.79830549738111,
            17.1054741804295,
            34.783,
            1.124,
            21.008,
            18.527,
            16.614,
            15.1298581645154,
            29.974,
            23.41,
            13.59,
            12.784,
            3.698,
            7.212,
            13.881,
            33.088,
            41.479,
            10.9885311687229,
            18.669,
            10.9885311687229,
            22.4709335667842,
            22.365,
            19.603,
            27.391,
            13.622,
            25.027,
            54.787,
            16.429,
            1.57,
            10.5299387142105,
            18.7747790942303,
            4.848,
            5.757,
            25.746,
            8.322,
            15.955500577242,
            9.244,
            22.9835163117622,
            4.099,
            15.1298581645154,
            10.9885311687229,
            11.634,
            30.849,
            22.361,
            4.917,
            5.472,
            18.268,
            14.1038445893698,
            20.969,
            17.509,
            11.045,
            36.939,
            12.135,
            24.076,
            4.494,
            4.183,
            14.2534746920229,
            14.845,
            21.531,
            38.589,
            22.629,
            8.715
           ]
          }
         ],
         "name": "2009"
        },
        {
         "data": [
          {
           "coloraxis": "coloraxis",
           "geo": "geo",
           "hovertemplate": "<b>%{hovertext}</b><br><br>Year=2010<br>Country Code=%{location}<br>Water Leakage=%{z}<extra></extra>",
           "hovertext": [
            "Africa Eastern and Southern",
            "Afghanistan",
            "Africa Western and Central",
            "Angola",
            "Albania",
            "Arab World",
            "United Arab Emirates",
            "Argentina",
            "Armenia",
            "Australia",
            "Austria",
            "Azerbaijan",
            "Burundi",
            "Belgium",
            "Benin",
            "Burkina Faso",
            "Bangladesh",
            "Bulgaria",
            "Bahrain",
            "Bahamas",
            "Bosnia and Herzegovina",
            "Belarus",
            "Belize",
            "Bolivia",
            "Brazil",
            "Barbados",
            "Brunei Darussalam",
            "Bhutan",
            "Botswana",
            "Central African Republic",
            "Canada",
            "Central Europe and the Baltics",
            "Switzerland",
            "Channel Islands",
            "Chile",
            "China",
            "Cote d'Ivoire",
            "Cameroon",
            "Congo, Dem. Rep.",
            "Congo, Rep.",
            "Colombia",
            "Comoros",
            "Cabo Verde",
            "Costa Rica",
            "Caribbean small states",
            "Cuba",
            "Cyprus",
            "Czech Republic",
            "Germany",
            "Djibouti",
            "Denmark",
            "Dominican Republic",
            "Algeria",
            "East Asia and Pacific",
            "Early-demographic dividend",
            "East Asia & Pacific (excluding high income)",
            "Europe and Central Asia",
            "Europe & Central Asia (excluding high income)",
            "Ecuador",
            "Egypt",
            "Euro area",
            "Eritrea",
            "Spain",
            "Estonia",
            "Ethiopia",
            "European Union",
            "Fragile and conflict affected situations",
            "Finland",
            "Fiji",
            "France",
            "Gabon",
            "United Kingdom",
            "Georgia",
            "Ghana",
            "Guinea",
            "Gambia, The",
            "Guinea-Bissau",
            "Equatorial Guinea",
            "Greece",
            "Guatemala",
            "Guam",
            "Guyana",
            "High income",
            "Hong Kong SAR, China",
            "Honduras",
            "Heavily indebted poor countries (HIPC)",
            "Croatia",
            "Haiti",
            "Hungary",
            "IBRD only",
            "IDA & IBRD total",
            "IDA only",
            "Indonesia",
            "Indonesia",
            "East Asia & Pacific (IDA & IBRD countries)",
            "India",
            "Ireland",
            "Iran, Islamic Rep.",
            "Iraq",
            "Iceland",
            "Israel",
            "Italy",
            "Jamaica",
            "Jordan",
            "Japan",
            "Kazakhstan",
            "Kenya",
            "Kyrgyz Republic",
            "Cambodia",
            "Korea, Rep.",
            "Kuwait",
            "Latin America & Caribbean",
            "Lao PDR",
            "Lebanon",
            "Liberia",
            "Libya",
            "St. Lucia",
            "Latin America & the Caribbean (excluding high income)",
            "Least developed countries: UN classification",
            "Low income",
            "Sri Lanka",
            "Lower middle income",
            "Low & middle income",
            "Lesotho",
            "Late-demographic dividend",
            "Lithuania",
            "Luxembourg",
            "Latvia",
            "Macao SAR, China",
            "Morocco",
            "Moldova",
            "Madagascar",
            "Maldives",
            "Middle East & North Africa",
            "Mexico",
            "Middle income",
            "North Macedonia",
            "Mali",
            "Malta",
            "Myanmar",
            "Middle East & North Africa (excluding high income)",
            "Montenegro",
            "Mongolia",
            "Mozambique",
            "Mauritania",
            "Mauritius",
            "Malawi",
            "Malaysia",
            "North America",
            "Namibia",
            "New Caledonia",
            "Niger",
            "Nigeria",
            "Nicaragua",
            "Netherlands",
            "Norway",
            "Nepal",
            "New Zealand",
            "OECD members",
            "Oman",
            "Other small states",
            "Pakistan",
            "Panama",
            "Peru",
            "Philippines",
            "Papua New Guinea",
            "Poland",
            "Pre-demographic dividend",
            "Puerto Rico",
            "Korea, Dem. People’s Rep.",
            "Portugal",
            "Paraguay",
            "West Bank and Gaza",
            "Pacific island small states",
            "Post-demographic dividend",
            "French Polynesia",
            "Qatar",
            "Romania",
            "Russian Federation",
            "Rwanda",
            "South Asia",
            "Saudi Arabia",
            "Sudan",
            "Senegal",
            "Singapore",
            "Solomon Islands",
            "Sierra Leone",
            "El Salvador",
            "Somalia",
            "Serbia",
            "Sub-Saharan Africa",
            "South Sudan",
            "Sub-Saharan Africa (IDA & IBRD countries)",
            "Small states",
            "Sao Tome and Principe",
            "Suriname",
            "Slovak Republic",
            "Slovenia",
            "Sweden",
            "Eswatini",
            "Syrian Arab Republic",
            "Chad",
            "East Asia & Pacific (IDA & IBRD countries)",
            "Europe & Central Asia (IDA & IBRD countries)",
            "Togo",
            "Thailand",
            "Tajikistan",
            "Turkmenistan",
            "Latin America & the Caribbean (IDA & IBRD countries)",
            "Timor-Leste",
            "Middle East & North Africa (IDA & IBRD countries)",
            "Tonga",
            "South Asia (IDA & IBRD)",
            "Sub-Saharan Africa (IDA & IBRD)",
            "Trinidad and Tobago",
            "Tunisia",
            "Turkey",
            "Tanzania",
            "Uganda",
            "Ukraine",
            "Upper middle income",
            "Uruguay",
            "United States",
            "Uzbekistan",
            "St. Vincent and the Grenadines",
            "Venezuela, RB",
            "Virgin Islands (U.S.)",
            "Vietnam",
            "Vanuatu",
            "World",
            "Samoa",
            "Yemen, Rep.",
            "South Africa",
            "Zambia",
            "Zimbabwe"
           ],
           "locations": [
            "AFE",
            "AFG",
            "AFW",
            "AGO",
            "ALB",
            "ARB",
            "ARE",
            "ARG",
            "ARM",
            "AUS",
            "AUT",
            "AZE",
            "BDI",
            "BEL",
            "BEN",
            "BFA",
            "BGD",
            "BGR",
            "BHR",
            "BHS",
            "BIH",
            "BLR",
            "BLZ",
            "BOL",
            "BRA",
            "BRB",
            "BRN",
            "BTN",
            "BWA",
            "CAF",
            "CAN",
            "CEB",
            "CHE",
            "CHI",
            "CHL",
            "CHN",
            "CIV",
            "CMR",
            "COD",
            "COG",
            "COL",
            "COM",
            "CPV",
            "CRI",
            "CSS",
            "CUB",
            "CYP",
            "CZE",
            "DEU",
            "DJI",
            "DNK",
            "DOM",
            "DZA",
            "EAP",
            "EAR",
            "EAS",
            "ECA",
            "ECS",
            "ECU",
            "EGY",
            "EMU",
            "ERI",
            "ESP",
            "EST",
            "ETH",
            "EUU",
            "FCS",
            "FIN",
            "FJI",
            "FRA",
            "GAB",
            "GBR",
            "GEO",
            "GHA",
            "GIN",
            "GMB",
            "GNB",
            "GNQ",
            "GRC",
            "GTM",
            "GUM",
            "GUY",
            "HIC",
            "HKG",
            "HND",
            "HPC",
            "HRV",
            "HTI",
            "HUN",
            "IBD",
            "IBT",
            "IDA",
            "IDB",
            "IDN",
            "IDX",
            "IND",
            "IRL",
            "IRN",
            "IRQ",
            "ISL",
            "ISR",
            "ITA",
            "JAM",
            "JOR",
            "JPN",
            "KAZ",
            "KEN",
            "KGZ",
            "KHM",
            "KOR",
            "KWT",
            "LAC",
            "LAO",
            "LBN",
            "LBR",
            "LBY",
            "LCA",
            "LCN",
            "LDC",
            "LIC",
            "LKA",
            "LMC",
            "LMY",
            "LSO",
            "LTE",
            "LTU",
            "LUX",
            "LVA",
            "MAC",
            "MAR",
            "MDA",
            "MDG",
            "MDV",
            "MEA",
            "MEX",
            "MIC",
            "MKD",
            "MLI",
            "MLT",
            "MMR",
            "MNA",
            "MNE",
            "MNG",
            "MOZ",
            "MRT",
            "MUS",
            "MWI",
            "MYS",
            "NAC",
            "NAM",
            "NCL",
            "NER",
            "NGA",
            "NIC",
            "NLD",
            "NOR",
            "NPL",
            "NZL",
            "OED",
            "OMN",
            "OSS",
            "PAK",
            "PAN",
            "PER",
            "PHL",
            "PNG",
            "POL",
            "PRE",
            "PRI",
            "PRK",
            "PRT",
            "PRY",
            "PSE",
            "PSS",
            "PST",
            "PYF",
            "QAT",
            "ROU",
            "RUS",
            "RWA",
            "SAS",
            "SAU",
            "SDN",
            "SEN",
            "SGP",
            "SLB",
            "SLE",
            "SLV",
            "SOM",
            "SRB",
            "SSA",
            "SSD",
            "SSF",
            "SST",
            "STP",
            "SUR",
            "SVK",
            "SVN",
            "SWE",
            "SWZ",
            "SYR",
            "TCD",
            "TEA",
            "TEC",
            "TGO",
            "THA",
            "TJK",
            "TKM",
            "TLA",
            "TLS",
            "TMN",
            "TON",
            "TSA",
            "TSS",
            "TTO",
            "TUN",
            "TUR",
            "TZA",
            "UGA",
            "UKR",
            "UMC",
            "URY",
            "USA",
            "UZB",
            "VCT",
            "VEN",
            "VIR",
            "VNM",
            "VUT",
            "WLD",
            "WSM",
            "YEM",
            "ZAF",
            "ZMB",
            "ZWE"
           ],
           "name": "",
           "type": "choropleth",
           "z": [
            14.2770861258338,
            10.667,
            8.62652886084698,
            19.8,
            30.885,
            23.2031791587247,
            5.714,
            19.369,
            15.149,
            11.534,
            9.445,
            14.555,
            2.303,
            22.391,
            2.141,
            5.97,
            6.373,
            21.942,
            4.96,
            26.688,
            57.942,
            11.531,
            16.71,
            5.189,
            17.463,
            25.251,
            21.143,
            8.788,
            34.845,
            10.383,
            14.925,
            24.4724052628807,
            8.224,
            17.927,
            19.09,
            9.82,
            9.485,
            6.307,
            7.355,
            39.655,
            21.856,
            15.316,
            22.969,
            17.397,
            19.0322171513487,
            6.035,
            15.732,
            18.362,
            9.821,
            67.796,
            15.56,
            10.83,
            21.909,
            9.93019683042206,
            16.1333646991274,
            9.95449553841475,
            17.6147148746171,
            19.7494546882143,
            9.268,
            24.499,
            22.5241690947401,
            10.712,
            41.494,
            32.937,
            3.472,
            22.6484493578629,
            11.329935900018,
            21.265,
            12.896,
            22.468,
            35.915,
            19.732,
            40.942,
            11.083,
            6.22,
            12.912,
            4.326,
            15.973,
            32.846,
            5.309,
            19.048,
            22.795,
            18.2852166207888,
            12.145,
            7.534,
            9.36728573001572,
            32.298,
            35.824,
            26.355,
            15.8136033013375,
            13.8786848286882,
            8.46845133410249,
            6.03687067404268,
            17.751,
            9.70864344703601,
            18.959,
            28.164,
            28.568,
            16.6,
            15.867,
            14.23,
            27.919,
            20.382,
            29.361,
            9.437,
            5.212,
            7.061,
            5.541,
            0.968,
            8.527,
            8.992,
            14.4940432281246,
            1.599,
            15.951,
            3.166,
            48.775,
            35.486,
            14.7413520965447,
            9.34330491644276,
            9.70102360954096,
            18.722,
            14.7087774769376,
            13.7605681435875,
            24.15,
            11.8665603460223,
            35.768,
            14.177,
            36.312,
            5.41,
            17.658,
            17.968,
            4.941,
            23.528,
            23.5752528603425,
            9.72,
            14.1903185815788,
            55.234,
            2.236,
            13.273,
            1.602,
            24.2088220286853,
            36.705,
            14.608,
            6.78,
            15.13,
            23.473,
            6.817,
            11.305,
            18.0222213508172,
            44.47,
            34.486,
            1.27,
            9.63,
            12.344,
            11.077,
            9.277,
            19.705,
            17.52,
            17.4614012675338,
            9.879,
            25.0236785520057,
            1.286,
            13.428,
            6.842,
            10.047,
            3.564,
            23.69,
            10.2793809099406,
            35.382,
            6.522,
            22.756,
            10.627,
            36.173,
            8.76757082000232,
            17.7326037411424,
            34.448,
            1.284,
            21.891,
            17.171,
            16.626,
            15.431076343108,
            29.488,
            27.602,
            13.132,
            9.871,
            2.997,
            7.636,
            10.155,
            33.203,
            46.441,
            12.055143084708,
            18.616,
            12.055143084708,
            23.0011568428092,
            21.516,
            13.469,
            33.681,
            14.668,
            24.74,
            53.49,
            20.5,
            1.557,
            9.97055655412331,
            18.3418138835325,
            3.989,
            2.61,
            24.766,
            8.568,
            14.755939771581,
            9.313,
            24.0659375041074,
            4.205,
            15.431076343108,
            12.055143084708,
            9.74,
            29.331,
            19.387,
            5.906,
            5.4,
            17.76,
            13.572630552867,
            20.719,
            18.346,
            11.983,
            37.122,
            14.176,
            24.068,
            3.474,
            4.251,
            14.3295814260931,
            14.652,
            21.875,
            45.536,
            28.846,
            8.834
           ]
          }
         ],
         "name": "2010"
        },
        {
         "data": [
          {
           "coloraxis": "coloraxis",
           "geo": "geo",
           "hovertemplate": "<b>%{hovertext}</b><br><br>Year=2011<br>Country Code=%{location}<br>Water Leakage=%{z}<extra></extra>",
           "hovertext": [
            "Africa Eastern and Southern",
            "Afghanistan",
            "Africa Western and Central",
            "Angola",
            "Albania",
            "Arab World",
            "United Arab Emirates",
            "Argentina",
            "Armenia",
            "Australia",
            "Austria",
            "Azerbaijan",
            "Burundi",
            "Belgium",
            "Benin",
            "Burkina Faso",
            "Bangladesh",
            "Bulgaria",
            "Bahrain",
            "Bahamas",
            "Bosnia and Herzegovina",
            "Belarus",
            "Belize",
            "Bolivia",
            "Brazil",
            "Barbados",
            "Brunei Darussalam",
            "Bhutan",
            "Botswana",
            "Central African Republic",
            "Canada",
            "Central Europe and the Baltics",
            "Switzerland",
            "Channel Islands",
            "Chile",
            "China",
            "Cote d'Ivoire",
            "Cameroon",
            "Congo, Dem. Rep.",
            "Congo, Rep.",
            "Colombia",
            "Comoros",
            "Cabo Verde",
            "Costa Rica",
            "Caribbean small states",
            "Cuba",
            "Cyprus",
            "Czech Republic",
            "Germany",
            "Djibouti",
            "Denmark",
            "Dominican Republic",
            "Algeria",
            "East Asia and Pacific",
            "Early-demographic dividend",
            "East Asia & Pacific (excluding high income)",
            "Europe and Central Asia",
            "Europe & Central Asia (excluding high income)",
            "Ecuador",
            "Egypt",
            "Euro area",
            "Eritrea",
            "Spain",
            "Estonia",
            "Ethiopia",
            "European Union",
            "Fragile and conflict affected situations",
            "Finland",
            "Fiji",
            "France",
            "Gabon",
            "United Kingdom",
            "Georgia",
            "Ghana",
            "Guinea",
            "Gambia, The",
            "Guinea-Bissau",
            "Equatorial Guinea",
            "Greece",
            "Guatemala",
            "Guam",
            "Guyana",
            "High income",
            "Hong Kong SAR, China",
            "Honduras",
            "Heavily indebted poor countries (HIPC)",
            "Croatia",
            "Haiti",
            "Hungary",
            "IBRD only",
            "IDA & IBRD total",
            "IDA only",
            "Indonesia",
            "Indonesia",
            "East Asia & Pacific (IDA & IBRD countries)",
            "India",
            "Ireland",
            "Iran, Islamic Rep.",
            "Iraq",
            "Iceland",
            "Israel",
            "Italy",
            "Jamaica",
            "Jordan",
            "Japan",
            "Kazakhstan",
            "Kenya",
            "Kyrgyz Republic",
            "Cambodia",
            "Korea, Rep.",
            "Kuwait",
            "Latin America & Caribbean",
            "Lao PDR",
            "Lebanon",
            "Liberia",
            "Libya",
            "St. Lucia",
            "Latin America & the Caribbean (excluding high income)",
            "Least developed countries: UN classification",
            "Low income",
            "Sri Lanka",
            "Lower middle income",
            "Low & middle income",
            "Lesotho",
            "Late-demographic dividend",
            "Lithuania",
            "Luxembourg",
            "Latvia",
            "Macao SAR, China",
            "Morocco",
            "Moldova",
            "Madagascar",
            "Maldives",
            "Middle East & North Africa",
            "Mexico",
            "Middle income",
            "North Macedonia",
            "Mali",
            "Malta",
            "Myanmar",
            "Middle East & North Africa (excluding high income)",
            "Montenegro",
            "Mongolia",
            "Mozambique",
            "Mauritania",
            "Mauritius",
            "Malawi",
            "Malaysia",
            "North America",
            "Namibia",
            "New Caledonia",
            "Niger",
            "Nigeria",
            "Nicaragua",
            "Netherlands",
            "Norway",
            "Nepal",
            "New Zealand",
            "OECD members",
            "Oman",
            "Other small states",
            "Pakistan",
            "Panama",
            "Peru",
            "Philippines",
            "Papua New Guinea",
            "Poland",
            "Pre-demographic dividend",
            "Puerto Rico",
            "Korea, Dem. People’s Rep.",
            "Portugal",
            "Paraguay",
            "West Bank and Gaza",
            "Pacific island small states",
            "Post-demographic dividend",
            "French Polynesia",
            "Qatar",
            "Romania",
            "Russian Federation",
            "Rwanda",
            "South Asia",
            "Saudi Arabia",
            "Sudan",
            "Senegal",
            "Singapore",
            "Solomon Islands",
            "Sierra Leone",
            "El Salvador",
            "Somalia",
            "Serbia",
            "Sub-Saharan Africa",
            "South Sudan",
            "Sub-Saharan Africa (IDA & IBRD countries)",
            "Small states",
            "Sao Tome and Principe",
            "Suriname",
            "Slovak Republic",
            "Slovenia",
            "Sweden",
            "Eswatini",
            "Syrian Arab Republic",
            "Chad",
            "East Asia & Pacific (IDA & IBRD countries)",
            "Europe & Central Asia (IDA & IBRD countries)",
            "Togo",
            "Thailand",
            "Tajikistan",
            "Turkmenistan",
            "Latin America & the Caribbean (IDA & IBRD countries)",
            "Timor-Leste",
            "Middle East & North Africa (IDA & IBRD countries)",
            "Tonga",
            "South Asia (IDA & IBRD)",
            "Sub-Saharan Africa (IDA & IBRD)",
            "Trinidad and Tobago",
            "Tunisia",
            "Turkey",
            "Tanzania",
            "Uganda",
            "Ukraine",
            "Upper middle income",
            "Uruguay",
            "United States",
            "Uzbekistan",
            "St. Vincent and the Grenadines",
            "Venezuela, RB",
            "Virgin Islands (U.S.)",
            "Vietnam",
            "Vanuatu",
            "World",
            "Samoa",
            "Yemen, Rep.",
            "South Africa",
            "Zambia",
            "Zimbabwe"
           ],
           "locations": [
            "AFE",
            "AFG",
            "AFW",
            "AGO",
            "ALB",
            "ARB",
            "ARE",
            "ARG",
            "ARM",
            "AUS",
            "AUT",
            "AZE",
            "BDI",
            "BEL",
            "BEN",
            "BFA",
            "BGD",
            "BGR",
            "BHR",
            "BHS",
            "BIH",
            "BLR",
            "BLZ",
            "BOL",
            "BRA",
            "BRB",
            "BRN",
            "BTN",
            "BWA",
            "CAF",
            "CAN",
            "CEB",
            "CHE",
            "CHI",
            "CHL",
            "CHN",
            "CIV",
            "CMR",
            "COD",
            "COG",
            "COL",
            "COM",
            "CPV",
            "CRI",
            "CSS",
            "CUB",
            "CYP",
            "CZE",
            "DEU",
            "DJI",
            "DNK",
            "DOM",
            "DZA",
            "EAP",
            "EAR",
            "EAS",
            "ECA",
            "ECS",
            "ECU",
            "EGY",
            "EMU",
            "ERI",
            "ESP",
            "EST",
            "ETH",
            "EUU",
            "FCS",
            "FIN",
            "FJI",
            "FRA",
            "GAB",
            "GBR",
            "GEO",
            "GHA",
            "GIN",
            "GMB",
            "GNB",
            "GNQ",
            "GRC",
            "GTM",
            "GUM",
            "GUY",
            "HIC",
            "HKG",
            "HND",
            "HPC",
            "HRV",
            "HTI",
            "HUN",
            "IBD",
            "IBT",
            "IDA",
            "IDB",
            "IDN",
            "IDX",
            "IND",
            "IRL",
            "IRN",
            "IRQ",
            "ISL",
            "ISR",
            "ITA",
            "JAM",
            "JOR",
            "JPN",
            "KAZ",
            "KEN",
            "KGZ",
            "KHM",
            "KOR",
            "KWT",
            "LAC",
            "LAO",
            "LBN",
            "LBR",
            "LBY",
            "LCA",
            "LCN",
            "LDC",
            "LIC",
            "LKA",
            "LMC",
            "LMY",
            "LSO",
            "LTE",
            "LTU",
            "LUX",
            "LVA",
            "MAC",
            "MAR",
            "MDA",
            "MDG",
            "MDV",
            "MEA",
            "MEX",
            "MIC",
            "MKD",
            "MLI",
            "MLT",
            "MMR",
            "MNA",
            "MNE",
            "MNG",
            "MOZ",
            "MRT",
            "MUS",
            "MWI",
            "MYS",
            "NAC",
            "NAM",
            "NCL",
            "NER",
            "NGA",
            "NIC",
            "NLD",
            "NOR",
            "NPL",
            "NZL",
            "OED",
            "OMN",
            "OSS",
            "PAK",
            "PAN",
            "PER",
            "PHL",
            "PNG",
            "POL",
            "PRE",
            "PRI",
            "PRK",
            "PRT",
            "PRY",
            "PSE",
            "PSS",
            "PST",
            "PYF",
            "QAT",
            "ROU",
            "RUS",
            "RWA",
            "SAS",
            "SAU",
            "SDN",
            "SEN",
            "SGP",
            "SLB",
            "SLE",
            "SLV",
            "SOM",
            "SRB",
            "SSA",
            "SSD",
            "SSF",
            "SST",
            "STP",
            "SUR",
            "SVK",
            "SVN",
            "SWE",
            "SWZ",
            "SYR",
            "TCD",
            "TEA",
            "TEC",
            "TGO",
            "THA",
            "TJK",
            "TKM",
            "TLA",
            "TLS",
            "TMN",
            "TON",
            "TSA",
            "TSS",
            "TTO",
            "TUN",
            "TUR",
            "TZA",
            "UGA",
            "UKR",
            "UMC",
            "URY",
            "USA",
            "UZB",
            "VCT",
            "VEN",
            "VIR",
            "VNM",
            "VUT",
            "WLD",
            "WSM",
            "YEM",
            "ZAF",
            "ZMB",
            "ZWE"
           ],
           "name": "",
           "type": "choropleth",
           "z": [
            13.5939767531196,
            10.441,
            8.53182365440397,
            17.216,
            22.733,
            25.3075807296372,
            5.605,
            18.716,
            16.521,
            11.359,
            8.91,
            14.415,
            2.413,
            18.733,
            5.461,
            6.24,
            7.549,
            25.055,
            5.258,
            27.287,
            58.055,
            11.401,
            16.786,
            5.121,
            16.783,
            26.797,
            22.095,
            8.914,
            35.105,
            10.119,
            14.277,
            25.5903422044392,
            7.732,
            18.86,
            17.943,
            9.982,
            9.918,
            6.271,
            7.897,
            39.788,
            20.495,
            16.231,
            23.901,
            22.061,
            19.520669152422,
            7.775,
            21.168,
            18.062,
            8.506,
            68.59,
            16.304,
            14.006,
            22.61,
            10.0959372214423,
            16.3795371517602,
            10.0496076553556,
            16.3080075806223,
            19.5132081538294,
            8.891,
            29.356,
            23.1792617489905,
            10.373,
            46.188,
            22.387,
            3.462,
            23.4675065649529,
            11.4969821155856,
            19.938,
            13.617,
            21.878,
            35.963,
            21.147,
            41.445,
            8.869,
            6.285,
            13.266,
            4.278,
            15.705,
            44.531,
            4.93,
            31.051,
            23.107,
            18.0701465429804,
            9.293,
            8.09,
            9.38490637529535,
            36.616,
            34.139,
            25.94,
            16.0138478108352,
            14.0371717567526,
            8.66348144881528,
            6.22296357034945,
            18.478,
            9.90729232490462,
            19.681,
            29.596,
            26.469,
            16.389,
            14.156,
            11.835,
            29.205,
            20.313,
            30.219,
            8.303,
            4.571,
            7.175,
            5.863,
            0.602,
            8.297,
            10.534,
            14.1444601037547,
            2.178,
            16.956,
            2.774,
            49.804,
            39.76,
            14.354122847225,
            9.61865949941786,
            9.97805171253935,
            16.83,
            15.1659054438389,
            13.9133386208012,
            24.294,
            11.8472951619395,
            32.608,
            16.764,
            31.122,
            5.747,
            17.973,
            14.973,
            3.24,
            22.234,
            24.5911488724382,
            9.789,
            14.3435313152728,
            55.201,
            2.236,
            13.351,
            1.616,
            25.3852022510928,
            37.043,
            10.326,
            6.856,
            15.098,
            21.555,
            6.819,
            9.877,
            16.974862418433,
            39.268,
            35.573,
            0.47,
            9.676,
            10.192,
            10.015,
            8.612,
            19.66,
            17.623,
            17.0009472538801,
            10.032,
            24.368006503763,
            1.722,
            11.104,
            7.015,
            9.754,
            4.452,
            25.738,
            10.3649378334305,
            34.373,
            6.709,
            30.265,
            11.364,
            31.202,
            8.87031866273932,
            17.5165037282431,
            34.511,
            1.307,
            23.796,
            15.539,
            16.634,
            16.0759974757242,
            29.355,
            32.17,
            12.738,
            9.221,
            2.411,
            8.073,
            8.546,
            33.3,
            51.171,
            11.6018961025338,
            18.723,
            11.6018961025338,
            22.6057985096176,
            20.849,
            19.266,
            33.519,
            15.745,
            22.744,
            52.428,
            20.863,
            1.571,
            10.1369986389217,
            17.4401628990178,
            3.134,
            2.969,
            23.304,
            8.793,
            14.3380791037551,
            10.046,
            25.313409419088,
            4.291,
            16.0759974757242,
            11.6018961025338,
            8.528,
            42.254,
            16.391,
            6.912,
            5.243,
            17.835,
            13.3398624266937,
            18.063,
            17.257,
            11.246,
            37.102,
            14.037,
            25.339,
            3.265,
            4.202,
            14.4317040660658,
            14.639,
            22.832,
            39.739,
            22.978,
            9.035
           ]
          }
         ],
         "name": "2011"
        },
        {
         "data": [
          {
           "coloraxis": "coloraxis",
           "geo": "geo",
           "hovertemplate": "<b>%{hovertext}</b><br><br>Year=2012<br>Country Code=%{location}<br>Water Leakage=%{z}<extra></extra>",
           "hovertext": [
            "Africa Eastern and Southern",
            "Afghanistan",
            "Africa Western and Central",
            "Angola",
            "Albania",
            "Arab World",
            "United Arab Emirates",
            "Argentina",
            "Armenia",
            "Australia",
            "Austria",
            "Azerbaijan",
            "Burundi",
            "Belgium",
            "Benin",
            "Burkina Faso",
            "Bangladesh",
            "Bulgaria",
            "Bahrain",
            "Bahamas",
            "Bosnia and Herzegovina",
            "Belarus",
            "Belize",
            "Bolivia",
            "Brazil",
            "Barbados",
            "Brunei Darussalam",
            "Bhutan",
            "Botswana",
            "Central African Republic",
            "Canada",
            "Central Europe and the Baltics",
            "Switzerland",
            "Channel Islands",
            "Chile",
            "China",
            "Cote d'Ivoire",
            "Cameroon",
            "Congo, Dem. Rep.",
            "Congo, Rep.",
            "Colombia",
            "Comoros",
            "Cabo Verde",
            "Costa Rica",
            "Caribbean small states",
            "Cuba",
            "Cyprus",
            "Czech Republic",
            "Germany",
            "Djibouti",
            "Denmark",
            "Dominican Republic",
            "Algeria",
            "East Asia and Pacific",
            "Early-demographic dividend",
            "East Asia & Pacific (excluding high income)",
            "Europe and Central Asia",
            "Europe & Central Asia (excluding high income)",
            "Ecuador",
            "Egypt",
            "Euro area",
            "Eritrea",
            "Spain",
            "Estonia",
            "Ethiopia",
            "European Union",
            "Fragile and conflict affected situations",
            "Finland",
            "Fiji",
            "France",
            "Gabon",
            "United Kingdom",
            "Georgia",
            "Ghana",
            "Guinea",
            "Gambia, The",
            "Guinea-Bissau",
            "Equatorial Guinea",
            "Greece",
            "Guatemala",
            "Guam",
            "Guyana",
            "High income",
            "Hong Kong SAR, China",
            "Honduras",
            "Heavily indebted poor countries (HIPC)",
            "Croatia",
            "Haiti",
            "Hungary",
            "IBRD only",
            "IDA & IBRD total",
            "IDA only",
            "Indonesia",
            "Indonesia",
            "East Asia & Pacific (IDA & IBRD countries)",
            "India",
            "Ireland",
            "Iran, Islamic Rep.",
            "Iraq",
            "Iceland",
            "Israel",
            "Italy",
            "Jamaica",
            "Jordan",
            "Japan",
            "Kazakhstan",
            "Kenya",
            "Kyrgyz Republic",
            "Cambodia",
            "Korea, Rep.",
            "Kuwait",
            "Latin America & Caribbean",
            "Lao PDR",
            "Lebanon",
            "Liberia",
            "Libya",
            "St. Lucia",
            "Latin America & the Caribbean (excluding high income)",
            "Least developed countries: UN classification",
            "Low income",
            "Sri Lanka",
            "Lower middle income",
            "Low & middle income",
            "Lesotho",
            "Late-demographic dividend",
            "Lithuania",
            "Luxembourg",
            "Latvia",
            "Macao SAR, China",
            "Morocco",
            "Moldova",
            "Madagascar",
            "Maldives",
            "Middle East & North Africa",
            "Mexico",
            "Middle income",
            "North Macedonia",
            "Mali",
            "Malta",
            "Myanmar",
            "Middle East & North Africa (excluding high income)",
            "Montenegro",
            "Mongolia",
            "Mozambique",
            "Mauritania",
            "Mauritius",
            "Malawi",
            "Malaysia",
            "North America",
            "Namibia",
            "New Caledonia",
            "Niger",
            "Nigeria",
            "Nicaragua",
            "Netherlands",
            "Norway",
            "Nepal",
            "New Zealand",
            "OECD members",
            "Oman",
            "Other small states",
            "Pakistan",
            "Panama",
            "Peru",
            "Philippines",
            "Papua New Guinea",
            "Poland",
            "Pre-demographic dividend",
            "Puerto Rico",
            "Korea, Dem. People’s Rep.",
            "Portugal",
            "Paraguay",
            "West Bank and Gaza",
            "Pacific island small states",
            "Post-demographic dividend",
            "French Polynesia",
            "Qatar",
            "Romania",
            "Russian Federation",
            "Rwanda",
            "South Asia",
            "Saudi Arabia",
            "Sudan",
            "Senegal",
            "Singapore",
            "Solomon Islands",
            "Sierra Leone",
            "El Salvador",
            "Somalia",
            "Serbia",
            "Sub-Saharan Africa",
            "South Sudan",
            "Sub-Saharan Africa (IDA & IBRD countries)",
            "Small states",
            "Sao Tome and Principe",
            "Suriname",
            "Slovak Republic",
            "Slovenia",
            "Sweden",
            "Eswatini",
            "Syrian Arab Republic",
            "Chad",
            "East Asia & Pacific (IDA & IBRD countries)",
            "Europe & Central Asia (IDA & IBRD countries)",
            "Togo",
            "Thailand",
            "Tajikistan",
            "Turkmenistan",
            "Latin America & the Caribbean (IDA & IBRD countries)",
            "Timor-Leste",
            "Middle East & North Africa (IDA & IBRD countries)",
            "Tonga",
            "South Asia (IDA & IBRD)",
            "Sub-Saharan Africa (IDA & IBRD)",
            "Trinidad and Tobago",
            "Tunisia",
            "Turkey",
            "Tanzania",
            "Uganda",
            "Ukraine",
            "Upper middle income",
            "Uruguay",
            "United States",
            "Uzbekistan",
            "St. Vincent and the Grenadines",
            "Venezuela, RB",
            "Virgin Islands (U.S.)",
            "Vietnam",
            "Vanuatu",
            "World",
            "Samoa",
            "Yemen, Rep.",
            "South Africa",
            "Zambia",
            "Zimbabwe"
           ],
           "locations": [
            "AFE",
            "AFG",
            "AFW",
            "AGO",
            "ALB",
            "ARB",
            "ARE",
            "ARG",
            "ARM",
            "AUS",
            "AUT",
            "AZE",
            "BDI",
            "BEL",
            "BEN",
            "BFA",
            "BGD",
            "BGR",
            "BHR",
            "BHS",
            "BIH",
            "BLR",
            "BLZ",
            "BOL",
            "BRA",
            "BRB",
            "BRN",
            "BTN",
            "BWA",
            "CAF",
            "CAN",
            "CEB",
            "CHE",
            "CHI",
            "CHL",
            "CHN",
            "CIV",
            "CMR",
            "COD",
            "COG",
            "COL",
            "COM",
            "CPV",
            "CRI",
            "CSS",
            "CUB",
            "CYP",
            "CZE",
            "DEU",
            "DJI",
            "DNK",
            "DOM",
            "DZA",
            "EAP",
            "EAR",
            "EAS",
            "ECA",
            "ECS",
            "ECU",
            "EGY",
            "EMU",
            "ERI",
            "ESP",
            "EST",
            "ETH",
            "EUU",
            "FCS",
            "FIN",
            "FJI",
            "FRA",
            "GAB",
            "GBR",
            "GEO",
            "GHA",
            "GIN",
            "GMB",
            "GNB",
            "GNQ",
            "GRC",
            "GTM",
            "GUM",
            "GUY",
            "HIC",
            "HKG",
            "HND",
            "HPC",
            "HRV",
            "HTI",
            "HUN",
            "IBD",
            "IBT",
            "IDA",
            "IDB",
            "IDN",
            "IDX",
            "IND",
            "IRL",
            "IRN",
            "IRQ",
            "ISL",
            "ISR",
            "ITA",
            "JAM",
            "JOR",
            "JPN",
            "KAZ",
            "KEN",
            "KGZ",
            "KHM",
            "KOR",
            "KWT",
            "LAC",
            "LAO",
            "LBN",
            "LBR",
            "LBY",
            "LCA",
            "LCN",
            "LDC",
            "LIC",
            "LKA",
            "LMC",
            "LMY",
            "LSO",
            "LTE",
            "LTU",
            "LUX",
            "LVA",
            "MAC",
            "MAR",
            "MDA",
            "MDG",
            "MDV",
            "MEA",
            "MEX",
            "MIC",
            "MKD",
            "MLI",
            "MLT",
            "MMR",
            "MNA",
            "MNE",
            "MNG",
            "MOZ",
            "MRT",
            "MUS",
            "MWI",
            "MYS",
            "NAC",
            "NAM",
            "NCL",
            "NER",
            "NGA",
            "NIC",
            "NLD",
            "NOR",
            "NPL",
            "NZL",
            "OED",
            "OMN",
            "OSS",
            "PAK",
            "PAN",
            "PER",
            "PHL",
            "PNG",
            "POL",
            "PRE",
            "PRI",
            "PRK",
            "PRT",
            "PRY",
            "PSE",
            "PSS",
            "PST",
            "PYF",
            "QAT",
            "ROU",
            "RUS",
            "RWA",
            "SAS",
            "SAU",
            "SDN",
            "SEN",
            "SGP",
            "SLB",
            "SLE",
            "SLV",
            "SOM",
            "SRB",
            "SSA",
            "SSD",
            "SSF",
            "SST",
            "STP",
            "SUR",
            "SVK",
            "SVN",
            "SWE",
            "SWZ",
            "SYR",
            "TCD",
            "TEA",
            "TEC",
            "TGO",
            "THA",
            "TJK",
            "TKM",
            "TLA",
            "TLS",
            "TMN",
            "TON",
            "TSA",
            "TSS",
            "TTO",
            "TUN",
            "TUR",
            "TZA",
            "UGA",
            "UKR",
            "UMC",
            "URY",
            "USA",
            "UZB",
            "VCT",
            "VEN",
            "VIR",
            "VNM",
            "VUT",
            "WLD",
            "WSM",
            "YEM",
            "ZAF",
            "ZMB",
            "ZWE"
           ],
           "name": "",
           "type": "choropleth",
           "z": [
            13.402498134921,
            10.393,
            8.5396987252072,
            16.791,
            28.987,
            26.960190599477,
            5.529,
            18.343,
            17.936,
            11.714,
            9.393,
            13.896,
            2.542,
            19.743,
            5.209,
            6.482,
            8.718,
            28.127,
            5.402,
            30.74,
            63.486,
            11.237,
            16.848,
            3.37,
            15.776,
            28.711,
            22.82,
            6.984,
            35.29,
            10.013,
            14.457,
            26.2553240053343,
            8.318,
            21.35,
            16.76,
            10.168,
            9.951,
            6.231,
            8.444,
            39.527,
            19.307,
            17.182,
            24.999,
            22.395,
            21.3438292993818,
            8.601,
            26.868,
            19.515,
            8.031,
            69.629,
            15.769,
            14.857,
            27.7,
            9.88246141163578,
            16.8608970581231,
            9.84400792287665,
            15.9841784356476,
            20.289508252423,
            8.526,
            34.379,
            25.8453069744074,
            10.158,
            52.868,
            20.852,
            3.46,
            25.6531690363662,
            11.5805866858362,
            18.863,
            13.969,
            23.579,
            36.068,
            21.046,
            37.917,
            6.878,
            6.359,
            13.043,
            4.294,
            15.612,
            55.154,
            4.62,
            27.767,
            23.471,
            18.3871237227888,
            9.264,
            6.987,
            9.07583174877121,
            42.06,
            32.97,
            28.139,
            16.3060590929147,
            14.2965725335435,
            8.99388696572095,
            7.16758737519434,
            15.738,
            9.92173954518479,
            20.549,
            30.806,
            26.684,
            16.118,
            13.204,
            12.147,
            35.342,
            23.382,
            28.406,
            8.227,
            3.931,
            7.236,
            5.995,
            0.679,
            7.732,
            12.255,
            13.4502575585646,
            2.754,
            17.791,
            2.377,
            49.766,
            40.95,
            13.6792834521274,
            9.72107896995573,
            10.0654958800861,
            16.848,
            15.9061796391261,
            14.1826524089069,
            24.367,
            11.8249278576555,
            26.693,
            18.668,
            28.625,
            5.468,
            18.685,
            13.19,
            1.016,
            20.887,
            26.094798419438,
            9.379,
            14.6477819392652,
            54.146,
            2.248,
            13.831,
            1.615,
            27.1394099645306,
            44.066,
            8.386,
            6.948,
            15.087,
            23.515,
            6.822,
            10.461,
            16.0333975567123,
            34.023,
            36.692,
            3.86,
            9.789,
            8.114,
            11.706,
            8.424,
            19.703,
            18.076,
            17.107821456465,
            10.26,
            24.1304349626491,
            3.835,
            9.594,
            6.858,
            9.604,
            4.439,
            26.489,
            10.2630850754267,
            31.642,
            6.655,
            37.92,
            10.048,
            34.602,
            9.10011823300864,
            17.9811122345544,
            34.132,
            1.477,
            22.519,
            14.972,
            16.639,
            17.0704650790685,
            28.399,
            32.572,
            11.535,
            8.944,
            1.852,
            8.466,
            8.447,
            33.415,
            51.191,
            11.4863870850152,
            18.918,
            11.4863870850152,
            22.7764129685845,
            20.166,
            19.665,
            34.105,
            20.588,
            23.581,
            51.189,
            21.542,
            1.555,
            9.92268150850371,
            17.2027557415833,
            3.403,
            2.784,
            22.728,
            9.284,
            13.6481619976488,
            10.728,
            27.0443374627733,
            4.814,
            17.0704650790685,
            11.4863870850152,
            8.572,
            38.198,
            15.361,
            6.455,
            5.252,
            17.838,
            13.0676994022776,
            18.561,
            16.198,
            11.541,
            37.142,
            14.077,
            26.018,
            3.703,
            4.298,
            14.7044525554756,
            17.267,
            23.165,
            41.897,
            16.915,
            8.309
           ]
          }
         ],
         "name": "2012"
        },
        {
         "data": [
          {
           "coloraxis": "coloraxis",
           "geo": "geo",
           "hovertemplate": "<b>%{hovertext}</b><br><br>Year=2013<br>Country Code=%{location}<br>Water Leakage=%{z}<extra></extra>",
           "hovertext": [
            "Africa Eastern and Southern",
            "Afghanistan",
            "Africa Western and Central",
            "Angola",
            "Albania",
            "Arab World",
            "United Arab Emirates",
            "Argentina",
            "Armenia",
            "Australia",
            "Austria",
            "Azerbaijan",
            "Burundi",
            "Belgium",
            "Benin",
            "Burkina Faso",
            "Bangladesh",
            "Bulgaria",
            "Bahrain",
            "Bahamas",
            "Bosnia and Herzegovina",
            "Belarus",
            "Belize",
            "Bolivia",
            "Brazil",
            "Barbados",
            "Brunei Darussalam",
            "Bhutan",
            "Botswana",
            "Central African Republic",
            "Canada",
            "Central Europe and the Baltics",
            "Switzerland",
            "Channel Islands",
            "Chile",
            "China",
            "Cote d'Ivoire",
            "Cameroon",
            "Congo, Dem. Rep.",
            "Congo, Rep.",
            "Colombia",
            "Comoros",
            "Cabo Verde",
            "Costa Rica",
            "Caribbean small states",
            "Cuba",
            "Cyprus",
            "Czech Republic",
            "Germany",
            "Djibouti",
            "Denmark",
            "Dominican Republic",
            "Algeria",
            "East Asia and Pacific",
            "Early-demographic dividend",
            "East Asia & Pacific (excluding high income)",
            "Europe and Central Asia",
            "Europe & Central Asia (excluding high income)",
            "Ecuador",
            "Egypt",
            "Euro area",
            "Eritrea",
            "Spain",
            "Estonia",
            "Ethiopia",
            "European Union",
            "Fragile and conflict affected situations",
            "Finland",
            "Fiji",
            "France",
            "Gabon",
            "United Kingdom",
            "Georgia",
            "Ghana",
            "Guinea",
            "Gambia, The",
            "Guinea-Bissau",
            "Equatorial Guinea",
            "Greece",
            "Guatemala",
            "Guam",
            "Guyana",
            "High income",
            "Hong Kong SAR, China",
            "Honduras",
            "Heavily indebted poor countries (HIPC)",
            "Croatia",
            "Haiti",
            "Hungary",
            "IBRD only",
            "IDA & IBRD total",
            "IDA only",
            "Indonesia",
            "Indonesia",
            "East Asia & Pacific (IDA & IBRD countries)",
            "India",
            "Ireland",
            "Iran, Islamic Rep.",
            "Iraq",
            "Iceland",
            "Israel",
            "Italy",
            "Jamaica",
            "Jordan",
            "Japan",
            "Kazakhstan",
            "Kenya",
            "Kyrgyz Republic",
            "Cambodia",
            "Korea, Rep.",
            "Kuwait",
            "Latin America & Caribbean",
            "Lao PDR",
            "Lebanon",
            "Liberia",
            "Libya",
            "St. Lucia",
            "Latin America & the Caribbean (excluding high income)",
            "Least developed countries: UN classification",
            "Low income",
            "Sri Lanka",
            "Lower middle income",
            "Low & middle income",
            "Lesotho",
            "Late-demographic dividend",
            "Lithuania",
            "Luxembourg",
            "Latvia",
            "Macao SAR, China",
            "Morocco",
            "Moldova",
            "Madagascar",
            "Maldives",
            "Middle East & North Africa",
            "Mexico",
            "Middle income",
            "North Macedonia",
            "Mali",
            "Malta",
            "Myanmar",
            "Middle East & North Africa (excluding high income)",
            "Montenegro",
            "Mongolia",
            "Mozambique",
            "Mauritania",
            "Mauritius",
            "Malawi",
            "Malaysia",
            "North America",
            "Namibia",
            "New Caledonia",
            "Niger",
            "Nigeria",
            "Nicaragua",
            "Netherlands",
            "Norway",
            "Nepal",
            "New Zealand",
            "OECD members",
            "Oman",
            "Other small states",
            "Pakistan",
            "Panama",
            "Peru",
            "Philippines",
            "Papua New Guinea",
            "Poland",
            "Pre-demographic dividend",
            "Puerto Rico",
            "Korea, Dem. People’s Rep.",
            "Portugal",
            "Paraguay",
            "West Bank and Gaza",
            "Pacific island small states",
            "Post-demographic dividend",
            "French Polynesia",
            "Qatar",
            "Romania",
            "Russian Federation",
            "Rwanda",
            "South Asia",
            "Saudi Arabia",
            "Sudan",
            "Senegal",
            "Singapore",
            "Solomon Islands",
            "Sierra Leone",
            "El Salvador",
            "Somalia",
            "Serbia",
            "Sub-Saharan Africa",
            "South Sudan",
            "Sub-Saharan Africa (IDA & IBRD countries)",
            "Small states",
            "Sao Tome and Principe",
            "Suriname",
            "Slovak Republic",
            "Slovenia",
            "Sweden",
            "Eswatini",
            "Syrian Arab Republic",
            "Chad",
            "East Asia & Pacific (IDA & IBRD countries)",
            "Europe & Central Asia (IDA & IBRD countries)",
            "Togo",
            "Thailand",
            "Tajikistan",
            "Turkmenistan",
            "Latin America & the Caribbean (IDA & IBRD countries)",
            "Timor-Leste",
            "Middle East & North Africa (IDA & IBRD countries)",
            "Tonga",
            "South Asia (IDA & IBRD)",
            "Sub-Saharan Africa (IDA & IBRD)",
            "Trinidad and Tobago",
            "Tunisia",
            "Turkey",
            "Tanzania",
            "Uganda",
            "Ukraine",
            "Upper middle income",
            "Uruguay",
            "United States",
            "Uzbekistan",
            "St. Vincent and the Grenadines",
            "Venezuela, RB",
            "Virgin Islands (U.S.)",
            "Vietnam",
            "Vanuatu",
            "World",
            "Samoa",
            "Yemen, Rep.",
            "South Africa",
            "Zambia",
            "Zimbabwe"
           ],
           "locations": [
            "AFE",
            "AFG",
            "AFW",
            "AGO",
            "ALB",
            "ARB",
            "ARE",
            "ARG",
            "ARM",
            "AUS",
            "AUT",
            "AZE",
            "BDI",
            "BEL",
            "BEN",
            "BFA",
            "BGD",
            "BGR",
            "BHR",
            "BHS",
            "BIH",
            "BLR",
            "BLZ",
            "BOL",
            "BRA",
            "BRB",
            "BRN",
            "BTN",
            "BWA",
            "CAF",
            "CAN",
            "CEB",
            "CHE",
            "CHI",
            "CHL",
            "CHN",
            "CIV",
            "CMR",
            "COD",
            "COG",
            "COL",
            "COM",
            "CPV",
            "CRI",
            "CSS",
            "CUB",
            "CYP",
            "CZE",
            "DEU",
            "DJI",
            "DNK",
            "DOM",
            "DZA",
            "EAP",
            "EAR",
            "EAS",
            "ECA",
            "ECS",
            "ECU",
            "EGY",
            "EMU",
            "ERI",
            "ESP",
            "EST",
            "ETH",
            "EUU",
            "FCS",
            "FIN",
            "FJI",
            "FRA",
            "GAB",
            "GBR",
            "GEO",
            "GHA",
            "GIN",
            "GMB",
            "GNB",
            "GNQ",
            "GRC",
            "GTM",
            "GUM",
            "GUY",
            "HIC",
            "HKG",
            "HND",
            "HPC",
            "HRV",
            "HTI",
            "HUN",
            "IBD",
            "IBT",
            "IDA",
            "IDB",
            "IDN",
            "IDX",
            "IND",
            "IRL",
            "IRN",
            "IRQ",
            "ISL",
            "ISR",
            "ITA",
            "JAM",
            "JOR",
            "JPN",
            "KAZ",
            "KEN",
            "KGZ",
            "KHM",
            "KOR",
            "KWT",
            "LAC",
            "LAO",
            "LBN",
            "LBR",
            "LBY",
            "LCA",
            "LCN",
            "LDC",
            "LIC",
            "LKA",
            "LMC",
            "LMY",
            "LSO",
            "LTE",
            "LTU",
            "LUX",
            "LVA",
            "MAC",
            "MAR",
            "MDA",
            "MDG",
            "MDV",
            "MEA",
            "MEX",
            "MIC",
            "MKD",
            "MLI",
            "MLT",
            "MMR",
            "MNA",
            "MNE",
            "MNG",
            "MOZ",
            "MRT",
            "MUS",
            "MWI",
            "MYS",
            "NAC",
            "NAM",
            "NCL",
            "NER",
            "NGA",
            "NIC",
            "NLD",
            "NOR",
            "NPL",
            "NZL",
            "OED",
            "OMN",
            "OSS",
            "PAK",
            "PAN",
            "PER",
            "PHL",
            "PNG",
            "POL",
            "PRE",
            "PRI",
            "PRK",
            "PRT",
            "PRY",
            "PSE",
            "PSS",
            "PST",
            "PYF",
            "QAT",
            "ROU",
            "RUS",
            "RWA",
            "SAS",
            "SAU",
            "SDN",
            "SEN",
            "SGP",
            "SLB",
            "SLE",
            "SLV",
            "SOM",
            "SRB",
            "SSA",
            "SSD",
            "SSF",
            "SST",
            "STP",
            "SUR",
            "SVK",
            "SVN",
            "SWE",
            "SWZ",
            "SYR",
            "TCD",
            "TEA",
            "TEC",
            "TGO",
            "THA",
            "TJK",
            "TKM",
            "TLA",
            "TLS",
            "TMN",
            "TON",
            "TSA",
            "TSS",
            "TTO",
            "TUN",
            "TUR",
            "TZA",
            "UGA",
            "UKR",
            "UMC",
            "URY",
            "USA",
            "UZB",
            "VCT",
            "VEN",
            "VIR",
            "VNM",
            "VUT",
            "WLD",
            "WSM",
            "YEM",
            "ZAF",
            "ZMB",
            "ZWE"
           ],
           "name": "",
           "type": "choropleth",
           "z": [
            13.1024151668822,
            10.224,
            8.08447901320495,
            16.595,
            31.318,
            27.0612597715825,
            5.381,
            19.557,
            19.218,
            12.217,
            9.661,
            13.33,
            2.707,
            23.704,
            4.948,
            6.735,
            9.881,
            28.409,
            5.471,
            34.847,
            59.808,
            11.146,
            16.941,
            5.371,
            15.643,
            28.998,
            23.546,
            9.39,
            35.201,
            9.96,
            13.753,
            26.6633646552339,
            8.753,
            22.535,
            16.669,
            10.338,
            6.272,
            6.205,
            8.427,
            39.758,
            18.233,
            18.075,
            26.118,
            21.595,
            23.2433794557782,
            8.26,
            37.93,
            18.966,
            7.811,
            70.508,
            14.76,
            17.418,
            25.56,
            10.0279852689061,
            17.4404768248072,
            9.93525708351275,
            15.9406761636537,
            20.753198524409,
            8.329,
            34.102,
            27.1457302879218,
            10.008,
            55.47,
            18.704,
            3.436,
            26.7714480566206,
            11.6550029018948,
            19.805,
            14.032,
            24.009,
            36.088,
            20.495,
            40.952,
            4.764,
            6.477,
            12.12,
            4.236,
            15.522,
            58.133,
            5.537,
            26.129,
            23.893,
            18.4346241702174,
            9.479,
            9.86,
            8.68679068486532,
            50.018,
            32.734,
            26.52,
            16.7038685744296,
            14.6081554859905,
            9.23685529336962,
            8.08946801543667,
            16.071,
            9.81779060012559,
            21.459,
            26.743,
            23.924,
            18,
            10.428,
            10.548,
            40.081,
            27.279,
            29.192,
            6.806,
            3.914,
            7.297,
            6.248,
            0.772,
            7.918,
            13.932,
            13.5855837495077,
            3.337,
            18.626,
            1.97,
            50.445,
            48.621,
            13.906223331453,
            9.74198381224182,
            9.79280862856108,
            18.078,
            16.3890480852152,
            14.4811991101566,
            24.646,
            11.8818225079474,
            21.933,
            15.473,
            23.286,
            4.119,
            19.204,
            12.245,
            1.794,
            19.717,
            25.662511208019,
            9.399,
            15.027122066821,
            52.379,
            2.216,
            12.726,
            1.599,
            26.5518442981424,
            41.847,
            10.61,
            7.042,
            16.252,
            22.147,
            6.764,
            10.295,
            15.357089246351,
            40.401,
            37.427,
            2.315,
            9.828,
            8.934,
            13.17,
            9.093,
            19.66,
            15.332,
            17.0726908564787,
            10.625,
            24.8361657527949,
            5.961,
            9.901,
            7.002,
            9.399,
            4.488,
            27.289,
            10.0360572619093,
            31.194,
            6.707,
            38.106,
            9.471,
            37.055,
            8.89072110608105,
            17.9372437707226,
            34.123,
            1.109,
            23.719,
            14.17,
            16.715,
            18.1140595680984,
            29.608,
            32.208,
            10.432,
            9.352,
            1.25,
            8.884,
            8.518,
            33.428,
            49.419,
            11.1222868072439,
            18.546,
            11.1222868072439,
            23.6500554083686,
            20.282,
            19.457,
            33.745,
            21.609,
            23.443,
            50.175,
            21.858,
            1.553,
            10.0705581614388,
            17.3277251720574,
            3.686,
            1.253,
            21.222,
            9.359,
            13.8847139445354,
            11.366,
            26.4142689836066,
            5.144,
            18.1140595680984,
            11.1222868072439,
            6.219,
            34.68,
            16.561,
            5.82,
            2.662,
            17.671,
            13.2644350802203,
            19.277,
            15.524,
            11.654,
            37.248,
            16.221,
            27.559,
            4.632,
            4.341,
            14.9787083696528,
            17.115,
            23.751,
            42.81,
            17.072,
            7.67
           ]
          }
         ],
         "name": "2013"
        },
        {
         "data": [
          {
           "coloraxis": "coloraxis",
           "geo": "geo",
           "hovertemplate": "<b>%{hovertext}</b><br><br>Year=2014<br>Country Code=%{location}<br>Water Leakage=%{z}<extra></extra>",
           "hovertext": [
            "Africa Eastern and Southern",
            "Afghanistan",
            "Africa Western and Central",
            "Angola",
            "Albania",
            "Arab World",
            "United Arab Emirates",
            "Argentina",
            "Armenia",
            "Australia",
            "Austria",
            "Azerbaijan",
            "Burundi",
            "Belgium",
            "Benin",
            "Burkina Faso",
            "Bangladesh",
            "Bulgaria",
            "Bahrain",
            "Bahamas",
            "Bosnia and Herzegovina",
            "Belarus",
            "Belize",
            "Bolivia",
            "Brazil",
            "Barbados",
            "Brunei Darussalam",
            "Bhutan",
            "Botswana",
            "Central African Republic",
            "Canada",
            "Central Europe and the Baltics",
            "Switzerland",
            "Channel Islands",
            "Chile",
            "China",
            "Cote d'Ivoire",
            "Cameroon",
            "Congo, Dem. Rep.",
            "Congo, Rep.",
            "Colombia",
            "Comoros",
            "Cabo Verde",
            "Costa Rica",
            "Caribbean small states",
            "Cuba",
            "Cyprus",
            "Czech Republic",
            "Germany",
            "Djibouti",
            "Denmark",
            "Dominican Republic",
            "Algeria",
            "East Asia and Pacific",
            "Early-demographic dividend",
            "East Asia & Pacific (excluding high income)",
            "Europe and Central Asia",
            "Europe & Central Asia (excluding high income)",
            "Ecuador",
            "Egypt",
            "Euro area",
            "Eritrea",
            "Spain",
            "Estonia",
            "Ethiopia",
            "European Union",
            "Fragile and conflict affected situations",
            "Finland",
            "Fiji",
            "France",
            "Gabon",
            "United Kingdom",
            "Georgia",
            "Ghana",
            "Guinea",
            "Gambia, The",
            "Guinea-Bissau",
            "Equatorial Guinea",
            "Greece",
            "Guatemala",
            "Guam",
            "Guyana",
            "High income",
            "Hong Kong SAR, China",
            "Honduras",
            "Heavily indebted poor countries (HIPC)",
            "Croatia",
            "Haiti",
            "Hungary",
            "IBRD only",
            "IDA & IBRD total",
            "IDA only",
            "Indonesia",
            "Indonesia",
            "East Asia & Pacific (IDA & IBRD countries)",
            "India",
            "Ireland",
            "Iran, Islamic Rep.",
            "Iraq",
            "Iceland",
            "Israel",
            "Italy",
            "Jamaica",
            "Jordan",
            "Japan",
            "Kazakhstan",
            "Kenya",
            "Kyrgyz Republic",
            "Cambodia",
            "Korea, Rep.",
            "Kuwait",
            "Latin America & Caribbean",
            "Lao PDR",
            "Lebanon",
            "Liberia",
            "Libya",
            "St. Lucia",
            "Latin America & the Caribbean (excluding high income)",
            "Least developed countries: UN classification",
            "Low income",
            "Sri Lanka",
            "Lower middle income",
            "Low & middle income",
            "Lesotho",
            "Late-demographic dividend",
            "Lithuania",
            "Luxembourg",
            "Latvia",
            "Macao SAR, China",
            "Morocco",
            "Moldova",
            "Madagascar",
            "Maldives",
            "Middle East & North Africa",
            "Mexico",
            "Middle income",
            "North Macedonia",
            "Mali",
            "Malta",
            "Myanmar",
            "Middle East & North Africa (excluding high income)",
            "Montenegro",
            "Mongolia",
            "Mozambique",
            "Mauritania",
            "Mauritius",
            "Malawi",
            "Malaysia",
            "North America",
            "Namibia",
            "New Caledonia",
            "Niger",
            "Nigeria",
            "Nicaragua",
            "Netherlands",
            "Norway",
            "Nepal",
            "New Zealand",
            "OECD members",
            "Oman",
            "Other small states",
            "Pakistan",
            "Panama",
            "Peru",
            "Philippines",
            "Papua New Guinea",
            "Poland",
            "Pre-demographic dividend",
            "Puerto Rico",
            "Korea, Dem. People’s Rep.",
            "Portugal",
            "Paraguay",
            "West Bank and Gaza",
            "Pacific island small states",
            "Post-demographic dividend",
            "French Polynesia",
            "Qatar",
            "Romania",
            "Russian Federation",
            "Rwanda",
            "South Asia",
            "Saudi Arabia",
            "Sudan",
            "Senegal",
            "Singapore",
            "Solomon Islands",
            "Sierra Leone",
            "El Salvador",
            "Somalia",
            "Serbia",
            "Sub-Saharan Africa",
            "South Sudan",
            "Sub-Saharan Africa (IDA & IBRD countries)",
            "Small states",
            "Sao Tome and Principe",
            "Suriname",
            "Slovak Republic",
            "Slovenia",
            "Sweden",
            "Eswatini",
            "Syrian Arab Republic",
            "Chad",
            "East Asia & Pacific (IDA & IBRD countries)",
            "Europe & Central Asia (IDA & IBRD countries)",
            "Togo",
            "Thailand",
            "Tajikistan",
            "Turkmenistan",
            "Latin America & the Caribbean (IDA & IBRD countries)",
            "Timor-Leste",
            "Middle East & North Africa (IDA & IBRD countries)",
            "Tonga",
            "South Asia (IDA & IBRD)",
            "Sub-Saharan Africa (IDA & IBRD)",
            "Trinidad and Tobago",
            "Tunisia",
            "Turkey",
            "Tanzania",
            "Uganda",
            "Ukraine",
            "Upper middle income",
            "Uruguay",
            "United States",
            "Uzbekistan",
            "St. Vincent and the Grenadines",
            "Venezuela, RB",
            "Virgin Islands (U.S.)",
            "Vietnam",
            "Vanuatu",
            "World",
            "Samoa",
            "Yemen, Rep.",
            "South Africa",
            "Zambia",
            "Zimbabwe"
           ],
           "locations": [
            "AFE",
            "AFG",
            "AFW",
            "AGO",
            "ALB",
            "ARB",
            "ARE",
            "ARG",
            "ARM",
            "AUS",
            "AUT",
            "AZE",
            "BDI",
            "BEL",
            "BEN",
            "BFA",
            "BGD",
            "BGR",
            "BHR",
            "BHS",
            "BIH",
            "BLR",
            "BLZ",
            "BOL",
            "BRA",
            "BRB",
            "BRN",
            "BTN",
            "BWA",
            "CAF",
            "CAN",
            "CEB",
            "CHE",
            "CHI",
            "CHL",
            "CHN",
            "CIV",
            "CMR",
            "COD",
            "COG",
            "COL",
            "COM",
            "CPV",
            "CRI",
            "CSS",
            "CUB",
            "CYP",
            "CZE",
            "DEU",
            "DJI",
            "DNK",
            "DOM",
            "DZA",
            "EAP",
            "EAR",
            "EAS",
            "ECA",
            "ECS",
            "ECU",
            "EGY",
            "EMU",
            "ERI",
            "ESP",
            "EST",
            "ETH",
            "EUU",
            "FCS",
            "FIN",
            "FJI",
            "FRA",
            "GAB",
            "GBR",
            "GEO",
            "GHA",
            "GIN",
            "GMB",
            "GNB",
            "GNQ",
            "GRC",
            "GTM",
            "GUM",
            "GUY",
            "HIC",
            "HKG",
            "HND",
            "HPC",
            "HRV",
            "HTI",
            "HUN",
            "IBD",
            "IBT",
            "IDA",
            "IDB",
            "IDN",
            "IDX",
            "IND",
            "IRL",
            "IRN",
            "IRQ",
            "ISL",
            "ISR",
            "ITA",
            "JAM",
            "JOR",
            "JPN",
            "KAZ",
            "KEN",
            "KGZ",
            "KHM",
            "KOR",
            "KWT",
            "LAC",
            "LAO",
            "LBN",
            "LBR",
            "LBY",
            "LCA",
            "LCN",
            "LDC",
            "LIC",
            "LKA",
            "LMC",
            "LMY",
            "LSO",
            "LTE",
            "LTU",
            "LUX",
            "LVA",
            "MAC",
            "MAR",
            "MDA",
            "MDG",
            "MDV",
            "MEA",
            "MEX",
            "MIC",
            "MKD",
            "MLI",
            "MLT",
            "MMR",
            "MNA",
            "MNE",
            "MNG",
            "MOZ",
            "MRT",
            "MUS",
            "MWI",
            "MYS",
            "NAC",
            "NAM",
            "NCL",
            "NER",
            "NGA",
            "NIC",
            "NLD",
            "NOR",
            "NPL",
            "NZL",
            "OED",
            "OMN",
            "OSS",
            "PAK",
            "PAN",
            "PER",
            "PHL",
            "PNG",
            "POL",
            "PRE",
            "PRI",
            "PRK",
            "PRT",
            "PRY",
            "PSE",
            "PSS",
            "PST",
            "PYF",
            "QAT",
            "ROU",
            "RUS",
            "RWA",
            "SAS",
            "SAU",
            "SDN",
            "SEN",
            "SGP",
            "SLB",
            "SLE",
            "SLV",
            "SOM",
            "SRB",
            "SSA",
            "SSD",
            "SSF",
            "SST",
            "STP",
            "SUR",
            "SVK",
            "SVN",
            "SWE",
            "SWZ",
            "SYR",
            "TCD",
            "TEA",
            "TEC",
            "TGO",
            "THA",
            "TJK",
            "TKM",
            "TLA",
            "TLS",
            "TMN",
            "TON",
            "TSA",
            "TSS",
            "TTO",
            "TUN",
            "TUR",
            "TZA",
            "UGA",
            "UKR",
            "UMC",
            "URY",
            "USA",
            "UZB",
            "VCT",
            "VEN",
            "VIR",
            "VNM",
            "VUT",
            "WLD",
            "WSM",
            "YEM",
            "ZAF",
            "ZMB",
            "ZWE"
           ],
           "name": "",
           "type": "choropleth",
           "z": [
            12.992789917496,
            10.086,
            8.43270703010195,
            16.428,
            39.744,
            27.0682497723488,
            5.211,
            19.132,
            20.65,
            13.305,
            10.265,
            13.287,
            2.926,
            23.202,
            4.75,
            7.005,
            10.268,
            23.796,
            5.49,
            29.238,
            63.373,
            11.079,
            18.289,
            4.608,
            15.45,
            32.808,
            24.397,
            9.023,
            35.447,
            10.081,
            13.499,
            23.6242448455558,
            8.605,
            21.665,
            17.027,
            10.535,
            4.882,
            6.177,
            8.418,
            39.504,
            17.659,
            19.083,
            27.302,
            24.28,
            22.4985185599618,
            6.805,
            35.466,
            15.852,
            7.733,
            71.297,
            14.201,
            13.363,
            25.4,
            10.2353166788374,
            17.7499810683471,
            10.1196748404379,
            16.6968585563105,
            20.5162345407014,
            9.043,
            32.206,
            26.8046224905822,
            10.018,
            53.202,
            14.963,
            3.722,
            25.8562335016243,
            11.939555975267,
            20.436,
            14.244,
            24.196,
            36.152,
            16.796,
            37.941,
            9.501,
            6.566,
            11.222,
            4.211,
            15.641,
            52.286,
            5.725,
            17.26,
            24.347,
            17.3221901552857,
            9.234,
            11.899,
            8.73033730197794,
            45.542,
            32.755,
            20.364,
            17.18874376068,
            14.8679487270078,
            9.09425677674498,
            7.46593972825548,
            16.042,
            9.91555819184204,
            22.409,
            23.431,
            25.03,
            19.923,
            9.585,
            10.596,
            42.707,
            26.461,
            27.468,
            6.288,
            3.847,
            7.307,
            6.403,
            1.071,
            8.579,
            15.375,
            13.4582003384512,
            3.944,
            19.51,
            1.556,
            50.577,
            47.506,
            13.7313874883491,
            9.76481192074195,
            9.8430787451783,
            18.787,
            16.7475933919682,
            14.7655026385617,
            24.737,
            12.0165377789099,
            19.294,
            22.408,
            19.628,
            3.839,
            20.012,
            9.326,
            2.563,
            18.384,
            25.8401326244574,
            9.432,
            15.3563548673084,
            53.755,
            2.174,
            11.681,
            1.588,
            26.6803503712009,
            36.027,
            11.99,
            7.127,
            17.411,
            24.726,
            6.793,
            9.967,
            13.4056664892843,
            38.641,
            38.216,
            0.67,
            10.298,
            8.384,
            12.74,
            7.828,
            19.752,
            14.123,
            16.1717708905425,
            10.79,
            24.2804327953983,
            4.053,
            11.532,
            7.563,
            9.663,
            4.405,
            23.852,
            10.0604671477103,
            30.336,
            6.68,
            34.761,
            11.074,
            36.263,
            8.92611076463111,
            17.0234341459554,
            34.292,
            0.74,
            23.99,
            13.995,
            16.695,
            18.5951921761239,
            30.326,
            32.222,
            9.2,
            8.774,
            1.296,
            9.463,
            9.588,
            33.494,
            47.61,
            11.189728038298,
            18.728,
            11.189728038298,
            23.0982654785759,
            20.357,
            15.664,
            29.728,
            20.215,
            22.739,
            49.19,
            21.871,
            1.545,
            10.2821902649573,
            17.714327822774,
            3.981,
            3.151,
            19.754,
            9.583,
            13.7344022752326,
            11.927,
            26.5518418271359,
            5.378,
            18.5951921761239,
            11.189728038298,
            5.86,
            36.909,
            17.468,
            3.758,
            3.373,
            23.576,
            13.4978946957653,
            19.426,
            13.396,
            12.315,
            37.398,
            14.823,
            27.615,
            4.756,
            4.278,
            15.0814336202401,
            17.22,
            24.495,
            43.958,
            17.144,
            6.937
           ]
          }
         ],
         "name": "2014"
        },
        {
         "data": [
          {
           "coloraxis": "coloraxis",
           "geo": "geo",
           "hovertemplate": "<b>%{hovertext}</b><br><br>Year=2015<br>Country Code=%{location}<br>Water Leakage=%{z}<extra></extra>",
           "hovertext": [
            "Africa Eastern and Southern",
            "Afghanistan",
            "Africa Western and Central",
            "Angola",
            "Albania",
            "Arab World",
            "United Arab Emirates",
            "Argentina",
            "Armenia",
            "Australia",
            "Austria",
            "Azerbaijan",
            "Burundi",
            "Belgium",
            "Benin",
            "Burkina Faso",
            "Bangladesh",
            "Bulgaria",
            "Bahrain",
            "Bahamas",
            "Bosnia and Herzegovina",
            "Belarus",
            "Belize",
            "Bolivia",
            "Brazil",
            "Barbados",
            "Brunei Darussalam",
            "Bhutan",
            "Botswana",
            "Central African Republic",
            "Canada",
            "Central Europe and the Baltics",
            "Switzerland",
            "Channel Islands",
            "Chile",
            "China",
            "Cote d'Ivoire",
            "Cameroon",
            "Congo, Dem. Rep.",
            "Congo, Rep.",
            "Colombia",
            "Comoros",
            "Cabo Verde",
            "Costa Rica",
            "Caribbean small states",
            "Cuba",
            "Cyprus",
            "Czech Republic",
            "Germany",
            "Djibouti",
            "Denmark",
            "Dominican Republic",
            "Algeria",
            "East Asia and Pacific",
            "Early-demographic dividend",
            "East Asia & Pacific (excluding high income)",
            "Europe and Central Asia",
            "Europe & Central Asia (excluding high income)",
            "Ecuador",
            "Egypt",
            "Euro area",
            "Eritrea",
            "Spain",
            "Estonia",
            "Ethiopia",
            "European Union",
            "Fragile and conflict affected situations",
            "Finland",
            "Fiji",
            "France",
            "Gabon",
            "United Kingdom",
            "Georgia",
            "Ghana",
            "Guinea",
            "Gambia, The",
            "Guinea-Bissau",
            "Equatorial Guinea",
            "Greece",
            "Guatemala",
            "Guam",
            "Guyana",
            "High income",
            "Hong Kong SAR, China",
            "Honduras",
            "Heavily indebted poor countries (HIPC)",
            "Croatia",
            "Haiti",
            "Hungary",
            "IBRD only",
            "IDA & IBRD total",
            "IDA only",
            "Indonesia",
            "Indonesia",
            "East Asia & Pacific (IDA & IBRD countries)",
            "India",
            "Ireland",
            "Iran, Islamic Rep.",
            "Iraq",
            "Iceland",
            "Israel",
            "Italy",
            "Jamaica",
            "Jordan",
            "Japan",
            "Kazakhstan",
            "Kenya",
            "Kyrgyz Republic",
            "Cambodia",
            "Korea, Rep.",
            "Kuwait",
            "Latin America & Caribbean",
            "Lao PDR",
            "Lebanon",
            "Liberia",
            "Libya",
            "St. Lucia",
            "Latin America & the Caribbean (excluding high income)",
            "Least developed countries: UN classification",
            "Low income",
            "Sri Lanka",
            "Lower middle income",
            "Low & middle income",
            "Lesotho",
            "Late-demographic dividend",
            "Lithuania",
            "Luxembourg",
            "Latvia",
            "Macao SAR, China",
            "Morocco",
            "Moldova",
            "Madagascar",
            "Maldives",
            "Middle East & North Africa",
            "Mexico",
            "Middle income",
            "North Macedonia",
            "Mali",
            "Malta",
            "Myanmar",
            "Middle East & North Africa (excluding high income)",
            "Montenegro",
            "Mongolia",
            "Mozambique",
            "Mauritania",
            "Mauritius",
            "Malawi",
            "Malaysia",
            "North America",
            "Namibia",
            "New Caledonia",
            "Niger",
            "Nigeria",
            "Nicaragua",
            "Netherlands",
            "Norway",
            "Nepal",
            "New Zealand",
            "OECD members",
            "Oman",
            "Other small states",
            "Pakistan",
            "Panama",
            "Peru",
            "Philippines",
            "Papua New Guinea",
            "Poland",
            "Pre-demographic dividend",
            "Puerto Rico",
            "Korea, Dem. People’s Rep.",
            "Portugal",
            "Paraguay",
            "West Bank and Gaza",
            "Pacific island small states",
            "Post-demographic dividend",
            "French Polynesia",
            "Qatar",
            "Romania",
            "Russian Federation",
            "Rwanda",
            "South Asia",
            "Saudi Arabia",
            "Sudan",
            "Senegal",
            "Singapore",
            "Solomon Islands",
            "Sierra Leone",
            "El Salvador",
            "Somalia",
            "Serbia",
            "Sub-Saharan Africa",
            "South Sudan",
            "Sub-Saharan Africa (IDA & IBRD countries)",
            "Small states",
            "Sao Tome and Principe",
            "Suriname",
            "Slovak Republic",
            "Slovenia",
            "Sweden",
            "Eswatini",
            "Syrian Arab Republic",
            "Chad",
            "East Asia & Pacific (IDA & IBRD countries)",
            "Europe & Central Asia (IDA & IBRD countries)",
            "Togo",
            "Thailand",
            "Tajikistan",
            "Turkmenistan",
            "Latin America & the Caribbean (IDA & IBRD countries)",
            "Timor-Leste",
            "Middle East & North Africa (IDA & IBRD countries)",
            "Tonga",
            "South Asia (IDA & IBRD)",
            "Sub-Saharan Africa (IDA & IBRD)",
            "Trinidad and Tobago",
            "Tunisia",
            "Turkey",
            "Tanzania",
            "Uganda",
            "Ukraine",
            "Upper middle income",
            "Uruguay",
            "United States",
            "Uzbekistan",
            "St. Vincent and the Grenadines",
            "Venezuela, RB",
            "Virgin Islands (U.S.)",
            "Vietnam",
            "Vanuatu",
            "World",
            "Samoa",
            "Yemen, Rep.",
            "South Africa",
            "Zambia",
            "Zimbabwe"
           ],
           "locations": [
            "AFE",
            "AFG",
            "AFW",
            "AGO",
            "ALB",
            "ARB",
            "ARE",
            "ARG",
            "ARM",
            "AUS",
            "AUT",
            "AZE",
            "BDI",
            "BEL",
            "BEN",
            "BFA",
            "BGD",
            "BGR",
            "BHR",
            "BHS",
            "BIH",
            "BLR",
            "BLZ",
            "BOL",
            "BRA",
            "BRB",
            "BRN",
            "BTN",
            "BWA",
            "CAF",
            "CAN",
            "CEB",
            "CHE",
            "CHI",
            "CHL",
            "CHN",
            "CIV",
            "CMR",
            "COD",
            "COG",
            "COL",
            "COM",
            "CPV",
            "CRI",
            "CSS",
            "CUB",
            "CYP",
            "CZE",
            "DEU",
            "DJI",
            "DNK",
            "DOM",
            "DZA",
            "EAP",
            "EAR",
            "EAS",
            "ECA",
            "ECS",
            "ECU",
            "EGY",
            "EMU",
            "ERI",
            "ESP",
            "EST",
            "ETH",
            "EUU",
            "FCS",
            "FIN",
            "FJI",
            "FRA",
            "GAB",
            "GBR",
            "GEO",
            "GHA",
            "GIN",
            "GMB",
            "GNB",
            "GNQ",
            "GRC",
            "GTM",
            "GUM",
            "GUY",
            "HIC",
            "HKG",
            "HND",
            "HPC",
            "HRV",
            "HTI",
            "HUN",
            "IBD",
            "IBT",
            "IDA",
            "IDB",
            "IDN",
            "IDX",
            "IND",
            "IRL",
            "IRN",
            "IRQ",
            "ISL",
            "ISR",
            "ITA",
            "JAM",
            "JOR",
            "JPN",
            "KAZ",
            "KEN",
            "KGZ",
            "KHM",
            "KOR",
            "KWT",
            "LAC",
            "LAO",
            "LBN",
            "LBR",
            "LBY",
            "LCA",
            "LCN",
            "LDC",
            "LIC",
            "LKA",
            "LMC",
            "LMY",
            "LSO",
            "LTE",
            "LTU",
            "LUX",
            "LVA",
            "MAC",
            "MAR",
            "MDA",
            "MDG",
            "MDV",
            "MEA",
            "MEX",
            "MIC",
            "MKD",
            "MLI",
            "MLT",
            "MMR",
            "MNA",
            "MNE",
            "MNG",
            "MOZ",
            "MRT",
            "MUS",
            "MWI",
            "MYS",
            "NAC",
            "NAM",
            "NCL",
            "NER",
            "NGA",
            "NIC",
            "NLD",
            "NOR",
            "NPL",
            "NZL",
            "OED",
            "OMN",
            "OSS",
            "PAK",
            "PAN",
            "PER",
            "PHL",
            "PNG",
            "POL",
            "PRE",
            "PRI",
            "PRK",
            "PRT",
            "PRY",
            "PSE",
            "PSS",
            "PST",
            "PYF",
            "QAT",
            "ROU",
            "RUS",
            "RWA",
            "SAS",
            "SAU",
            "SDN",
            "SEN",
            "SGP",
            "SLB",
            "SLE",
            "SLV",
            "SOM",
            "SRB",
            "SSA",
            "SSD",
            "SSF",
            "SST",
            "STP",
            "SUR",
            "SVK",
            "SVN",
            "SWE",
            "SWZ",
            "SYR",
            "TCD",
            "TEA",
            "TEC",
            "TGO",
            "THA",
            "TJK",
            "TKM",
            "TLA",
            "TLS",
            "TMN",
            "TON",
            "TSA",
            "TSS",
            "TTO",
            "TUN",
            "TUR",
            "TZA",
            "UGA",
            "UKR",
            "UMC",
            "URY",
            "USA",
            "UZB",
            "VCT",
            "VEN",
            "VIR",
            "VNM",
            "VUT",
            "WLD",
            "WSM",
            "YEM",
            "ZAF",
            "ZMB",
            "ZWE"
           ],
           "name": "",
           "type": "choropleth",
           "z": [
            12.8743192327329,
            12.495,
            8.86058618801941,
            16.437,
            39.874,
            28.245064973934,
            5.008,
            20.148,
            22.125,
            13.107,
            10.566,
            13.208,
            2.673,
            22.12,
            4.618,
            7.222,
            10.666,
            21.669,
            5.488,
            25.001,
            63.15,
            10.837,
            16.507,
            6.806,
            19.454,
            28.65,
            26.258,
            10.114,
            35.723,
            10.267,
            13.208,
            20.7341222453033,
            8.822,
            20.061,
            16.085,
            10.714,
            3.477,
            6.236,
            8.444,
            39.704,
            16.695,
            19.06,
            28.543,
            22.427,
            21.6354105075814,
            6.203,
            32.349,
            12.596,
            7.212,
            72.208,
            12.151,
            16.467,
            30.258,
            10.5759329377844,
            18.5405541672136,
            10.4219030080107,
            17.3247927300299,
            19.9359961344165,
            8.84,
            34.188,
            25.352796200453,
            10.179,
            48.356,
            14.333,
            4.012,
            24.0903012830636,
            12.1695335544327,
            22.343,
            14.555,
            24.675,
            36.177,
            14.508,
            36.424,
            14.283,
            6.652,
            10.149,
            4.15,
            15.934,
            49.679,
            5.621,
            15.627,
            24.804,
            15.9844205633528,
            10.454,
            11.09,
            9.09868402208819,
            42.396,
            32.615,
            17.234,
            17.9992489254814,
            15.5736356858378,
            9.72714517264253,
            8.78989815699773,
            17.274,
            10.1974645730154,
            23.374,
            20.257,
            25.994,
            21.199,
            8.595,
            9.306,
            40.37,
            25.919,
            30.917,
            5.473,
            3.794,
            7.338,
            6.623,
            0.773,
            9.912,
            16.196,
            14.6503765701395,
            4.555,
            20.408,
            1.927,
            50.255,
            46.621,
            14.6979063912061,
            10.0067113612712,
            10.1240041645064,
            19.261,
            17.6304655080499,
            15.5094576858924,
            24.782,
            12.689101764914,
            16.34,
            17.357,
            16.312,
            4.322,
            20.864,
            12.353,
            3.339,
            16.858,
            27.0687850419274,
            8.55,
            16.1773379114935,
            47.745,
            2.158,
            11.614,
            1.595,
            28.2102801802453,
            37.741,
            12.751,
            7.231,
            18.57,
            25.577,
            6.853,
            11.261,
            11.7554817875666,
            41.308,
            37.203,
            0.694,
            10.817,
            8.81,
            11.237,
            9.89,
            19.656,
            13.917,
            15.0113587782294,
            10.23,
            24.2976155108436,
            6.676,
            11.683,
            6.87,
            8.688,
            4.555,
            20.778,
            10.3400437044922,
            26.24,
            6.823,
            31.964,
            10.911,
            37.115,
            9.0393731393433,
            15.7373458574878,
            34.243,
            0.574,
            21.635,
            16.327,
            16.644,
            19.7210405296765,
            28.979,
            32.363,
            8.044,
            9.363,
            1.322,
            8.087,
            8.68,
            33.416,
            43.234,
            11.2842114257378,
            18.969,
            11.2842114257378,
            22.9707029469586,
            20.617,
            13.068,
            26.52,
            16.274,
            20.293,
            47.971,
            21.821,
            1.54,
            10.6267921613249,
            17.9320333474645,
            4.289,
            3.151,
            18.066,
            9.478,
            14.7517235934438,
            12.537,
            28.088737874814,
            5.716,
            19.7210405296765,
            11.2842114257378,
            5.833,
            35.052,
            18.133,
            3.803,
            4.091,
            22.581,
            14.1687464441588,
            22.856,
            11.606,
            12.485,
            37.516,
            13.235,
            26.595,
            6.351,
            4.41,
            15.557597838566,
            17.533,
            24.997,
            41.999,
            17.206,
            7.862
           ]
          }
         ],
         "name": "2015"
        },
        {
         "data": [
          {
           "coloraxis": "coloraxis",
           "geo": "geo",
           "hovertemplate": "<b>%{hovertext}</b><br><br>Year=2016<br>Country Code=%{location}<br>Water Leakage=%{z}<extra></extra>",
           "hovertext": [
            "Africa Eastern and Southern",
            "Afghanistan",
            "Africa Western and Central",
            "Angola",
            "Albania",
            "Arab World",
            "United Arab Emirates",
            "Argentina",
            "Armenia",
            "Australia",
            "Austria",
            "Azerbaijan",
            "Burundi",
            "Belgium",
            "Benin",
            "Burkina Faso",
            "Bangladesh",
            "Bulgaria",
            "Bahrain",
            "Bahamas",
            "Bosnia and Herzegovina",
            "Belarus",
            "Belize",
            "Bolivia",
            "Brazil",
            "Barbados",
            "Brunei Darussalam",
            "Bhutan",
            "Botswana",
            "Central African Republic",
            "Canada",
            "Central Europe and the Baltics",
            "Switzerland",
            "Channel Islands",
            "Chile",
            "China",
            "Cote d'Ivoire",
            "Cameroon",
            "Congo, Dem. Rep.",
            "Congo, Rep.",
            "Colombia",
            "Comoros",
            "Cabo Verde",
            "Costa Rica",
            "Caribbean small states",
            "Cuba",
            "Cyprus",
            "Czech Republic",
            "Germany",
            "Djibouti",
            "Denmark",
            "Dominican Republic",
            "Algeria",
            "East Asia and Pacific",
            "Early-demographic dividend",
            "East Asia & Pacific (excluding high income)",
            "Europe and Central Asia",
            "Europe & Central Asia (excluding high income)",
            "Ecuador",
            "Egypt",
            "Euro area",
            "Eritrea",
            "Spain",
            "Estonia",
            "Ethiopia",
            "European Union",
            "Fragile and conflict affected situations",
            "Finland",
            "Fiji",
            "France",
            "Gabon",
            "United Kingdom",
            "Georgia",
            "Ghana",
            "Guinea",
            "Gambia, The",
            "Guinea-Bissau",
            "Equatorial Guinea",
            "Greece",
            "Guatemala",
            "Guam",
            "Guyana",
            "High income",
            "Hong Kong SAR, China",
            "Honduras",
            "Heavily indebted poor countries (HIPC)",
            "Croatia",
            "Haiti",
            "Hungary",
            "IBRD only",
            "IDA & IBRD total",
            "IDA only",
            "Indonesia",
            "Indonesia",
            "East Asia & Pacific (IDA & IBRD countries)",
            "India",
            "Ireland",
            "Iran, Islamic Rep.",
            "Iraq",
            "Iceland",
            "Israel",
            "Italy",
            "Jamaica",
            "Jordan",
            "Japan",
            "Kazakhstan",
            "Kenya",
            "Kyrgyz Republic",
            "Cambodia",
            "Korea, Rep.",
            "Kuwait",
            "Latin America & Caribbean",
            "Lao PDR",
            "Lebanon",
            "Liberia",
            "Libya",
            "St. Lucia",
            "Latin America & the Caribbean (excluding high income)",
            "Least developed countries: UN classification",
            "Low income",
            "Sri Lanka",
            "Lower middle income",
            "Low & middle income",
            "Lesotho",
            "Late-demographic dividend",
            "Lithuania",
            "Luxembourg",
            "Latvia",
            "Macao SAR, China",
            "Morocco",
            "Moldova",
            "Madagascar",
            "Maldives",
            "Middle East & North Africa",
            "Mexico",
            "Middle income",
            "North Macedonia",
            "Mali",
            "Malta",
            "Myanmar",
            "Middle East & North Africa (excluding high income)",
            "Montenegro",
            "Mongolia",
            "Mozambique",
            "Mauritania",
            "Mauritius",
            "Malawi",
            "Malaysia",
            "North America",
            "Namibia",
            "New Caledonia",
            "Niger",
            "Nigeria",
            "Nicaragua",
            "Netherlands",
            "Norway",
            "Nepal",
            "New Zealand",
            "OECD members",
            "Oman",
            "Other small states",
            "Pakistan",
            "Panama",
            "Peru",
            "Philippines",
            "Papua New Guinea",
            "Poland",
            "Pre-demographic dividend",
            "Puerto Rico",
            "Korea, Dem. People’s Rep.",
            "Portugal",
            "Paraguay",
            "West Bank and Gaza",
            "Pacific island small states",
            "Post-demographic dividend",
            "French Polynesia",
            "Qatar",
            "Romania",
            "Russian Federation",
            "Rwanda",
            "South Asia",
            "Saudi Arabia",
            "Sudan",
            "Senegal",
            "Singapore",
            "Solomon Islands",
            "Sierra Leone",
            "El Salvador",
            "Somalia",
            "Serbia",
            "Sub-Saharan Africa",
            "South Sudan",
            "Sub-Saharan Africa (IDA & IBRD countries)",
            "Small states",
            "Sao Tome and Principe",
            "Suriname",
            "Slovak Republic",
            "Slovenia",
            "Sweden",
            "Eswatini",
            "Syrian Arab Republic",
            "Chad",
            "East Asia & Pacific (IDA & IBRD countries)",
            "Europe & Central Asia (IDA & IBRD countries)",
            "Togo",
            "Thailand",
            "Tajikistan",
            "Turkmenistan",
            "Latin America & the Caribbean (IDA & IBRD countries)",
            "Timor-Leste",
            "Middle East & North Africa (IDA & IBRD countries)",
            "Tonga",
            "South Asia (IDA & IBRD)",
            "Sub-Saharan Africa (IDA & IBRD)",
            "Trinidad and Tobago",
            "Tunisia",
            "Turkey",
            "Tanzania",
            "Uganda",
            "Ukraine",
            "Upper middle income",
            "Uruguay",
            "United States",
            "Uzbekistan",
            "St. Vincent and the Grenadines",
            "Venezuela, RB",
            "Virgin Islands (U.S.)",
            "Vietnam",
            "Vanuatu",
            "World",
            "Samoa",
            "Yemen, Rep.",
            "South Africa",
            "Zambia",
            "Zimbabwe"
           ],
           "locations": [
            "AFE",
            "AFG",
            "AFW",
            "AGO",
            "ALB",
            "ARB",
            "ARE",
            "ARG",
            "ARM",
            "AUS",
            "AUT",
            "AZE",
            "BDI",
            "BEL",
            "BEN",
            "BFA",
            "BGD",
            "BGR",
            "BHR",
            "BHS",
            "BIH",
            "BLR",
            "BLZ",
            "BOL",
            "BRA",
            "BRB",
            "BRN",
            "BTN",
            "BWA",
            "CAF",
            "CAN",
            "CEB",
            "CHE",
            "CHI",
            "CHL",
            "CHN",
            "CIV",
            "CMR",
            "COD",
            "COG",
            "COL",
            "COM",
            "CPV",
            "CRI",
            "CSS",
            "CUB",
            "CYP",
            "CZE",
            "DEU",
            "DJI",
            "DNK",
            "DOM",
            "DZA",
            "EAP",
            "EAR",
            "EAS",
            "ECA",
            "ECS",
            "ECU",
            "EGY",
            "EMU",
            "ERI",
            "ESP",
            "EST",
            "ETH",
            "EUU",
            "FCS",
            "FIN",
            "FJI",
            "FRA",
            "GAB",
            "GBR",
            "GEO",
            "GHA",
            "GIN",
            "GMB",
            "GNB",
            "GNQ",
            "GRC",
            "GTM",
            "GUM",
            "GUY",
            "HIC",
            "HKG",
            "HND",
            "HPC",
            "HRV",
            "HTI",
            "HUN",
            "IBD",
            "IBT",
            "IDA",
            "IDB",
            "IDN",
            "IDX",
            "IND",
            "IRL",
            "IRN",
            "IRQ",
            "ISL",
            "ISR",
            "ITA",
            "JAM",
            "JOR",
            "JPN",
            "KAZ",
            "KEN",
            "KGZ",
            "KHM",
            "KOR",
            "KWT",
            "LAC",
            "LAO",
            "LBN",
            "LBR",
            "LBY",
            "LCA",
            "LCN",
            "LDC",
            "LIC",
            "LKA",
            "LMC",
            "LMY",
            "LSO",
            "LTE",
            "LTU",
            "LUX",
            "LVA",
            "MAC",
            "MAR",
            "MDA",
            "MDG",
            "MDV",
            "MEA",
            "MEX",
            "MIC",
            "MKD",
            "MLI",
            "MLT",
            "MMR",
            "MNA",
            "MNE",
            "MNG",
            "MOZ",
            "MRT",
            "MUS",
            "MWI",
            "MYS",
            "NAC",
            "NAM",
            "NCL",
            "NER",
            "NGA",
            "NIC",
            "NLD",
            "NOR",
            "NPL",
            "NZL",
            "OED",
            "OMN",
            "OSS",
            "PAK",
            "PAN",
            "PER",
            "PHL",
            "PNG",
            "POL",
            "PRE",
            "PRI",
            "PRK",
            "PRT",
            "PRY",
            "PSE",
            "PSS",
            "PST",
            "PYF",
            "QAT",
            "ROU",
            "RUS",
            "RWA",
            "SAS",
            "SAU",
            "SDN",
            "SEN",
            "SGP",
            "SLB",
            "SLE",
            "SLV",
            "SOM",
            "SRB",
            "SSA",
            "SSD",
            "SSF",
            "SST",
            "STP",
            "SUR",
            "SVK",
            "SVN",
            "SWE",
            "SWZ",
            "SYR",
            "TCD",
            "TEA",
            "TEC",
            "TGO",
            "THA",
            "TJK",
            "TKM",
            "TLA",
            "TLS",
            "TMN",
            "TON",
            "TSA",
            "TSS",
            "TTO",
            "TUN",
            "TUR",
            "TZA",
            "UGA",
            "UKR",
            "UMC",
            "URY",
            "USA",
            "UZB",
            "VCT",
            "VEN",
            "VIR",
            "VNM",
            "VUT",
            "WLD",
            "WSM",
            "YEM",
            "ZAF",
            "ZMB",
            "ZWE"
           ],
           "name": "",
           "type": "choropleth",
           "z": [
            13.0076500023729,
            14.902,
            8.69028626350967,
            16.436,
            36.172,
            27.8765743933314,
            4.813,
            21.827,
            23.558,
            12.634,
            11.228,
            13.224,
            2.343,
            20.095,
            4.369,
            7.387,
            11.051,
            17.234,
            5.57,
            25.944,
            55.099,
            10.759,
            16.591,
            6.761,
            26.697,
            26.124,
            27.812,
            11.629,
            35.36,
            10.234,
            13.111,
            17.7026464763653,
            8.581,
            18.598,
            16.009,
            10.612,
            2.036,
            6.308,
            8.486,
            39.817,
            17.586,
            18.932,
            29.8,
            21.561,
            22.5601570037947,
            5.201,
            28.735,
            10.497,
            7.032,
            73.052,
            12.153,
            16.766,
            26.168,
            10.3625319107511,
            18.8733489596585,
            10.2080650885846,
            17.3631449720175,
            19.1173770682368,
            10.37,
            33.689,
            23.9100268251635,
            10.162,
            44.471,
            14.118,
            4.305,
            22.3437630967743,
            12.4784012782702,
            20.062,
            14.927,
            24.468,
            36.188,
            12.89,
            35.667,
            10.362,
            6.617,
            9.203,
            4.109,
            16.003,
            47.104,
            5.603,
            12.202,
            25.192,
            14.782239889756,
            9.749,
            12.625,
            9.09610047698022,
            31.291,
            32.533,
            12.884,
            18.6975096599257,
            16.0634441221077,
            9.90627112787473,
            9.16155953044523,
            16.021,
            10.2774913038313,
            24.358,
            16.793,
            29.063,
            22.443,
            6.34,
            8.64,
            37.786,
            24.747,
            35.617,
            5.117,
            3.832,
            7.374,
            6.855,
            1.163,
            10.155,
            15.176,
            17.2998585526724,
            5.168,
            21.203,
            2.298,
            50.086,
            45.541,
            17.0279468402354,
            10.2484218746471,
            10.3706404519547,
            20.074,
            18.1262048174269,
            16.0328022383191,
            24.829,
            13.5147823038873,
            14.485,
            18.886,
            17.282,
            4.975,
            22.317,
            10.961,
            3.378,
            15.316,
            27.1673784567911,
            7.668,
            16.758204214456,
            48.957,
            2.142,
            10.674,
            2.526,
            28.6830530377416,
            36.1,
            20.188,
            7.27,
            19.855,
            22.951,
            6.887,
            11.097,
            10.6615664459471,
            44.138,
            36.15,
            0.713,
            11.344,
            7.394,
            10.822,
            11.126,
            19.47,
            13.525,
            14.1803056017857,
            9.658,
            24.0996641248677,
            7.069,
            12.3,
            8.272,
            7.77,
            4.615,
            17.669,
            10.5879779226029,
            25.948,
            6.983,
            27.956,
            11.497,
            38.391,
            9.12030895437076,
            14.6640307424505,
            34.3,
            0.484,
            20.604,
            16.655,
            16.681,
            20.5798139642657,
            24.495,
            32.383,
            6.369,
            9.14,
            1.326,
            6.441,
            9.519,
            33.598,
            34.953,
            11.2923736149113,
            19.021,
            11.2923736149113,
            22.9913721063277,
            20.789,
            25.217,
            22.253,
            15.221,
            18.839,
            46.959,
            21.669,
            1.537,
            10.4091288628144,
            17.6142648283568,
            6.788,
            3.795,
            16.196,
            9.334,
            17.1410127315749,
            13.076,
            28.5488247132052,
            5.761,
            20.5798139642657,
            11.2923736149113,
            8.631,
            35.245,
            19.126,
            3.824,
            4.816,
            23.091,
            14.8089409560103,
            24.129,
            10.409,
            12.271,
            37.628,
            11.673,
            27.849,
            6.788,
            4.294,
            15.8601002161789,
            17.934,
            24.64,
            43.936,
            17.146,
            8.781
           ]
          }
         ],
         "name": "2016"
        },
        {
         "data": [
          {
           "coloraxis": "coloraxis",
           "geo": "geo",
           "hovertemplate": "<b>%{hovertext}</b><br><br>Year=2017<br>Country Code=%{location}<br>Water Leakage=%{z}<extra></extra>",
           "hovertext": [
            "Africa Eastern and Southern",
            "Afghanistan",
            "Africa Western and Central",
            "Angola",
            "Albania",
            "Arab World",
            "United Arab Emirates",
            "Argentina",
            "Armenia",
            "Australia",
            "Austria",
            "Azerbaijan",
            "Burundi",
            "Belgium",
            "Benin",
            "Burkina Faso",
            "Bangladesh",
            "Bulgaria",
            "Bahrain",
            "Bahamas",
            "Bosnia and Herzegovina",
            "Belarus",
            "Belize",
            "Bolivia",
            "Brazil",
            "Barbados",
            "Brunei Darussalam",
            "Bhutan",
            "Botswana",
            "Central African Republic",
            "Canada",
            "Central Europe and the Baltics",
            "Switzerland",
            "Channel Islands",
            "Chile",
            "China",
            "Cote d'Ivoire",
            "Cameroon",
            "Congo, Dem. Rep.",
            "Congo, Rep.",
            "Colombia",
            "Comoros",
            "Cabo Verde",
            "Costa Rica",
            "Caribbean small states",
            "Cuba",
            "Cyprus",
            "Czech Republic",
            "Germany",
            "Djibouti",
            "Denmark",
            "Dominican Republic",
            "Algeria",
            "East Asia and Pacific",
            "Early-demographic dividend",
            "East Asia & Pacific (excluding high income)",
            "Europe and Central Asia",
            "Europe & Central Asia (excluding high income)",
            "Ecuador",
            "Egypt",
            "Euro area",
            "Eritrea",
            "Spain",
            "Estonia",
            "Ethiopia",
            "European Union",
            "Fragile and conflict affected situations",
            "Finland",
            "Fiji",
            "France",
            "Gabon",
            "United Kingdom",
            "Georgia",
            "Ghana",
            "Guinea",
            "Gambia, The",
            "Guinea-Bissau",
            "Equatorial Guinea",
            "Greece",
            "Guatemala",
            "Guam",
            "Guyana",
            "High income",
            "Hong Kong SAR, China",
            "Honduras",
            "Heavily indebted poor countries (HIPC)",
            "Croatia",
            "Haiti",
            "Hungary",
            "IBRD only",
            "IDA & IBRD total",
            "IDA only",
            "Indonesia",
            "Indonesia",
            "East Asia & Pacific (IDA & IBRD countries)",
            "India",
            "Ireland",
            "Iran, Islamic Rep.",
            "Iraq",
            "Iceland",
            "Israel",
            "Italy",
            "Jamaica",
            "Jordan",
            "Japan",
            "Kazakhstan",
            "Kenya",
            "Kyrgyz Republic",
            "Cambodia",
            "Korea, Rep.",
            "Kuwait",
            "Latin America & Caribbean",
            "Lao PDR",
            "Lebanon",
            "Liberia",
            "Libya",
            "St. Lucia",
            "Latin America & the Caribbean (excluding high income)",
            "Least developed countries: UN classification",
            "Low income",
            "Sri Lanka",
            "Lower middle income",
            "Low & middle income",
            "Lesotho",
            "Late-demographic dividend",
            "Lithuania",
            "Luxembourg",
            "Latvia",
            "Macao SAR, China",
            "Morocco",
            "Moldova",
            "Madagascar",
            "Maldives",
            "Middle East & North Africa",
            "Mexico",
            "Middle income",
            "North Macedonia",
            "Mali",
            "Malta",
            "Myanmar",
            "Middle East & North Africa (excluding high income)",
            "Montenegro",
            "Mongolia",
            "Mozambique",
            "Mauritania",
            "Mauritius",
            "Malawi",
            "Malaysia",
            "North America",
            "Namibia",
            "New Caledonia",
            "Niger",
            "Nigeria",
            "Nicaragua",
            "Netherlands",
            "Norway",
            "Nepal",
            "New Zealand",
            "OECD members",
            "Oman",
            "Other small states",
            "Pakistan",
            "Panama",
            "Peru",
            "Philippines",
            "Papua New Guinea",
            "Poland",
            "Pre-demographic dividend",
            "Puerto Rico",
            "Korea, Dem. People’s Rep.",
            "Portugal",
            "Paraguay",
            "West Bank and Gaza",
            "Pacific island small states",
            "Post-demographic dividend",
            "French Polynesia",
            "Qatar",
            "Romania",
            "Russian Federation",
            "Rwanda",
            "South Asia",
            "Saudi Arabia",
            "Sudan",
            "Senegal",
            "Singapore",
            "Solomon Islands",
            "Sierra Leone",
            "El Salvador",
            "Somalia",
            "Serbia",
            "Sub-Saharan Africa",
            "South Sudan",
            "Sub-Saharan Africa (IDA & IBRD countries)",
            "Small states",
            "Sao Tome and Principe",
            "Suriname",
            "Slovak Republic",
            "Slovenia",
            "Sweden",
            "Eswatini",
            "Syrian Arab Republic",
            "Chad",
            "East Asia & Pacific (IDA & IBRD countries)",
            "Europe & Central Asia (IDA & IBRD countries)",
            "Togo",
            "Thailand",
            "Tajikistan",
            "Turkmenistan",
            "Latin America & the Caribbean (IDA & IBRD countries)",
            "Timor-Leste",
            "Middle East & North Africa (IDA & IBRD countries)",
            "Tonga",
            "South Asia (IDA & IBRD)",
            "Sub-Saharan Africa (IDA & IBRD)",
            "Trinidad and Tobago",
            "Tunisia",
            "Turkey",
            "Tanzania",
            "Uganda",
            "Ukraine",
            "Upper middle income",
            "Uruguay",
            "United States",
            "Uzbekistan",
            "St. Vincent and the Grenadines",
            "Venezuela, RB",
            "Virgin Islands (U.S.)",
            "Vietnam",
            "Vanuatu",
            "World",
            "Samoa",
            "Yemen, Rep.",
            "South Africa",
            "Zambia",
            "Zimbabwe"
           ],
           "locations": [
            "AFE",
            "AFG",
            "AFW",
            "AGO",
            "ALB",
            "ARB",
            "ARE",
            "ARG",
            "ARM",
            "AUS",
            "AUT",
            "AZE",
            "BDI",
            "BEL",
            "BEN",
            "BFA",
            "BGD",
            "BGR",
            "BHR",
            "BHS",
            "BIH",
            "BLR",
            "BLZ",
            "BOL",
            "BRA",
            "BRB",
            "BRN",
            "BTN",
            "BWA",
            "CAF",
            "CAN",
            "CEB",
            "CHE",
            "CHI",
            "CHL",
            "CHN",
            "CIV",
            "CMR",
            "COD",
            "COG",
            "COL",
            "COM",
            "CPV",
            "CRI",
            "CSS",
            "CUB",
            "CYP",
            "CZE",
            "DEU",
            "DJI",
            "DNK",
            "DOM",
            "DZA",
            "EAP",
            "EAR",
            "EAS",
            "ECA",
            "ECS",
            "ECU",
            "EGY",
            "EMU",
            "ERI",
            "ESP",
            "EST",
            "ETH",
            "EUU",
            "FCS",
            "FIN",
            "FJI",
            "FRA",
            "GAB",
            "GBR",
            "GEO",
            "GHA",
            "GIN",
            "GMB",
            "GNB",
            "GNQ",
            "GRC",
            "GTM",
            "GUM",
            "GUY",
            "HIC",
            "HKG",
            "HND",
            "HPC",
            "HRV",
            "HTI",
            "HUN",
            "IBD",
            "IBT",
            "IDA",
            "IDB",
            "IDN",
            "IDX",
            "IND",
            "IRL",
            "IRN",
            "IRQ",
            "ISL",
            "ISR",
            "ITA",
            "JAM",
            "JOR",
            "JPN",
            "KAZ",
            "KEN",
            "KGZ",
            "KHM",
            "KOR",
            "KWT",
            "LAC",
            "LAO",
            "LBN",
            "LBR",
            "LBY",
            "LCA",
            "LCN",
            "LDC",
            "LIC",
            "LKA",
            "LMC",
            "LMY",
            "LSO",
            "LTE",
            "LTU",
            "LUX",
            "LVA",
            "MAC",
            "MAR",
            "MDA",
            "MDG",
            "MDV",
            "MEA",
            "MEX",
            "MIC",
            "MKD",
            "MLI",
            "MLT",
            "MMR",
            "MNA",
            "MNE",
            "MNG",
            "MOZ",
            "MRT",
            "MUS",
            "MWI",
            "MYS",
            "NAC",
            "NAM",
            "NCL",
            "NER",
            "NGA",
            "NIC",
            "NLD",
            "NOR",
            "NPL",
            "NZL",
            "OED",
            "OMN",
            "OSS",
            "PAK",
            "PAN",
            "PER",
            "PHL",
            "PNG",
            "POL",
            "PRE",
            "PRI",
            "PRK",
            "PRT",
            "PRY",
            "PSE",
            "PSS",
            "PST",
            "PYF",
            "QAT",
            "ROU",
            "RUS",
            "RWA",
            "SAS",
            "SAU",
            "SDN",
            "SEN",
            "SGP",
            "SLB",
            "SLE",
            "SLV",
            "SOM",
            "SRB",
            "SSA",
            "SSD",
            "SSF",
            "SST",
            "STP",
            "SUR",
            "SVK",
            "SVN",
            "SWE",
            "SWZ",
            "SYR",
            "TCD",
            "TEA",
            "TEC",
            "TGO",
            "THA",
            "TJK",
            "TKM",
            "TLA",
            "TLS",
            "TMN",
            "TON",
            "TSA",
            "TSS",
            "TTO",
            "TUN",
            "TUR",
            "TZA",
            "UGA",
            "UKR",
            "UMC",
            "URY",
            "USA",
            "UZB",
            "VCT",
            "VEN",
            "VIR",
            "VNM",
            "VUT",
            "WLD",
            "WSM",
            "YEM",
            "ZAF",
            "ZMB",
            "ZWE"
           ],
           "name": "",
           "type": "choropleth",
           "z": [
            12.9736528640868,
            17.303,
            8.78593200122265,
            16.363,
            31.403,
            28.5542791408119,
            7.156,
            22.831,
            25.43,
            12.591,
            9.777,
            12.917,
            2.018,
            19.277,
            4.107,
            7.587,
            12.219,
            12.932,
            5.702,
            21.561,
            46.518,
            9.37,
            15.736,
            6.637,
            28.661,
            26.033,
            29.652,
            13.104,
            35.398,
            10.237,
            11.606,
            14.9921181012507,
            8.062,
            16.854,
            17.139,
            10.474,
            5.172,
            6.379,
            8.479,
            39.552,
            17.879,
            18.889,
            31.25,
            20.804,
            21.0011994701472,
            4.531,
            24.558,
            7.945,
            6.758,
            74.036,
            12.392,
            13.462,
            26.61,
            10.1096671303468,
            19.1881704598566,
            9.94263620747043,
            17.021343844163,
            17.8957818698324,
            8.483,
            32.703,
            21.5961169261717,
            10.142,
            38.574,
            12.18,
            4.6,
            20.0407659413017,
            12.8076249650613,
            20.042,
            14.911,
            22.15,
            36.194,
            11.99,
            28.995,
            6.333,
            6.718,
            8.184,
            4.071,
            16.129,
            43.393,
            4.955,
            12.282,
            25.706,
            13.8041612573156,
            8.548,
            10.79,
            9.22618728393283,
            27.398,
            32.409,
            10.69,
            18.9485917781205,
            16.2945085890083,
            10.2650879718301,
            9.71445153001608,
            14.571,
            10.5380674581809,
            25.304,
            14.392,
            28.206,
            25.266,
            7.563,
            7.266,
            34.741,
            21.799,
            35.391,
            4.602,
            3.78,
            9.048,
            7.091,
            0.38,
            9.774,
            15.13,
            17.6380812813268,
            5.786,
            21.948,
            2.343,
            49.497,
            44.659,
            17.4103017528234,
            10.6438016490874,
            10.6278923463815,
            17.399,
            18.5800773449169,
            16.2772050207969,
            25.106,
            13.6181606997274,
            13.279,
            15.402,
            16.981,
            5.049,
            22.251,
            11.849,
            3.424,
            14.923,
            27.6063297720794,
            6.88,
            17.0232012900208,
            47.26,
            2.233,
            10.544,
            3.6,
            28.6487158072654,
            31.892,
            17.476,
            7.276,
            20.976,
            24.197,
            6.902,
            11.611,
            9.46665247416784,
            41.283,
            34.64,
            0.735,
            11.742,
            6.334,
            8.858,
            10.337,
            19.794,
            13.014,
            13.1610346618239,
            7.609,
            23.6519808069456,
            7.455,
            14.826,
            8.303,
            7.482,
            4.682,
            14.816,
            11.1124565167593,
            23.842,
            6.836,
            23.873,
            10.848,
            41.709,
            9.1569186151282,
            13.1800568750536,
            34.074,
            0.505,
            18.367,
            16.41,
            16.691,
            21.4508084640555,
            31.27,
            32.503,
            5.838,
            9.686,
            1.356,
            5.001,
            9.768,
            33.779,
            31.87,
            11.3040326400883,
            18.905,
            11.3040326400883,
            22.381512797736,
            20.921,
            25.044,
            18.974,
            11.204,
            17.876,
            47.075,
            21.325,
            1.521,
            10.1550117826175,
            16.9961202139903,
            9.254,
            4.469,
            15.868,
            9.068,
            17.5503865703391,
            13.108,
            28.4668621726977,
            6.212,
            21.4508084640555,
            11.3040326400883,
            8.741,
            35.466,
            20.111,
            3.857,
            5.567,
            18.929,
            14.7516564530466,
            25.233,
            9.244,
            13.557,
            37.829,
            12.336,
            26.931,
            7.016,
            4.285,
            15.9596256308386,
            19.095,
            24.583,
            42.811,
            17.051,
            9.67
           ]
          }
         ],
         "name": "2017"
        },
        {
         "data": [
          {
           "coloraxis": "coloraxis",
           "geo": "geo",
           "hovertemplate": "<b>%{hovertext}</b><br><br>Year=2018<br>Country Code=%{location}<br>Water Leakage=%{z}<extra></extra>",
           "hovertext": [
            "Africa Eastern and Southern",
            "Afghanistan",
            "Africa Western and Central",
            "Angola",
            "Albania",
            "Arab World",
            "United Arab Emirates",
            "Argentina",
            "Armenia",
            "Australia",
            "Austria",
            "Azerbaijan",
            "Burundi",
            "Belgium",
            "Benin",
            "Burkina Faso",
            "Bangladesh",
            "Bulgaria",
            "Bahrain",
            "Bahamas",
            "Bosnia and Herzegovina",
            "Belarus",
            "Belize",
            "Bolivia",
            "Brazil",
            "Barbados",
            "Brunei Darussalam",
            "Bhutan",
            "Botswana",
            "Central African Republic",
            "Canada",
            "Central Europe and the Baltics",
            "Switzerland",
            "Channel Islands",
            "Chile",
            "China",
            "Cote d'Ivoire",
            "Cameroon",
            "Congo, Dem. Rep.",
            "Congo, Rep.",
            "Colombia",
            "Comoros",
            "Cabo Verde",
            "Costa Rica",
            "Caribbean small states",
            "Cuba",
            "Cyprus",
            "Czech Republic",
            "Germany",
            "Djibouti",
            "Denmark",
            "Dominican Republic",
            "Algeria",
            "East Asia and Pacific",
            "Early-demographic dividend",
            "East Asia & Pacific (excluding high income)",
            "Europe and Central Asia",
            "Europe & Central Asia (excluding high income)",
            "Ecuador",
            "Egypt",
            "Euro area",
            "Eritrea",
            "Spain",
            "Estonia",
            "Ethiopia",
            "European Union",
            "Fragile and conflict affected situations",
            "Finland",
            "Fiji",
            "France",
            "Gabon",
            "United Kingdom",
            "Georgia",
            "Ghana",
            "Guinea",
            "Gambia, The",
            "Guinea-Bissau",
            "Equatorial Guinea",
            "Greece",
            "Guatemala",
            "Guam",
            "Guyana",
            "High income",
            "Hong Kong SAR, China",
            "Honduras",
            "Heavily indebted poor countries (HIPC)",
            "Croatia",
            "Haiti",
            "Hungary",
            "IBRD only",
            "IDA & IBRD total",
            "IDA only",
            "Indonesia",
            "Indonesia",
            "East Asia & Pacific (IDA & IBRD countries)",
            "India",
            "Ireland",
            "Iran, Islamic Rep.",
            "Iraq",
            "Iceland",
            "Israel",
            "Italy",
            "Jamaica",
            "Jordan",
            "Japan",
            "Kazakhstan",
            "Kenya",
            "Kyrgyz Republic",
            "Cambodia",
            "Korea, Rep.",
            "Kuwait",
            "Latin America & Caribbean",
            "Lao PDR",
            "Lebanon",
            "Liberia",
            "Libya",
            "St. Lucia",
            "Latin America & the Caribbean (excluding high income)",
            "Least developed countries: UN classification",
            "Low income",
            "Sri Lanka",
            "Lower middle income",
            "Low & middle income",
            "Lesotho",
            "Late-demographic dividend",
            "Lithuania",
            "Luxembourg",
            "Latvia",
            "Macao SAR, China",
            "Morocco",
            "Moldova",
            "Madagascar",
            "Maldives",
            "Middle East & North Africa",
            "Mexico",
            "Middle income",
            "North Macedonia",
            "Mali",
            "Malta",
            "Myanmar",
            "Middle East & North Africa (excluding high income)",
            "Montenegro",
            "Mongolia",
            "Mozambique",
            "Mauritania",
            "Mauritius",
            "Malawi",
            "Malaysia",
            "North America",
            "Namibia",
            "New Caledonia",
            "Niger",
            "Nigeria",
            "Nicaragua",
            "Netherlands",
            "Norway",
            "Nepal",
            "New Zealand",
            "OECD members",
            "Oman",
            "Other small states",
            "Pakistan",
            "Panama",
            "Peru",
            "Philippines",
            "Papua New Guinea",
            "Poland",
            "Pre-demographic dividend",
            "Puerto Rico",
            "Korea, Dem. People’s Rep.",
            "Portugal",
            "Paraguay",
            "West Bank and Gaza",
            "Pacific island small states",
            "Post-demographic dividend",
            "French Polynesia",
            "Qatar",
            "Romania",
            "Russian Federation",
            "Rwanda",
            "South Asia",
            "Saudi Arabia",
            "Sudan",
            "Senegal",
            "Singapore",
            "Solomon Islands",
            "Sierra Leone",
            "El Salvador",
            "Somalia",
            "Serbia",
            "Sub-Saharan Africa",
            "South Sudan",
            "Sub-Saharan Africa (IDA & IBRD countries)",
            "Small states",
            "Sao Tome and Principe",
            "Suriname",
            "Slovak Republic",
            "Slovenia",
            "Sweden",
            "Eswatini",
            "Syrian Arab Republic",
            "Chad",
            "East Asia & Pacific (IDA & IBRD countries)",
            "Europe & Central Asia (IDA & IBRD countries)",
            "Togo",
            "Thailand",
            "Tajikistan",
            "Turkmenistan",
            "Latin America & the Caribbean (IDA & IBRD countries)",
            "Timor-Leste",
            "Middle East & North Africa (IDA & IBRD countries)",
            "Tonga",
            "South Asia (IDA & IBRD)",
            "Sub-Saharan Africa (IDA & IBRD)",
            "Trinidad and Tobago",
            "Tunisia",
            "Turkey",
            "Tanzania",
            "Uganda",
            "Ukraine",
            "Upper middle income",
            "Uruguay",
            "United States",
            "Uzbekistan",
            "St. Vincent and the Grenadines",
            "Venezuela, RB",
            "Virgin Islands (U.S.)",
            "Vietnam",
            "Vanuatu",
            "World",
            "Samoa",
            "Yemen, Rep.",
            "South Africa",
            "Zambia",
            "Zimbabwe"
           ],
           "locations": [
            "AFE",
            "AFG",
            "AFW",
            "AGO",
            "ALB",
            "ARB",
            "ARE",
            "ARG",
            "ARM",
            "AUS",
            "AUT",
            "AZE",
            "BDI",
            "BEL",
            "BEN",
            "BFA",
            "BGD",
            "BGR",
            "BHR",
            "BHS",
            "BIH",
            "BLR",
            "BLZ",
            "BOL",
            "BRA",
            "BRB",
            "BRN",
            "BTN",
            "BWA",
            "CAF",
            "CAN",
            "CEB",
            "CHE",
            "CHI",
            "CHL",
            "CHN",
            "CIV",
            "CMR",
            "COD",
            "COG",
            "COL",
            "COM",
            "CPV",
            "CRI",
            "CSS",
            "CUB",
            "CYP",
            "CZE",
            "DEU",
            "DJI",
            "DNK",
            "DOM",
            "DZA",
            "EAP",
            "EAR",
            "EAS",
            "ECA",
            "ECS",
            "ECU",
            "EGY",
            "EMU",
            "ERI",
            "ESP",
            "EST",
            "ETH",
            "EUU",
            "FCS",
            "FIN",
            "FJI",
            "FRA",
            "GAB",
            "GBR",
            "GEO",
            "GHA",
            "GIN",
            "GMB",
            "GNB",
            "GNQ",
            "GRC",
            "GTM",
            "GUM",
            "GUY",
            "HIC",
            "HKG",
            "HND",
            "HPC",
            "HRV",
            "HTI",
            "HUN",
            "IBD",
            "IBT",
            "IDA",
            "IDB",
            "IDN",
            "IDX",
            "IND",
            "IRL",
            "IRN",
            "IRQ",
            "ISL",
            "ISR",
            "ITA",
            "JAM",
            "JOR",
            "JPN",
            "KAZ",
            "KEN",
            "KGZ",
            "KHM",
            "KOR",
            "KWT",
            "LAC",
            "LAO",
            "LBN",
            "LBR",
            "LBY",
            "LCA",
            "LCN",
            "LDC",
            "LIC",
            "LKA",
            "LMC",
            "LMY",
            "LSO",
            "LTE",
            "LTU",
            "LUX",
            "LVA",
            "MAC",
            "MAR",
            "MDA",
            "MDG",
            "MDV",
            "MEA",
            "MEX",
            "MIC",
            "MKD",
            "MLI",
            "MLT",
            "MMR",
            "MNA",
            "MNE",
            "MNG",
            "MOZ",
            "MRT",
            "MUS",
            "MWI",
            "MYS",
            "NAC",
            "NAM",
            "NCL",
            "NER",
            "NGA",
            "NIC",
            "NLD",
            "NOR",
            "NPL",
            "NZL",
            "OED",
            "OMN",
            "OSS",
            "PAK",
            "PAN",
            "PER",
            "PHL",
            "PNG",
            "POL",
            "PRE",
            "PRI",
            "PRK",
            "PRT",
            "PRY",
            "PSE",
            "PSS",
            "PST",
            "PYF",
            "QAT",
            "ROU",
            "RUS",
            "RWA",
            "SAS",
            "SAU",
            "SDN",
            "SEN",
            "SGP",
            "SLB",
            "SLE",
            "SLV",
            "SOM",
            "SRB",
            "SSA",
            "SSD",
            "SSF",
            "SST",
            "STP",
            "SUR",
            "SVK",
            "SVN",
            "SWE",
            "SWZ",
            "SYR",
            "TCD",
            "TEA",
            "TEC",
            "TGO",
            "THA",
            "TJK",
            "TKM",
            "TLA",
            "TLS",
            "TMN",
            "TON",
            "TSA",
            "TSS",
            "TTO",
            "TUN",
            "TUR",
            "TZA",
            "UGA",
            "UKR",
            "UMC",
            "URY",
            "USA",
            "UZB",
            "VCT",
            "VEN",
            "VIR",
            "VNM",
            "VUT",
            "WLD",
            "WSM",
            "YEM",
            "ZAF",
            "ZMB",
            "ZWE"
           ],
           "name": "",
           "type": "choropleth",
           "z": [
            12.887711304244,
            17.292,
            8.91015862820802,
            16.343,
            28.305,
            27.5446870548967,
            6.662,
            23.83,
            26.981,
            11.786,
            9.363,
            12.717,
            1.688,
            15.767,
            3.867,
            7.781,
            12.293,
            12.685,
            5.867,
            24.25,
            39.453,
            10.661,
            18.055,
            6.753,
            28.028,
            24.046,
            31.453,
            14.681,
            35.339,
            10.002,
            11.078,
            12.6924775135243,
            7.927,
            14.968,
            18.036,
            9.714,
            4.56,
            6.432,
            8.468,
            39.465,
            18.618,
            18.899,
            27.104,
            25.126,
            19.6403727500222,
            4.535,
            20.114,
            6.714,
            6.184,
            73.893,
            10.513,
            14.881,
            26.924,
            9.69697029083835,
            19.5614200002889,
            9.51764162335494,
            16.9081536054907,
            16.9148045651214,
            7.964,
            26.323,
            19.621733864187,
            9.824,
            34.352,
            12.063,
            4.899,
            18.092074189536,
            13.0201301735817,
            16.943,
            15.145,
            20.763,
            36.131,
            11.19,
            29.64,
            6.451,
            6.883,
            7.18,
            4.05,
            15.811,
            39.686,
            4.687,
            12.493,
            26.156,
            12.7812640923757,
            8.743,
            10.463,
            9.09276643790545,
            23.752,
            32.33,
            10.159,
            19.096808525734,
            16.3704268618184,
            10.3467229678199,
            10.1971459050858,
            16.413,
            10.4206158387783,
            26.353,
            13.747,
            27.541,
            29.555,
            5.891,
            7.162,
            32.201,
            18.176,
            38.88,
            3.671,
            3.841,
            10.689,
            7.274,
            0.405,
            10.101,
            15.077,
            17.6157800085788,
            5.853,
            22.642,
            2.395,
            49.597,
            41.623,
            17.4190912754209,
            10.4526757039865,
            10.6694324776593,
            20.489,
            18.7492483951848,
            16.3675936500543,
            25.097,
            13.0280138306015,
            11.13,
            14.211,
            12.192,
            5.064,
            22.433,
            7.106,
            3.478,
            14.463,
            26.4658194652565,
            6.846,
            17.1422780912414,
            46.409,
            2.322,
            9.058,
            1.851,
            27.4730862443095,
            29.66,
            16.459,
            7.29,
            21.017,
            24.198,
            6.933,
            11.736,
            8.84827531230252,
            37.989,
            33.612,
            0.753,
            12.159,
            10.003,
            7.171,
            9.665,
            19.829,
            11.844,
            12.4136216980449,
            5.382,
            23.0208001309497,
            7.842,
            14.088,
            8.333,
            6.702,
            4.768,
            11.764,
            11.272749543037,
            20.395,
            6.692,
            20.282,
            14.47,
            42.06,
            9.22248851807788,
            12.1787230827202,
            34.33,
            0.441,
            16.304,
            17.008,
            17.737,
            22.280032651571,
            29.491,
            32.653,
            5.962,
            8.684,
            1.392,
            3.571,
            9.301,
            33.782,
            29.652,
            11.2973356594249,
            18.764,
            11.2973356594249,
            21.6627399392561,
            21.078,
            25.037,
            14.988,
            8.797,
            17.387,
            47.176,
            21.018,
            1.501,
            9.73851135070339,
            16.5792767760305,
            9.248,
            4.139,
            15.943,
            9.079,
            17.5709894114775,
            12.936,
            27.268345322723,
            6.675,
            22.280032651571,
            11.2973356594249,
            8.824,
            35.976,
            19.804,
            3.913,
            5.539,
            17.933,
            14.7493046464398,
            26.54,
            8.613,
            13.592,
            37.956,
            12.446,
            26.988,
            4.505,
            4.449,
            15.9190897217266,
            19.22,
            24.508,
            43.761,
            8.726,
            10.592
           ]
          }
         ],
         "name": "2018"
        },
        {
         "data": [
          {
           "coloraxis": "coloraxis",
           "geo": "geo",
           "hovertemplate": "<b>%{hovertext}</b><br><br>Year=2019<br>Country Code=%{location}<br>Water Leakage=%{z}<extra></extra>",
           "hovertext": [
            "Africa Eastern and Southern",
            "Afghanistan",
            "Africa Western and Central",
            "Angola",
            "Albania",
            "Arab World",
            "United Arab Emirates",
            "Argentina",
            "Armenia",
            "Australia",
            "Austria",
            "Azerbaijan",
            "Burundi",
            "Belgium",
            "Benin",
            "Burkina Faso",
            "Bangladesh",
            "Bulgaria",
            "Bahrain",
            "Bahamas",
            "Bosnia and Herzegovina",
            "Belarus",
            "Belize",
            "Bolivia",
            "Brazil",
            "Barbados",
            "Brunei Darussalam",
            "Bhutan",
            "Botswana",
            "Central African Republic",
            "Canada",
            "Central Europe and the Baltics",
            "Switzerland",
            "Channel Islands",
            "Chile",
            "China",
            "Cote d'Ivoire",
            "Cameroon",
            "Congo, Dem. Rep.",
            "Congo, Rep.",
            "Colombia",
            "Comoros",
            "Cabo Verde",
            "Costa Rica",
            "Caribbean small states",
            "Cuba",
            "Cyprus",
            "Czech Republic",
            "Germany",
            "Djibouti",
            "Denmark",
            "Dominican Republic",
            "Algeria",
            "East Asia and Pacific",
            "Early-demographic dividend",
            "East Asia & Pacific (excluding high income)",
            "Europe and Central Asia",
            "Europe & Central Asia (excluding high income)",
            "Ecuador",
            "Egypt",
            "Euro area",
            "Eritrea",
            "Spain",
            "Estonia",
            "Ethiopia",
            "European Union",
            "Fragile and conflict affected situations",
            "Finland",
            "Fiji",
            "France",
            "Gabon",
            "United Kingdom",
            "Georgia",
            "Ghana",
            "Guinea",
            "Gambia, The",
            "Guinea-Bissau",
            "Equatorial Guinea",
            "Greece",
            "Guatemala",
            "Guam",
            "Guyana",
            "High income",
            "Hong Kong SAR, China",
            "Honduras",
            "Heavily indebted poor countries (HIPC)",
            "Croatia",
            "Haiti",
            "Hungary",
            "IBRD only",
            "IDA & IBRD total",
            "IDA only",
            "Indonesia",
            "Indonesia",
            "East Asia & Pacific (IDA & IBRD countries)",
            "India",
            "Ireland",
            "Iran, Islamic Rep.",
            "Iraq",
            "Iceland",
            "Israel",
            "Italy",
            "Jamaica",
            "Jordan",
            "Japan",
            "Kazakhstan",
            "Kenya",
            "Kyrgyz Republic",
            "Cambodia",
            "Korea, Rep.",
            "Kuwait",
            "Latin America & Caribbean",
            "Lao PDR",
            "Lebanon",
            "Liberia",
            "Libya",
            "St. Lucia",
            "Latin America & the Caribbean (excluding high income)",
            "Least developed countries: UN classification",
            "Low income",
            "Sri Lanka",
            "Lower middle income",
            "Low & middle income",
            "Lesotho",
            "Late-demographic dividend",
            "Lithuania",
            "Luxembourg",
            "Latvia",
            "Macao SAR, China",
            "Morocco",
            "Moldova",
            "Madagascar",
            "Maldives",
            "Middle East & North Africa",
            "Mexico",
            "Middle income",
            "North Macedonia",
            "Mali",
            "Malta",
            "Myanmar",
            "Middle East & North Africa (excluding high income)",
            "Montenegro",
            "Mongolia",
            "Mozambique",
            "Mauritania",
            "Mauritius",
            "Malawi",
            "Malaysia",
            "North America",
            "Namibia",
            "New Caledonia",
            "Niger",
            "Nigeria",
            "Nicaragua",
            "Netherlands",
            "Norway",
            "Nepal",
            "New Zealand",
            "OECD members",
            "Oman",
            "Other small states",
            "Pakistan",
            "Panama",
            "Peru",
            "Philippines",
            "Papua New Guinea",
            "Poland",
            "Pre-demographic dividend",
            "Puerto Rico",
            "Korea, Dem. People’s Rep.",
            "Portugal",
            "Paraguay",
            "West Bank and Gaza",
            "Pacific island small states",
            "Post-demographic dividend",
            "French Polynesia",
            "Qatar",
            "Romania",
            "Russian Federation",
            "Rwanda",
            "South Asia",
            "Saudi Arabia",
            "Sudan",
            "Senegal",
            "Singapore",
            "Solomon Islands",
            "Sierra Leone",
            "El Salvador",
            "Somalia",
            "Serbia",
            "Sub-Saharan Africa",
            "South Sudan",
            "Sub-Saharan Africa (IDA & IBRD countries)",
            "Small states",
            "Sao Tome and Principe",
            "Suriname",
            "Slovak Republic",
            "Slovenia",
            "Sweden",
            "Eswatini",
            "Syrian Arab Republic",
            "Chad",
            "East Asia & Pacific (IDA & IBRD countries)",
            "Europe & Central Asia (IDA & IBRD countries)",
            "Togo",
            "Thailand",
            "Tajikistan",
            "Turkmenistan",
            "Latin America & the Caribbean (IDA & IBRD countries)",
            "Timor-Leste",
            "Middle East & North Africa (IDA & IBRD countries)",
            "Tonga",
            "South Asia (IDA & IBRD)",
            "Sub-Saharan Africa (IDA & IBRD)",
            "Trinidad and Tobago",
            "Tunisia",
            "Turkey",
            "Tanzania",
            "Uganda",
            "Ukraine",
            "Upper middle income",
            "Uruguay",
            "United States",
            "Uzbekistan",
            "St. Vincent and the Grenadines",
            "Venezuela, RB",
            "Virgin Islands (U.S.)",
            "Vietnam",
            "Vanuatu",
            "World",
            "Samoa",
            "Yemen, Rep.",
            "South Africa",
            "Zambia",
            "Zimbabwe"
           ],
           "locations": [
            "AFE",
            "AFG",
            "AFW",
            "AGO",
            "ALB",
            "ARB",
            "ARE",
            "ARG",
            "ARM",
            "AUS",
            "AUT",
            "AZE",
            "BDI",
            "BEL",
            "BEN",
            "BFA",
            "BGD",
            "BGR",
            "BHR",
            "BHS",
            "BIH",
            "BLR",
            "BLZ",
            "BOL",
            "BRA",
            "BRB",
            "BRN",
            "BTN",
            "BWA",
            "CAF",
            "CAN",
            "CEB",
            "CHE",
            "CHI",
            "CHL",
            "CHN",
            "CIV",
            "CMR",
            "COD",
            "COG",
            "COL",
            "COM",
            "CPV",
            "CRI",
            "CSS",
            "CUB",
            "CYP",
            "CZE",
            "DEU",
            "DJI",
            "DNK",
            "DOM",
            "DZA",
            "EAP",
            "EAR",
            "EAS",
            "ECA",
            "ECS",
            "ECU",
            "EGY",
            "EMU",
            "ERI",
            "ESP",
            "EST",
            "ETH",
            "EUU",
            "FCS",
            "FIN",
            "FJI",
            "FRA",
            "GAB",
            "GBR",
            "GEO",
            "GHA",
            "GIN",
            "GMB",
            "GNB",
            "GNQ",
            "GRC",
            "GTM",
            "GUM",
            "GUY",
            "HIC",
            "HKG",
            "HND",
            "HPC",
            "HRV",
            "HTI",
            "HUN",
            "IBD",
            "IBT",
            "IDA",
            "IDB",
            "IDN",
            "IDX",
            "IND",
            "IRL",
            "IRN",
            "IRQ",
            "ISL",
            "ISR",
            "ITA",
            "JAM",
            "JOR",
            "JPN",
            "KAZ",
            "KEN",
            "KGZ",
            "KHM",
            "KOR",
            "KWT",
            "LAC",
            "LAO",
            "LBN",
            "LBR",
            "LBY",
            "LCA",
            "LCN",
            "LDC",
            "LIC",
            "LKA",
            "LMC",
            "LMY",
            "LSO",
            "LTE",
            "LTU",
            "LUX",
            "LVA",
            "MAC",
            "MAR",
            "MDA",
            "MDG",
            "MDV",
            "MEA",
            "MEX",
            "MIC",
            "MKD",
            "MLI",
            "MLT",
            "MMR",
            "MNA",
            "MNE",
            "MNG",
            "MOZ",
            "MRT",
            "MUS",
            "MWI",
            "MYS",
            "NAC",
            "NAM",
            "NCL",
            "NER",
            "NGA",
            "NIC",
            "NLD",
            "NOR",
            "NPL",
            "NZL",
            "OED",
            "OMN",
            "OSS",
            "PAK",
            "PAN",
            "PER",
            "PHL",
            "PNG",
            "POL",
            "PRE",
            "PRI",
            "PRK",
            "PRT",
            "PRY",
            "PSE",
            "PSS",
            "PST",
            "PYF",
            "QAT",
            "ROU",
            "RUS",
            "RWA",
            "SAS",
            "SAU",
            "SDN",
            "SEN",
            "SGP",
            "SLB",
            "SLE",
            "SLV",
            "SOM",
            "SRB",
            "SSA",
            "SSD",
            "SSF",
            "SST",
            "STP",
            "SUR",
            "SVK",
            "SVN",
            "SWE",
            "SWZ",
            "SYR",
            "TCD",
            "TEA",
            "TEC",
            "TGO",
            "THA",
            "TJK",
            "TKM",
            "TLA",
            "TLS",
            "TMN",
            "TON",
            "TSA",
            "TSS",
            "TTO",
            "TUN",
            "TUR",
            "TZA",
            "UGA",
            "UKR",
            "UMC",
            "URY",
            "USA",
            "UZB",
            "VCT",
            "VEN",
            "VIR",
            "VNM",
            "VUT",
            "WLD",
            "WSM",
            "YEM",
            "ZAF",
            "ZMB",
            "ZWE"
           ],
           "name": "",
           "type": "choropleth",
           "z": [
            13.2810048837064,
            17.339,
            9.0055646827141,
            16.283,
            27.161,
            26.3739319290541,
            7.405,
            25.812,
            24.609,
            11.753,
            8.514,
            12.406,
            1.354,
            14.265,
            3.89,
            7.811,
            12.366,
            8.897,
            5.991,
            24.434,
            34.102,
            10.212,
            20.424,
            6.976,
            27.181,
            25.516,
            21.513,
            11.06,
            35.285,
            10.068,
            10.985,
            11.6366578974143,
            7.986,
            14.728,
            19.529,
            10.73,
            3.949,
            6.495,
            8.494,
            39.24,
            20.046,
            18.967,
            27.649,
            31.282,
            18.9571111200141,
            3.245,
            16.497,
            5.615,
            5.77,
            73.91,
            10.047,
            15.578,
            27.187,
            9.89013869057047,
            17.9724314647729,
            9.69588008745004,
            17.3260029995787,
            16.5872286682801,
            8.73,
            20.707,
            18.277420716304,
            9.805,
            32.531,
            11.619,
            5.201,
            16.8941395289379,
            13.278280297047,
            17.084,
            15.455,
            19.509,
            35.976,
            11.039,
            30.011,
            6.532,
            6.992,
            7.272,
            4.085,
            15.939,
            35.038,
            4.466,
            12.424,
            27.005,
            12.2336731720516,
            8.521,
            10.457,
            9.11277832905295,
            16.676,
            32.271,
            11.383,
            17.9814516512187,
            15.6690506123827,
            10.6949544795991,
            11.2320186185571,
            13.588,
            10.4304278227893,
            22.885,
            12.464,
            25.963,
            33.989,
            8.461,
            6.672,
            29.166,
            16.046,
            37.122,
            3.935,
            3.899,
            12.43,
            9.023,
            0.431,
            9.844,
            15.031,
            17.6508166745734,
            5.927,
            23.316,
            2.449,
            49.716,
            35.533,
            17.5340094302322,
            10.4614208436396,
            10.7261272313279,
            20.375,
            17.1231272866157,
            15.6569757528487,
            25.116,
            13.5210403575911,
            11.87,
            16.989,
            12.419,
            4.654,
            22.579,
            10.379,
            3.518,
            13.926,
            25.0238112991984,
            7.217,
            16.3470329816739,
            35.481,
            2.347,
            9.323,
            1.322,
            26.1465749435498,
            25.355,
            16.091,
            7.319,
            20.994,
            22.072,
            6.958,
            11.27,
            8.62280425658743,
            38.162,
            32.415,
            0.776,
            12.588,
            10.106,
            6.747,
            9.927,
            19.907,
            11.327,
            12.6026717587921,
            5.393,
            22.6288757012329,
            9.57,
            17.138,
            7.38,
            6.776,
            4.734,
            9.858,
            11.6217126747935,
            18.508,
            6.618,
            18.256,
            15.222,
            39.983,
            9.22494387279713,
            11.5799883843833,
            34.457,
            0.421,
            16.773,
            15.148,
            17.242,
            19.9664547878769,
            24.809,
            32.73,
            4.046,
            7.683,
            1.434,
            3.632,
            9.614,
            33.91,
            27.461,
            11.567414188367,
            18.584,
            11.567414188367,
            21.242898290716,
            21.232,
            25.125,
            16.111,
            8.132,
            20.086,
            47.262,
            20.773,
            1.53,
            9.93509453821264,
            16.784163470879,
            9.248,
            4.344,
            15.916,
            9.08,
            17.7098365011386,
            12.523,
            25.9513980278657,
            6.674,
            19.9664547878769,
            11.567414188367,
            9.026,
            35.339,
            24.804,
            3.939,
            5.571,
            15.435,
            15.170839946974,
            28.142,
            8.371,
            13.44,
            38.203,
            12.712,
            27.412,
            5.501,
            4.443,
            15.2361700411705,
            18.789,
            24.524,
            47.406,
            10.325,
            11.616
           ]
          }
         ],
         "name": "2019"
        },
        {
         "data": [
          {
           "coloraxis": "coloraxis",
           "geo": "geo",
           "hovertemplate": "<b>%{hovertext}</b><br><br>Year=2020<br>Country Code=%{location}<br>Water Leakage=%{z}<extra></extra>",
           "hovertext": [
            "Africa Eastern and Southern",
            "Afghanistan",
            "Africa Western and Central",
            "Angola",
            "Albania",
            "Arab World",
            "United Arab Emirates",
            "Argentina",
            "Armenia",
            "Australia",
            "Austria",
            "Azerbaijan",
            "Burundi",
            "Belgium",
            "Benin",
            "Burkina Faso",
            "Bangladesh",
            "Bulgaria",
            "Bahrain",
            "Bahamas",
            "Bosnia and Herzegovina",
            "Belarus",
            "Belize",
            "Bolivia",
            "Brazil",
            "Barbados",
            "Brunei Darussalam",
            "Bhutan",
            "Botswana",
            "Central African Republic",
            "Canada",
            "Central Europe and the Baltics",
            "Switzerland",
            "Channel Islands",
            "Chile",
            "China",
            "Cote d'Ivoire",
            "Cameroon",
            "Congo, Dem. Rep.",
            "Congo, Rep.",
            "Colombia",
            "Comoros",
            "Cabo Verde",
            "Costa Rica",
            "Caribbean small states",
            "Cuba",
            "Cyprus",
            "Czech Republic",
            "Germany",
            "Djibouti",
            "Denmark",
            "Dominican Republic",
            "Algeria",
            "East Asia and Pacific",
            "Early-demographic dividend",
            "East Asia & Pacific (excluding high income)",
            "Europe and Central Asia",
            "Europe & Central Asia (excluding high income)",
            "Ecuador",
            "Egypt",
            "Euro area",
            "Eritrea",
            "Spain",
            "Estonia",
            "Ethiopia",
            "European Union",
            "Fragile and conflict affected situations",
            "Finland",
            "Fiji",
            "France",
            "Gabon",
            "United Kingdom",
            "Georgia",
            "Ghana",
            "Guinea",
            "Gambia, The",
            "Guinea-Bissau",
            "Equatorial Guinea",
            "Greece",
            "Guatemala",
            "Guam",
            "Guyana",
            "High income",
            "Hong Kong SAR, China",
            "Honduras",
            "Heavily indebted poor countries (HIPC)",
            "Croatia",
            "Haiti",
            "Hungary",
            "IBRD only",
            "IDA & IBRD total",
            "IDA only",
            "Indonesia",
            "Indonesia",
            "East Asia & Pacific (IDA & IBRD countries)",
            "India",
            "Ireland",
            "Iran, Islamic Rep.",
            "Iraq",
            "Iceland",
            "Israel",
            "Italy",
            "Jamaica",
            "Jordan",
            "Japan",
            "Kazakhstan",
            "Kenya",
            "Kyrgyz Republic",
            "Cambodia",
            "Korea, Rep.",
            "Kuwait",
            "Latin America & Caribbean",
            "Lao PDR",
            "Lebanon",
            "Liberia",
            "Libya",
            "St. Lucia",
            "Latin America & the Caribbean (excluding high income)",
            "Least developed countries: UN classification",
            "Low income",
            "Sri Lanka",
            "Lower middle income",
            "Low & middle income",
            "Lesotho",
            "Late-demographic dividend",
            "Lithuania",
            "Luxembourg",
            "Latvia",
            "Macao SAR, China",
            "Morocco",
            "Moldova",
            "Madagascar",
            "Maldives",
            "Middle East & North Africa",
            "Mexico",
            "Middle income",
            "North Macedonia",
            "Mali",
            "Malta",
            "Myanmar",
            "Middle East & North Africa (excluding high income)",
            "Montenegro",
            "Mongolia",
            "Mozambique",
            "Mauritania",
            "Mauritius",
            "Malawi",
            "Malaysia",
            "North America",
            "Namibia",
            "New Caledonia",
            "Niger",
            "Nigeria",
            "Nicaragua",
            "Netherlands",
            "Norway",
            "Nepal",
            "New Zealand",
            "OECD members",
            "Oman",
            "Other small states",
            "Pakistan",
            "Panama",
            "Peru",
            "Philippines",
            "Papua New Guinea",
            "Poland",
            "Pre-demographic dividend",
            "Puerto Rico",
            "Korea, Dem. People’s Rep.",
            "Portugal",
            "Paraguay",
            "West Bank and Gaza",
            "Pacific island small states",
            "Post-demographic dividend",
            "French Polynesia",
            "Qatar",
            "Romania",
            "Russian Federation",
            "Rwanda",
            "South Asia",
            "Saudi Arabia",
            "Sudan",
            "Senegal",
            "Singapore",
            "Solomon Islands",
            "Sierra Leone",
            "El Salvador",
            "Somalia",
            "Serbia",
            "Sub-Saharan Africa",
            "South Sudan",
            "Sub-Saharan Africa (IDA & IBRD countries)",
            "Small states",
            "Sao Tome and Principe",
            "Suriname",
            "Slovak Republic",
            "Slovenia",
            "Sweden",
            "Eswatini",
            "Syrian Arab Republic",
            "Chad",
            "East Asia & Pacific (IDA & IBRD countries)",
            "Europe & Central Asia (IDA & IBRD countries)",
            "Togo",
            "Thailand",
            "Tajikistan",
            "Turkmenistan",
            "Latin America & the Caribbean (IDA & IBRD countries)",
            "Timor-Leste",
            "Middle East & North Africa (IDA & IBRD countries)",
            "Tonga",
            "South Asia (IDA & IBRD)",
            "Sub-Saharan Africa (IDA & IBRD)",
            "Trinidad and Tobago",
            "Tunisia",
            "Turkey",
            "Tanzania",
            "Uganda",
            "Ukraine",
            "Upper middle income",
            "Uruguay",
            "United States",
            "Uzbekistan",
            "St. Vincent and the Grenadines",
            "Venezuela, RB",
            "Virgin Islands (U.S.)",
            "Vietnam",
            "Vanuatu",
            "World",
            "Samoa",
            "Yemen, Rep.",
            "South Africa",
            "Zambia",
            "Zimbabwe"
           ],
           "locations": [
            "AFE",
            "AFG",
            "AFW",
            "AGO",
            "ALB",
            "ARB",
            "ARE",
            "ARG",
            "ARM",
            "AUS",
            "AUT",
            "AZE",
            "BDI",
            "BEL",
            "BEN",
            "BFA",
            "BGD",
            "BGR",
            "BHR",
            "BHS",
            "BIH",
            "BLR",
            "BLZ",
            "BOL",
            "BRA",
            "BRB",
            "BRN",
            "BTN",
            "BWA",
            "CAF",
            "CAN",
            "CEB",
            "CHE",
            "CHI",
            "CHL",
            "CHN",
            "CIV",
            "CMR",
            "COD",
            "COG",
            "COL",
            "COM",
            "CPV",
            "CRI",
            "CSS",
            "CUB",
            "CYP",
            "CZE",
            "DEU",
            "DJI",
            "DNK",
            "DOM",
            "DZA",
            "EAP",
            "EAR",
            "EAS",
            "ECA",
            "ECS",
            "ECU",
            "EGY",
            "EMU",
            "ERI",
            "ESP",
            "EST",
            "ETH",
            "EUU",
            "FCS",
            "FIN",
            "FJI",
            "FRA",
            "GAB",
            "GBR",
            "GEO",
            "GHA",
            "GIN",
            "GMB",
            "GNB",
            "GNQ",
            "GRC",
            "GTM",
            "GUM",
            "GUY",
            "HIC",
            "HKG",
            "HND",
            "HPC",
            "HRV",
            "HTI",
            "HUN",
            "IBD",
            "IBT",
            "IDA",
            "IDB",
            "IDN",
            "IDX",
            "IND",
            "IRL",
            "IRN",
            "IRQ",
            "ISL",
            "ISR",
            "ITA",
            "JAM",
            "JOR",
            "JPN",
            "KAZ",
            "KEN",
            "KGZ",
            "KHM",
            "KOR",
            "KWT",
            "LAC",
            "LAO",
            "LBN",
            "LBR",
            "LBY",
            "LCA",
            "LCN",
            "LDC",
            "LIC",
            "LKA",
            "LMC",
            "LMY",
            "LSO",
            "LTE",
            "LTU",
            "LUX",
            "LVA",
            "MAC",
            "MAR",
            "MDA",
            "MDG",
            "MDV",
            "MEA",
            "MEX",
            "MIC",
            "MKD",
            "MLI",
            "MLT",
            "MMR",
            "MNA",
            "MNE",
            "MNG",
            "MOZ",
            "MRT",
            "MUS",
            "MWI",
            "MYS",
            "NAC",
            "NAM",
            "NCL",
            "NER",
            "NGA",
            "NIC",
            "NLD",
            "NOR",
            "NPL",
            "NZL",
            "OED",
            "OMN",
            "OSS",
            "PAK",
            "PAN",
            "PER",
            "PHL",
            "PNG",
            "POL",
            "PRE",
            "PRI",
            "PRK",
            "PRT",
            "PRY",
            "PSE",
            "PSS",
            "PST",
            "PYF",
            "QAT",
            "ROU",
            "RUS",
            "RWA",
            "SAS",
            "SAU",
            "SDN",
            "SEN",
            "SGP",
            "SLB",
            "SLE",
            "SLV",
            "SOM",
            "SRB",
            "SSA",
            "SSD",
            "SSF",
            "SST",
            "STP",
            "SUR",
            "SVK",
            "SVN",
            "SWE",
            "SWZ",
            "SYR",
            "TCD",
            "TEA",
            "TEC",
            "TGO",
            "THA",
            "TJK",
            "TKM",
            "TLA",
            "TLS",
            "TMN",
            "TON",
            "TSA",
            "TSS",
            "TTO",
            "TUN",
            "TUR",
            "TZA",
            "UGA",
            "UKR",
            "UMC",
            "URY",
            "USA",
            "UZB",
            "VCT",
            "VEN",
            "VIR",
            "VNM",
            "VUT",
            "WLD",
            "WSM",
            "YEM",
            "ZAF",
            "ZMB",
            "ZWE"
           ],
           "name": "",
           "type": "choropleth",
           "z": [
            14.1386435764394,
            16.053,
            10.4448332916934,
            17.967,
            30.846,
            28.2557167612628,
            14.119,
            30.407,
            23.76,
            14.211,
            10.438,
            17.404,
            1.723,
            15.329,
            4.47,
            8.607,
            14.383,
            14.205,
            7.774,
            29.898,
            36.892,
            12.031,
            24,
            15.376,
            30.498,
            29.562,
            27.129,
            21.216,
            41.654,
            11.205,
            20.113,
            13.6089464015948,
            8.603,
            16.925,
            24.756,
            12.688,
            4.544,
            7.261,
            9.871,
            42.8,
            25.926,
            21.253,
            32.924,
            40.16,
            22.9439956167659,
            3.553,
            18.109,
            7.946,
            7.132,
            78.778,
            11.591,
            14.807,
            31.113,
            11.5004606669104,
            22.0877175343049,
            11.2526613130074,
            18.3886021557608,
            18.1224137139098,
            11.079,
            18.423,
            20.2563296721392,
            12.264,
            38.28,
            18.422,
            6.647,
            18.8470853453223,
            14.9870769232218,
            21.216,
            16.628,
            20.161,
            38.517,
            13.438,
            30.784,
            7.341,
            8.529,
            8.851,
            4.898,
            18.117,
            34.821,
            6.521,
            14.762,
            30.905,
            15.8335618009477,
            15.521,
            16.909,
            10.3752170843716,
            21.152,
            35.265,
            12.747,
            21.8840077186769,
            18.7849942381369,
            12.2878276278203,
            13.0134679731463,
            14.772,
            11.9310102489788,
            30.896,
            15.24,
            23.714,
            36.842,
            9.875,
            7.931,
            29.383,
            20.219,
            42.349,
            4.639,
            3.765,
            13.83,
            8.57,
            0.785,
            10.144,
            19.315,
            20.7894601002312,
            6.676,
            26.56,
            3.505,
            52.241,
            43.885,
            20.7192476963242,
            11.9560406027142,
            12.0429626026436,
            20.967,
            21.4699763259177,
            18.7674893497653,
            27.866,
            15.7451094691519,
            19.588,
            23.239,
            14.863,
            7.696,
            26.501,
            10.771,
            4.48,
            16.33,
            26.1214872220377,
            8.092,
            19.7343818280416,
            35.537,
            6.737,
            10.891,
            4.964,
            26.8756366259638,
            36.333,
            15.882,
            8.049,
            22.727,
            24.364,
            8.09,
            12.613,
            15.3729983419293,
            41.013,
            46.144,
            1.04,
            14.352,
            11.674,
            9.129,
            11.294,
            24.084,
            12.435,
            15.7365006432179,
            13.564,
            25.9604395554776,
            11.894,
            32.019,
            12.642,
            7.045,
            5.359,
            10.806,
            12.9312217807915,
            18.937,
            7.43,
            22.554,
            17.084,
            41.868,
            9.9976120194991,
            15.288916575318,
            38.178,
            0.494,
            17.323,
            16.91,
            17.19,
            26.2871888608789,
            27.513,
            35.983,
            5.149,
            10.67,
            1.766,
            4.361,
            11.356,
            35.763,
            26.615,
            12.6545115097714,
            20.877,
            12.6545115097715,
            24.5302671725832,
            23.759,
            28.931,
            19.354,
            14.16,
            23.886,
            51.861,
            23.412,
            2.352,
            11.555820713125,
            17.8531165374968,
            10.181,
            5.309,
            17.125,
            10.373,
            20.9388176597229,
            13.508,
            26.66292467321,
            7.744,
            26.2871888608789,
            12.6545115097715,
            11.634,
            38.509,
            24.689,
            3.81,
            7.083,
            19.328,
            17.0630727726692,
            33.928,
            14.873,
            12.795,
            41.58,
            13.8,
            29.674,
            6.422,
            5.078,
            18.4011516868811,
            20.284,
            26.077,
            43.499,
            11.022,
            12.7
           ]
          }
         ],
         "name": "2020"
        },
        {
         "data": [
          {
           "coloraxis": "coloraxis",
           "geo": "geo",
           "hovertemplate": "<b>%{hovertext}</b><br><br>Year=2021<br>Country Code=%{location}<br>Water Leakage=%{z}<extra></extra>",
           "hovertext": [
            "Africa Eastern and Southern",
            "Afghanistan",
            "Africa Western and Central",
            "Angola",
            "Albania",
            "Arab World",
            "United Arab Emirates",
            "Argentina",
            "Armenia",
            "Australia",
            "Austria",
            "Azerbaijan",
            "Burundi",
            "Belgium",
            "Benin",
            "Burkina Faso",
            "Bangladesh",
            "Bulgaria",
            "Bahrain",
            "Bahamas",
            "Bosnia and Herzegovina",
            "Belarus",
            "Belize",
            "Bolivia",
            "Brazil",
            "Barbados",
            "Brunei Darussalam",
            "Bhutan",
            "Botswana",
            "Central African Republic",
            "Canada",
            "Central Europe and the Baltics",
            "Switzerland",
            "Channel Islands",
            "Chile",
            "China",
            "Cote d'Ivoire",
            "Cameroon",
            "Congo, Dem. Rep.",
            "Congo, Rep.",
            "Colombia",
            "Comoros",
            "Cabo Verde",
            "Costa Rica",
            "Caribbean small states",
            "Cuba",
            "Cyprus",
            "Czech Republic",
            "Germany",
            "Djibouti",
            "Denmark",
            "Dominican Republic",
            "Algeria",
            "East Asia and Pacific",
            "Early-demographic dividend",
            "East Asia & Pacific (excluding high income)",
            "Europe and Central Asia",
            "Europe & Central Asia (excluding high income)",
            "Ecuador",
            "Egypt",
            "Euro area",
            "Eritrea",
            "Spain",
            "Estonia",
            "Ethiopia",
            "European Union",
            "Fragile and conflict affected situations",
            "Finland",
            "Fiji",
            "France",
            "Gabon",
            "United Kingdom",
            "Georgia",
            "Ghana",
            "Guinea",
            "Gambia, The",
            "Guinea-Bissau",
            "Equatorial Guinea",
            "Greece",
            "Guatemala",
            "Guam",
            "Guyana",
            "High income",
            "Hong Kong SAR, China",
            "Honduras",
            "Heavily indebted poor countries (HIPC)",
            "Croatia",
            "Haiti",
            "Hungary",
            "IBRD only",
            "IDA & IBRD total",
            "IDA only",
            "Indonesia",
            "Indonesia",
            "East Asia & Pacific (IDA & IBRD countries)",
            "India",
            "Ireland",
            "Iran, Islamic Rep.",
            "Iraq",
            "Iceland",
            "Israel",
            "Italy",
            "Jamaica",
            "Jordan",
            "Japan",
            "Kazakhstan",
            "Kenya",
            "Kyrgyz Republic",
            "Cambodia",
            "Korea, Rep.",
            "Kuwait",
            "Latin America & Caribbean",
            "Lao PDR",
            "Lebanon",
            "Liberia",
            "Libya",
            "St. Lucia",
            "Latin America & the Caribbean (excluding high income)",
            "Least developed countries: UN classification",
            "Low income",
            "Sri Lanka",
            "Lower middle income",
            "Low & middle income",
            "Lesotho",
            "Late-demographic dividend",
            "Lithuania",
            "Luxembourg",
            "Latvia",
            "Macao SAR, China",
            "Morocco",
            "Moldova",
            "Madagascar",
            "Maldives",
            "Middle East & North Africa",
            "Mexico",
            "Middle income",
            "North Macedonia",
            "Mali",
            "Malta",
            "Myanmar",
            "Middle East & North Africa (excluding high income)",
            "Montenegro",
            "Mongolia",
            "Mozambique",
            "Mauritania",
            "Mauritius",
            "Malawi",
            "Malaysia",
            "North America",
            "Namibia",
            "New Caledonia",
            "Niger",
            "Nigeria",
            "Nicaragua",
            "Netherlands",
            "Norway",
            "Nepal",
            "New Zealand",
            "OECD members",
            "Oman",
            "Other small states",
            "Pakistan",
            "Panama",
            "Peru",
            "Philippines",
            "Papua New Guinea",
            "Poland",
            "Pre-demographic dividend",
            "Puerto Rico",
            "Korea, Dem. People’s Rep.",
            "Portugal",
            "Paraguay",
            "West Bank and Gaza",
            "Pacific island small states",
            "Post-demographic dividend",
            "French Polynesia",
            "Qatar",
            "Romania",
            "Russian Federation",
            "Rwanda",
            "South Asia",
            "Saudi Arabia",
            "Sudan",
            "Senegal",
            "Singapore",
            "Solomon Islands",
            "Sierra Leone",
            "El Salvador",
            "Somalia",
            "Serbia",
            "Sub-Saharan Africa",
            "South Sudan",
            "Sub-Saharan Africa (IDA & IBRD countries)",
            "Small states",
            "Sao Tome and Principe",
            "Suriname",
            "Slovak Republic",
            "Slovenia",
            "Sweden",
            "Eswatini",
            "Syrian Arab Republic",
            "Chad",
            "East Asia & Pacific (IDA & IBRD countries)",
            "Europe & Central Asia (IDA & IBRD countries)",
            "Togo",
            "Thailand",
            "Tajikistan",
            "Turkmenistan",
            "Latin America & the Caribbean (IDA & IBRD countries)",
            "Timor-Leste",
            "Middle East & North Africa (IDA & IBRD countries)",
            "Tonga",
            "South Asia (IDA & IBRD)",
            "Sub-Saharan Africa (IDA & IBRD)",
            "Trinidad and Tobago",
            "Tunisia",
            "Turkey",
            "Tanzania",
            "Uganda",
            "Ukraine",
            "Upper middle income",
            "Uruguay",
            "United States",
            "Uzbekistan",
            "St. Vincent and the Grenadines",
            "Venezuela, RB",
            "Virgin Islands (U.S.)",
            "Vietnam",
            "Vanuatu",
            "World",
            "Samoa",
            "Yemen, Rep.",
            "South Africa",
            "Zambia",
            "Zimbabwe"
           ],
           "locations": [
            "AFE",
            "AFG",
            "AFW",
            "AGO",
            "ALB",
            "ARB",
            "ARE",
            "ARG",
            "ARM",
            "AUS",
            "AUT",
            "AZE",
            "BDI",
            "BEL",
            "BEN",
            "BFA",
            "BGD",
            "BGR",
            "BHR",
            "BHS",
            "BIH",
            "BLR",
            "BLZ",
            "BOL",
            "BRA",
            "BRB",
            "BRN",
            "BTN",
            "BWA",
            "CAF",
            "CAN",
            "CEB",
            "CHE",
            "CHI",
            "CHL",
            "CHN",
            "CIV",
            "CMR",
            "COD",
            "COG",
            "COL",
            "COM",
            "CPV",
            "CRI",
            "CSS",
            "CUB",
            "CYP",
            "CZE",
            "DEU",
            "DJI",
            "DNK",
            "DOM",
            "DZA",
            "EAP",
            "EAR",
            "EAS",
            "ECA",
            "ECS",
            "ECU",
            "EGY",
            "EMU",
            "ERI",
            "ESP",
            "EST",
            "ETH",
            "EUU",
            "FCS",
            "FIN",
            "FJI",
            "FRA",
            "GAB",
            "GBR",
            "GEO",
            "GHA",
            "GIN",
            "GMB",
            "GNB",
            "GNQ",
            "GRC",
            "GTM",
            "GUM",
            "GUY",
            "HIC",
            "HKG",
            "HND",
            "HPC",
            "HRV",
            "HTI",
            "HUN",
            "IBD",
            "IBT",
            "IDA",
            "IDB",
            "IDN",
            "IDX",
            "IND",
            "IRL",
            "IRN",
            "IRQ",
            "ISL",
            "ISR",
            "ITA",
            "JAM",
            "JOR",
            "JPN",
            "KAZ",
            "KEN",
            "KGZ",
            "KHM",
            "KOR",
            "KWT",
            "LAC",
            "LAO",
            "LBN",
            "LBR",
            "LBY",
            "LCA",
            "LCN",
            "LDC",
            "LIC",
            "LKA",
            "LMC",
            "LMY",
            "LSO",
            "LTE",
            "LTU",
            "LUX",
            "LVA",
            "MAC",
            "MAR",
            "MDA",
            "MDG",
            "MDV",
            "MEA",
            "MEX",
            "MIC",
            "MKD",
            "MLI",
            "MLT",
            "MMR",
            "MNA",
            "MNE",
            "MNG",
            "MOZ",
            "MRT",
            "MUS",
            "MWI",
            "MYS",
            "NAC",
            "NAM",
            "NCL",
            "NER",
            "NGA",
            "NIC",
            "NLD",
            "NOR",
            "NPL",
            "NZL",
            "OED",
            "OMN",
            "OSS",
            "PAK",
            "PAN",
            "PER",
            "PHL",
            "PNG",
            "POL",
            "PRE",
            "PRI",
            "PRK",
            "PRT",
            "PRY",
            "PSE",
            "PSS",
            "PST",
            "PYF",
            "QAT",
            "ROU",
            "RUS",
            "RWA",
            "SAS",
            "SAU",
            "SDN",
            "SEN",
            "SGP",
            "SLB",
            "SLE",
            "SLV",
            "SOM",
            "SRB",
            "SSA",
            "SSD",
            "SSF",
            "SST",
            "STP",
            "SUR",
            "SVK",
            "SVN",
            "SWE",
            "SWZ",
            "SYR",
            "TCD",
            "TEA",
            "TEC",
            "TGO",
            "THA",
            "TJK",
            "TKM",
            "TLA",
            "TLS",
            "TMN",
            "TON",
            "TSA",
            "TSS",
            "TTO",
            "TUN",
            "TUR",
            "TZA",
            "UGA",
            "UKR",
            "UMC",
            "URY",
            "USA",
            "UZB",
            "VCT",
            "VEN",
            "VIR",
            "VNM",
            "VUT",
            "WLD",
            "WSM",
            "YEM",
            "ZAF",
            "ZMB",
            "ZWE"
           ],
           "name": "",
           "type": "choropleth",
           "z": [
            14.1374656285462,
            16.39,
            9.87478674828848,
            17.523,
            29.505,
            27.2768239318598,
            10.493,
            23.37,
            24.754,
            11.24,
            10.942,
            14.28,
            1.658,
            18.208,
            4.325,
            8.504,
            13.772,
            15.847,
            7.15,
            27.21,
            35.332,
            10.447,
            22.738,
            8.451,
            28.496,
            27.62,
            24.265,
            15.469,
            38.596,
            10.989,
            13.53,
            14.8680654082536,
            8.828,
            15.916,
            20.561,
            12.437,
            4.451,
            7.128,
            9.424,
            41.415,
            24.801,
            20.411,
            30.615,
            39.27,
            21.8239640460949,
            3.646,
            17.089,
            8.166,
            6.898,
            77.034,
            10.814,
            16.906,
            29.341,
            11.4387269743013,
            18.9597013377761,
            11.0985993482165,
            17.4451149064286,
            17.5586148208904,
            9.146,
            17.817,
            19.626195998819,
            11.305,
            34.8,
            16.64,
            6.135,
            18.6738166048,
            14.8271369199364,
            17.031,
            16.469,
            18.862,
            37.523,
            12.774,
            30.858,
            7.16,
            7.931,
            8.325,
            4.671,
            17.177,
            35.274,
            5.653,
            13.805,
            29.457,
            13.5537779560547,
            12.769,
            13.524,
            9.52539468223825,
            21.947,
            34.132,
            13.492,
            19.0627455232142,
            16.7730763895939,
            11.841229793251,
            12.402761328576,
            13.818,
            11.5428493642731,
            23.893,
            14.461,
            25.609,
            35.604,
            11.774,
            7.402,
            29.707,
            18.607,
            40.28,
            4.559,
            3.999,
            13.475,
            9.161,
            0.679,
            8.055,
            17.136,
            18.8749121208604,
            6.502,
            25.152,
            3.085,
            51.356,
            43.569,
            18.7685760920655,
            11.5832532027144,
            11.267830526589,
            21.121,
            18.2339496542385,
            16.7471968789629,
            26.907,
            15.2058312641371,
            14.316,
            16.981,
            14.774,
            6.015,
            24.888,
            9.133,
            4.188,
            16.053,
            25.5404303524623,
            7.867,
            17.5109108727773,
            36.147,
            4.19,
            9.508,
            17.510008582473837,
            26.3573984592944,
            30.322,
            17.435,
            8.034,
            22.146,
            23.604,
            7.745,
            12.442,
            10.0656787168379,
            40.149,
            38.191,
            0.868,
            13.649,
            11.273,
            9.592,
            12.5,
            22.323,
            10.471,
            13.6484169926897,
            7.748,
            25.031147722925,
            11.029,
            22.535,
            9.562,
            7.304,
            5.262,
            11.918,
            12.2679372406871,
            16.85,
            7.378,
            23.421,
            16.126,
            41.446,
            9.84295099516001,
            12.8670171899558,
            36.59,
            0.514,
            21.004,
            16.144,
            17.728,
            21.1145692869246,
            26.589,
            34.81,
            4.805,
            7.427,
            1.785,
            4.193,
            10.159,
            35.352,
            25.806,
            12.4201087854189,
            19.907,
            12.4201087854189,
            23.5994589907786,
            22.753,
            27.315,
            20.663,
            12.838,
            24.559,
            50.002,
            22.362,
            2.021,
            11.4950452346954,
            17.2371208494318,
            9.928,
            4.949,
            17.011,
            9.992,
            18.9592666092179,
            13.445,
            26.1419605154341,
            7.381,
            21.1145692869246,
            12.4201087854189,
            12.934,
            37.312,
            22.376,
            4.184,
            6.541,
            19.11,
            16.4013699819297,
            31.674,
            9.706,
            13.627,
            40.43,
            13.445,
            28.567,
            6.805,
            5.069,
            16.356035193514,
            20.035,
            25.981,
            49.864,
            11.101,
            12.519
           ]
          }
         ],
         "name": "2021"
        },
        {
         "data": [
          {
           "coloraxis": "coloraxis",
           "geo": "geo",
           "hovertemplate": "<b>%{hovertext}</b><br><br>Year=2022<br>Country Code=%{location}<br>Water Leakage=%{z}<extra></extra>",
           "hovertext": [
            "Africa Eastern and Southern",
            "Afghanistan",
            "Africa Western and Central",
            "Angola",
            "Albania",
            "Arab World",
            "United Arab Emirates",
            "Argentina",
            "Armenia",
            "Australia",
            "Austria",
            "Azerbaijan",
            "Burundi",
            "Belgium",
            "Benin",
            "Burkina Faso",
            "Bangladesh",
            "Bulgaria",
            "Bahrain",
            "Bahamas",
            "Bosnia and Herzegovina",
            "Belarus",
            "Belize",
            "Bolivia",
            "Brazil",
            "Barbados",
            "Brunei Darussalam",
            "Bhutan",
            "Botswana",
            "Central African Republic",
            "Canada",
            "Central Europe and the Baltics",
            "Switzerland",
            "Channel Islands",
            "Chile",
            "China",
            "Cote d'Ivoire",
            "Cameroon",
            "Congo, Dem. Rep.",
            "Congo, Rep.",
            "Colombia",
            "Comoros",
            "Cabo Verde",
            "Costa Rica",
            "Caribbean small states",
            "Cuba",
            "Cyprus",
            "Czech Republic",
            "Germany",
            "Djibouti",
            "Denmark",
            "Dominican Republic",
            "Algeria",
            "East Asia and Pacific",
            "Early-demographic dividend",
            "East Asia & Pacific (excluding high income)",
            "Europe and Central Asia",
            "Europe & Central Asia (excluding high income)",
            "Ecuador",
            "Egypt",
            "Euro area",
            "Eritrea",
            "Spain",
            "Estonia",
            "Ethiopia",
            "European Union",
            "Fragile and conflict affected situations",
            "Finland",
            "Fiji",
            "France",
            "Gabon",
            "United Kingdom",
            "Georgia",
            "Ghana",
            "Guinea",
            "Gambia, The",
            "Guinea-Bissau",
            "Equatorial Guinea",
            "Greece",
            "Guatemala",
            "Guam",
            "Guyana",
            "High income",
            "Hong Kong SAR, China",
            "Honduras",
            "Heavily indebted poor countries (HIPC)",
            "Croatia",
            "Haiti",
            "Hungary",
            "IBRD only",
            "IDA & IBRD total",
            "IDA only",
            "Indonesia",
            "Indonesia",
            "East Asia & Pacific (IDA & IBRD countries)",
            "India",
            "Ireland",
            "Iran, Islamic Rep.",
            "Iraq",
            "Iceland",
            "Israel",
            "Italy",
            "Jamaica",
            "Jordan",
            "Japan",
            "Kazakhstan",
            "Kenya",
            "Kyrgyz Republic",
            "Cambodia",
            "Korea, Rep.",
            "Kuwait",
            "Latin America & Caribbean",
            "Lao PDR",
            "Lebanon",
            "Liberia",
            "Libya",
            "St. Lucia",
            "Latin America & the Caribbean (excluding high income)",
            "Least developed countries: UN classification",
            "Low income",
            "Sri Lanka",
            "Lower middle income",
            "Low & middle income",
            "Lesotho",
            "Late-demographic dividend",
            "Lithuania",
            "Luxembourg",
            "Latvia",
            "Macao SAR, China",
            "Morocco",
            "Moldova",
            "Madagascar",
            "Maldives",
            "Middle East & North Africa",
            "Mexico",
            "Middle income",
            "North Macedonia",
            "Mali",
            "Malta",
            "Myanmar",
            "Middle East & North Africa (excluding high income)",
            "Montenegro",
            "Mongolia",
            "Mozambique",
            "Mauritania",
            "Mauritius",
            "Malawi",
            "Malaysia",
            "North America",
            "Namibia",
            "New Caledonia",
            "Niger",
            "Nigeria",
            "Nicaragua",
            "Netherlands",
            "Norway",
            "Nepal",
            "New Zealand",
            "OECD members",
            "Oman",
            "Other small states",
            "Pakistan",
            "Panama",
            "Peru",
            "Philippines",
            "Papua New Guinea",
            "Poland",
            "Pre-demographic dividend",
            "Puerto Rico",
            "Korea, Dem. People’s Rep.",
            "Portugal",
            "Paraguay",
            "West Bank and Gaza",
            "Pacific island small states",
            "Post-demographic dividend",
            "French Polynesia",
            "Qatar",
            "Romania",
            "Russian Federation",
            "Rwanda",
            "South Asia",
            "Saudi Arabia",
            "Sudan",
            "Senegal",
            "Singapore",
            "Solomon Islands",
            "Sierra Leone",
            "El Salvador",
            "Somalia",
            "Serbia",
            "Sub-Saharan Africa",
            "South Sudan",
            "Sub-Saharan Africa (IDA & IBRD countries)",
            "Small states",
            "Sao Tome and Principe",
            "Suriname",
            "Slovak Republic",
            "Slovenia",
            "Sweden",
            "Eswatini",
            "Syrian Arab Republic",
            "Chad",
            "East Asia & Pacific (IDA & IBRD countries)",
            "Europe & Central Asia (IDA & IBRD countries)",
            "Togo",
            "Thailand",
            "Tajikistan",
            "Turkmenistan",
            "Latin America & the Caribbean (IDA & IBRD countries)",
            "Timor-Leste",
            "Middle East & North Africa (IDA & IBRD countries)",
            "Tonga",
            "South Asia (IDA & IBRD)",
            "Sub-Saharan Africa (IDA & IBRD)",
            "Trinidad and Tobago",
            "Tunisia",
            "Turkey",
            "Tanzania",
            "Uganda",
            "Ukraine",
            "Upper middle income",
            "Uruguay",
            "United States",
            "Uzbekistan",
            "St. Vincent and the Grenadines",
            "Venezuela, RB",
            "Virgin Islands (U.S.)",
            "Vietnam",
            "Vanuatu",
            "World",
            "Samoa",
            "Yemen, Rep.",
            "South Africa",
            "Zambia",
            "Zimbabwe"
           ],
           "locations": [
            "AFE",
            "AFG",
            "AFW",
            "AGO",
            "ALB",
            "ARB",
            "ARE",
            "ARG",
            "ARM",
            "AUS",
            "AUT",
            "AZE",
            "BDI",
            "BEL",
            "BEN",
            "BFA",
            "BGD",
            "BGR",
            "BHR",
            "BHS",
            "BIH",
            "BLR",
            "BLZ",
            "BOL",
            "BRA",
            "BRB",
            "BRN",
            "BTN",
            "BWA",
            "CAF",
            "CAN",
            "CEB",
            "CHE",
            "CHI",
            "CHL",
            "CHN",
            "CIV",
            "CMR",
            "COD",
            "COG",
            "COL",
            "COM",
            "CPV",
            "CRI",
            "CSS",
            "CUB",
            "CYP",
            "CZE",
            "DEU",
            "DJI",
            "DNK",
            "DOM",
            "DZA",
            "EAP",
            "EAR",
            "EAS",
            "ECA",
            "ECS",
            "ECU",
            "EGY",
            "EMU",
            "ERI",
            "ESP",
            "EST",
            "ETH",
            "EUU",
            "FCS",
            "FIN",
            "FJI",
            "FRA",
            "GAB",
            "GBR",
            "GEO",
            "GHA",
            "GIN",
            "GMB",
            "GNB",
            "GNQ",
            "GRC",
            "GTM",
            "GUM",
            "GUY",
            "HIC",
            "HKG",
            "HND",
            "HPC",
            "HRV",
            "HTI",
            "HUN",
            "IBD",
            "IBT",
            "IDA",
            "IDB",
            "IDN",
            "IDX",
            "IND",
            "IRL",
            "IRN",
            "IRQ",
            "ISL",
            "ISR",
            "ITA",
            "JAM",
            "JOR",
            "JPN",
            "KAZ",
            "KEN",
            "KGZ",
            "KHM",
            "KOR",
            "KWT",
            "LAC",
            "LAO",
            "LBN",
            "LBR",
            "LBY",
            "LCA",
            "LCN",
            "LDC",
            "LIC",
            "LKA",
            "LMC",
            "LMY",
            "LSO",
            "LTE",
            "LTU",
            "LUX",
            "LVA",
            "MAC",
            "MAR",
            "MDA",
            "MDG",
            "MDV",
            "MEA",
            "MEX",
            "MIC",
            "MKD",
            "MLI",
            "MLT",
            "MMR",
            "MNA",
            "MNE",
            "MNG",
            "MOZ",
            "MRT",
            "MUS",
            "MWI",
            "MYS",
            "NAC",
            "NAM",
            "NCL",
            "NER",
            "NGA",
            "NIC",
            "NLD",
            "NOR",
            "NPL",
            "NZL",
            "OED",
            "OMN",
            "OSS",
            "PAK",
            "PAN",
            "PER",
            "PHL",
            "PNG",
            "POL",
            "PRE",
            "PRI",
            "PRK",
            "PRT",
            "PRY",
            "PSE",
            "PSS",
            "PST",
            "PYF",
            "QAT",
            "ROU",
            "RUS",
            "RWA",
            "SAS",
            "SAU",
            "SDN",
            "SEN",
            "SGP",
            "SLB",
            "SLE",
            "SLV",
            "SOM",
            "SRB",
            "SSA",
            "SSD",
            "SSF",
            "SST",
            "STP",
            "SUR",
            "SVK",
            "SVN",
            "SWE",
            "SWZ",
            "SYR",
            "TCD",
            "TEA",
            "TEC",
            "TGO",
            "THA",
            "TJK",
            "TKM",
            "TLA",
            "TLS",
            "TMN",
            "TON",
            "TSA",
            "TSS",
            "TTO",
            "TUN",
            "TUR",
            "TZA",
            "UGA",
            "UKR",
            "UMC",
            "URY",
            "USA",
            "UZB",
            "VCT",
            "VEN",
            "VIR",
            "VNM",
            "VUT",
            "WLD",
            "WSM",
            "YEM",
            "ZAF",
            "ZMB",
            "ZWE"
           ],
           "name": "",
           "type": "choropleth",
           "z": [
            14.134125491122,
            17.75,
            9.72614815973133,
            17.279,
            27.788,
            26.6823737788474,
            9.288,
            18.569,
            24.565,
            8.287,
            9.396,
            13.398,
            1.554,
            16.266,
            4.179,
            8.469,
            12.928,
            12.227,
            6.629,
            23.854,
            33.469,
            11.222,
            21.805,
            7.629,
            21.359,
            24.486,
            23.887,
            14.67,
            37.847,
            10.9,
            10.007,
            12.8262540729459,
            7.368,
            14.792,
            17.247,
            13.165,
            4.195,
            6.995,
            9.29,
            40.767,
            21.608,
            20.273,
            30.191,
            31.89,
            18.8335761598593,
            3.474,
            18.691,
            7.079,
            5.753,
            77.194,
            8.782,
            16.173,
            29.026,
            11.6581220811768,
            18.2456770472458,
            11.2287181497984,
            16.488693677509787,
            15.2873401886484,
            8.649,
            17.103,
            16.6554217919669,
            11.09,
            28.339,
            20.154,
            6.327,
            15.8189284343187,
            14.493792742768,
            14.471,
            14.896,
            17.751,
            36.89,
            9.944,
            29.069,
            7.137,
            7.893,
            8.062,
            4.569,
            16.512,
            30.048,
            5.048,
            13.635,
            25.404,
            11.4188330354719,
            12.963,
            12.266,
            9.43301559580293,
            17.563,
            34.027,
            10.222,
            18.3323230163647,
            16.1662683705433,
            11.7204142432117,
            12.42348435599,
            13.016,
            11.3464577463437,
            23.224,
            9.147,
            26.002,
            34.592,
            10.729,
            6.031,
            23.93,
            14.577,
            39.424,
            4.234,
            3.846,
            13.352,
            8.875,
            0.849,
            6.879,
            15.384,
            15.1294341407776,
            4.784,
            25.504,
            3.084,
            51.471,
            40.02,
            15.1134573639541,
            11.3046293254902,
            11.2001520069804,
            26.123,
            17.7729134662387,
            16.16932272719,
            26.657,
            14.505185739378,
            11.045,
            17.538,
            13.196,
            7.046,
            24.938,
            8.11,
            3.949,
            15.126,
            24.9910766961799,
            6.357,
            16.8930506502039,
            34.905,
            4.489,
            8.273,
            16.488693677509787,
            25.986581868965,
            28.259,
            19.371,
            8.052,
            21.899,
            22.859,
            7.73,
            11.7,
            8.09112811952013,
            39.777,
            38.023,
            0.708,
            13.442,
            10.71,
            7.789,
            9.644,
            20.598,
            9.228,
            11.3323429845151,
            7.466,
            24.7866548210087,
            11.309,
            20.186,
            7.452,
            6.337,
            5.204,
            8.71,
            12.082695749305,
            13.114,
            6.937,
            17.8,
            15.152,
            40.721,
            9.68203933081633,
            10.5324743552693,
            36.368,
            0.304,
            21.981,
            14.37,
            17.413,
            20.569189855903,
            23.766,
            34.454,
            4.781,
            6.122,
            2.824,
            4.15,
            8.962,
            35.632,
            24.848,
            12.354030058777,
            19.213,
            12.354030058777,
            22.9067403245405,
            22.74,
            26.178,
            19.3,
            11.085,
            20.684,
            49.772,
            22.123,
            1.875,
            11.7224325482097,
            16.488693677509787,
            9.814,
            4.473,
            17.405,
            10.594,
            15.2565662020213,
            13.303,
            25.7752065490562,
            8.38,
            20.569189855903,
            12.354030058777,
            11.568,
            37.133,
            18.981,
            4.261,
            6.578,
            16.488693677509787,
            15.4838941907833,
            27.576,
            7.893,
            13.829,
            38.181,
            11.388,
            27.198,
            7.438,
            5.067,
            15.5815159940624,
            20.81,
            25.641,
            51.519,
            11.033,
            12.374
           ]
          }
         ],
         "name": "2022"
        }
       ],
       "layout": {
        "coloraxis": {
         "colorbar": {
          "title": {
           "text": "Water Leakage Rate"
          }
         },
         "colorscale": [
          [
           0,
           "#440154"
          ],
          [
           0.1111111111111111,
           "#482878"
          ],
          [
           0.2222222222222222,
           "#3e4989"
          ],
          [
           0.3333333333333333,
           "#31688e"
          ],
          [
           0.4444444444444444,
           "#26828e"
          ],
          [
           0.5555555555555556,
           "#1f9e89"
          ],
          [
           0.6666666666666666,
           "#35b779"
          ],
          [
           0.7777777777777778,
           "#6ece58"
          ],
          [
           0.8888888888888888,
           "#b5de2b"
          ],
          [
           1,
           "#fde725"
          ]
         ]
        },
        "geo": {
         "center": {},
         "coastlinecolor": "Black",
         "domain": {
          "x": [
           0,
           1
          ],
          "y": [
           0,
           1
          ]
         },
         "lakecolor": "LightBlue",
         "landcolor": "LightGray",
         "oceancolor": "LightBlue",
         "projection": {
          "type": "natural earth"
         },
         "showcoastlines": true,
         "showlakes": true,
         "showland": true,
         "showocean": true
        },
        "height": 450,
        "legend": {
         "tracegroupgap": 0
        },
        "sliders": [
         {
          "active": 0,
          "currentvalue": {
           "prefix": "Year="
          },
          "len": 0.9,
          "pad": {
           "b": 10,
           "t": 60
          },
          "steps": [
           {
            "args": [
             [
              "2008"
             ],
             {
              "frame": {
               "duration": 0,
               "redraw": true
              },
              "fromcurrent": true,
              "mode": "immediate",
              "transition": {
               "duration": 0,
               "easing": "linear"
              }
             }
            ],
            "label": "2008",
            "method": "animate"
           },
           {
            "args": [
             [
              "2009"
             ],
             {
              "frame": {
               "duration": 0,
               "redraw": true
              },
              "fromcurrent": true,
              "mode": "immediate",
              "transition": {
               "duration": 0,
               "easing": "linear"
              }
             }
            ],
            "label": "2009",
            "method": "animate"
           },
           {
            "args": [
             [
              "2010"
             ],
             {
              "frame": {
               "duration": 0,
               "redraw": true
              },
              "fromcurrent": true,
              "mode": "immediate",
              "transition": {
               "duration": 0,
               "easing": "linear"
              }
             }
            ],
            "label": "2010",
            "method": "animate"
           },
           {
            "args": [
             [
              "2011"
             ],
             {
              "frame": {
               "duration": 0,
               "redraw": true
              },
              "fromcurrent": true,
              "mode": "immediate",
              "transition": {
               "duration": 0,
               "easing": "linear"
              }
             }
            ],
            "label": "2011",
            "method": "animate"
           },
           {
            "args": [
             [
              "2012"
             ],
             {
              "frame": {
               "duration": 0,
               "redraw": true
              },
              "fromcurrent": true,
              "mode": "immediate",
              "transition": {
               "duration": 0,
               "easing": "linear"
              }
             }
            ],
            "label": "2012",
            "method": "animate"
           },
           {
            "args": [
             [
              "2013"
             ],
             {
              "frame": {
               "duration": 0,
               "redraw": true
              },
              "fromcurrent": true,
              "mode": "immediate",
              "transition": {
               "duration": 0,
               "easing": "linear"
              }
             }
            ],
            "label": "2013",
            "method": "animate"
           },
           {
            "args": [
             [
              "2014"
             ],
             {
              "frame": {
               "duration": 0,
               "redraw": true
              },
              "fromcurrent": true,
              "mode": "immediate",
              "transition": {
               "duration": 0,
               "easing": "linear"
              }
             }
            ],
            "label": "2014",
            "method": "animate"
           },
           {
            "args": [
             [
              "2015"
             ],
             {
              "frame": {
               "duration": 0,
               "redraw": true
              },
              "fromcurrent": true,
              "mode": "immediate",
              "transition": {
               "duration": 0,
               "easing": "linear"
              }
             }
            ],
            "label": "2015",
            "method": "animate"
           },
           {
            "args": [
             [
              "2016"
             ],
             {
              "frame": {
               "duration": 0,
               "redraw": true
              },
              "fromcurrent": true,
              "mode": "immediate",
              "transition": {
               "duration": 0,
               "easing": "linear"
              }
             }
            ],
            "label": "2016",
            "method": "animate"
           },
           {
            "args": [
             [
              "2017"
             ],
             {
              "frame": {
               "duration": 0,
               "redraw": true
              },
              "fromcurrent": true,
              "mode": "immediate",
              "transition": {
               "duration": 0,
               "easing": "linear"
              }
             }
            ],
            "label": "2017",
            "method": "animate"
           },
           {
            "args": [
             [
              "2018"
             ],
             {
              "frame": {
               "duration": 0,
               "redraw": true
              },
              "fromcurrent": true,
              "mode": "immediate",
              "transition": {
               "duration": 0,
               "easing": "linear"
              }
             }
            ],
            "label": "2018",
            "method": "animate"
           },
           {
            "args": [
             [
              "2019"
             ],
             {
              "frame": {
               "duration": 0,
               "redraw": true
              },
              "fromcurrent": true,
              "mode": "immediate",
              "transition": {
               "duration": 0,
               "easing": "linear"
              }
             }
            ],
            "label": "2019",
            "method": "animate"
           },
           {
            "args": [
             [
              "2020"
             ],
             {
              "frame": {
               "duration": 0,
               "redraw": true
              },
              "fromcurrent": true,
              "mode": "immediate",
              "transition": {
               "duration": 0,
               "easing": "linear"
              }
             }
            ],
            "label": "2020",
            "method": "animate"
           },
           {
            "args": [
             [
              "2021"
             ],
             {
              "frame": {
               "duration": 0,
               "redraw": true
              },
              "fromcurrent": true,
              "mode": "immediate",
              "transition": {
               "duration": 0,
               "easing": "linear"
              }
             }
            ],
            "label": "2021",
            "method": "animate"
           },
           {
            "args": [
             [
              "2022"
             ],
             {
              "frame": {
               "duration": 0,
               "redraw": true
              },
              "fromcurrent": true,
              "mode": "immediate",
              "transition": {
               "duration": 0,
               "easing": "linear"
              }
             }
            ],
            "label": "2022",
            "method": "animate"
           }
          ],
          "x": 0.1,
          "xanchor": "left",
          "y": 0,
          "yanchor": "top"
         }
        ],
        "template": {
         "data": {
          "bar": [
           {
            "error_x": {
             "color": "#2a3f5f"
            },
            "error_y": {
             "color": "#2a3f5f"
            },
            "marker": {
             "line": {
              "color": "#E5ECF6",
              "width": 0.5
             },
             "pattern": {
              "fillmode": "overlay",
              "size": 10,
              "solidity": 0.2
             }
            },
            "type": "bar"
           }
          ],
          "barpolar": [
           {
            "marker": {
             "line": {
              "color": "#E5ECF6",
              "width": 0.5
             },
             "pattern": {
              "fillmode": "overlay",
              "size": 10,
              "solidity": 0.2
             }
            },
            "type": "barpolar"
           }
          ],
          "carpet": [
           {
            "aaxis": {
             "endlinecolor": "#2a3f5f",
             "gridcolor": "white",
             "linecolor": "white",
             "minorgridcolor": "white",
             "startlinecolor": "#2a3f5f"
            },
            "baxis": {
             "endlinecolor": "#2a3f5f",
             "gridcolor": "white",
             "linecolor": "white",
             "minorgridcolor": "white",
             "startlinecolor": "#2a3f5f"
            },
            "type": "carpet"
           }
          ],
          "choropleth": [
           {
            "colorbar": {
             "outlinewidth": 0,
             "ticks": ""
            },
            "type": "choropleth"
           }
          ],
          "contour": [
           {
            "colorbar": {
             "outlinewidth": 0,
             "ticks": ""
            },
            "colorscale": [
             [
              0,
              "#0d0887"
             ],
             [
              0.1111111111111111,
              "#46039f"
             ],
             [
              0.2222222222222222,
              "#7201a8"
             ],
             [
              0.3333333333333333,
              "#9c179e"
             ],
             [
              0.4444444444444444,
              "#bd3786"
             ],
             [
              0.5555555555555556,
              "#d8576b"
             ],
             [
              0.6666666666666666,
              "#ed7953"
             ],
             [
              0.7777777777777778,
              "#fb9f3a"
             ],
             [
              0.8888888888888888,
              "#fdca26"
             ],
             [
              1,
              "#f0f921"
             ]
            ],
            "type": "contour"
           }
          ],
          "contourcarpet": [
           {
            "colorbar": {
             "outlinewidth": 0,
             "ticks": ""
            },
            "type": "contourcarpet"
           }
          ],
          "heatmap": [
           {
            "colorbar": {
             "outlinewidth": 0,
             "ticks": ""
            },
            "colorscale": [
             [
              0,
              "#0d0887"
             ],
             [
              0.1111111111111111,
              "#46039f"
             ],
             [
              0.2222222222222222,
              "#7201a8"
             ],
             [
              0.3333333333333333,
              "#9c179e"
             ],
             [
              0.4444444444444444,
              "#bd3786"
             ],
             [
              0.5555555555555556,
              "#d8576b"
             ],
             [
              0.6666666666666666,
              "#ed7953"
             ],
             [
              0.7777777777777778,
              "#fb9f3a"
             ],
             [
              0.8888888888888888,
              "#fdca26"
             ],
             [
              1,
              "#f0f921"
             ]
            ],
            "type": "heatmap"
           }
          ],
          "heatmapgl": [
           {
            "colorbar": {
             "outlinewidth": 0,
             "ticks": ""
            },
            "colorscale": [
             [
              0,
              "#0d0887"
             ],
             [
              0.1111111111111111,
              "#46039f"
             ],
             [
              0.2222222222222222,
              "#7201a8"
             ],
             [
              0.3333333333333333,
              "#9c179e"
             ],
             [
              0.4444444444444444,
              "#bd3786"
             ],
             [
              0.5555555555555556,
              "#d8576b"
             ],
             [
              0.6666666666666666,
              "#ed7953"
             ],
             [
              0.7777777777777778,
              "#fb9f3a"
             ],
             [
              0.8888888888888888,
              "#fdca26"
             ],
             [
              1,
              "#f0f921"
             ]
            ],
            "type": "heatmapgl"
           }
          ],
          "histogram": [
           {
            "marker": {
             "pattern": {
              "fillmode": "overlay",
              "size": 10,
              "solidity": 0.2
             }
            },
            "type": "histogram"
           }
          ],
          "histogram2d": [
           {
            "colorbar": {
             "outlinewidth": 0,
             "ticks": ""
            },
            "colorscale": [
             [
              0,
              "#0d0887"
             ],
             [
              0.1111111111111111,
              "#46039f"
             ],
             [
              0.2222222222222222,
              "#7201a8"
             ],
             [
              0.3333333333333333,
              "#9c179e"
             ],
             [
              0.4444444444444444,
              "#bd3786"
             ],
             [
              0.5555555555555556,
              "#d8576b"
             ],
             [
              0.6666666666666666,
              "#ed7953"
             ],
             [
              0.7777777777777778,
              "#fb9f3a"
             ],
             [
              0.8888888888888888,
              "#fdca26"
             ],
             [
              1,
              "#f0f921"
             ]
            ],
            "type": "histogram2d"
           }
          ],
          "histogram2dcontour": [
           {
            "colorbar": {
             "outlinewidth": 0,
             "ticks": ""
            },
            "colorscale": [
             [
              0,
              "#0d0887"
             ],
             [
              0.1111111111111111,
              "#46039f"
             ],
             [
              0.2222222222222222,
              "#7201a8"
             ],
             [
              0.3333333333333333,
              "#9c179e"
             ],
             [
              0.4444444444444444,
              "#bd3786"
             ],
             [
              0.5555555555555556,
              "#d8576b"
             ],
             [
              0.6666666666666666,
              "#ed7953"
             ],
             [
              0.7777777777777778,
              "#fb9f3a"
             ],
             [
              0.8888888888888888,
              "#fdca26"
             ],
             [
              1,
              "#f0f921"
             ]
            ],
            "type": "histogram2dcontour"
           }
          ],
          "mesh3d": [
           {
            "colorbar": {
             "outlinewidth": 0,
             "ticks": ""
            },
            "type": "mesh3d"
           }
          ],
          "parcoords": [
           {
            "line": {
             "colorbar": {
              "outlinewidth": 0,
              "ticks": ""
             }
            },
            "type": "parcoords"
           }
          ],
          "pie": [
           {
            "automargin": true,
            "type": "pie"
           }
          ],
          "scatter": [
           {
            "fillpattern": {
             "fillmode": "overlay",
             "size": 10,
             "solidity": 0.2
            },
            "type": "scatter"
           }
          ],
          "scatter3d": [
           {
            "line": {
             "colorbar": {
              "outlinewidth": 0,
              "ticks": ""
             }
            },
            "marker": {
             "colorbar": {
              "outlinewidth": 0,
              "ticks": ""
             }
            },
            "type": "scatter3d"
           }
          ],
          "scattercarpet": [
           {
            "marker": {
             "colorbar": {
              "outlinewidth": 0,
              "ticks": ""
             }
            },
            "type": "scattercarpet"
           }
          ],
          "scattergeo": [
           {
            "marker": {
             "colorbar": {
              "outlinewidth": 0,
              "ticks": ""
             }
            },
            "type": "scattergeo"
           }
          ],
          "scattergl": [
           {
            "marker": {
             "colorbar": {
              "outlinewidth": 0,
              "ticks": ""
             }
            },
            "type": "scattergl"
           }
          ],
          "scattermapbox": [
           {
            "marker": {
             "colorbar": {
              "outlinewidth": 0,
              "ticks": ""
             }
            },
            "type": "scattermapbox"
           }
          ],
          "scatterpolar": [
           {
            "marker": {
             "colorbar": {
              "outlinewidth": 0,
              "ticks": ""
             }
            },
            "type": "scatterpolar"
           }
          ],
          "scatterpolargl": [
           {
            "marker": {
             "colorbar": {
              "outlinewidth": 0,
              "ticks": ""
             }
            },
            "type": "scatterpolargl"
           }
          ],
          "scatterternary": [
           {
            "marker": {
             "colorbar": {
              "outlinewidth": 0,
              "ticks": ""
             }
            },
            "type": "scatterternary"
           }
          ],
          "surface": [
           {
            "colorbar": {
             "outlinewidth": 0,
             "ticks": ""
            },
            "colorscale": [
             [
              0,
              "#0d0887"
             ],
             [
              0.1111111111111111,
              "#46039f"
             ],
             [
              0.2222222222222222,
              "#7201a8"
             ],
             [
              0.3333333333333333,
              "#9c179e"
             ],
             [
              0.4444444444444444,
              "#bd3786"
             ],
             [
              0.5555555555555556,
              "#d8576b"
             ],
             [
              0.6666666666666666,
              "#ed7953"
             ],
             [
              0.7777777777777778,
              "#fb9f3a"
             ],
             [
              0.8888888888888888,
              "#fdca26"
             ],
             [
              1,
              "#f0f921"
             ]
            ],
            "type": "surface"
           }
          ],
          "table": [
           {
            "cells": {
             "fill": {
              "color": "#EBF0F8"
             },
             "line": {
              "color": "white"
             }
            },
            "header": {
             "fill": {
              "color": "#C8D4E3"
             },
             "line": {
              "color": "white"
             }
            },
            "type": "table"
           }
          ]
         },
         "layout": {
          "annotationdefaults": {
           "arrowcolor": "#2a3f5f",
           "arrowhead": 0,
           "arrowwidth": 1
          },
          "autotypenumbers": "strict",
          "coloraxis": {
           "colorbar": {
            "outlinewidth": 0,
            "ticks": ""
           }
          },
          "colorscale": {
           "diverging": [
            [
             0,
             "#8e0152"
            ],
            [
             0.1,
             "#c51b7d"
            ],
            [
             0.2,
             "#de77ae"
            ],
            [
             0.3,
             "#f1b6da"
            ],
            [
             0.4,
             "#fde0ef"
            ],
            [
             0.5,
             "#f7f7f7"
            ],
            [
             0.6,
             "#e6f5d0"
            ],
            [
             0.7,
             "#b8e186"
            ],
            [
             0.8,
             "#7fbc41"
            ],
            [
             0.9,
             "#4d9221"
            ],
            [
             1,
             "#276419"
            ]
           ],
           "sequential": [
            [
             0,
             "#0d0887"
            ],
            [
             0.1111111111111111,
             "#46039f"
            ],
            [
             0.2222222222222222,
             "#7201a8"
            ],
            [
             0.3333333333333333,
             "#9c179e"
            ],
            [
             0.4444444444444444,
             "#bd3786"
            ],
            [
             0.5555555555555556,
             "#d8576b"
            ],
            [
             0.6666666666666666,
             "#ed7953"
            ],
            [
             0.7777777777777778,
             "#fb9f3a"
            ],
            [
             0.8888888888888888,
             "#fdca26"
            ],
            [
             1,
             "#f0f921"
            ]
           ],
           "sequentialminus": [
            [
             0,
             "#0d0887"
            ],
            [
             0.1111111111111111,
             "#46039f"
            ],
            [
             0.2222222222222222,
             "#7201a8"
            ],
            [
             0.3333333333333333,
             "#9c179e"
            ],
            [
             0.4444444444444444,
             "#bd3786"
            ],
            [
             0.5555555555555556,
             "#d8576b"
            ],
            [
             0.6666666666666666,
             "#ed7953"
            ],
            [
             0.7777777777777778,
             "#fb9f3a"
            ],
            [
             0.8888888888888888,
             "#fdca26"
            ],
            [
             1,
             "#f0f921"
            ]
           ]
          },
          "colorway": [
           "#636efa",
           "#EF553B",
           "#00cc96",
           "#ab63fa",
           "#FFA15A",
           "#19d3f3",
           "#FF6692",
           "#B6E880",
           "#FF97FF",
           "#FECB52"
          ],
          "font": {
           "color": "#2a3f5f"
          },
          "geo": {
           "bgcolor": "white",
           "lakecolor": "white",
           "landcolor": "#E5ECF6",
           "showlakes": true,
           "showland": true,
           "subunitcolor": "white"
          },
          "hoverlabel": {
           "align": "left"
          },
          "hovermode": "closest",
          "mapbox": {
           "style": "light"
          },
          "paper_bgcolor": "white",
          "plot_bgcolor": "#E5ECF6",
          "polar": {
           "angularaxis": {
            "gridcolor": "white",
            "linecolor": "white",
            "ticks": ""
           },
           "bgcolor": "#E5ECF6",
           "radialaxis": {
            "gridcolor": "white",
            "linecolor": "white",
            "ticks": ""
           }
          },
          "scene": {
           "xaxis": {
            "backgroundcolor": "#E5ECF6",
            "gridcolor": "white",
            "gridwidth": 2,
            "linecolor": "white",
            "showbackground": true,
            "ticks": "",
            "zerolinecolor": "white"
           },
           "yaxis": {
            "backgroundcolor": "#E5ECF6",
            "gridcolor": "white",
            "gridwidth": 2,
            "linecolor": "white",
            "showbackground": true,
            "ticks": "",
            "zerolinecolor": "white"
           },
           "zaxis": {
            "backgroundcolor": "#E5ECF6",
            "gridcolor": "white",
            "gridwidth": 2,
            "linecolor": "white",
            "showbackground": true,
            "ticks": "",
            "zerolinecolor": "white"
           }
          },
          "shapedefaults": {
           "line": {
            "color": "#2a3f5f"
           }
          },
          "ternary": {
           "aaxis": {
            "gridcolor": "white",
            "linecolor": "white",
            "ticks": ""
           },
           "baxis": {
            "gridcolor": "white",
            "linecolor": "white",
            "ticks": ""
           },
           "bgcolor": "#E5ECF6",
           "caxis": {
            "gridcolor": "white",
            "linecolor": "white",
            "ticks": ""
           }
          },
          "title": {
           "x": 0.05
          },
          "xaxis": {
           "automargin": true,
           "gridcolor": "white",
           "linecolor": "white",
           "ticks": "",
           "title": {
            "standoff": 15
           },
           "zerolinecolor": "white",
           "zerolinewidth": 2
          },
          "yaxis": {
           "automargin": true,
           "gridcolor": "white",
           "linecolor": "white",
           "ticks": "",
           "title": {
            "standoff": 15
           },
           "zerolinecolor": "white",
           "zerolinewidth": 2
          }
         }
        },
        "title": {
         "font": {
          "family": "Arial",
          "size": 24
         },
         "text": "Water Leakage Rate Over Time [2008-2022]"
        },
        "updatemenus": [
         {
          "buttons": [
           {
            "args": [
             null,
             {
              "frame": {
               "duration": 500,
               "redraw": true
              },
              "fromcurrent": true,
              "mode": "immediate",
              "transition": {
               "duration": 500,
               "easing": "linear"
              }
             }
            ],
            "label": "&#9654;",
            "method": "animate"
           },
           {
            "args": [
             [
              null
             ],
             {
              "frame": {
               "duration": 0,
               "redraw": true
              },
              "fromcurrent": true,
              "mode": "immediate",
              "transition": {
               "duration": 0,
               "easing": "linear"
              }
             }
            ],
            "label": "&#9724;",
            "method": "animate"
           }
          ],
          "direction": "left",
          "pad": {
           "r": 10,
           "t": 70
          },
          "showactive": false,
          "type": "buttons",
          "x": 0.1,
          "xanchor": "right",
          "y": 0,
          "yanchor": "top"
         }
        ],
        "width": 1250
       }
      }
     },
     "metadata": {},
     "output_type": "display_data"
    }
   ],
   "source": [
    "# Transform the DataFrame to long format\n",
    "data_long = pd.melt(data, id_vars=['Country Code', 'Country Name_x', 'Continent_x'],\n",
    "                    var_name='Year', value_name='Water Leakage')\n",
    "\n",
    "# Ensure 'Year' is a string\n",
    "data_long['Year'] = data_long['Year'].astype(str)\n",
    "\n",
    "# Filter data to include all countries\n",
    "filtered_data = data_long\n",
    "\n",
    "# Plotting the animated choropleth map\n",
    "fig1 = px.choropleth(\n",
    "    filtered_data,\n",
    "    locations='Country Code',\n",
    "    color='Water Leakage',  # Corrected from 'Water Leakage Rate' to 'Water Leakage'\n",
    "    hover_name='Country Name_x',  \n",
    "    animation_frame='Year', \n",
    "    color_continuous_scale='Viridis',  \n",
    "    title='Water Leakage Rate Over Time [2008-2022]',\n",
    "    projection='natural earth'  \n",
    ")\n",
    "\n",
    "# Customize layout and increase size of the map\n",
    "fig1.update_layout(\n",
    "    geo=dict(\n",
    "        showcoastlines=True,\n",
    "        coastlinecolor=\"Black\",\n",
    "        showland=True,\n",
    "        landcolor=\"LightGray\",\n",
    "        showocean=True,\n",
    "        oceancolor=\"LightBlue\",\n",
    "        showlakes=True,\n",
    "        lakecolor=\"LightBlue\"\n",
    "    ),\n",
    "    coloraxis_colorbar_title='Water Leakage Rate',\n",
    "    title_font_size=24,\n",
    "    title_font_family='Arial',\n",
    "    width=1250,  # Increase the width of the map\n",
    "    height=450   # Increase the height of the map\n",
    ")\n",
    "\n",
    "# Show the plot\n",
    "fig1.show()"
   ]
  },
  {
   "cell_type": "code",
   "execution_count": 44,
   "metadata": {},
   "outputs": [
    {
     "data": {
      "application/vnd.plotly.v1+json": {
       "config": {
        "plotlyServerURL": "https://plot.ly"
       },
       "data": [
        {
         "alignmentgroup": "True",
         "hovertemplate": "Country=%{x}<br>Year=2008<br>Water Leakage=%{y}<extra></extra>",
         "ids": [
          "Botswana"
         ],
         "legendgroup": "Botswana",
         "marker": {
          "color": "#636efa",
          "pattern": {
           "shape": ""
          }
         },
         "name": "Botswana",
         "offsetgroup": "Botswana",
         "orientation": "v",
         "showlegend": true,
         "textposition": "auto",
         "type": "bar",
         "x": [
          "Botswana"
         ],
         "xaxis": "x",
         "y": [
          31.806
         ],
         "yaxis": "y"
        },
        {
         "alignmentgroup": "True",
         "hovertemplate": "Country=%{x}<br>Year=2008<br>Water Leakage=%{y}<extra></extra>",
         "ids": [
          "Mozambique"
         ],
         "legendgroup": "Mozambique",
         "marker": {
          "color": "#EF553B",
          "pattern": {
           "shape": ""
          }
         },
         "name": "Mozambique",
         "offsetgroup": "Mozambique",
         "orientation": "v",
         "showlegend": true,
         "textposition": "auto",
         "type": "bar",
         "x": [
          "Mozambique"
         ],
         "xaxis": "x",
         "y": [
          6.598
         ],
         "yaxis": "y"
        },
        {
         "alignmentgroup": "True",
         "hovertemplate": "Country=%{x}<br>Year=2008<br>Water Leakage=%{y}<extra></extra>",
         "ids": [
          "Namibia"
         ],
         "legendgroup": "Namibia",
         "marker": {
          "color": "#00cc96",
          "pattern": {
           "shape": ""
          }
         },
         "name": "Namibia",
         "offsetgroup": "Namibia",
         "orientation": "v",
         "showlegend": true,
         "textposition": "auto",
         "type": "bar",
         "x": [
          "Namibia"
         ],
         "xaxis": "x",
         "y": [
          44.126
         ],
         "yaxis": "y"
        },
        {
         "alignmentgroup": "True",
         "hovertemplate": "Country=%{x}<br>Year=2008<br>Water Leakage=%{y}<extra></extra>",
         "ids": [
          "South Africa"
         ],
         "legendgroup": "South Africa",
         "marker": {
          "color": "#ab63fa",
          "pattern": {
           "shape": ""
          }
         },
         "name": "South Africa",
         "offsetgroup": "South Africa",
         "orientation": "v",
         "showlegend": true,
         "textposition": "auto",
         "type": "bar",
         "x": [
          "South Africa"
         ],
         "xaxis": "x",
         "y": [
          36.536
         ],
         "yaxis": "y"
        },
        {
         "alignmentgroup": "True",
         "hovertemplate": "Country=%{x}<br>Year=2008<br>Water Leakage=%{y}<extra></extra>",
         "ids": [
          "Zimbabwe"
         ],
         "legendgroup": "Zimbabwe",
         "marker": {
          "color": "#FFA15A",
          "pattern": {
           "shape": ""
          }
         },
         "name": "Zimbabwe",
         "offsetgroup": "Zimbabwe",
         "orientation": "v",
         "showlegend": true,
         "textposition": "auto",
         "type": "bar",
         "x": [
          "Zimbabwe"
         ],
         "xaxis": "x",
         "y": [
          8.733
         ],
         "yaxis": "y"
        }
       ],
       "frames": [
        {
         "data": [
          {
           "alignmentgroup": "True",
           "hovertemplate": "Country=%{x}<br>Year=2008<br>Water Leakage=%{y}<extra></extra>",
           "ids": [
            "Botswana"
           ],
           "legendgroup": "Botswana",
           "marker": {
            "color": "#636efa",
            "pattern": {
             "shape": ""
            }
           },
           "name": "Botswana",
           "offsetgroup": "Botswana",
           "orientation": "v",
           "showlegend": true,
           "textposition": "auto",
           "type": "bar",
           "x": [
            "Botswana"
           ],
           "xaxis": "x",
           "y": [
            31.806
           ],
           "yaxis": "y"
          },
          {
           "alignmentgroup": "True",
           "hovertemplate": "Country=%{x}<br>Year=2008<br>Water Leakage=%{y}<extra></extra>",
           "ids": [
            "Mozambique"
           ],
           "legendgroup": "Mozambique",
           "marker": {
            "color": "#EF553B",
            "pattern": {
             "shape": ""
            }
           },
           "name": "Mozambique",
           "offsetgroup": "Mozambique",
           "orientation": "v",
           "showlegend": true,
           "textposition": "auto",
           "type": "bar",
           "x": [
            "Mozambique"
           ],
           "xaxis": "x",
           "y": [
            6.598
           ],
           "yaxis": "y"
          },
          {
           "alignmentgroup": "True",
           "hovertemplate": "Country=%{x}<br>Year=2008<br>Water Leakage=%{y}<extra></extra>",
           "ids": [
            "Namibia"
           ],
           "legendgroup": "Namibia",
           "marker": {
            "color": "#00cc96",
            "pattern": {
             "shape": ""
            }
           },
           "name": "Namibia",
           "offsetgroup": "Namibia",
           "orientation": "v",
           "showlegend": true,
           "textposition": "auto",
           "type": "bar",
           "x": [
            "Namibia"
           ],
           "xaxis": "x",
           "y": [
            44.126
           ],
           "yaxis": "y"
          },
          {
           "alignmentgroup": "True",
           "hovertemplate": "Country=%{x}<br>Year=2008<br>Water Leakage=%{y}<extra></extra>",
           "ids": [
            "South Africa"
           ],
           "legendgroup": "South Africa",
           "marker": {
            "color": "#ab63fa",
            "pattern": {
             "shape": ""
            }
           },
           "name": "South Africa",
           "offsetgroup": "South Africa",
           "orientation": "v",
           "showlegend": true,
           "textposition": "auto",
           "type": "bar",
           "x": [
            "South Africa"
           ],
           "xaxis": "x",
           "y": [
            36.536
           ],
           "yaxis": "y"
          },
          {
           "alignmentgroup": "True",
           "hovertemplate": "Country=%{x}<br>Year=2008<br>Water Leakage=%{y}<extra></extra>",
           "ids": [
            "Zimbabwe"
           ],
           "legendgroup": "Zimbabwe",
           "marker": {
            "color": "#FFA15A",
            "pattern": {
             "shape": ""
            }
           },
           "name": "Zimbabwe",
           "offsetgroup": "Zimbabwe",
           "orientation": "v",
           "showlegend": true,
           "textposition": "auto",
           "type": "bar",
           "x": [
            "Zimbabwe"
           ],
           "xaxis": "x",
           "y": [
            8.733
           ],
           "yaxis": "y"
          }
         ],
         "name": "2008"
        },
        {
         "data": [
          {
           "alignmentgroup": "True",
           "hovertemplate": "Country=%{x}<br>Year=2009<br>Water Leakage=%{y}<extra></extra>",
           "ids": [
            "Botswana"
           ],
           "legendgroup": "Botswana",
           "marker": {
            "color": "#636efa",
            "pattern": {
             "shape": ""
            }
           },
           "name": "Botswana",
           "offsetgroup": "Botswana",
           "orientation": "v",
           "showlegend": true,
           "textposition": "auto",
           "type": "bar",
           "x": [
            "Botswana"
           ],
           "xaxis": "x",
           "y": [
            32.158
           ],
           "yaxis": "y"
          },
          {
           "alignmentgroup": "True",
           "hovertemplate": "Country=%{x}<br>Year=2009<br>Water Leakage=%{y}<extra></extra>",
           "ids": [
            "Mozambique"
           ],
           "legendgroup": "Mozambique",
           "marker": {
            "color": "#EF553B",
            "pattern": {
             "shape": ""
            }
           },
           "name": "Mozambique",
           "offsetgroup": "Mozambique",
           "orientation": "v",
           "showlegend": true,
           "textposition": "auto",
           "type": "bar",
           "x": [
            "Mozambique"
           ],
           "xaxis": "x",
           "y": [
            6.696
           ],
           "yaxis": "y"
          },
          {
           "alignmentgroup": "True",
           "hovertemplate": "Country=%{x}<br>Year=2009<br>Water Leakage=%{y}<extra></extra>",
           "ids": [
            "Namibia"
           ],
           "legendgroup": "Namibia",
           "marker": {
            "color": "#00cc96",
            "pattern": {
             "shape": ""
            }
           },
           "name": "Namibia",
           "offsetgroup": "Namibia",
           "orientation": "v",
           "showlegend": true,
           "textposition": "auto",
           "type": "bar",
           "x": [
            "Namibia"
           ],
           "xaxis": "x",
           "y": [
            44.459
           ],
           "yaxis": "y"
          },
          {
           "alignmentgroup": "True",
           "hovertemplate": "Country=%{x}<br>Year=2009<br>Water Leakage=%{y}<extra></extra>",
           "ids": [
            "South Africa"
           ],
           "legendgroup": "South Africa",
           "marker": {
            "color": "#ab63fa",
            "pattern": {
             "shape": ""
            }
           },
           "name": "South Africa",
           "offsetgroup": "South Africa",
           "orientation": "v",
           "showlegend": true,
           "textposition": "auto",
           "type": "bar",
           "x": [
            "South Africa"
           ],
           "xaxis": "x",
           "y": [
            38.589
           ],
           "yaxis": "y"
          },
          {
           "alignmentgroup": "True",
           "hovertemplate": "Country=%{x}<br>Year=2009<br>Water Leakage=%{y}<extra></extra>",
           "ids": [
            "Zimbabwe"
           ],
           "legendgroup": "Zimbabwe",
           "marker": {
            "color": "#FFA15A",
            "pattern": {
             "shape": ""
            }
           },
           "name": "Zimbabwe",
           "offsetgroup": "Zimbabwe",
           "orientation": "v",
           "showlegend": true,
           "textposition": "auto",
           "type": "bar",
           "x": [
            "Zimbabwe"
           ],
           "xaxis": "x",
           "y": [
            8.715
           ],
           "yaxis": "y"
          }
         ],
         "name": "2009"
        },
        {
         "data": [
          {
           "alignmentgroup": "True",
           "hovertemplate": "Country=%{x}<br>Year=2010<br>Water Leakage=%{y}<extra></extra>",
           "ids": [
            "Botswana"
           ],
           "legendgroup": "Botswana",
           "marker": {
            "color": "#636efa",
            "pattern": {
             "shape": ""
            }
           },
           "name": "Botswana",
           "offsetgroup": "Botswana",
           "orientation": "v",
           "showlegend": true,
           "textposition": "auto",
           "type": "bar",
           "x": [
            "Botswana"
           ],
           "xaxis": "x",
           "y": [
            34.845
           ],
           "yaxis": "y"
          },
          {
           "alignmentgroup": "True",
           "hovertemplate": "Country=%{x}<br>Year=2010<br>Water Leakage=%{y}<extra></extra>",
           "ids": [
            "Mozambique"
           ],
           "legendgroup": "Mozambique",
           "marker": {
            "color": "#EF553B",
            "pattern": {
             "shape": ""
            }
           },
           "name": "Mozambique",
           "offsetgroup": "Mozambique",
           "orientation": "v",
           "showlegend": true,
           "textposition": "auto",
           "type": "bar",
           "x": [
            "Mozambique"
           ],
           "xaxis": "x",
           "y": [
            6.78
           ],
           "yaxis": "y"
          },
          {
           "alignmentgroup": "True",
           "hovertemplate": "Country=%{x}<br>Year=2010<br>Water Leakage=%{y}<extra></extra>",
           "ids": [
            "Namibia"
           ],
           "legendgroup": "Namibia",
           "marker": {
            "color": "#00cc96",
            "pattern": {
             "shape": ""
            }
           },
           "name": "Namibia",
           "offsetgroup": "Namibia",
           "orientation": "v",
           "showlegend": true,
           "textposition": "auto",
           "type": "bar",
           "x": [
            "Namibia"
           ],
           "xaxis": "x",
           "y": [
            44.47
           ],
           "yaxis": "y"
          },
          {
           "alignmentgroup": "True",
           "hovertemplate": "Country=%{x}<br>Year=2010<br>Water Leakage=%{y}<extra></extra>",
           "ids": [
            "South Africa"
           ],
           "legendgroup": "South Africa",
           "marker": {
            "color": "#ab63fa",
            "pattern": {
             "shape": ""
            }
           },
           "name": "South Africa",
           "offsetgroup": "South Africa",
           "orientation": "v",
           "showlegend": true,
           "textposition": "auto",
           "type": "bar",
           "x": [
            "South Africa"
           ],
           "xaxis": "x",
           "y": [
            45.536
           ],
           "yaxis": "y"
          },
          {
           "alignmentgroup": "True",
           "hovertemplate": "Country=%{x}<br>Year=2010<br>Water Leakage=%{y}<extra></extra>",
           "ids": [
            "Zimbabwe"
           ],
           "legendgroup": "Zimbabwe",
           "marker": {
            "color": "#FFA15A",
            "pattern": {
             "shape": ""
            }
           },
           "name": "Zimbabwe",
           "offsetgroup": "Zimbabwe",
           "orientation": "v",
           "showlegend": true,
           "textposition": "auto",
           "type": "bar",
           "x": [
            "Zimbabwe"
           ],
           "xaxis": "x",
           "y": [
            8.834
           ],
           "yaxis": "y"
          }
         ],
         "name": "2010"
        },
        {
         "data": [
          {
           "alignmentgroup": "True",
           "hovertemplate": "Country=%{x}<br>Year=2011<br>Water Leakage=%{y}<extra></extra>",
           "ids": [
            "Botswana"
           ],
           "legendgroup": "Botswana",
           "marker": {
            "color": "#636efa",
            "pattern": {
             "shape": ""
            }
           },
           "name": "Botswana",
           "offsetgroup": "Botswana",
           "orientation": "v",
           "showlegend": true,
           "textposition": "auto",
           "type": "bar",
           "x": [
            "Botswana"
           ],
           "xaxis": "x",
           "y": [
            35.105
           ],
           "yaxis": "y"
          },
          {
           "alignmentgroup": "True",
           "hovertemplate": "Country=%{x}<br>Year=2011<br>Water Leakage=%{y}<extra></extra>",
           "ids": [
            "Mozambique"
           ],
           "legendgroup": "Mozambique",
           "marker": {
            "color": "#EF553B",
            "pattern": {
             "shape": ""
            }
           },
           "name": "Mozambique",
           "offsetgroup": "Mozambique",
           "orientation": "v",
           "showlegend": true,
           "textposition": "auto",
           "type": "bar",
           "x": [
            "Mozambique"
           ],
           "xaxis": "x",
           "y": [
            6.856
           ],
           "yaxis": "y"
          },
          {
           "alignmentgroup": "True",
           "hovertemplate": "Country=%{x}<br>Year=2011<br>Water Leakage=%{y}<extra></extra>",
           "ids": [
            "Namibia"
           ],
           "legendgroup": "Namibia",
           "marker": {
            "color": "#00cc96",
            "pattern": {
             "shape": ""
            }
           },
           "name": "Namibia",
           "offsetgroup": "Namibia",
           "orientation": "v",
           "showlegend": true,
           "textposition": "auto",
           "type": "bar",
           "x": [
            "Namibia"
           ],
           "xaxis": "x",
           "y": [
            39.268
           ],
           "yaxis": "y"
          },
          {
           "alignmentgroup": "True",
           "hovertemplate": "Country=%{x}<br>Year=2011<br>Water Leakage=%{y}<extra></extra>",
           "ids": [
            "South Africa"
           ],
           "legendgroup": "South Africa",
           "marker": {
            "color": "#ab63fa",
            "pattern": {
             "shape": ""
            }
           },
           "name": "South Africa",
           "offsetgroup": "South Africa",
           "orientation": "v",
           "showlegend": true,
           "textposition": "auto",
           "type": "bar",
           "x": [
            "South Africa"
           ],
           "xaxis": "x",
           "y": [
            39.739
           ],
           "yaxis": "y"
          },
          {
           "alignmentgroup": "True",
           "hovertemplate": "Country=%{x}<br>Year=2011<br>Water Leakage=%{y}<extra></extra>",
           "ids": [
            "Zimbabwe"
           ],
           "legendgroup": "Zimbabwe",
           "marker": {
            "color": "#FFA15A",
            "pattern": {
             "shape": ""
            }
           },
           "name": "Zimbabwe",
           "offsetgroup": "Zimbabwe",
           "orientation": "v",
           "showlegend": true,
           "textposition": "auto",
           "type": "bar",
           "x": [
            "Zimbabwe"
           ],
           "xaxis": "x",
           "y": [
            9.035
           ],
           "yaxis": "y"
          }
         ],
         "name": "2011"
        },
        {
         "data": [
          {
           "alignmentgroup": "True",
           "hovertemplate": "Country=%{x}<br>Year=2012<br>Water Leakage=%{y}<extra></extra>",
           "ids": [
            "Botswana"
           ],
           "legendgroup": "Botswana",
           "marker": {
            "color": "#636efa",
            "pattern": {
             "shape": ""
            }
           },
           "name": "Botswana",
           "offsetgroup": "Botswana",
           "orientation": "v",
           "showlegend": true,
           "textposition": "auto",
           "type": "bar",
           "x": [
            "Botswana"
           ],
           "xaxis": "x",
           "y": [
            35.29
           ],
           "yaxis": "y"
          },
          {
           "alignmentgroup": "True",
           "hovertemplate": "Country=%{x}<br>Year=2012<br>Water Leakage=%{y}<extra></extra>",
           "ids": [
            "Mozambique"
           ],
           "legendgroup": "Mozambique",
           "marker": {
            "color": "#EF553B",
            "pattern": {
             "shape": ""
            }
           },
           "name": "Mozambique",
           "offsetgroup": "Mozambique",
           "orientation": "v",
           "showlegend": true,
           "textposition": "auto",
           "type": "bar",
           "x": [
            "Mozambique"
           ],
           "xaxis": "x",
           "y": [
            6.948
           ],
           "yaxis": "y"
          },
          {
           "alignmentgroup": "True",
           "hovertemplate": "Country=%{x}<br>Year=2012<br>Water Leakage=%{y}<extra></extra>",
           "ids": [
            "Namibia"
           ],
           "legendgroup": "Namibia",
           "marker": {
            "color": "#00cc96",
            "pattern": {
             "shape": ""
            }
           },
           "name": "Namibia",
           "offsetgroup": "Namibia",
           "orientation": "v",
           "showlegend": true,
           "textposition": "auto",
           "type": "bar",
           "x": [
            "Namibia"
           ],
           "xaxis": "x",
           "y": [
            34.023
           ],
           "yaxis": "y"
          },
          {
           "alignmentgroup": "True",
           "hovertemplate": "Country=%{x}<br>Year=2012<br>Water Leakage=%{y}<extra></extra>",
           "ids": [
            "South Africa"
           ],
           "legendgroup": "South Africa",
           "marker": {
            "color": "#ab63fa",
            "pattern": {
             "shape": ""
            }
           },
           "name": "South Africa",
           "offsetgroup": "South Africa",
           "orientation": "v",
           "showlegend": true,
           "textposition": "auto",
           "type": "bar",
           "x": [
            "South Africa"
           ],
           "xaxis": "x",
           "y": [
            41.897
           ],
           "yaxis": "y"
          },
          {
           "alignmentgroup": "True",
           "hovertemplate": "Country=%{x}<br>Year=2012<br>Water Leakage=%{y}<extra></extra>",
           "ids": [
            "Zimbabwe"
           ],
           "legendgroup": "Zimbabwe",
           "marker": {
            "color": "#FFA15A",
            "pattern": {
             "shape": ""
            }
           },
           "name": "Zimbabwe",
           "offsetgroup": "Zimbabwe",
           "orientation": "v",
           "showlegend": true,
           "textposition": "auto",
           "type": "bar",
           "x": [
            "Zimbabwe"
           ],
           "xaxis": "x",
           "y": [
            8.309
           ],
           "yaxis": "y"
          }
         ],
         "name": "2012"
        },
        {
         "data": [
          {
           "alignmentgroup": "True",
           "hovertemplate": "Country=%{x}<br>Year=2013<br>Water Leakage=%{y}<extra></extra>",
           "ids": [
            "Botswana"
           ],
           "legendgroup": "Botswana",
           "marker": {
            "color": "#636efa",
            "pattern": {
             "shape": ""
            }
           },
           "name": "Botswana",
           "offsetgroup": "Botswana",
           "orientation": "v",
           "showlegend": true,
           "textposition": "auto",
           "type": "bar",
           "x": [
            "Botswana"
           ],
           "xaxis": "x",
           "y": [
            35.201
           ],
           "yaxis": "y"
          },
          {
           "alignmentgroup": "True",
           "hovertemplate": "Country=%{x}<br>Year=2013<br>Water Leakage=%{y}<extra></extra>",
           "ids": [
            "Mozambique"
           ],
           "legendgroup": "Mozambique",
           "marker": {
            "color": "#EF553B",
            "pattern": {
             "shape": ""
            }
           },
           "name": "Mozambique",
           "offsetgroup": "Mozambique",
           "orientation": "v",
           "showlegend": true,
           "textposition": "auto",
           "type": "bar",
           "x": [
            "Mozambique"
           ],
           "xaxis": "x",
           "y": [
            7.042
           ],
           "yaxis": "y"
          },
          {
           "alignmentgroup": "True",
           "hovertemplate": "Country=%{x}<br>Year=2013<br>Water Leakage=%{y}<extra></extra>",
           "ids": [
            "Namibia"
           ],
           "legendgroup": "Namibia",
           "marker": {
            "color": "#00cc96",
            "pattern": {
             "shape": ""
            }
           },
           "name": "Namibia",
           "offsetgroup": "Namibia",
           "orientation": "v",
           "showlegend": true,
           "textposition": "auto",
           "type": "bar",
           "x": [
            "Namibia"
           ],
           "xaxis": "x",
           "y": [
            40.401
           ],
           "yaxis": "y"
          },
          {
           "alignmentgroup": "True",
           "hovertemplate": "Country=%{x}<br>Year=2013<br>Water Leakage=%{y}<extra></extra>",
           "ids": [
            "South Africa"
           ],
           "legendgroup": "South Africa",
           "marker": {
            "color": "#ab63fa",
            "pattern": {
             "shape": ""
            }
           },
           "name": "South Africa",
           "offsetgroup": "South Africa",
           "orientation": "v",
           "showlegend": true,
           "textposition": "auto",
           "type": "bar",
           "x": [
            "South Africa"
           ],
           "xaxis": "x",
           "y": [
            42.81
           ],
           "yaxis": "y"
          },
          {
           "alignmentgroup": "True",
           "hovertemplate": "Country=%{x}<br>Year=2013<br>Water Leakage=%{y}<extra></extra>",
           "ids": [
            "Zimbabwe"
           ],
           "legendgroup": "Zimbabwe",
           "marker": {
            "color": "#FFA15A",
            "pattern": {
             "shape": ""
            }
           },
           "name": "Zimbabwe",
           "offsetgroup": "Zimbabwe",
           "orientation": "v",
           "showlegend": true,
           "textposition": "auto",
           "type": "bar",
           "x": [
            "Zimbabwe"
           ],
           "xaxis": "x",
           "y": [
            7.67
           ],
           "yaxis": "y"
          }
         ],
         "name": "2013"
        },
        {
         "data": [
          {
           "alignmentgroup": "True",
           "hovertemplate": "Country=%{x}<br>Year=2014<br>Water Leakage=%{y}<extra></extra>",
           "ids": [
            "Botswana"
           ],
           "legendgroup": "Botswana",
           "marker": {
            "color": "#636efa",
            "pattern": {
             "shape": ""
            }
           },
           "name": "Botswana",
           "offsetgroup": "Botswana",
           "orientation": "v",
           "showlegend": true,
           "textposition": "auto",
           "type": "bar",
           "x": [
            "Botswana"
           ],
           "xaxis": "x",
           "y": [
            35.447
           ],
           "yaxis": "y"
          },
          {
           "alignmentgroup": "True",
           "hovertemplate": "Country=%{x}<br>Year=2014<br>Water Leakage=%{y}<extra></extra>",
           "ids": [
            "Mozambique"
           ],
           "legendgroup": "Mozambique",
           "marker": {
            "color": "#EF553B",
            "pattern": {
             "shape": ""
            }
           },
           "name": "Mozambique",
           "offsetgroup": "Mozambique",
           "orientation": "v",
           "showlegend": true,
           "textposition": "auto",
           "type": "bar",
           "x": [
            "Mozambique"
           ],
           "xaxis": "x",
           "y": [
            7.127
           ],
           "yaxis": "y"
          },
          {
           "alignmentgroup": "True",
           "hovertemplate": "Country=%{x}<br>Year=2014<br>Water Leakage=%{y}<extra></extra>",
           "ids": [
            "Namibia"
           ],
           "legendgroup": "Namibia",
           "marker": {
            "color": "#00cc96",
            "pattern": {
             "shape": ""
            }
           },
           "name": "Namibia",
           "offsetgroup": "Namibia",
           "orientation": "v",
           "showlegend": true,
           "textposition": "auto",
           "type": "bar",
           "x": [
            "Namibia"
           ],
           "xaxis": "x",
           "y": [
            38.641
           ],
           "yaxis": "y"
          },
          {
           "alignmentgroup": "True",
           "hovertemplate": "Country=%{x}<br>Year=2014<br>Water Leakage=%{y}<extra></extra>",
           "ids": [
            "South Africa"
           ],
           "legendgroup": "South Africa",
           "marker": {
            "color": "#ab63fa",
            "pattern": {
             "shape": ""
            }
           },
           "name": "South Africa",
           "offsetgroup": "South Africa",
           "orientation": "v",
           "showlegend": true,
           "textposition": "auto",
           "type": "bar",
           "x": [
            "South Africa"
           ],
           "xaxis": "x",
           "y": [
            43.958
           ],
           "yaxis": "y"
          },
          {
           "alignmentgroup": "True",
           "hovertemplate": "Country=%{x}<br>Year=2014<br>Water Leakage=%{y}<extra></extra>",
           "ids": [
            "Zimbabwe"
           ],
           "legendgroup": "Zimbabwe",
           "marker": {
            "color": "#FFA15A",
            "pattern": {
             "shape": ""
            }
           },
           "name": "Zimbabwe",
           "offsetgroup": "Zimbabwe",
           "orientation": "v",
           "showlegend": true,
           "textposition": "auto",
           "type": "bar",
           "x": [
            "Zimbabwe"
           ],
           "xaxis": "x",
           "y": [
            6.937
           ],
           "yaxis": "y"
          }
         ],
         "name": "2014"
        },
        {
         "data": [
          {
           "alignmentgroup": "True",
           "hovertemplate": "Country=%{x}<br>Year=2015<br>Water Leakage=%{y}<extra></extra>",
           "ids": [
            "Botswana"
           ],
           "legendgroup": "Botswana",
           "marker": {
            "color": "#636efa",
            "pattern": {
             "shape": ""
            }
           },
           "name": "Botswana",
           "offsetgroup": "Botswana",
           "orientation": "v",
           "showlegend": true,
           "textposition": "auto",
           "type": "bar",
           "x": [
            "Botswana"
           ],
           "xaxis": "x",
           "y": [
            35.723
           ],
           "yaxis": "y"
          },
          {
           "alignmentgroup": "True",
           "hovertemplate": "Country=%{x}<br>Year=2015<br>Water Leakage=%{y}<extra></extra>",
           "ids": [
            "Mozambique"
           ],
           "legendgroup": "Mozambique",
           "marker": {
            "color": "#EF553B",
            "pattern": {
             "shape": ""
            }
           },
           "name": "Mozambique",
           "offsetgroup": "Mozambique",
           "orientation": "v",
           "showlegend": true,
           "textposition": "auto",
           "type": "bar",
           "x": [
            "Mozambique"
           ],
           "xaxis": "x",
           "y": [
            7.231
           ],
           "yaxis": "y"
          },
          {
           "alignmentgroup": "True",
           "hovertemplate": "Country=%{x}<br>Year=2015<br>Water Leakage=%{y}<extra></extra>",
           "ids": [
            "Namibia"
           ],
           "legendgroup": "Namibia",
           "marker": {
            "color": "#00cc96",
            "pattern": {
             "shape": ""
            }
           },
           "name": "Namibia",
           "offsetgroup": "Namibia",
           "orientation": "v",
           "showlegend": true,
           "textposition": "auto",
           "type": "bar",
           "x": [
            "Namibia"
           ],
           "xaxis": "x",
           "y": [
            41.308
           ],
           "yaxis": "y"
          },
          {
           "alignmentgroup": "True",
           "hovertemplate": "Country=%{x}<br>Year=2015<br>Water Leakage=%{y}<extra></extra>",
           "ids": [
            "South Africa"
           ],
           "legendgroup": "South Africa",
           "marker": {
            "color": "#ab63fa",
            "pattern": {
             "shape": ""
            }
           },
           "name": "South Africa",
           "offsetgroup": "South Africa",
           "orientation": "v",
           "showlegend": true,
           "textposition": "auto",
           "type": "bar",
           "x": [
            "South Africa"
           ],
           "xaxis": "x",
           "y": [
            41.999
           ],
           "yaxis": "y"
          },
          {
           "alignmentgroup": "True",
           "hovertemplate": "Country=%{x}<br>Year=2015<br>Water Leakage=%{y}<extra></extra>",
           "ids": [
            "Zimbabwe"
           ],
           "legendgroup": "Zimbabwe",
           "marker": {
            "color": "#FFA15A",
            "pattern": {
             "shape": ""
            }
           },
           "name": "Zimbabwe",
           "offsetgroup": "Zimbabwe",
           "orientation": "v",
           "showlegend": true,
           "textposition": "auto",
           "type": "bar",
           "x": [
            "Zimbabwe"
           ],
           "xaxis": "x",
           "y": [
            7.862
           ],
           "yaxis": "y"
          }
         ],
         "name": "2015"
        },
        {
         "data": [
          {
           "alignmentgroup": "True",
           "hovertemplate": "Country=%{x}<br>Year=2016<br>Water Leakage=%{y}<extra></extra>",
           "ids": [
            "Botswana"
           ],
           "legendgroup": "Botswana",
           "marker": {
            "color": "#636efa",
            "pattern": {
             "shape": ""
            }
           },
           "name": "Botswana",
           "offsetgroup": "Botswana",
           "orientation": "v",
           "showlegend": true,
           "textposition": "auto",
           "type": "bar",
           "x": [
            "Botswana"
           ],
           "xaxis": "x",
           "y": [
            35.36
           ],
           "yaxis": "y"
          },
          {
           "alignmentgroup": "True",
           "hovertemplate": "Country=%{x}<br>Year=2016<br>Water Leakage=%{y}<extra></extra>",
           "ids": [
            "Mozambique"
           ],
           "legendgroup": "Mozambique",
           "marker": {
            "color": "#EF553B",
            "pattern": {
             "shape": ""
            }
           },
           "name": "Mozambique",
           "offsetgroup": "Mozambique",
           "orientation": "v",
           "showlegend": true,
           "textposition": "auto",
           "type": "bar",
           "x": [
            "Mozambique"
           ],
           "xaxis": "x",
           "y": [
            7.27
           ],
           "yaxis": "y"
          },
          {
           "alignmentgroup": "True",
           "hovertemplate": "Country=%{x}<br>Year=2016<br>Water Leakage=%{y}<extra></extra>",
           "ids": [
            "Namibia"
           ],
           "legendgroup": "Namibia",
           "marker": {
            "color": "#00cc96",
            "pattern": {
             "shape": ""
            }
           },
           "name": "Namibia",
           "offsetgroup": "Namibia",
           "orientation": "v",
           "showlegend": true,
           "textposition": "auto",
           "type": "bar",
           "x": [
            "Namibia"
           ],
           "xaxis": "x",
           "y": [
            44.138
           ],
           "yaxis": "y"
          },
          {
           "alignmentgroup": "True",
           "hovertemplate": "Country=%{x}<br>Year=2016<br>Water Leakage=%{y}<extra></extra>",
           "ids": [
            "South Africa"
           ],
           "legendgroup": "South Africa",
           "marker": {
            "color": "#ab63fa",
            "pattern": {
             "shape": ""
            }
           },
           "name": "South Africa",
           "offsetgroup": "South Africa",
           "orientation": "v",
           "showlegend": true,
           "textposition": "auto",
           "type": "bar",
           "x": [
            "South Africa"
           ],
           "xaxis": "x",
           "y": [
            43.936
           ],
           "yaxis": "y"
          },
          {
           "alignmentgroup": "True",
           "hovertemplate": "Country=%{x}<br>Year=2016<br>Water Leakage=%{y}<extra></extra>",
           "ids": [
            "Zimbabwe"
           ],
           "legendgroup": "Zimbabwe",
           "marker": {
            "color": "#FFA15A",
            "pattern": {
             "shape": ""
            }
           },
           "name": "Zimbabwe",
           "offsetgroup": "Zimbabwe",
           "orientation": "v",
           "showlegend": true,
           "textposition": "auto",
           "type": "bar",
           "x": [
            "Zimbabwe"
           ],
           "xaxis": "x",
           "y": [
            8.781
           ],
           "yaxis": "y"
          }
         ],
         "name": "2016"
        },
        {
         "data": [
          {
           "alignmentgroup": "True",
           "hovertemplate": "Country=%{x}<br>Year=2017<br>Water Leakage=%{y}<extra></extra>",
           "ids": [
            "Botswana"
           ],
           "legendgroup": "Botswana",
           "marker": {
            "color": "#636efa",
            "pattern": {
             "shape": ""
            }
           },
           "name": "Botswana",
           "offsetgroup": "Botswana",
           "orientation": "v",
           "showlegend": true,
           "textposition": "auto",
           "type": "bar",
           "x": [
            "Botswana"
           ],
           "xaxis": "x",
           "y": [
            35.398
           ],
           "yaxis": "y"
          },
          {
           "alignmentgroup": "True",
           "hovertemplate": "Country=%{x}<br>Year=2017<br>Water Leakage=%{y}<extra></extra>",
           "ids": [
            "Mozambique"
           ],
           "legendgroup": "Mozambique",
           "marker": {
            "color": "#EF553B",
            "pattern": {
             "shape": ""
            }
           },
           "name": "Mozambique",
           "offsetgroup": "Mozambique",
           "orientation": "v",
           "showlegend": true,
           "textposition": "auto",
           "type": "bar",
           "x": [
            "Mozambique"
           ],
           "xaxis": "x",
           "y": [
            7.276
           ],
           "yaxis": "y"
          },
          {
           "alignmentgroup": "True",
           "hovertemplate": "Country=%{x}<br>Year=2017<br>Water Leakage=%{y}<extra></extra>",
           "ids": [
            "Namibia"
           ],
           "legendgroup": "Namibia",
           "marker": {
            "color": "#00cc96",
            "pattern": {
             "shape": ""
            }
           },
           "name": "Namibia",
           "offsetgroup": "Namibia",
           "orientation": "v",
           "showlegend": true,
           "textposition": "auto",
           "type": "bar",
           "x": [
            "Namibia"
           ],
           "xaxis": "x",
           "y": [
            41.283
           ],
           "yaxis": "y"
          },
          {
           "alignmentgroup": "True",
           "hovertemplate": "Country=%{x}<br>Year=2017<br>Water Leakage=%{y}<extra></extra>",
           "ids": [
            "South Africa"
           ],
           "legendgroup": "South Africa",
           "marker": {
            "color": "#ab63fa",
            "pattern": {
             "shape": ""
            }
           },
           "name": "South Africa",
           "offsetgroup": "South Africa",
           "orientation": "v",
           "showlegend": true,
           "textposition": "auto",
           "type": "bar",
           "x": [
            "South Africa"
           ],
           "xaxis": "x",
           "y": [
            42.811
           ],
           "yaxis": "y"
          },
          {
           "alignmentgroup": "True",
           "hovertemplate": "Country=%{x}<br>Year=2017<br>Water Leakage=%{y}<extra></extra>",
           "ids": [
            "Zimbabwe"
           ],
           "legendgroup": "Zimbabwe",
           "marker": {
            "color": "#FFA15A",
            "pattern": {
             "shape": ""
            }
           },
           "name": "Zimbabwe",
           "offsetgroup": "Zimbabwe",
           "orientation": "v",
           "showlegend": true,
           "textposition": "auto",
           "type": "bar",
           "x": [
            "Zimbabwe"
           ],
           "xaxis": "x",
           "y": [
            9.67
           ],
           "yaxis": "y"
          }
         ],
         "name": "2017"
        },
        {
         "data": [
          {
           "alignmentgroup": "True",
           "hovertemplate": "Country=%{x}<br>Year=2018<br>Water Leakage=%{y}<extra></extra>",
           "ids": [
            "Botswana"
           ],
           "legendgroup": "Botswana",
           "marker": {
            "color": "#636efa",
            "pattern": {
             "shape": ""
            }
           },
           "name": "Botswana",
           "offsetgroup": "Botswana",
           "orientation": "v",
           "showlegend": true,
           "textposition": "auto",
           "type": "bar",
           "x": [
            "Botswana"
           ],
           "xaxis": "x",
           "y": [
            35.339
           ],
           "yaxis": "y"
          },
          {
           "alignmentgroup": "True",
           "hovertemplate": "Country=%{x}<br>Year=2018<br>Water Leakage=%{y}<extra></extra>",
           "ids": [
            "Mozambique"
           ],
           "legendgroup": "Mozambique",
           "marker": {
            "color": "#EF553B",
            "pattern": {
             "shape": ""
            }
           },
           "name": "Mozambique",
           "offsetgroup": "Mozambique",
           "orientation": "v",
           "showlegend": true,
           "textposition": "auto",
           "type": "bar",
           "x": [
            "Mozambique"
           ],
           "xaxis": "x",
           "y": [
            7.29
           ],
           "yaxis": "y"
          },
          {
           "alignmentgroup": "True",
           "hovertemplate": "Country=%{x}<br>Year=2018<br>Water Leakage=%{y}<extra></extra>",
           "ids": [
            "Namibia"
           ],
           "legendgroup": "Namibia",
           "marker": {
            "color": "#00cc96",
            "pattern": {
             "shape": ""
            }
           },
           "name": "Namibia",
           "offsetgroup": "Namibia",
           "orientation": "v",
           "showlegend": true,
           "textposition": "auto",
           "type": "bar",
           "x": [
            "Namibia"
           ],
           "xaxis": "x",
           "y": [
            37.989
           ],
           "yaxis": "y"
          },
          {
           "alignmentgroup": "True",
           "hovertemplate": "Country=%{x}<br>Year=2018<br>Water Leakage=%{y}<extra></extra>",
           "ids": [
            "South Africa"
           ],
           "legendgroup": "South Africa",
           "marker": {
            "color": "#ab63fa",
            "pattern": {
             "shape": ""
            }
           },
           "name": "South Africa",
           "offsetgroup": "South Africa",
           "orientation": "v",
           "showlegend": true,
           "textposition": "auto",
           "type": "bar",
           "x": [
            "South Africa"
           ],
           "xaxis": "x",
           "y": [
            43.761
           ],
           "yaxis": "y"
          },
          {
           "alignmentgroup": "True",
           "hovertemplate": "Country=%{x}<br>Year=2018<br>Water Leakage=%{y}<extra></extra>",
           "ids": [
            "Zimbabwe"
           ],
           "legendgroup": "Zimbabwe",
           "marker": {
            "color": "#FFA15A",
            "pattern": {
             "shape": ""
            }
           },
           "name": "Zimbabwe",
           "offsetgroup": "Zimbabwe",
           "orientation": "v",
           "showlegend": true,
           "textposition": "auto",
           "type": "bar",
           "x": [
            "Zimbabwe"
           ],
           "xaxis": "x",
           "y": [
            10.592
           ],
           "yaxis": "y"
          }
         ],
         "name": "2018"
        },
        {
         "data": [
          {
           "alignmentgroup": "True",
           "hovertemplate": "Country=%{x}<br>Year=2019<br>Water Leakage=%{y}<extra></extra>",
           "ids": [
            "Botswana"
           ],
           "legendgroup": "Botswana",
           "marker": {
            "color": "#636efa",
            "pattern": {
             "shape": ""
            }
           },
           "name": "Botswana",
           "offsetgroup": "Botswana",
           "orientation": "v",
           "showlegend": true,
           "textposition": "auto",
           "type": "bar",
           "x": [
            "Botswana"
           ],
           "xaxis": "x",
           "y": [
            35.285
           ],
           "yaxis": "y"
          },
          {
           "alignmentgroup": "True",
           "hovertemplate": "Country=%{x}<br>Year=2019<br>Water Leakage=%{y}<extra></extra>",
           "ids": [
            "Mozambique"
           ],
           "legendgroup": "Mozambique",
           "marker": {
            "color": "#EF553B",
            "pattern": {
             "shape": ""
            }
           },
           "name": "Mozambique",
           "offsetgroup": "Mozambique",
           "orientation": "v",
           "showlegend": true,
           "textposition": "auto",
           "type": "bar",
           "x": [
            "Mozambique"
           ],
           "xaxis": "x",
           "y": [
            7.319
           ],
           "yaxis": "y"
          },
          {
           "alignmentgroup": "True",
           "hovertemplate": "Country=%{x}<br>Year=2019<br>Water Leakage=%{y}<extra></extra>",
           "ids": [
            "Namibia"
           ],
           "legendgroup": "Namibia",
           "marker": {
            "color": "#00cc96",
            "pattern": {
             "shape": ""
            }
           },
           "name": "Namibia",
           "offsetgroup": "Namibia",
           "orientation": "v",
           "showlegend": true,
           "textposition": "auto",
           "type": "bar",
           "x": [
            "Namibia"
           ],
           "xaxis": "x",
           "y": [
            38.162
           ],
           "yaxis": "y"
          },
          {
           "alignmentgroup": "True",
           "hovertemplate": "Country=%{x}<br>Year=2019<br>Water Leakage=%{y}<extra></extra>",
           "ids": [
            "South Africa"
           ],
           "legendgroup": "South Africa",
           "marker": {
            "color": "#ab63fa",
            "pattern": {
             "shape": ""
            }
           },
           "name": "South Africa",
           "offsetgroup": "South Africa",
           "orientation": "v",
           "showlegend": true,
           "textposition": "auto",
           "type": "bar",
           "x": [
            "South Africa"
           ],
           "xaxis": "x",
           "y": [
            47.406
           ],
           "yaxis": "y"
          },
          {
           "alignmentgroup": "True",
           "hovertemplate": "Country=%{x}<br>Year=2019<br>Water Leakage=%{y}<extra></extra>",
           "ids": [
            "Zimbabwe"
           ],
           "legendgroup": "Zimbabwe",
           "marker": {
            "color": "#FFA15A",
            "pattern": {
             "shape": ""
            }
           },
           "name": "Zimbabwe",
           "offsetgroup": "Zimbabwe",
           "orientation": "v",
           "showlegend": true,
           "textposition": "auto",
           "type": "bar",
           "x": [
            "Zimbabwe"
           ],
           "xaxis": "x",
           "y": [
            11.616
           ],
           "yaxis": "y"
          }
         ],
         "name": "2019"
        },
        {
         "data": [
          {
           "alignmentgroup": "True",
           "hovertemplate": "Country=%{x}<br>Year=2020<br>Water Leakage=%{y}<extra></extra>",
           "ids": [
            "Botswana"
           ],
           "legendgroup": "Botswana",
           "marker": {
            "color": "#636efa",
            "pattern": {
             "shape": ""
            }
           },
           "name": "Botswana",
           "offsetgroup": "Botswana",
           "orientation": "v",
           "showlegend": true,
           "textposition": "auto",
           "type": "bar",
           "x": [
            "Botswana"
           ],
           "xaxis": "x",
           "y": [
            41.654
           ],
           "yaxis": "y"
          },
          {
           "alignmentgroup": "True",
           "hovertemplate": "Country=%{x}<br>Year=2020<br>Water Leakage=%{y}<extra></extra>",
           "ids": [
            "Mozambique"
           ],
           "legendgroup": "Mozambique",
           "marker": {
            "color": "#EF553B",
            "pattern": {
             "shape": ""
            }
           },
           "name": "Mozambique",
           "offsetgroup": "Mozambique",
           "orientation": "v",
           "showlegend": true,
           "textposition": "auto",
           "type": "bar",
           "x": [
            "Mozambique"
           ],
           "xaxis": "x",
           "y": [
            8.049
           ],
           "yaxis": "y"
          },
          {
           "alignmentgroup": "True",
           "hovertemplate": "Country=%{x}<br>Year=2020<br>Water Leakage=%{y}<extra></extra>",
           "ids": [
            "Namibia"
           ],
           "legendgroup": "Namibia",
           "marker": {
            "color": "#00cc96",
            "pattern": {
             "shape": ""
            }
           },
           "name": "Namibia",
           "offsetgroup": "Namibia",
           "orientation": "v",
           "showlegend": true,
           "textposition": "auto",
           "type": "bar",
           "x": [
            "Namibia"
           ],
           "xaxis": "x",
           "y": [
            41.013
           ],
           "yaxis": "y"
          },
          {
           "alignmentgroup": "True",
           "hovertemplate": "Country=%{x}<br>Year=2020<br>Water Leakage=%{y}<extra></extra>",
           "ids": [
            "South Africa"
           ],
           "legendgroup": "South Africa",
           "marker": {
            "color": "#ab63fa",
            "pattern": {
             "shape": ""
            }
           },
           "name": "South Africa",
           "offsetgroup": "South Africa",
           "orientation": "v",
           "showlegend": true,
           "textposition": "auto",
           "type": "bar",
           "x": [
            "South Africa"
           ],
           "xaxis": "x",
           "y": [
            43.499
           ],
           "yaxis": "y"
          },
          {
           "alignmentgroup": "True",
           "hovertemplate": "Country=%{x}<br>Year=2020<br>Water Leakage=%{y}<extra></extra>",
           "ids": [
            "Zimbabwe"
           ],
           "legendgroup": "Zimbabwe",
           "marker": {
            "color": "#FFA15A",
            "pattern": {
             "shape": ""
            }
           },
           "name": "Zimbabwe",
           "offsetgroup": "Zimbabwe",
           "orientation": "v",
           "showlegend": true,
           "textposition": "auto",
           "type": "bar",
           "x": [
            "Zimbabwe"
           ],
           "xaxis": "x",
           "y": [
            12.7
           ],
           "yaxis": "y"
          }
         ],
         "name": "2020"
        },
        {
         "data": [
          {
           "alignmentgroup": "True",
           "hovertemplate": "Country=%{x}<br>Year=2021<br>Water Leakage=%{y}<extra></extra>",
           "ids": [
            "Botswana"
           ],
           "legendgroup": "Botswana",
           "marker": {
            "color": "#636efa",
            "pattern": {
             "shape": ""
            }
           },
           "name": "Botswana",
           "offsetgroup": "Botswana",
           "orientation": "v",
           "showlegend": true,
           "textposition": "auto",
           "type": "bar",
           "x": [
            "Botswana"
           ],
           "xaxis": "x",
           "y": [
            38.596
           ],
           "yaxis": "y"
          },
          {
           "alignmentgroup": "True",
           "hovertemplate": "Country=%{x}<br>Year=2021<br>Water Leakage=%{y}<extra></extra>",
           "ids": [
            "Mozambique"
           ],
           "legendgroup": "Mozambique",
           "marker": {
            "color": "#EF553B",
            "pattern": {
             "shape": ""
            }
           },
           "name": "Mozambique",
           "offsetgroup": "Mozambique",
           "orientation": "v",
           "showlegend": true,
           "textposition": "auto",
           "type": "bar",
           "x": [
            "Mozambique"
           ],
           "xaxis": "x",
           "y": [
            8.034
           ],
           "yaxis": "y"
          },
          {
           "alignmentgroup": "True",
           "hovertemplate": "Country=%{x}<br>Year=2021<br>Water Leakage=%{y}<extra></extra>",
           "ids": [
            "Namibia"
           ],
           "legendgroup": "Namibia",
           "marker": {
            "color": "#00cc96",
            "pattern": {
             "shape": ""
            }
           },
           "name": "Namibia",
           "offsetgroup": "Namibia",
           "orientation": "v",
           "showlegend": true,
           "textposition": "auto",
           "type": "bar",
           "x": [
            "Namibia"
           ],
           "xaxis": "x",
           "y": [
            40.149
           ],
           "yaxis": "y"
          },
          {
           "alignmentgroup": "True",
           "hovertemplate": "Country=%{x}<br>Year=2021<br>Water Leakage=%{y}<extra></extra>",
           "ids": [
            "South Africa"
           ],
           "legendgroup": "South Africa",
           "marker": {
            "color": "#ab63fa",
            "pattern": {
             "shape": ""
            }
           },
           "name": "South Africa",
           "offsetgroup": "South Africa",
           "orientation": "v",
           "showlegend": true,
           "textposition": "auto",
           "type": "bar",
           "x": [
            "South Africa"
           ],
           "xaxis": "x",
           "y": [
            49.864
           ],
           "yaxis": "y"
          },
          {
           "alignmentgroup": "True",
           "hovertemplate": "Country=%{x}<br>Year=2021<br>Water Leakage=%{y}<extra></extra>",
           "ids": [
            "Zimbabwe"
           ],
           "legendgroup": "Zimbabwe",
           "marker": {
            "color": "#FFA15A",
            "pattern": {
             "shape": ""
            }
           },
           "name": "Zimbabwe",
           "offsetgroup": "Zimbabwe",
           "orientation": "v",
           "showlegend": true,
           "textposition": "auto",
           "type": "bar",
           "x": [
            "Zimbabwe"
           ],
           "xaxis": "x",
           "y": [
            12.519
           ],
           "yaxis": "y"
          }
         ],
         "name": "2021"
        },
        {
         "data": [
          {
           "alignmentgroup": "True",
           "hovertemplate": "Country=%{x}<br>Year=2022<br>Water Leakage=%{y}<extra></extra>",
           "ids": [
            "Botswana"
           ],
           "legendgroup": "Botswana",
           "marker": {
            "color": "#636efa",
            "pattern": {
             "shape": ""
            }
           },
           "name": "Botswana",
           "offsetgroup": "Botswana",
           "orientation": "v",
           "showlegend": true,
           "textposition": "auto",
           "type": "bar",
           "x": [
            "Botswana"
           ],
           "xaxis": "x",
           "y": [
            37.847
           ],
           "yaxis": "y"
          },
          {
           "alignmentgroup": "True",
           "hovertemplate": "Country=%{x}<br>Year=2022<br>Water Leakage=%{y}<extra></extra>",
           "ids": [
            "Mozambique"
           ],
           "legendgroup": "Mozambique",
           "marker": {
            "color": "#EF553B",
            "pattern": {
             "shape": ""
            }
           },
           "name": "Mozambique",
           "offsetgroup": "Mozambique",
           "orientation": "v",
           "showlegend": true,
           "textposition": "auto",
           "type": "bar",
           "x": [
            "Mozambique"
           ],
           "xaxis": "x",
           "y": [
            8.052
           ],
           "yaxis": "y"
          },
          {
           "alignmentgroup": "True",
           "hovertemplate": "Country=%{x}<br>Year=2022<br>Water Leakage=%{y}<extra></extra>",
           "ids": [
            "Namibia"
           ],
           "legendgroup": "Namibia",
           "marker": {
            "color": "#00cc96",
            "pattern": {
             "shape": ""
            }
           },
           "name": "Namibia",
           "offsetgroup": "Namibia",
           "orientation": "v",
           "showlegend": true,
           "textposition": "auto",
           "type": "bar",
           "x": [
            "Namibia"
           ],
           "xaxis": "x",
           "y": [
            39.777
           ],
           "yaxis": "y"
          },
          {
           "alignmentgroup": "True",
           "hovertemplate": "Country=%{x}<br>Year=2022<br>Water Leakage=%{y}<extra></extra>",
           "ids": [
            "South Africa"
           ],
           "legendgroup": "South Africa",
           "marker": {
            "color": "#ab63fa",
            "pattern": {
             "shape": ""
            }
           },
           "name": "South Africa",
           "offsetgroup": "South Africa",
           "orientation": "v",
           "showlegend": true,
           "textposition": "auto",
           "type": "bar",
           "x": [
            "South Africa"
           ],
           "xaxis": "x",
           "y": [
            51.519
           ],
           "yaxis": "y"
          },
          {
           "alignmentgroup": "True",
           "hovertemplate": "Country=%{x}<br>Year=2022<br>Water Leakage=%{y}<extra></extra>",
           "ids": [
            "Zimbabwe"
           ],
           "legendgroup": "Zimbabwe",
           "marker": {
            "color": "#FFA15A",
            "pattern": {
             "shape": ""
            }
           },
           "name": "Zimbabwe",
           "offsetgroup": "Zimbabwe",
           "orientation": "v",
           "showlegend": true,
           "textposition": "auto",
           "type": "bar",
           "x": [
            "Zimbabwe"
           ],
           "xaxis": "x",
           "y": [
            12.374
           ],
           "yaxis": "y"
          }
         ],
         "name": "2022"
        }
       ],
       "layout": {
        "barmode": "relative",
        "height": 550,
        "legend": {
         "title": {
          "text": "Country"
         },
         "tracegroupgap": 0
        },
        "showlegend": false,
        "sliders": [
         {
          "active": 0,
          "currentvalue": {
           "prefix": "Year="
          },
          "len": 0.9,
          "pad": {
           "b": 10,
           "t": 60
          },
          "steps": [
           {
            "args": [
             [
              "2008"
             ],
             {
              "frame": {
               "duration": 0,
               "redraw": true
              },
              "fromcurrent": true,
              "mode": "immediate",
              "transition": {
               "duration": 0,
               "easing": "linear"
              }
             }
            ],
            "label": "2008",
            "method": "animate"
           },
           {
            "args": [
             [
              "2009"
             ],
             {
              "frame": {
               "duration": 0,
               "redraw": true
              },
              "fromcurrent": true,
              "mode": "immediate",
              "transition": {
               "duration": 0,
               "easing": "linear"
              }
             }
            ],
            "label": "2009",
            "method": "animate"
           },
           {
            "args": [
             [
              "2010"
             ],
             {
              "frame": {
               "duration": 0,
               "redraw": true
              },
              "fromcurrent": true,
              "mode": "immediate",
              "transition": {
               "duration": 0,
               "easing": "linear"
              }
             }
            ],
            "label": "2010",
            "method": "animate"
           },
           {
            "args": [
             [
              "2011"
             ],
             {
              "frame": {
               "duration": 0,
               "redraw": true
              },
              "fromcurrent": true,
              "mode": "immediate",
              "transition": {
               "duration": 0,
               "easing": "linear"
              }
             }
            ],
            "label": "2011",
            "method": "animate"
           },
           {
            "args": [
             [
              "2012"
             ],
             {
              "frame": {
               "duration": 0,
               "redraw": true
              },
              "fromcurrent": true,
              "mode": "immediate",
              "transition": {
               "duration": 0,
               "easing": "linear"
              }
             }
            ],
            "label": "2012",
            "method": "animate"
           },
           {
            "args": [
             [
              "2013"
             ],
             {
              "frame": {
               "duration": 0,
               "redraw": true
              },
              "fromcurrent": true,
              "mode": "immediate",
              "transition": {
               "duration": 0,
               "easing": "linear"
              }
             }
            ],
            "label": "2013",
            "method": "animate"
           },
           {
            "args": [
             [
              "2014"
             ],
             {
              "frame": {
               "duration": 0,
               "redraw": true
              },
              "fromcurrent": true,
              "mode": "immediate",
              "transition": {
               "duration": 0,
               "easing": "linear"
              }
             }
            ],
            "label": "2014",
            "method": "animate"
           },
           {
            "args": [
             [
              "2015"
             ],
             {
              "frame": {
               "duration": 0,
               "redraw": true
              },
              "fromcurrent": true,
              "mode": "immediate",
              "transition": {
               "duration": 0,
               "easing": "linear"
              }
             }
            ],
            "label": "2015",
            "method": "animate"
           },
           {
            "args": [
             [
              "2016"
             ],
             {
              "frame": {
               "duration": 0,
               "redraw": true
              },
              "fromcurrent": true,
              "mode": "immediate",
              "transition": {
               "duration": 0,
               "easing": "linear"
              }
             }
            ],
            "label": "2016",
            "method": "animate"
           },
           {
            "args": [
             [
              "2017"
             ],
             {
              "frame": {
               "duration": 0,
               "redraw": true
              },
              "fromcurrent": true,
              "mode": "immediate",
              "transition": {
               "duration": 0,
               "easing": "linear"
              }
             }
            ],
            "label": "2017",
            "method": "animate"
           },
           {
            "args": [
             [
              "2018"
             ],
             {
              "frame": {
               "duration": 0,
               "redraw": true
              },
              "fromcurrent": true,
              "mode": "immediate",
              "transition": {
               "duration": 0,
               "easing": "linear"
              }
             }
            ],
            "label": "2018",
            "method": "animate"
           },
           {
            "args": [
             [
              "2019"
             ],
             {
              "frame": {
               "duration": 0,
               "redraw": true
              },
              "fromcurrent": true,
              "mode": "immediate",
              "transition": {
               "duration": 0,
               "easing": "linear"
              }
             }
            ],
            "label": "2019",
            "method": "animate"
           },
           {
            "args": [
             [
              "2020"
             ],
             {
              "frame": {
               "duration": 0,
               "redraw": true
              },
              "fromcurrent": true,
              "mode": "immediate",
              "transition": {
               "duration": 0,
               "easing": "linear"
              }
             }
            ],
            "label": "2020",
            "method": "animate"
           },
           {
            "args": [
             [
              "2021"
             ],
             {
              "frame": {
               "duration": 0,
               "redraw": true
              },
              "fromcurrent": true,
              "mode": "immediate",
              "transition": {
               "duration": 0,
               "easing": "linear"
              }
             }
            ],
            "label": "2021",
            "method": "animate"
           },
           {
            "args": [
             [
              "2022"
             ],
             {
              "frame": {
               "duration": 0,
               "redraw": true
              },
              "fromcurrent": true,
              "mode": "immediate",
              "transition": {
               "duration": 0,
               "easing": "linear"
              }
             }
            ],
            "label": "2022",
            "method": "animate"
           }
          ],
          "x": 0.1,
          "xanchor": "left",
          "y": 0,
          "yanchor": "top"
         }
        ],
        "template": {
         "data": {
          "bar": [
           {
            "error_x": {
             "color": "#2a3f5f"
            },
            "error_y": {
             "color": "#2a3f5f"
            },
            "marker": {
             "line": {
              "color": "#E5ECF6",
              "width": 0.5
             },
             "pattern": {
              "fillmode": "overlay",
              "size": 10,
              "solidity": 0.2
             }
            },
            "type": "bar"
           }
          ],
          "barpolar": [
           {
            "marker": {
             "line": {
              "color": "#E5ECF6",
              "width": 0.5
             },
             "pattern": {
              "fillmode": "overlay",
              "size": 10,
              "solidity": 0.2
             }
            },
            "type": "barpolar"
           }
          ],
          "carpet": [
           {
            "aaxis": {
             "endlinecolor": "#2a3f5f",
             "gridcolor": "white",
             "linecolor": "white",
             "minorgridcolor": "white",
             "startlinecolor": "#2a3f5f"
            },
            "baxis": {
             "endlinecolor": "#2a3f5f",
             "gridcolor": "white",
             "linecolor": "white",
             "minorgridcolor": "white",
             "startlinecolor": "#2a3f5f"
            },
            "type": "carpet"
           }
          ],
          "choropleth": [
           {
            "colorbar": {
             "outlinewidth": 0,
             "ticks": ""
            },
            "type": "choropleth"
           }
          ],
          "contour": [
           {
            "colorbar": {
             "outlinewidth": 0,
             "ticks": ""
            },
            "colorscale": [
             [
              0,
              "#0d0887"
             ],
             [
              0.1111111111111111,
              "#46039f"
             ],
             [
              0.2222222222222222,
              "#7201a8"
             ],
             [
              0.3333333333333333,
              "#9c179e"
             ],
             [
              0.4444444444444444,
              "#bd3786"
             ],
             [
              0.5555555555555556,
              "#d8576b"
             ],
             [
              0.6666666666666666,
              "#ed7953"
             ],
             [
              0.7777777777777778,
              "#fb9f3a"
             ],
             [
              0.8888888888888888,
              "#fdca26"
             ],
             [
              1,
              "#f0f921"
             ]
            ],
            "type": "contour"
           }
          ],
          "contourcarpet": [
           {
            "colorbar": {
             "outlinewidth": 0,
             "ticks": ""
            },
            "type": "contourcarpet"
           }
          ],
          "heatmap": [
           {
            "colorbar": {
             "outlinewidth": 0,
             "ticks": ""
            },
            "colorscale": [
             [
              0,
              "#0d0887"
             ],
             [
              0.1111111111111111,
              "#46039f"
             ],
             [
              0.2222222222222222,
              "#7201a8"
             ],
             [
              0.3333333333333333,
              "#9c179e"
             ],
             [
              0.4444444444444444,
              "#bd3786"
             ],
             [
              0.5555555555555556,
              "#d8576b"
             ],
             [
              0.6666666666666666,
              "#ed7953"
             ],
             [
              0.7777777777777778,
              "#fb9f3a"
             ],
             [
              0.8888888888888888,
              "#fdca26"
             ],
             [
              1,
              "#f0f921"
             ]
            ],
            "type": "heatmap"
           }
          ],
          "heatmapgl": [
           {
            "colorbar": {
             "outlinewidth": 0,
             "ticks": ""
            },
            "colorscale": [
             [
              0,
              "#0d0887"
             ],
             [
              0.1111111111111111,
              "#46039f"
             ],
             [
              0.2222222222222222,
              "#7201a8"
             ],
             [
              0.3333333333333333,
              "#9c179e"
             ],
             [
              0.4444444444444444,
              "#bd3786"
             ],
             [
              0.5555555555555556,
              "#d8576b"
             ],
             [
              0.6666666666666666,
              "#ed7953"
             ],
             [
              0.7777777777777778,
              "#fb9f3a"
             ],
             [
              0.8888888888888888,
              "#fdca26"
             ],
             [
              1,
              "#f0f921"
             ]
            ],
            "type": "heatmapgl"
           }
          ],
          "histogram": [
           {
            "marker": {
             "pattern": {
              "fillmode": "overlay",
              "size": 10,
              "solidity": 0.2
             }
            },
            "type": "histogram"
           }
          ],
          "histogram2d": [
           {
            "colorbar": {
             "outlinewidth": 0,
             "ticks": ""
            },
            "colorscale": [
             [
              0,
              "#0d0887"
             ],
             [
              0.1111111111111111,
              "#46039f"
             ],
             [
              0.2222222222222222,
              "#7201a8"
             ],
             [
              0.3333333333333333,
              "#9c179e"
             ],
             [
              0.4444444444444444,
              "#bd3786"
             ],
             [
              0.5555555555555556,
              "#d8576b"
             ],
             [
              0.6666666666666666,
              "#ed7953"
             ],
             [
              0.7777777777777778,
              "#fb9f3a"
             ],
             [
              0.8888888888888888,
              "#fdca26"
             ],
             [
              1,
              "#f0f921"
             ]
            ],
            "type": "histogram2d"
           }
          ],
          "histogram2dcontour": [
           {
            "colorbar": {
             "outlinewidth": 0,
             "ticks": ""
            },
            "colorscale": [
             [
              0,
              "#0d0887"
             ],
             [
              0.1111111111111111,
              "#46039f"
             ],
             [
              0.2222222222222222,
              "#7201a8"
             ],
             [
              0.3333333333333333,
              "#9c179e"
             ],
             [
              0.4444444444444444,
              "#bd3786"
             ],
             [
              0.5555555555555556,
              "#d8576b"
             ],
             [
              0.6666666666666666,
              "#ed7953"
             ],
             [
              0.7777777777777778,
              "#fb9f3a"
             ],
             [
              0.8888888888888888,
              "#fdca26"
             ],
             [
              1,
              "#f0f921"
             ]
            ],
            "type": "histogram2dcontour"
           }
          ],
          "mesh3d": [
           {
            "colorbar": {
             "outlinewidth": 0,
             "ticks": ""
            },
            "type": "mesh3d"
           }
          ],
          "parcoords": [
           {
            "line": {
             "colorbar": {
              "outlinewidth": 0,
              "ticks": ""
             }
            },
            "type": "parcoords"
           }
          ],
          "pie": [
           {
            "automargin": true,
            "type": "pie"
           }
          ],
          "scatter": [
           {
            "fillpattern": {
             "fillmode": "overlay",
             "size": 10,
             "solidity": 0.2
            },
            "type": "scatter"
           }
          ],
          "scatter3d": [
           {
            "line": {
             "colorbar": {
              "outlinewidth": 0,
              "ticks": ""
             }
            },
            "marker": {
             "colorbar": {
              "outlinewidth": 0,
              "ticks": ""
             }
            },
            "type": "scatter3d"
           }
          ],
          "scattercarpet": [
           {
            "marker": {
             "colorbar": {
              "outlinewidth": 0,
              "ticks": ""
             }
            },
            "type": "scattercarpet"
           }
          ],
          "scattergeo": [
           {
            "marker": {
             "colorbar": {
              "outlinewidth": 0,
              "ticks": ""
             }
            },
            "type": "scattergeo"
           }
          ],
          "scattergl": [
           {
            "marker": {
             "colorbar": {
              "outlinewidth": 0,
              "ticks": ""
             }
            },
            "type": "scattergl"
           }
          ],
          "scattermapbox": [
           {
            "marker": {
             "colorbar": {
              "outlinewidth": 0,
              "ticks": ""
             }
            },
            "type": "scattermapbox"
           }
          ],
          "scatterpolar": [
           {
            "marker": {
             "colorbar": {
              "outlinewidth": 0,
              "ticks": ""
             }
            },
            "type": "scatterpolar"
           }
          ],
          "scatterpolargl": [
           {
            "marker": {
             "colorbar": {
              "outlinewidth": 0,
              "ticks": ""
             }
            },
            "type": "scatterpolargl"
           }
          ],
          "scatterternary": [
           {
            "marker": {
             "colorbar": {
              "outlinewidth": 0,
              "ticks": ""
             }
            },
            "type": "scatterternary"
           }
          ],
          "surface": [
           {
            "colorbar": {
             "outlinewidth": 0,
             "ticks": ""
            },
            "colorscale": [
             [
              0,
              "#0d0887"
             ],
             [
              0.1111111111111111,
              "#46039f"
             ],
             [
              0.2222222222222222,
              "#7201a8"
             ],
             [
              0.3333333333333333,
              "#9c179e"
             ],
             [
              0.4444444444444444,
              "#bd3786"
             ],
             [
              0.5555555555555556,
              "#d8576b"
             ],
             [
              0.6666666666666666,
              "#ed7953"
             ],
             [
              0.7777777777777778,
              "#fb9f3a"
             ],
             [
              0.8888888888888888,
              "#fdca26"
             ],
             [
              1,
              "#f0f921"
             ]
            ],
            "type": "surface"
           }
          ],
          "table": [
           {
            "cells": {
             "fill": {
              "color": "#EBF0F8"
             },
             "line": {
              "color": "white"
             }
            },
            "header": {
             "fill": {
              "color": "#C8D4E3"
             },
             "line": {
              "color": "white"
             }
            },
            "type": "table"
           }
          ]
         },
         "layout": {
          "annotationdefaults": {
           "arrowcolor": "#2a3f5f",
           "arrowhead": 0,
           "arrowwidth": 1
          },
          "autotypenumbers": "strict",
          "coloraxis": {
           "colorbar": {
            "outlinewidth": 0,
            "ticks": ""
           }
          },
          "colorscale": {
           "diverging": [
            [
             0,
             "#8e0152"
            ],
            [
             0.1,
             "#c51b7d"
            ],
            [
             0.2,
             "#de77ae"
            ],
            [
             0.3,
             "#f1b6da"
            ],
            [
             0.4,
             "#fde0ef"
            ],
            [
             0.5,
             "#f7f7f7"
            ],
            [
             0.6,
             "#e6f5d0"
            ],
            [
             0.7,
             "#b8e186"
            ],
            [
             0.8,
             "#7fbc41"
            ],
            [
             0.9,
             "#4d9221"
            ],
            [
             1,
             "#276419"
            ]
           ],
           "sequential": [
            [
             0,
             "#0d0887"
            ],
            [
             0.1111111111111111,
             "#46039f"
            ],
            [
             0.2222222222222222,
             "#7201a8"
            ],
            [
             0.3333333333333333,
             "#9c179e"
            ],
            [
             0.4444444444444444,
             "#bd3786"
            ],
            [
             0.5555555555555556,
             "#d8576b"
            ],
            [
             0.6666666666666666,
             "#ed7953"
            ],
            [
             0.7777777777777778,
             "#fb9f3a"
            ],
            [
             0.8888888888888888,
             "#fdca26"
            ],
            [
             1,
             "#f0f921"
            ]
           ],
           "sequentialminus": [
            [
             0,
             "#0d0887"
            ],
            [
             0.1111111111111111,
             "#46039f"
            ],
            [
             0.2222222222222222,
             "#7201a8"
            ],
            [
             0.3333333333333333,
             "#9c179e"
            ],
            [
             0.4444444444444444,
             "#bd3786"
            ],
            [
             0.5555555555555556,
             "#d8576b"
            ],
            [
             0.6666666666666666,
             "#ed7953"
            ],
            [
             0.7777777777777778,
             "#fb9f3a"
            ],
            [
             0.8888888888888888,
             "#fdca26"
            ],
            [
             1,
             "#f0f921"
            ]
           ]
          },
          "colorway": [
           "#636efa",
           "#EF553B",
           "#00cc96",
           "#ab63fa",
           "#FFA15A",
           "#19d3f3",
           "#FF6692",
           "#B6E880",
           "#FF97FF",
           "#FECB52"
          ],
          "font": {
           "color": "#2a3f5f"
          },
          "geo": {
           "bgcolor": "white",
           "lakecolor": "white",
           "landcolor": "#E5ECF6",
           "showlakes": true,
           "showland": true,
           "subunitcolor": "white"
          },
          "hoverlabel": {
           "align": "left"
          },
          "hovermode": "closest",
          "mapbox": {
           "style": "light"
          },
          "paper_bgcolor": "white",
          "plot_bgcolor": "#E5ECF6",
          "polar": {
           "angularaxis": {
            "gridcolor": "white",
            "linecolor": "white",
            "ticks": ""
           },
           "bgcolor": "#E5ECF6",
           "radialaxis": {
            "gridcolor": "white",
            "linecolor": "white",
            "ticks": ""
           }
          },
          "scene": {
           "xaxis": {
            "backgroundcolor": "#E5ECF6",
            "gridcolor": "white",
            "gridwidth": 2,
            "linecolor": "white",
            "showbackground": true,
            "ticks": "",
            "zerolinecolor": "white"
           },
           "yaxis": {
            "backgroundcolor": "#E5ECF6",
            "gridcolor": "white",
            "gridwidth": 2,
            "linecolor": "white",
            "showbackground": true,
            "ticks": "",
            "zerolinecolor": "white"
           },
           "zaxis": {
            "backgroundcolor": "#E5ECF6",
            "gridcolor": "white",
            "gridwidth": 2,
            "linecolor": "white",
            "showbackground": true,
            "ticks": "",
            "zerolinecolor": "white"
           }
          },
          "shapedefaults": {
           "line": {
            "color": "#2a3f5f"
           }
          },
          "ternary": {
           "aaxis": {
            "gridcolor": "white",
            "linecolor": "white",
            "ticks": ""
           },
           "baxis": {
            "gridcolor": "white",
            "linecolor": "white",
            "ticks": ""
           },
           "bgcolor": "#E5ECF6",
           "caxis": {
            "gridcolor": "white",
            "linecolor": "white",
            "ticks": ""
           }
          },
          "title": {
           "x": 0.05
          },
          "xaxis": {
           "automargin": true,
           "gridcolor": "white",
           "linecolor": "white",
           "ticks": "",
           "title": {
            "standoff": 15
           },
           "zerolinecolor": "white",
           "zerolinewidth": 2
          },
          "yaxis": {
           "automargin": true,
           "gridcolor": "white",
           "linecolor": "white",
           "ticks": "",
           "title": {
            "standoff": 15
           },
           "zerolinecolor": "white",
           "zerolinewidth": 2
          }
         }
        },
        "title": {
         "font": {
          "family": "Arial",
          "size": 24
         },
         "text": "Water Leakage by Country (1991-2022)"
        },
        "updatemenus": [
         {
          "buttons": [
           {
            "args": [
             null,
             {
              "frame": {
               "duration": 500,
               "redraw": true
              },
              "fromcurrent": true,
              "mode": "immediate",
              "transition": {
               "duration": 500,
               "easing": "linear"
              }
             }
            ],
            "label": "&#9654;",
            "method": "animate"
           },
           {
            "args": [
             [
              null
             ],
             {
              "frame": {
               "duration": 0,
               "redraw": true
              },
              "fromcurrent": true,
              "mode": "immediate",
              "transition": {
               "duration": 0,
               "easing": "linear"
              }
             }
            ],
            "label": "&#9724;",
            "method": "animate"
           }
          ],
          "direction": "left",
          "pad": {
           "r": 10,
           "t": 70
          },
          "showactive": false,
          "type": "buttons",
          "x": 0.1,
          "xanchor": "right",
          "y": 0,
          "yanchor": "top"
         }
        ],
        "width": 1250,
        "xaxis": {
         "anchor": "y",
         "categoryarray": [
          "Botswana",
          "Mozambique",
          "Namibia",
          "South Africa",
          "Zimbabwe"
         ],
         "categoryorder": "array",
         "domain": [
          0,
          1
         ],
         "title": {
          "text": "Country"
         }
        },
        "yaxis": {
         "anchor": "x",
         "domain": [
          0,
          1
         ],
         "title": {
          "text": "Water Leakage"
         }
        }
       }
      }
     },
     "metadata": {},
     "output_type": "display_data"
    }
   ],
   "source": [
    "# Load the data\n",
    "data_long = pd.melt(data, id_vars=['Country Code', 'Country Name_x', 'Continent_x'],\n",
    "                    var_name='Year', value_name='Water Leakage')\n",
    "\n",
    "# Ensure 'Year' is a string\n",
    "data_long['Year'] = data_long['Year'].astype(str)\n",
    "\n",
    "# Filter data for specific countries\n",
    "selected_countries = [\n",
    "    'South Africa', \n",
    "    'Namibia', \n",
    "    'Botswana', \n",
    "    'Zimbabwe', \n",
    "    'Mozambique'\n",
    "]\n",
    "\n",
    "# Filter data to include only selected countries\n",
    "filtered_data = data_long[data_long['Country Name_x'].isin(selected_countries)]\n",
    "\n",
    "# Create the animated bar plot\n",
    "fig2 = px.bar(\n",
    "    filtered_data,\n",
    "    x='Country Name_x',  # X-axis represents the countries\n",
    "    y='Water Leakage',  # Y-axis represents water leakage values\n",
    "    color='Country Name_x',  # Different colors for different countries\n",
    "    animation_frame='Year',  # Animation over the years\n",
    "    animation_group='Country Name_x',  # Group animation by country\n",
    "    title='Water Leakage by Country (2008-2022)',\n",
    "    labels={'Country Name_x': 'Country', 'Water Leakage': 'Water Leakage'},\n",
    ")\n",
    "\n",
    "# Customize layout with specified height and width\n",
    "fig2.update_layout(\n",
    "    xaxis_title='Country',\n",
    "    yaxis_title='Water Leakage',\n",
    "    title_font_size=24,\n",
    "    title_font_family='Arial',\n",
    "    showlegend=False,  # Hide the legend as colors represent countries already\n",
    "    width=1250,  # Set the width of the plot\n",
    "    height=550   # Set the height of the plot\n",
    ")\n",
    "\n",
    "# Show the plot\n",
    "fig2.show()"
   ]
  },
  {
   "cell_type": "code",
   "execution_count": 39,
   "metadata": {},
   "outputs": [
    {
     "data": {
      "application/vnd.plotly.v1+json": {
       "config": {
        "plotlyServerURL": "https://plot.ly"
       },
       "data": [
        {
         "hovertemplate": "Year=%{x}<br>Average Water Leakage (%)=%{y}<extra></extra>",
         "legendgroup": "",
         "line": {
          "color": "#1f77b4",
          "dash": "solid",
          "shape": "spline"
         },
         "marker": {
          "symbol": "circle"
         },
         "mode": "lines+markers",
         "name": "",
         "orientation": "v",
         "showlegend": false,
         "type": "scatter",
         "x": [
          "2008",
          "2009",
          "2010",
          "2011",
          "2012",
          "2013",
          "2014",
          "2015",
          "2016",
          "2017",
          "2018",
          "2019",
          "2020",
          "2021",
          "2022"
         ],
         "xaxis": "x",
         "y": [
          36.536,
          38.589,
          45.536,
          39.739,
          41.897,
          42.81,
          43.958,
          41.999,
          43.936,
          42.811,
          43.761,
          47.406,
          43.499,
          49.864,
          51.519
         ],
         "yaxis": "y"
        }
       ],
       "layout": {
        "legend": {
         "tracegroupgap": 0
        },
        "paper_bgcolor": "rgba(255,255,255,0.8)",
        "plot_bgcolor": "rgba(0,0,0,0)",
        "template": {
         "data": {
          "bar": [
           {
            "error_x": {
             "color": "#2a3f5f"
            },
            "error_y": {
             "color": "#2a3f5f"
            },
            "marker": {
             "line": {
              "color": "#E5ECF6",
              "width": 0.5
             },
             "pattern": {
              "fillmode": "overlay",
              "size": 10,
              "solidity": 0.2
             }
            },
            "type": "bar"
           }
          ],
          "barpolar": [
           {
            "marker": {
             "line": {
              "color": "#E5ECF6",
              "width": 0.5
             },
             "pattern": {
              "fillmode": "overlay",
              "size": 10,
              "solidity": 0.2
             }
            },
            "type": "barpolar"
           }
          ],
          "carpet": [
           {
            "aaxis": {
             "endlinecolor": "#2a3f5f",
             "gridcolor": "white",
             "linecolor": "white",
             "minorgridcolor": "white",
             "startlinecolor": "#2a3f5f"
            },
            "baxis": {
             "endlinecolor": "#2a3f5f",
             "gridcolor": "white",
             "linecolor": "white",
             "minorgridcolor": "white",
             "startlinecolor": "#2a3f5f"
            },
            "type": "carpet"
           }
          ],
          "choropleth": [
           {
            "colorbar": {
             "outlinewidth": 0,
             "ticks": ""
            },
            "type": "choropleth"
           }
          ],
          "contour": [
           {
            "colorbar": {
             "outlinewidth": 0,
             "ticks": ""
            },
            "colorscale": [
             [
              0,
              "#0d0887"
             ],
             [
              0.1111111111111111,
              "#46039f"
             ],
             [
              0.2222222222222222,
              "#7201a8"
             ],
             [
              0.3333333333333333,
              "#9c179e"
             ],
             [
              0.4444444444444444,
              "#bd3786"
             ],
             [
              0.5555555555555556,
              "#d8576b"
             ],
             [
              0.6666666666666666,
              "#ed7953"
             ],
             [
              0.7777777777777778,
              "#fb9f3a"
             ],
             [
              0.8888888888888888,
              "#fdca26"
             ],
             [
              1,
              "#f0f921"
             ]
            ],
            "type": "contour"
           }
          ],
          "contourcarpet": [
           {
            "colorbar": {
             "outlinewidth": 0,
             "ticks": ""
            },
            "type": "contourcarpet"
           }
          ],
          "heatmap": [
           {
            "colorbar": {
             "outlinewidth": 0,
             "ticks": ""
            },
            "colorscale": [
             [
              0,
              "#0d0887"
             ],
             [
              0.1111111111111111,
              "#46039f"
             ],
             [
              0.2222222222222222,
              "#7201a8"
             ],
             [
              0.3333333333333333,
              "#9c179e"
             ],
             [
              0.4444444444444444,
              "#bd3786"
             ],
             [
              0.5555555555555556,
              "#d8576b"
             ],
             [
              0.6666666666666666,
              "#ed7953"
             ],
             [
              0.7777777777777778,
              "#fb9f3a"
             ],
             [
              0.8888888888888888,
              "#fdca26"
             ],
             [
              1,
              "#f0f921"
             ]
            ],
            "type": "heatmap"
           }
          ],
          "heatmapgl": [
           {
            "colorbar": {
             "outlinewidth": 0,
             "ticks": ""
            },
            "colorscale": [
             [
              0,
              "#0d0887"
             ],
             [
              0.1111111111111111,
              "#46039f"
             ],
             [
              0.2222222222222222,
              "#7201a8"
             ],
             [
              0.3333333333333333,
              "#9c179e"
             ],
             [
              0.4444444444444444,
              "#bd3786"
             ],
             [
              0.5555555555555556,
              "#d8576b"
             ],
             [
              0.6666666666666666,
              "#ed7953"
             ],
             [
              0.7777777777777778,
              "#fb9f3a"
             ],
             [
              0.8888888888888888,
              "#fdca26"
             ],
             [
              1,
              "#f0f921"
             ]
            ],
            "type": "heatmapgl"
           }
          ],
          "histogram": [
           {
            "marker": {
             "pattern": {
              "fillmode": "overlay",
              "size": 10,
              "solidity": 0.2
             }
            },
            "type": "histogram"
           }
          ],
          "histogram2d": [
           {
            "colorbar": {
             "outlinewidth": 0,
             "ticks": ""
            },
            "colorscale": [
             [
              0,
              "#0d0887"
             ],
             [
              0.1111111111111111,
              "#46039f"
             ],
             [
              0.2222222222222222,
              "#7201a8"
             ],
             [
              0.3333333333333333,
              "#9c179e"
             ],
             [
              0.4444444444444444,
              "#bd3786"
             ],
             [
              0.5555555555555556,
              "#d8576b"
             ],
             [
              0.6666666666666666,
              "#ed7953"
             ],
             [
              0.7777777777777778,
              "#fb9f3a"
             ],
             [
              0.8888888888888888,
              "#fdca26"
             ],
             [
              1,
              "#f0f921"
             ]
            ],
            "type": "histogram2d"
           }
          ],
          "histogram2dcontour": [
           {
            "colorbar": {
             "outlinewidth": 0,
             "ticks": ""
            },
            "colorscale": [
             [
              0,
              "#0d0887"
             ],
             [
              0.1111111111111111,
              "#46039f"
             ],
             [
              0.2222222222222222,
              "#7201a8"
             ],
             [
              0.3333333333333333,
              "#9c179e"
             ],
             [
              0.4444444444444444,
              "#bd3786"
             ],
             [
              0.5555555555555556,
              "#d8576b"
             ],
             [
              0.6666666666666666,
              "#ed7953"
             ],
             [
              0.7777777777777778,
              "#fb9f3a"
             ],
             [
              0.8888888888888888,
              "#fdca26"
             ],
             [
              1,
              "#f0f921"
             ]
            ],
            "type": "histogram2dcontour"
           }
          ],
          "mesh3d": [
           {
            "colorbar": {
             "outlinewidth": 0,
             "ticks": ""
            },
            "type": "mesh3d"
           }
          ],
          "parcoords": [
           {
            "line": {
             "colorbar": {
              "outlinewidth": 0,
              "ticks": ""
             }
            },
            "type": "parcoords"
           }
          ],
          "pie": [
           {
            "automargin": true,
            "type": "pie"
           }
          ],
          "scatter": [
           {
            "fillpattern": {
             "fillmode": "overlay",
             "size": 10,
             "solidity": 0.2
            },
            "type": "scatter"
           }
          ],
          "scatter3d": [
           {
            "line": {
             "colorbar": {
              "outlinewidth": 0,
              "ticks": ""
             }
            },
            "marker": {
             "colorbar": {
              "outlinewidth": 0,
              "ticks": ""
             }
            },
            "type": "scatter3d"
           }
          ],
          "scattercarpet": [
           {
            "marker": {
             "colorbar": {
              "outlinewidth": 0,
              "ticks": ""
             }
            },
            "type": "scattercarpet"
           }
          ],
          "scattergeo": [
           {
            "marker": {
             "colorbar": {
              "outlinewidth": 0,
              "ticks": ""
             }
            },
            "type": "scattergeo"
           }
          ],
          "scattergl": [
           {
            "marker": {
             "colorbar": {
              "outlinewidth": 0,
              "ticks": ""
             }
            },
            "type": "scattergl"
           }
          ],
          "scattermapbox": [
           {
            "marker": {
             "colorbar": {
              "outlinewidth": 0,
              "ticks": ""
             }
            },
            "type": "scattermapbox"
           }
          ],
          "scatterpolar": [
           {
            "marker": {
             "colorbar": {
              "outlinewidth": 0,
              "ticks": ""
             }
            },
            "type": "scatterpolar"
           }
          ],
          "scatterpolargl": [
           {
            "marker": {
             "colorbar": {
              "outlinewidth": 0,
              "ticks": ""
             }
            },
            "type": "scatterpolargl"
           }
          ],
          "scatterternary": [
           {
            "marker": {
             "colorbar": {
              "outlinewidth": 0,
              "ticks": ""
             }
            },
            "type": "scatterternary"
           }
          ],
          "surface": [
           {
            "colorbar": {
             "outlinewidth": 0,
             "ticks": ""
            },
            "colorscale": [
             [
              0,
              "#0d0887"
             ],
             [
              0.1111111111111111,
              "#46039f"
             ],
             [
              0.2222222222222222,
              "#7201a8"
             ],
             [
              0.3333333333333333,
              "#9c179e"
             ],
             [
              0.4444444444444444,
              "#bd3786"
             ],
             [
              0.5555555555555556,
              "#d8576b"
             ],
             [
              0.6666666666666666,
              "#ed7953"
             ],
             [
              0.7777777777777778,
              "#fb9f3a"
             ],
             [
              0.8888888888888888,
              "#fdca26"
             ],
             [
              1,
              "#f0f921"
             ]
            ],
            "type": "surface"
           }
          ],
          "table": [
           {
            "cells": {
             "fill": {
              "color": "#EBF0F8"
             },
             "line": {
              "color": "white"
             }
            },
            "header": {
             "fill": {
              "color": "#C8D4E3"
             },
             "line": {
              "color": "white"
             }
            },
            "type": "table"
           }
          ]
         },
         "layout": {
          "annotationdefaults": {
           "arrowcolor": "#2a3f5f",
           "arrowhead": 0,
           "arrowwidth": 1
          },
          "autotypenumbers": "strict",
          "coloraxis": {
           "colorbar": {
            "outlinewidth": 0,
            "ticks": ""
           }
          },
          "colorscale": {
           "diverging": [
            [
             0,
             "#8e0152"
            ],
            [
             0.1,
             "#c51b7d"
            ],
            [
             0.2,
             "#de77ae"
            ],
            [
             0.3,
             "#f1b6da"
            ],
            [
             0.4,
             "#fde0ef"
            ],
            [
             0.5,
             "#f7f7f7"
            ],
            [
             0.6,
             "#e6f5d0"
            ],
            [
             0.7,
             "#b8e186"
            ],
            [
             0.8,
             "#7fbc41"
            ],
            [
             0.9,
             "#4d9221"
            ],
            [
             1,
             "#276419"
            ]
           ],
           "sequential": [
            [
             0,
             "#0d0887"
            ],
            [
             0.1111111111111111,
             "#46039f"
            ],
            [
             0.2222222222222222,
             "#7201a8"
            ],
            [
             0.3333333333333333,
             "#9c179e"
            ],
            [
             0.4444444444444444,
             "#bd3786"
            ],
            [
             0.5555555555555556,
             "#d8576b"
            ],
            [
             0.6666666666666666,
             "#ed7953"
            ],
            [
             0.7777777777777778,
             "#fb9f3a"
            ],
            [
             0.8888888888888888,
             "#fdca26"
            ],
            [
             1,
             "#f0f921"
            ]
           ],
           "sequentialminus": [
            [
             0,
             "#0d0887"
            ],
            [
             0.1111111111111111,
             "#46039f"
            ],
            [
             0.2222222222222222,
             "#7201a8"
            ],
            [
             0.3333333333333333,
             "#9c179e"
            ],
            [
             0.4444444444444444,
             "#bd3786"
            ],
            [
             0.5555555555555556,
             "#d8576b"
            ],
            [
             0.6666666666666666,
             "#ed7953"
            ],
            [
             0.7777777777777778,
             "#fb9f3a"
            ],
            [
             0.8888888888888888,
             "#fdca26"
            ],
            [
             1,
             "#f0f921"
            ]
           ]
          },
          "colorway": [
           "#636efa",
           "#EF553B",
           "#00cc96",
           "#ab63fa",
           "#FFA15A",
           "#19d3f3",
           "#FF6692",
           "#B6E880",
           "#FF97FF",
           "#FECB52"
          ],
          "font": {
           "color": "#2a3f5f"
          },
          "geo": {
           "bgcolor": "white",
           "lakecolor": "white",
           "landcolor": "#E5ECF6",
           "showlakes": true,
           "showland": true,
           "subunitcolor": "white"
          },
          "hoverlabel": {
           "align": "left"
          },
          "hovermode": "closest",
          "mapbox": {
           "style": "light"
          },
          "paper_bgcolor": "white",
          "plot_bgcolor": "#E5ECF6",
          "polar": {
           "angularaxis": {
            "gridcolor": "white",
            "linecolor": "white",
            "ticks": ""
           },
           "bgcolor": "#E5ECF6",
           "radialaxis": {
            "gridcolor": "white",
            "linecolor": "white",
            "ticks": ""
           }
          },
          "scene": {
           "xaxis": {
            "backgroundcolor": "#E5ECF6",
            "gridcolor": "white",
            "gridwidth": 2,
            "linecolor": "white",
            "showbackground": true,
            "ticks": "",
            "zerolinecolor": "white"
           },
           "yaxis": {
            "backgroundcolor": "#E5ECF6",
            "gridcolor": "white",
            "gridwidth": 2,
            "linecolor": "white",
            "showbackground": true,
            "ticks": "",
            "zerolinecolor": "white"
           },
           "zaxis": {
            "backgroundcolor": "#E5ECF6",
            "gridcolor": "white",
            "gridwidth": 2,
            "linecolor": "white",
            "showbackground": true,
            "ticks": "",
            "zerolinecolor": "white"
           }
          },
          "shapedefaults": {
           "line": {
            "color": "#2a3f5f"
           }
          },
          "ternary": {
           "aaxis": {
            "gridcolor": "white",
            "linecolor": "white",
            "ticks": ""
           },
           "baxis": {
            "gridcolor": "white",
            "linecolor": "white",
            "ticks": ""
           },
           "bgcolor": "#E5ECF6",
           "caxis": {
            "gridcolor": "white",
            "linecolor": "white",
            "ticks": ""
           }
          },
          "title": {
           "x": 0.05
          },
          "xaxis": {
           "automargin": true,
           "gridcolor": "white",
           "linecolor": "white",
           "ticks": "",
           "title": {
            "standoff": 15
           },
           "zerolinecolor": "white",
           "zerolinewidth": 2
          },
          "yaxis": {
           "automargin": true,
           "gridcolor": "white",
           "linecolor": "white",
           "ticks": "",
           "title": {
            "standoff": 15
           },
           "zerolinecolor": "white",
           "zerolinewidth": 2
          }
         }
        },
        "title": {
         "font": {
          "family": "Arial",
          "size": 24
         },
         "text": "Average Water Leakage for South Africa (2008-2023)"
        },
        "xaxis": {
         "anchor": "y",
         "domain": [
          0,
          1
         ],
         "dtick": 1,
         "gridcolor": "LightGray",
         "showgrid": true,
         "tickmode": "linear",
         "title": {
          "text": "Year"
         }
        },
        "yaxis": {
         "anchor": "x",
         "domain": [
          0,
          1
         ],
         "gridcolor": "LightGray",
         "showgrid": true,
         "title": {
          "text": "Average Water Leakage (%)"
         }
        }
       }
      }
     },
     "metadata": {},
     "output_type": "display_data"
    }
   ],
   "source": [
    "# Filter data for South Africa only\n",
    "sa_data = data[data['Country Name_x'] == 'South Africa']\n",
    "\n",
    "# List of yearly columns for 2008 to 2023\n",
    "yearly_columns = [str(year) for year in range(2008, 2023)]  # Adjusted to include 2023\n",
    "\n",
    "# Calculate the average water leakage for South Africa for each year\n",
    "annual_averages_sa = sa_data[yearly_columns].mean()\n",
    "\n",
    "# Convert the result to a DataFrame for plotting\n",
    "trend_data_sa = pd.DataFrame({\n",
    "    'Year': annual_averages_sa.index,\n",
    "    'Average Water Leakage': annual_averages_sa.values\n",
    "})\n",
    "\n",
    "# Plotting the trend line graph for South Africa's water leakage\n",
    "fig3 = px.line(trend_data_sa, x='Year', y='Average Water Leakage',\n",
    "                title='Average Water Leakage for South Africa (2008-2023)',\n",
    "                labels={'Average Water Leakage': 'Average Water Leakage (%)'},\n",
    "                markers=True,  # Add markers to the line\n",
    "                line_shape='spline',  # Use smooth curves\n",
    "                color_discrete_sequence=['#1f77b4'])  # Custom color\n",
    "\n",
    "# Customize layout with grid lines\n",
    "fig3.update_layout(\n",
    "    xaxis_title='Year',\n",
    "    yaxis_title='Average Water Leakage (%)',\n",
    "    plot_bgcolor='rgba(0,0,0,0)',\n",
    "    paper_bgcolor='rgba(255,255,255,0.8)',\n",
    "    title_font_size=24,\n",
    "    title_font_family='Arial',\n",
    "    xaxis=dict(\n",
    "        tickmode='linear',\n",
    "        dtick=1,\n",
    "        showgrid=True,  # Add grid lines for the x-axis\n",
    "        gridcolor='LightGray'  # Color of the grid lines\n",
    "    ),\n",
    "    yaxis=dict(\n",
    "        showgrid=True,  # Add grid lines for the y-axis\n",
    "        gridcolor='LightGray'  # Color of the grid lines\n",
    "    )\n",
    ")\n",
    "\n",
    "# Show the plot\n",
    "fig3.show()"
   ]
  },
  {
   "cell_type": "code",
   "execution_count": 40,
   "metadata": {},
   "outputs": [
    {
     "data": {
      "application/vnd.plotly.v1+json": {
       "config": {
        "plotlyServerURL": "https://plot.ly"
       },
       "data": [
        {
         "name": "Agricultural Potential",
         "type": "bar",
         "x": [
          "Pampierstad",
          "Ganspan",
          "Jan Kempdorp",
          "Hartswater",
          "Nieuwoudtville",
          "Warrenton",
          "Barkly West",
          "Windsorton",
          "Ritchie",
          "Douglas",
          "Soverby",
          "Delpoortshoop",
          "Dyasonsklip",
          "Ulco",
          "Kalksloot",
          "Longlands",
          "Kanoneiland",
          "Kimberley",
          "Hopetown",
          "Keimoes",
          "Orania",
          "Kuruman",
          "Prieska",
          "Vanderkloof",
          "Norvalspont",
          "Cillie",
          "Augrabies",
          "N",
          "Danielskuil",
          "Plooysburg",
          "Dibeng",
          "Kathu",
          "Groblershoop",
          "Noupoort",
          "Wegdraai",
          "Lime Acres",
          "Colesberg",
          "Phillipstown",
          "Kamieskroon",
          "Kakamas",
          "Hanover",
          "Griekwastad",
          "Postmasburg",
          "Upington",
          "Marchand",
          "Grootdrink",
          "Campbell",
          "Niekerkshoop",
          "Hotazel",
          "Santoy",
          "Olifantshoek",
          "Leerkrans",
          "Buffelsrivier",
          "Petrusville",
          "Olynvenhoutsdrif",
          "Straussburg",
          "Garies",
          "Victoria West",
          "Strydenburg",
          "Marydale",
          "Calvinia",
          "Britstown",
          "De Aar",
          "Komaggas",
          "Springbok",
          "Steinkopf",
          "Van Zylsrus",
          "Vosburg",
          "Askham",
          "Carolusberg",
          "Nababeep",
          "Louisvale",
          "Hondeklip Bay",
          "Sutherland",
          "Concordia",
          "Kenhardt",
          "Loeriesfontein",
          "Port Nolloth",
          "Loxton",
          "Kleinzee",
          "Van Wyksvlei",
          "Eksteenfontein",
          "Aggeneys",
          "Pella",
          "Fraserburg",
          "Onseepkans",
          "Riemvasmaak",
          "Brandvlei",
          "Philandersbron",
          "Williston",
          "Carnarvon",
          "Rietfontein",
          "Groot Mier",
          "Klein Mier",
          "Pofadder",
          "Alexander Bay",
          "Vioolsdrif"
         ],
         "y": [
          68.2767355613169,
          65.26927098917508,
          65.05144103064754,
          65.05144103064754,
          57.98888961793701,
          57.67264701675827,
          56.09185869214195,
          55.65050194893074,
          55.469881230682404,
          52.993712815278386,
          51.37182371560312,
          50.99267347546493,
          50.91947060446101,
          50.48886469472064,
          50.098427920069625,
          49.78873300029588,
          49.54216676145918,
          49.51854737893419,
          49.38230246583381,
          49.31727548895475,
          48.474617612171414,
          47.67725941798787,
          47.07355523259517,
          46.80647166420323,
          46.55833227508221,
          46.04643761630576,
          45.63206355213394,
          45.4698869718443,
          45.04411145075967,
          44.75956835129439,
          44.52961973734496,
          43.73720379148843,
          42.980277398317945,
          42.82693840732524,
          42.06194635877731,
          42.00824287834827,
          41.90147345218992,
          41.767243859725525,
          41.435981343645786,
          41.378488693609995,
          41.33336033359078,
          40.543458806620386,
          40.35905074447104,
          40.294429738433514,
          40.261073782422116,
          40.17861792583823,
          40.13046606440054,
          39.76375291809342,
          39.557656891985665,
          39.09587140215846,
          38.88849205926087,
          37.474963104213465,
          37.40283953426203,
          37.19805067032251,
          36.62519826800927,
          36.51627281855305,
          36.05848646035014,
          35.43558036777599,
          35.31665154032407,
          35.140724890962424,
          34.82022889033313,
          34.65651546812446,
          34.49308832545353,
          33.69340524342328,
          33.39990011533749,
          33.23694180115053,
          33.1459956184097,
          32.941559252699456,
          32.6903660730392,
          32.26915972678538,
          31.557507529434396,
          31.378803390993976,
          31.31588279178145,
          31.046404749917002,
          30.578964546990015,
          30.493164232723764,
          30.235518749064934,
          29.442102157717553,
          28.278583640092126,
          28.018853839255232,
          27.590221068658042,
          27.258733183666926,
          26.44092858726643,
          26.3890382679051,
          23.873885452296015,
          23.77373084921749,
          23.352747157118824,
          23.092094377729225,
          22.619239142073884,
          22.300691885333812,
          21.899670312233127,
          21.852747157118824,
          21.852747157118824,
          21.852747157118824,
          21.26960694347046,
          20.108658476742992,
          16.322281407976146
         ]
        },
        {
         "name": "Size of Economy",
         "type": "bar",
         "x": [
          "Pampierstad",
          "Ganspan",
          "Jan Kempdorp",
          "Hartswater",
          "Nieuwoudtville",
          "Warrenton",
          "Barkly West",
          "Windsorton",
          "Ritchie",
          "Douglas",
          "Soverby",
          "Delpoortshoop",
          "Dyasonsklip",
          "Ulco",
          "Kalksloot",
          "Longlands",
          "Kanoneiland",
          "Kimberley",
          "Hopetown",
          "Keimoes",
          "Orania",
          "Kuruman",
          "Prieska",
          "Vanderkloof",
          "Norvalspont",
          "Cillie",
          "Augrabies",
          "N",
          "Danielskuil",
          "Plooysburg",
          "Dibeng",
          "Kathu",
          "Groblershoop",
          "Noupoort",
          "Wegdraai",
          "Lime Acres",
          "Colesberg",
          "Phillipstown",
          "Kamieskroon",
          "Kakamas",
          "Hanover",
          "Griekwastad",
          "Postmasburg",
          "Upington",
          "Marchand",
          "Grootdrink",
          "Campbell",
          "Niekerkshoop",
          "Hotazel",
          "Santoy",
          "Olifantshoek",
          "Leerkrans",
          "Buffelsrivier",
          "Petrusville",
          "Olynvenhoutsdrif",
          "Straussburg",
          "Garies",
          "Victoria West",
          "Strydenburg",
          "Marydale",
          "Calvinia",
          "Britstown",
          "De Aar",
          "Komaggas",
          "Springbok",
          "Steinkopf",
          "Van Zylsrus",
          "Vosburg",
          "Askham",
          "Carolusberg",
          "Nababeep",
          "Louisvale",
          "Hondeklip Bay",
          "Sutherland",
          "Concordia",
          "Kenhardt",
          "Loeriesfontein",
          "Port Nolloth",
          "Loxton",
          "Kleinzee",
          "Van Wyksvlei",
          "Eksteenfontein",
          "Aggeneys",
          "Pella",
          "Fraserburg",
          "Onseepkans",
          "Riemvasmaak",
          "Brandvlei",
          "Philandersbron",
          "Williston",
          "Carnarvon",
          "Rietfontein",
          "Groot Mier",
          "Klein Mier",
          "Pofadder",
          "Alexander Bay",
          "Vioolsdrif"
         ],
         "y": [
          7.932343011248322,
          2.600933786058435,
          9.332991092989698,
          4.245957126815511,
          1.0832623312913954,
          3.192143385121344,
          3.437450179747756,
          1.0890735628088757,
          7.376444629664592,
          6.355808160987113,
          3.9926236880429027,
          2.0957758174046357,
          3.2654791517399486,
          3.4343219218039884,
          6.599300464769222,
          1.1589754051920167,
          2.857351312381396,
          77.2025174588084,
          4.004480533035585,
          8.362777637294053,
          1.193430402393983,
          12.478542831896311,
          5.578311364557274,
          2.104721002924864,
          0.5830463915011058,
          4.906202980048183,
          3.21627115462576,
          2.0122837871478585,
          3.92755687612654,
          0.6164879424103494,
          1.9026801801576023,
          21.715310046098434,
          3.2548519838751813,
          4.71598189843835,
          1.0554800612636845,
          2.790478691312983,
          5.69005861897385,
          1.279918692490358,
          0.6546010360789787,
          9.362787612205729,
          3.067866945677772,
          2.2666721751675176,
          5.814344239441628,
          24.860188573383216,
          6.152895604091895,
          0.8995187634070949,
          0.76836942590075,
          0.5875927062583117,
          2.6759469855398685,
          1.4842972563383339,
          19.307948133081787,
          5.604568865644388,
          0.27475210607681727,
          1.7580787129194415,
          8.780600213369942,
          10.153372276014245,
          0.7959123692788631,
          3.973484781274128,
          1.350878354224278,
          0.9840290433434347,
          4.566123315395254,
          4.120107189366285,
          6.981425879657769,
          0.4757732727263675,
          16.5608674805366,
          2.270152969399935,
          1.6106177290829296,
          1.011555234983795,
          0.34699315100700395,
          4.71737795664427,
          3.196875305076174,
          3.35566847628881,
          0.9726859951278658,
          1.8022880277182893,
          1.3790381955805304,
          4.208688798337012,
          1.6343392043934837,
          6.376185672474049,
          1.4504891561302107,
          9.17130033825343,
          0.9504872243337945,
          0.1829057774585037,
          0.4526952351603399,
          1.9233426920528416,
          1.586508276101712,
          1.6274438163524043,
          0.1511454520915809,
          0.9356865905573337,
          0.1822533192495432,
          1.5086188847139625,
          2.5926265639414403,
          0.49938980064264404,
          0.08384870180873004,
          0.19046489830458427,
          2.510091599291513,
          4.622323248250073,
          2.863221602244082
         ]
        }
       ],
       "layout": {
        "barmode": "group",
        "template": {
         "data": {
          "bar": [
           {
            "error_x": {
             "color": "#2a3f5f"
            },
            "error_y": {
             "color": "#2a3f5f"
            },
            "marker": {
             "line": {
              "color": "#E5ECF6",
              "width": 0.5
             },
             "pattern": {
              "fillmode": "overlay",
              "size": 10,
              "solidity": 0.2
             }
            },
            "type": "bar"
           }
          ],
          "barpolar": [
           {
            "marker": {
             "line": {
              "color": "#E5ECF6",
              "width": 0.5
             },
             "pattern": {
              "fillmode": "overlay",
              "size": 10,
              "solidity": 0.2
             }
            },
            "type": "barpolar"
           }
          ],
          "carpet": [
           {
            "aaxis": {
             "endlinecolor": "#2a3f5f",
             "gridcolor": "white",
             "linecolor": "white",
             "minorgridcolor": "white",
             "startlinecolor": "#2a3f5f"
            },
            "baxis": {
             "endlinecolor": "#2a3f5f",
             "gridcolor": "white",
             "linecolor": "white",
             "minorgridcolor": "white",
             "startlinecolor": "#2a3f5f"
            },
            "type": "carpet"
           }
          ],
          "choropleth": [
           {
            "colorbar": {
             "outlinewidth": 0,
             "ticks": ""
            },
            "type": "choropleth"
           }
          ],
          "contour": [
           {
            "colorbar": {
             "outlinewidth": 0,
             "ticks": ""
            },
            "colorscale": [
             [
              0,
              "#0d0887"
             ],
             [
              0.1111111111111111,
              "#46039f"
             ],
             [
              0.2222222222222222,
              "#7201a8"
             ],
             [
              0.3333333333333333,
              "#9c179e"
             ],
             [
              0.4444444444444444,
              "#bd3786"
             ],
             [
              0.5555555555555556,
              "#d8576b"
             ],
             [
              0.6666666666666666,
              "#ed7953"
             ],
             [
              0.7777777777777778,
              "#fb9f3a"
             ],
             [
              0.8888888888888888,
              "#fdca26"
             ],
             [
              1,
              "#f0f921"
             ]
            ],
            "type": "contour"
           }
          ],
          "contourcarpet": [
           {
            "colorbar": {
             "outlinewidth": 0,
             "ticks": ""
            },
            "type": "contourcarpet"
           }
          ],
          "heatmap": [
           {
            "colorbar": {
             "outlinewidth": 0,
             "ticks": ""
            },
            "colorscale": [
             [
              0,
              "#0d0887"
             ],
             [
              0.1111111111111111,
              "#46039f"
             ],
             [
              0.2222222222222222,
              "#7201a8"
             ],
             [
              0.3333333333333333,
              "#9c179e"
             ],
             [
              0.4444444444444444,
              "#bd3786"
             ],
             [
              0.5555555555555556,
              "#d8576b"
             ],
             [
              0.6666666666666666,
              "#ed7953"
             ],
             [
              0.7777777777777778,
              "#fb9f3a"
             ],
             [
              0.8888888888888888,
              "#fdca26"
             ],
             [
              1,
              "#f0f921"
             ]
            ],
            "type": "heatmap"
           }
          ],
          "heatmapgl": [
           {
            "colorbar": {
             "outlinewidth": 0,
             "ticks": ""
            },
            "colorscale": [
             [
              0,
              "#0d0887"
             ],
             [
              0.1111111111111111,
              "#46039f"
             ],
             [
              0.2222222222222222,
              "#7201a8"
             ],
             [
              0.3333333333333333,
              "#9c179e"
             ],
             [
              0.4444444444444444,
              "#bd3786"
             ],
             [
              0.5555555555555556,
              "#d8576b"
             ],
             [
              0.6666666666666666,
              "#ed7953"
             ],
             [
              0.7777777777777778,
              "#fb9f3a"
             ],
             [
              0.8888888888888888,
              "#fdca26"
             ],
             [
              1,
              "#f0f921"
             ]
            ],
            "type": "heatmapgl"
           }
          ],
          "histogram": [
           {
            "marker": {
             "pattern": {
              "fillmode": "overlay",
              "size": 10,
              "solidity": 0.2
             }
            },
            "type": "histogram"
           }
          ],
          "histogram2d": [
           {
            "colorbar": {
             "outlinewidth": 0,
             "ticks": ""
            },
            "colorscale": [
             [
              0,
              "#0d0887"
             ],
             [
              0.1111111111111111,
              "#46039f"
             ],
             [
              0.2222222222222222,
              "#7201a8"
             ],
             [
              0.3333333333333333,
              "#9c179e"
             ],
             [
              0.4444444444444444,
              "#bd3786"
             ],
             [
              0.5555555555555556,
              "#d8576b"
             ],
             [
              0.6666666666666666,
              "#ed7953"
             ],
             [
              0.7777777777777778,
              "#fb9f3a"
             ],
             [
              0.8888888888888888,
              "#fdca26"
             ],
             [
              1,
              "#f0f921"
             ]
            ],
            "type": "histogram2d"
           }
          ],
          "histogram2dcontour": [
           {
            "colorbar": {
             "outlinewidth": 0,
             "ticks": ""
            },
            "colorscale": [
             [
              0,
              "#0d0887"
             ],
             [
              0.1111111111111111,
              "#46039f"
             ],
             [
              0.2222222222222222,
              "#7201a8"
             ],
             [
              0.3333333333333333,
              "#9c179e"
             ],
             [
              0.4444444444444444,
              "#bd3786"
             ],
             [
              0.5555555555555556,
              "#d8576b"
             ],
             [
              0.6666666666666666,
              "#ed7953"
             ],
             [
              0.7777777777777778,
              "#fb9f3a"
             ],
             [
              0.8888888888888888,
              "#fdca26"
             ],
             [
              1,
              "#f0f921"
             ]
            ],
            "type": "histogram2dcontour"
           }
          ],
          "mesh3d": [
           {
            "colorbar": {
             "outlinewidth": 0,
             "ticks": ""
            },
            "type": "mesh3d"
           }
          ],
          "parcoords": [
           {
            "line": {
             "colorbar": {
              "outlinewidth": 0,
              "ticks": ""
             }
            },
            "type": "parcoords"
           }
          ],
          "pie": [
           {
            "automargin": true,
            "type": "pie"
           }
          ],
          "scatter": [
           {
            "fillpattern": {
             "fillmode": "overlay",
             "size": 10,
             "solidity": 0.2
            },
            "type": "scatter"
           }
          ],
          "scatter3d": [
           {
            "line": {
             "colorbar": {
              "outlinewidth": 0,
              "ticks": ""
             }
            },
            "marker": {
             "colorbar": {
              "outlinewidth": 0,
              "ticks": ""
             }
            },
            "type": "scatter3d"
           }
          ],
          "scattercarpet": [
           {
            "marker": {
             "colorbar": {
              "outlinewidth": 0,
              "ticks": ""
             }
            },
            "type": "scattercarpet"
           }
          ],
          "scattergeo": [
           {
            "marker": {
             "colorbar": {
              "outlinewidth": 0,
              "ticks": ""
             }
            },
            "type": "scattergeo"
           }
          ],
          "scattergl": [
           {
            "marker": {
             "colorbar": {
              "outlinewidth": 0,
              "ticks": ""
             }
            },
            "type": "scattergl"
           }
          ],
          "scattermapbox": [
           {
            "marker": {
             "colorbar": {
              "outlinewidth": 0,
              "ticks": ""
             }
            },
            "type": "scattermapbox"
           }
          ],
          "scatterpolar": [
           {
            "marker": {
             "colorbar": {
              "outlinewidth": 0,
              "ticks": ""
             }
            },
            "type": "scatterpolar"
           }
          ],
          "scatterpolargl": [
           {
            "marker": {
             "colorbar": {
              "outlinewidth": 0,
              "ticks": ""
             }
            },
            "type": "scatterpolargl"
           }
          ],
          "scatterternary": [
           {
            "marker": {
             "colorbar": {
              "outlinewidth": 0,
              "ticks": ""
             }
            },
            "type": "scatterternary"
           }
          ],
          "surface": [
           {
            "colorbar": {
             "outlinewidth": 0,
             "ticks": ""
            },
            "colorscale": [
             [
              0,
              "#0d0887"
             ],
             [
              0.1111111111111111,
              "#46039f"
             ],
             [
              0.2222222222222222,
              "#7201a8"
             ],
             [
              0.3333333333333333,
              "#9c179e"
             ],
             [
              0.4444444444444444,
              "#bd3786"
             ],
             [
              0.5555555555555556,
              "#d8576b"
             ],
             [
              0.6666666666666666,
              "#ed7953"
             ],
             [
              0.7777777777777778,
              "#fb9f3a"
             ],
             [
              0.8888888888888888,
              "#fdca26"
             ],
             [
              1,
              "#f0f921"
             ]
            ],
            "type": "surface"
           }
          ],
          "table": [
           {
            "cells": {
             "fill": {
              "color": "#EBF0F8"
             },
             "line": {
              "color": "white"
             }
            },
            "header": {
             "fill": {
              "color": "#C8D4E3"
             },
             "line": {
              "color": "white"
             }
            },
            "type": "table"
           }
          ]
         },
         "layout": {
          "annotationdefaults": {
           "arrowcolor": "#2a3f5f",
           "arrowhead": 0,
           "arrowwidth": 1
          },
          "autotypenumbers": "strict",
          "coloraxis": {
           "colorbar": {
            "outlinewidth": 0,
            "ticks": ""
           }
          },
          "colorscale": {
           "diverging": [
            [
             0,
             "#8e0152"
            ],
            [
             0.1,
             "#c51b7d"
            ],
            [
             0.2,
             "#de77ae"
            ],
            [
             0.3,
             "#f1b6da"
            ],
            [
             0.4,
             "#fde0ef"
            ],
            [
             0.5,
             "#f7f7f7"
            ],
            [
             0.6,
             "#e6f5d0"
            ],
            [
             0.7,
             "#b8e186"
            ],
            [
             0.8,
             "#7fbc41"
            ],
            [
             0.9,
             "#4d9221"
            ],
            [
             1,
             "#276419"
            ]
           ],
           "sequential": [
            [
             0,
             "#0d0887"
            ],
            [
             0.1111111111111111,
             "#46039f"
            ],
            [
             0.2222222222222222,
             "#7201a8"
            ],
            [
             0.3333333333333333,
             "#9c179e"
            ],
            [
             0.4444444444444444,
             "#bd3786"
            ],
            [
             0.5555555555555556,
             "#d8576b"
            ],
            [
             0.6666666666666666,
             "#ed7953"
            ],
            [
             0.7777777777777778,
             "#fb9f3a"
            ],
            [
             0.8888888888888888,
             "#fdca26"
            ],
            [
             1,
             "#f0f921"
            ]
           ],
           "sequentialminus": [
            [
             0,
             "#0d0887"
            ],
            [
             0.1111111111111111,
             "#46039f"
            ],
            [
             0.2222222222222222,
             "#7201a8"
            ],
            [
             0.3333333333333333,
             "#9c179e"
            ],
            [
             0.4444444444444444,
             "#bd3786"
            ],
            [
             0.5555555555555556,
             "#d8576b"
            ],
            [
             0.6666666666666666,
             "#ed7953"
            ],
            [
             0.7777777777777778,
             "#fb9f3a"
            ],
            [
             0.8888888888888888,
             "#fdca26"
            ],
            [
             1,
             "#f0f921"
            ]
           ]
          },
          "colorway": [
           "#636efa",
           "#EF553B",
           "#00cc96",
           "#ab63fa",
           "#FFA15A",
           "#19d3f3",
           "#FF6692",
           "#B6E880",
           "#FF97FF",
           "#FECB52"
          ],
          "font": {
           "color": "#2a3f5f"
          },
          "geo": {
           "bgcolor": "white",
           "lakecolor": "white",
           "landcolor": "#E5ECF6",
           "showlakes": true,
           "showland": true,
           "subunitcolor": "white"
          },
          "hoverlabel": {
           "align": "left"
          },
          "hovermode": "closest",
          "mapbox": {
           "style": "light"
          },
          "paper_bgcolor": "white",
          "plot_bgcolor": "#E5ECF6",
          "polar": {
           "angularaxis": {
            "gridcolor": "white",
            "linecolor": "white",
            "ticks": ""
           },
           "bgcolor": "#E5ECF6",
           "radialaxis": {
            "gridcolor": "white",
            "linecolor": "white",
            "ticks": ""
           }
          },
          "scene": {
           "xaxis": {
            "backgroundcolor": "#E5ECF6",
            "gridcolor": "white",
            "gridwidth": 2,
            "linecolor": "white",
            "showbackground": true,
            "ticks": "",
            "zerolinecolor": "white"
           },
           "yaxis": {
            "backgroundcolor": "#E5ECF6",
            "gridcolor": "white",
            "gridwidth": 2,
            "linecolor": "white",
            "showbackground": true,
            "ticks": "",
            "zerolinecolor": "white"
           },
           "zaxis": {
            "backgroundcolor": "#E5ECF6",
            "gridcolor": "white",
            "gridwidth": 2,
            "linecolor": "white",
            "showbackground": true,
            "ticks": "",
            "zerolinecolor": "white"
           }
          },
          "shapedefaults": {
           "line": {
            "color": "#2a3f5f"
           }
          },
          "ternary": {
           "aaxis": {
            "gridcolor": "white",
            "linecolor": "white",
            "ticks": ""
           },
           "baxis": {
            "gridcolor": "white",
            "linecolor": "white",
            "ticks": ""
           },
           "bgcolor": "#E5ECF6",
           "caxis": {
            "gridcolor": "white",
            "linecolor": "white",
            "ticks": ""
           }
          },
          "title": {
           "x": 0.05
          },
          "xaxis": {
           "automargin": true,
           "gridcolor": "white",
           "linecolor": "white",
           "ticks": "",
           "title": {
            "standoff": 15
           },
           "zerolinecolor": "white",
           "zerolinewidth": 2
          },
          "yaxis": {
           "automargin": true,
           "gridcolor": "white",
           "linecolor": "white",
           "ticks": "",
           "title": {
            "standoff": 15
           },
           "zerolinecolor": "white",
           "zerolinewidth": 2
          }
         }
        },
        "title": {
         "text": "Agricultural Potential and Size of Economy of Towns in the Northern Cape"
        }
       }
      }
     },
     "metadata": {},
     "output_type": "display_data"
    }
   ],
   "source": [
    "df5 = pd.read_excel(\"NC Data.xlsx\")\n",
    "\n",
    "# Sort the DataFrame by 'Agricultural Potential'\n",
    "northern_cape_df_sorted = df5.sort_values(by='Agricultural Potential', ascending=False)\n",
    "\n",
    "# Create the bar chart\n",
    "fig4 = go.Figure(data=[\n",
    "    go.Bar(name='Agricultural Potential', x=northern_cape_df_sorted['City/Town in the NC'], y=northern_cape_df_sorted['Agricultural Potential']),\n",
    "    go.Bar(name='Size of Economy', x=northern_cape_df_sorted['City/Town in the NC'], y=northern_cape_df_sorted['Size of Economy'])\n",
    "])\n",
    "\n",
    "# Update layout of the figure\n",
    "fig4.update_layout(\n",
    "    barmode='group',\n",
    "    title='Agricultural Potential and Size of Economy of Towns in the Northern Cape'\n",
    ")\n",
    "\n",
    "# Show the plot\n",
    "fig4.show()"
   ]
  },
  {
   "cell_type": "code",
   "execution_count": 41,
   "metadata": {},
   "outputs": [
    {
     "data": {
      "application/vnd.plotly.v1+json": {
       "config": {
        "plotlyServerURL": "https://plot.ly"
       },
       "data": [
        {
         "alignmentgroup": "True",
         "hovertemplate": "Year=%{x}<br>Water Leakage Cost (Million R)=%{marker.color}<extra></extra>",
         "legendgroup": "",
         "marker": {
          "color": [
           32,
           35.5,
           41,
           44.5,
           48,
           38,
           36,
           37,
           39.5,
           43,
           45,
           38.5,
           36.5,
           47,
           50
          ],
          "coloraxis": "coloraxis",
          "pattern": {
           "shape": ""
          }
         },
         "name": "",
         "offsetgroup": "",
         "orientation": "v",
         "showlegend": false,
         "textposition": "auto",
         "type": "bar",
         "x": [
          2008,
          2009,
          2010,
          2011,
          2012,
          2013,
          2014,
          2015,
          2016,
          2017,
          2018,
          2019,
          2020,
          2021,
          2022
         ],
         "xaxis": "x",
         "y": [
          32,
          35.5,
          41,
          44.5,
          48,
          38,
          36,
          37,
          39.5,
          43,
          45,
          38.5,
          36.5,
          47,
          50
         ],
         "yaxis": "y"
        }
       ],
       "layout": {
        "barmode": "relative",
        "coloraxis": {
         "colorbar": {
          "title": {
           "text": "Water Leakage Cost (Million R)"
          }
         },
         "colorscale": [
          [
           0,
           "#440154"
          ],
          [
           0.1111111111111111,
           "#482878"
          ],
          [
           0.2222222222222222,
           "#3e4989"
          ],
          [
           0.3333333333333333,
           "#31688e"
          ],
          [
           0.4444444444444444,
           "#26828e"
          ],
          [
           0.5555555555555556,
           "#1f9e89"
          ],
          [
           0.6666666666666666,
           "#35b779"
          ],
          [
           0.7777777777777778,
           "#6ece58"
          ],
          [
           0.8888888888888888,
           "#b5de2b"
          ],
          [
           1,
           "#fde725"
          ]
         ]
        },
        "height": 500,
        "legend": {
         "tracegroupgap": 0
        },
        "template": {
         "data": {
          "bar": [
           {
            "error_x": {
             "color": "#2a3f5f"
            },
            "error_y": {
             "color": "#2a3f5f"
            },
            "marker": {
             "line": {
              "color": "white",
              "width": 0.5
             },
             "pattern": {
              "fillmode": "overlay",
              "size": 10,
              "solidity": 0.2
             }
            },
            "type": "bar"
           }
          ],
          "barpolar": [
           {
            "marker": {
             "line": {
              "color": "white",
              "width": 0.5
             },
             "pattern": {
              "fillmode": "overlay",
              "size": 10,
              "solidity": 0.2
             }
            },
            "type": "barpolar"
           }
          ],
          "carpet": [
           {
            "aaxis": {
             "endlinecolor": "#2a3f5f",
             "gridcolor": "#C8D4E3",
             "linecolor": "#C8D4E3",
             "minorgridcolor": "#C8D4E3",
             "startlinecolor": "#2a3f5f"
            },
            "baxis": {
             "endlinecolor": "#2a3f5f",
             "gridcolor": "#C8D4E3",
             "linecolor": "#C8D4E3",
             "minorgridcolor": "#C8D4E3",
             "startlinecolor": "#2a3f5f"
            },
            "type": "carpet"
           }
          ],
          "choropleth": [
           {
            "colorbar": {
             "outlinewidth": 0,
             "ticks": ""
            },
            "type": "choropleth"
           }
          ],
          "contour": [
           {
            "colorbar": {
             "outlinewidth": 0,
             "ticks": ""
            },
            "colorscale": [
             [
              0,
              "#0d0887"
             ],
             [
              0.1111111111111111,
              "#46039f"
             ],
             [
              0.2222222222222222,
              "#7201a8"
             ],
             [
              0.3333333333333333,
              "#9c179e"
             ],
             [
              0.4444444444444444,
              "#bd3786"
             ],
             [
              0.5555555555555556,
              "#d8576b"
             ],
             [
              0.6666666666666666,
              "#ed7953"
             ],
             [
              0.7777777777777778,
              "#fb9f3a"
             ],
             [
              0.8888888888888888,
              "#fdca26"
             ],
             [
              1,
              "#f0f921"
             ]
            ],
            "type": "contour"
           }
          ],
          "contourcarpet": [
           {
            "colorbar": {
             "outlinewidth": 0,
             "ticks": ""
            },
            "type": "contourcarpet"
           }
          ],
          "heatmap": [
           {
            "colorbar": {
             "outlinewidth": 0,
             "ticks": ""
            },
            "colorscale": [
             [
              0,
              "#0d0887"
             ],
             [
              0.1111111111111111,
              "#46039f"
             ],
             [
              0.2222222222222222,
              "#7201a8"
             ],
             [
              0.3333333333333333,
              "#9c179e"
             ],
             [
              0.4444444444444444,
              "#bd3786"
             ],
             [
              0.5555555555555556,
              "#d8576b"
             ],
             [
              0.6666666666666666,
              "#ed7953"
             ],
             [
              0.7777777777777778,
              "#fb9f3a"
             ],
             [
              0.8888888888888888,
              "#fdca26"
             ],
             [
              1,
              "#f0f921"
             ]
            ],
            "type": "heatmap"
           }
          ],
          "heatmapgl": [
           {
            "colorbar": {
             "outlinewidth": 0,
             "ticks": ""
            },
            "colorscale": [
             [
              0,
              "#0d0887"
             ],
             [
              0.1111111111111111,
              "#46039f"
             ],
             [
              0.2222222222222222,
              "#7201a8"
             ],
             [
              0.3333333333333333,
              "#9c179e"
             ],
             [
              0.4444444444444444,
              "#bd3786"
             ],
             [
              0.5555555555555556,
              "#d8576b"
             ],
             [
              0.6666666666666666,
              "#ed7953"
             ],
             [
              0.7777777777777778,
              "#fb9f3a"
             ],
             [
              0.8888888888888888,
              "#fdca26"
             ],
             [
              1,
              "#f0f921"
             ]
            ],
            "type": "heatmapgl"
           }
          ],
          "histogram": [
           {
            "marker": {
             "pattern": {
              "fillmode": "overlay",
              "size": 10,
              "solidity": 0.2
             }
            },
            "type": "histogram"
           }
          ],
          "histogram2d": [
           {
            "colorbar": {
             "outlinewidth": 0,
             "ticks": ""
            },
            "colorscale": [
             [
              0,
              "#0d0887"
             ],
             [
              0.1111111111111111,
              "#46039f"
             ],
             [
              0.2222222222222222,
              "#7201a8"
             ],
             [
              0.3333333333333333,
              "#9c179e"
             ],
             [
              0.4444444444444444,
              "#bd3786"
             ],
             [
              0.5555555555555556,
              "#d8576b"
             ],
             [
              0.6666666666666666,
              "#ed7953"
             ],
             [
              0.7777777777777778,
              "#fb9f3a"
             ],
             [
              0.8888888888888888,
              "#fdca26"
             ],
             [
              1,
              "#f0f921"
             ]
            ],
            "type": "histogram2d"
           }
          ],
          "histogram2dcontour": [
           {
            "colorbar": {
             "outlinewidth": 0,
             "ticks": ""
            },
            "colorscale": [
             [
              0,
              "#0d0887"
             ],
             [
              0.1111111111111111,
              "#46039f"
             ],
             [
              0.2222222222222222,
              "#7201a8"
             ],
             [
              0.3333333333333333,
              "#9c179e"
             ],
             [
              0.4444444444444444,
              "#bd3786"
             ],
             [
              0.5555555555555556,
              "#d8576b"
             ],
             [
              0.6666666666666666,
              "#ed7953"
             ],
             [
              0.7777777777777778,
              "#fb9f3a"
             ],
             [
              0.8888888888888888,
              "#fdca26"
             ],
             [
              1,
              "#f0f921"
             ]
            ],
            "type": "histogram2dcontour"
           }
          ],
          "mesh3d": [
           {
            "colorbar": {
             "outlinewidth": 0,
             "ticks": ""
            },
            "type": "mesh3d"
           }
          ],
          "parcoords": [
           {
            "line": {
             "colorbar": {
              "outlinewidth": 0,
              "ticks": ""
             }
            },
            "type": "parcoords"
           }
          ],
          "pie": [
           {
            "automargin": true,
            "type": "pie"
           }
          ],
          "scatter": [
           {
            "fillpattern": {
             "fillmode": "overlay",
             "size": 10,
             "solidity": 0.2
            },
            "type": "scatter"
           }
          ],
          "scatter3d": [
           {
            "line": {
             "colorbar": {
              "outlinewidth": 0,
              "ticks": ""
             }
            },
            "marker": {
             "colorbar": {
              "outlinewidth": 0,
              "ticks": ""
             }
            },
            "type": "scatter3d"
           }
          ],
          "scattercarpet": [
           {
            "marker": {
             "colorbar": {
              "outlinewidth": 0,
              "ticks": ""
             }
            },
            "type": "scattercarpet"
           }
          ],
          "scattergeo": [
           {
            "marker": {
             "colorbar": {
              "outlinewidth": 0,
              "ticks": ""
             }
            },
            "type": "scattergeo"
           }
          ],
          "scattergl": [
           {
            "marker": {
             "colorbar": {
              "outlinewidth": 0,
              "ticks": ""
             }
            },
            "type": "scattergl"
           }
          ],
          "scattermapbox": [
           {
            "marker": {
             "colorbar": {
              "outlinewidth": 0,
              "ticks": ""
             }
            },
            "type": "scattermapbox"
           }
          ],
          "scatterpolar": [
           {
            "marker": {
             "colorbar": {
              "outlinewidth": 0,
              "ticks": ""
             }
            },
            "type": "scatterpolar"
           }
          ],
          "scatterpolargl": [
           {
            "marker": {
             "colorbar": {
              "outlinewidth": 0,
              "ticks": ""
             }
            },
            "type": "scatterpolargl"
           }
          ],
          "scatterternary": [
           {
            "marker": {
             "colorbar": {
              "outlinewidth": 0,
              "ticks": ""
             }
            },
            "type": "scatterternary"
           }
          ],
          "surface": [
           {
            "colorbar": {
             "outlinewidth": 0,
             "ticks": ""
            },
            "colorscale": [
             [
              0,
              "#0d0887"
             ],
             [
              0.1111111111111111,
              "#46039f"
             ],
             [
              0.2222222222222222,
              "#7201a8"
             ],
             [
              0.3333333333333333,
              "#9c179e"
             ],
             [
              0.4444444444444444,
              "#bd3786"
             ],
             [
              0.5555555555555556,
              "#d8576b"
             ],
             [
              0.6666666666666666,
              "#ed7953"
             ],
             [
              0.7777777777777778,
              "#fb9f3a"
             ],
             [
              0.8888888888888888,
              "#fdca26"
             ],
             [
              1,
              "#f0f921"
             ]
            ],
            "type": "surface"
           }
          ],
          "table": [
           {
            "cells": {
             "fill": {
              "color": "#EBF0F8"
             },
             "line": {
              "color": "white"
             }
            },
            "header": {
             "fill": {
              "color": "#C8D4E3"
             },
             "line": {
              "color": "white"
             }
            },
            "type": "table"
           }
          ]
         },
         "layout": {
          "annotationdefaults": {
           "arrowcolor": "#2a3f5f",
           "arrowhead": 0,
           "arrowwidth": 1
          },
          "autotypenumbers": "strict",
          "coloraxis": {
           "colorbar": {
            "outlinewidth": 0,
            "ticks": ""
           }
          },
          "colorscale": {
           "diverging": [
            [
             0,
             "#8e0152"
            ],
            [
             0.1,
             "#c51b7d"
            ],
            [
             0.2,
             "#de77ae"
            ],
            [
             0.3,
             "#f1b6da"
            ],
            [
             0.4,
             "#fde0ef"
            ],
            [
             0.5,
             "#f7f7f7"
            ],
            [
             0.6,
             "#e6f5d0"
            ],
            [
             0.7,
             "#b8e186"
            ],
            [
             0.8,
             "#7fbc41"
            ],
            [
             0.9,
             "#4d9221"
            ],
            [
             1,
             "#276419"
            ]
           ],
           "sequential": [
            [
             0,
             "#0d0887"
            ],
            [
             0.1111111111111111,
             "#46039f"
            ],
            [
             0.2222222222222222,
             "#7201a8"
            ],
            [
             0.3333333333333333,
             "#9c179e"
            ],
            [
             0.4444444444444444,
             "#bd3786"
            ],
            [
             0.5555555555555556,
             "#d8576b"
            ],
            [
             0.6666666666666666,
             "#ed7953"
            ],
            [
             0.7777777777777778,
             "#fb9f3a"
            ],
            [
             0.8888888888888888,
             "#fdca26"
            ],
            [
             1,
             "#f0f921"
            ]
           ],
           "sequentialminus": [
            [
             0,
             "#0d0887"
            ],
            [
             0.1111111111111111,
             "#46039f"
            ],
            [
             0.2222222222222222,
             "#7201a8"
            ],
            [
             0.3333333333333333,
             "#9c179e"
            ],
            [
             0.4444444444444444,
             "#bd3786"
            ],
            [
             0.5555555555555556,
             "#d8576b"
            ],
            [
             0.6666666666666666,
             "#ed7953"
            ],
            [
             0.7777777777777778,
             "#fb9f3a"
            ],
            [
             0.8888888888888888,
             "#fdca26"
            ],
            [
             1,
             "#f0f921"
            ]
           ]
          },
          "colorway": [
           "#636efa",
           "#EF553B",
           "#00cc96",
           "#ab63fa",
           "#FFA15A",
           "#19d3f3",
           "#FF6692",
           "#B6E880",
           "#FF97FF",
           "#FECB52"
          ],
          "font": {
           "color": "#2a3f5f"
          },
          "geo": {
           "bgcolor": "white",
           "lakecolor": "white",
           "landcolor": "white",
           "showlakes": true,
           "showland": true,
           "subunitcolor": "#C8D4E3"
          },
          "hoverlabel": {
           "align": "left"
          },
          "hovermode": "closest",
          "mapbox": {
           "style": "light"
          },
          "paper_bgcolor": "white",
          "plot_bgcolor": "white",
          "polar": {
           "angularaxis": {
            "gridcolor": "#EBF0F8",
            "linecolor": "#EBF0F8",
            "ticks": ""
           },
           "bgcolor": "white",
           "radialaxis": {
            "gridcolor": "#EBF0F8",
            "linecolor": "#EBF0F8",
            "ticks": ""
           }
          },
          "scene": {
           "xaxis": {
            "backgroundcolor": "white",
            "gridcolor": "#DFE8F3",
            "gridwidth": 2,
            "linecolor": "#EBF0F8",
            "showbackground": true,
            "ticks": "",
            "zerolinecolor": "#EBF0F8"
           },
           "yaxis": {
            "backgroundcolor": "white",
            "gridcolor": "#DFE8F3",
            "gridwidth": 2,
            "linecolor": "#EBF0F8",
            "showbackground": true,
            "ticks": "",
            "zerolinecolor": "#EBF0F8"
           },
           "zaxis": {
            "backgroundcolor": "white",
            "gridcolor": "#DFE8F3",
            "gridwidth": 2,
            "linecolor": "#EBF0F8",
            "showbackground": true,
            "ticks": "",
            "zerolinecolor": "#EBF0F8"
           }
          },
          "shapedefaults": {
           "line": {
            "color": "#2a3f5f"
           }
          },
          "ternary": {
           "aaxis": {
            "gridcolor": "#DFE8F3",
            "linecolor": "#A2B1C6",
            "ticks": ""
           },
           "baxis": {
            "gridcolor": "#DFE8F3",
            "linecolor": "#A2B1C6",
            "ticks": ""
           },
           "bgcolor": "white",
           "caxis": {
            "gridcolor": "#DFE8F3",
            "linecolor": "#A2B1C6",
            "ticks": ""
           }
          },
          "title": {
           "x": 0.05
          },
          "xaxis": {
           "automargin": true,
           "gridcolor": "#EBF0F8",
           "linecolor": "#EBF0F8",
           "ticks": "",
           "title": {
            "standoff": 15
           },
           "zerolinecolor": "#EBF0F8",
           "zerolinewidth": 2
          },
          "yaxis": {
           "automargin": true,
           "gridcolor": "#EBF0F8",
           "linecolor": "#EBF0F8",
           "ticks": "",
           "title": {
            "standoff": 15
           },
           "zerolinecolor": "#EBF0F8",
           "zerolinewidth": 2
          }
         }
        },
        "title": {
         "text": "Water Leakage Cost by Year (2008-2022)"
        },
        "width": 1250,
        "xaxis": {
         "anchor": "y",
         "domain": [
          0,
          1
         ],
         "title": {
          "text": "Year"
         }
        },
        "yaxis": {
         "anchor": "x",
         "domain": [
          0,
          1
         ],
         "title": {
          "text": "Water Leakage Cost (Million R)"
         }
        }
       }
      }
     },
     "metadata": {},
     "output_type": "display_data"
    }
   ],
   "source": [
    "# Read data from the Excel file\n",
    "df = pd.read_excel('Leakage_Costs.xlsx')\n",
    "\n",
    "df.columns = ['Year', 'Water Leakage (%)', 'Water Leakage Cost (Million R)']\n",
    "\n",
    "# Create a bar plot for Water Leakage Cost\n",
    "fig5 = px.bar(\n",
    "    df,\n",
    "    x='Year',\n",
    "    y='Water Leakage Cost (Million R)',\n",
    "    color='Water Leakage Cost (Million R)', \n",
    "    color_continuous_scale='Viridis',\n",
    "    title='Water Leakage Cost by Year (2008-2022)',\n",
    "    labels={'Water Leakage Cost (Million R)': 'Water Leakage Cost (Million R)'},\n",
    "    template='plotly_white'\n",
    ")\n",
    "\n",
    "# Update layout for the figure\n",
    "fig5.update_layout(\n",
    "    xaxis=dict(title='Year'),\n",
    "    yaxis=dict(title='Water Leakage Cost (Million R)'),\n",
    "    width=1250,  # Set the height to 1250\n",
    "    height=500     # Set the width to 550\n",
    ")\n",
    "\n",
    "# Show the plot\n",
    "fig5.show()"
   ]
  },
  {
   "cell_type": "code",
   "execution_count": 42,
   "metadata": {},
   "outputs": [
    {
     "data": {
      "application/vnd.plotly.v1+json": {
       "config": {
        "plotlyServerURL": "https://plot.ly"
       },
       "data": [
        {
         "branchvalues": "total",
         "customdata": [
          [
           40.35
          ],
          [
           39.75
          ],
          [
           41.95
          ],
          [
           42.6
          ],
          [
           43.55
          ],
          [
           15.85
          ],
          [
           14.65
          ],
          [
           12.55
          ],
          [
           12.899999999999999
          ],
          [
           11.8
          ],
          [
           10.45
          ],
          [
           10.85
          ],
          [
           8.75
          ],
          [
           9.5
          ],
          [
           8.6
          ],
          [
           5.15
          ],
          [
           6.1
          ],
          [
           7.3
          ],
          [
           4.75
          ],
          [
           4.25
          ],
          [
           30.2
          ],
          [
           31.5
          ],
          [
           32.4
          ],
          [
           33.8
          ],
          [
           34.15
          ],
          [
           28.6971568627451
          ],
          [
           28.603475935828875
          ],
          [
           30.081762991743567
          ],
          [
           31.254683727667786
          ],
          [
           32.18453834880313
          ]
         ],
         "domain": {
          "x": [
           0,
           1
          ],
          "y": [
           0,
           1
          ]
         },
         "hovertemplate": "labels=%{label}<br>Water Leakage Cost (%)_sum=%{value}<br>parent=%{parent}<br>id=%{id}<br>Water Leakage Cost (%)=%{color}<extra></extra>",
         "ids": [
          "2018/Agriculture",
          "2019/Agriculture",
          "2020/Agriculture",
          "2021/Agriculture",
          "2022/Agriculture",
          "2018/Economic Hubs",
          "2019/Economic Hubs",
          "2020/Economic Hubs",
          "2021/Economic Hubs",
          "2022/Economic Hubs",
          "2018/Industry",
          "2019/Industry",
          "2020/Industry",
          "2021/Industry",
          "2022/Industry",
          "2018/Other",
          "2019/Other",
          "2020/Other",
          "2021/Other",
          "2022/Other",
          "2018/Tourism",
          "2019/Tourism",
          "2020/Tourism",
          "2021/Tourism",
          "2022/Tourism",
          "2018",
          "2019",
          "2020",
          "2021",
          "2022"
         ],
         "labels": [
          "Agriculture",
          "Agriculture",
          "Agriculture",
          "Agriculture",
          "Agriculture",
          "Economic Hubs",
          "Economic Hubs",
          "Economic Hubs",
          "Economic Hubs",
          "Economic Hubs",
          "Industry",
          "Industry",
          "Industry",
          "Industry",
          "Industry",
          "Other",
          "Other",
          "Other",
          "Other",
          "Other",
          "Tourism",
          "Tourism",
          "Tourism",
          "Tourism",
          "Tourism",
          "2018",
          "2019",
          "2020",
          "2021",
          "2022"
         ],
         "marker": {
          "coloraxis": "coloraxis",
          "colors": [
           40.35,
           39.75,
           41.95,
           42.6,
           43.55,
           15.85,
           14.65,
           12.55,
           12.899999999999999,
           11.8,
           10.45,
           10.85,
           8.75,
           9.5,
           8.6,
           5.15,
           6.1,
           7.3,
           4.75,
           4.25,
           30.2,
           31.5,
           32.4,
           33.8,
           34.15,
           28.6971568627451,
           28.603475935828875,
           30.081762991743567,
           31.254683727667786,
           32.18453834880313
          ]
         },
         "name": "",
         "parents": [
          "2018",
          "2019",
          "2020",
          "2021",
          "2022",
          "2018",
          "2019",
          "2020",
          "2021",
          "2022",
          "2018",
          "2019",
          "2020",
          "2021",
          "2022",
          "2018",
          "2019",
          "2020",
          "2021",
          "2022",
          "2018",
          "2019",
          "2020",
          "2021",
          "2022",
          "",
          "",
          "",
          "",
          ""
         ],
         "type": "sunburst",
         "values": [
          40.35,
          39.75,
          41.95,
          42.6,
          43.55,
          15.85,
          14.65,
          12.55,
          12.9,
          11.8,
          10.45,
          10.85,
          8.75,
          9.5,
          8.6,
          5.15,
          6.1,
          7.3,
          4.75,
          4.25,
          30.2,
          31.5,
          32.4,
          33.8,
          34.15,
          102,
          102.85,
          102.95,
          103.55,
          102.35
         ]
        }
       ],
       "layout": {
        "coloraxis": {
         "colorbar": {
          "title": {
           "text": "Water Leakage Cost (%)"
          }
         },
         "colorscale": [
          [
           0,
           "rgb(247,252,245)"
          ],
          [
           0.125,
           "rgb(229,245,224)"
          ],
          [
           0.25,
           "rgb(199,233,192)"
          ],
          [
           0.375,
           "rgb(161,217,155)"
          ],
          [
           0.5,
           "rgb(116,196,118)"
          ],
          [
           0.625,
           "rgb(65,171,93)"
          ],
          [
           0.75,
           "rgb(35,139,69)"
          ],
          [
           0.875,
           "rgb(0,109,44)"
          ],
          [
           1,
           "rgb(0,68,27)"
          ]
         ]
        },
        "height": 450,
        "legend": {
         "tracegroupgap": 0
        },
        "template": {
         "data": {
          "bar": [
           {
            "error_x": {
             "color": "#2a3f5f"
            },
            "error_y": {
             "color": "#2a3f5f"
            },
            "marker": {
             "line": {
              "color": "white",
              "width": 0.5
             },
             "pattern": {
              "fillmode": "overlay",
              "size": 10,
              "solidity": 0.2
             }
            },
            "type": "bar"
           }
          ],
          "barpolar": [
           {
            "marker": {
             "line": {
              "color": "white",
              "width": 0.5
             },
             "pattern": {
              "fillmode": "overlay",
              "size": 10,
              "solidity": 0.2
             }
            },
            "type": "barpolar"
           }
          ],
          "carpet": [
           {
            "aaxis": {
             "endlinecolor": "#2a3f5f",
             "gridcolor": "#C8D4E3",
             "linecolor": "#C8D4E3",
             "minorgridcolor": "#C8D4E3",
             "startlinecolor": "#2a3f5f"
            },
            "baxis": {
             "endlinecolor": "#2a3f5f",
             "gridcolor": "#C8D4E3",
             "linecolor": "#C8D4E3",
             "minorgridcolor": "#C8D4E3",
             "startlinecolor": "#2a3f5f"
            },
            "type": "carpet"
           }
          ],
          "choropleth": [
           {
            "colorbar": {
             "outlinewidth": 0,
             "ticks": ""
            },
            "type": "choropleth"
           }
          ],
          "contour": [
           {
            "colorbar": {
             "outlinewidth": 0,
             "ticks": ""
            },
            "colorscale": [
             [
              0,
              "#0d0887"
             ],
             [
              0.1111111111111111,
              "#46039f"
             ],
             [
              0.2222222222222222,
              "#7201a8"
             ],
             [
              0.3333333333333333,
              "#9c179e"
             ],
             [
              0.4444444444444444,
              "#bd3786"
             ],
             [
              0.5555555555555556,
              "#d8576b"
             ],
             [
              0.6666666666666666,
              "#ed7953"
             ],
             [
              0.7777777777777778,
              "#fb9f3a"
             ],
             [
              0.8888888888888888,
              "#fdca26"
             ],
             [
              1,
              "#f0f921"
             ]
            ],
            "type": "contour"
           }
          ],
          "contourcarpet": [
           {
            "colorbar": {
             "outlinewidth": 0,
             "ticks": ""
            },
            "type": "contourcarpet"
           }
          ],
          "heatmap": [
           {
            "colorbar": {
             "outlinewidth": 0,
             "ticks": ""
            },
            "colorscale": [
             [
              0,
              "#0d0887"
             ],
             [
              0.1111111111111111,
              "#46039f"
             ],
             [
              0.2222222222222222,
              "#7201a8"
             ],
             [
              0.3333333333333333,
              "#9c179e"
             ],
             [
              0.4444444444444444,
              "#bd3786"
             ],
             [
              0.5555555555555556,
              "#d8576b"
             ],
             [
              0.6666666666666666,
              "#ed7953"
             ],
             [
              0.7777777777777778,
              "#fb9f3a"
             ],
             [
              0.8888888888888888,
              "#fdca26"
             ],
             [
              1,
              "#f0f921"
             ]
            ],
            "type": "heatmap"
           }
          ],
          "heatmapgl": [
           {
            "colorbar": {
             "outlinewidth": 0,
             "ticks": ""
            },
            "colorscale": [
             [
              0,
              "#0d0887"
             ],
             [
              0.1111111111111111,
              "#46039f"
             ],
             [
              0.2222222222222222,
              "#7201a8"
             ],
             [
              0.3333333333333333,
              "#9c179e"
             ],
             [
              0.4444444444444444,
              "#bd3786"
             ],
             [
              0.5555555555555556,
              "#d8576b"
             ],
             [
              0.6666666666666666,
              "#ed7953"
             ],
             [
              0.7777777777777778,
              "#fb9f3a"
             ],
             [
              0.8888888888888888,
              "#fdca26"
             ],
             [
              1,
              "#f0f921"
             ]
            ],
            "type": "heatmapgl"
           }
          ],
          "histogram": [
           {
            "marker": {
             "pattern": {
              "fillmode": "overlay",
              "size": 10,
              "solidity": 0.2
             }
            },
            "type": "histogram"
           }
          ],
          "histogram2d": [
           {
            "colorbar": {
             "outlinewidth": 0,
             "ticks": ""
            },
            "colorscale": [
             [
              0,
              "#0d0887"
             ],
             [
              0.1111111111111111,
              "#46039f"
             ],
             [
              0.2222222222222222,
              "#7201a8"
             ],
             [
              0.3333333333333333,
              "#9c179e"
             ],
             [
              0.4444444444444444,
              "#bd3786"
             ],
             [
              0.5555555555555556,
              "#d8576b"
             ],
             [
              0.6666666666666666,
              "#ed7953"
             ],
             [
              0.7777777777777778,
              "#fb9f3a"
             ],
             [
              0.8888888888888888,
              "#fdca26"
             ],
             [
              1,
              "#f0f921"
             ]
            ],
            "type": "histogram2d"
           }
          ],
          "histogram2dcontour": [
           {
            "colorbar": {
             "outlinewidth": 0,
             "ticks": ""
            },
            "colorscale": [
             [
              0,
              "#0d0887"
             ],
             [
              0.1111111111111111,
              "#46039f"
             ],
             [
              0.2222222222222222,
              "#7201a8"
             ],
             [
              0.3333333333333333,
              "#9c179e"
             ],
             [
              0.4444444444444444,
              "#bd3786"
             ],
             [
              0.5555555555555556,
              "#d8576b"
             ],
             [
              0.6666666666666666,
              "#ed7953"
             ],
             [
              0.7777777777777778,
              "#fb9f3a"
             ],
             [
              0.8888888888888888,
              "#fdca26"
             ],
             [
              1,
              "#f0f921"
             ]
            ],
            "type": "histogram2dcontour"
           }
          ],
          "mesh3d": [
           {
            "colorbar": {
             "outlinewidth": 0,
             "ticks": ""
            },
            "type": "mesh3d"
           }
          ],
          "parcoords": [
           {
            "line": {
             "colorbar": {
              "outlinewidth": 0,
              "ticks": ""
             }
            },
            "type": "parcoords"
           }
          ],
          "pie": [
           {
            "automargin": true,
            "type": "pie"
           }
          ],
          "scatter": [
           {
            "fillpattern": {
             "fillmode": "overlay",
             "size": 10,
             "solidity": 0.2
            },
            "type": "scatter"
           }
          ],
          "scatter3d": [
           {
            "line": {
             "colorbar": {
              "outlinewidth": 0,
              "ticks": ""
             }
            },
            "marker": {
             "colorbar": {
              "outlinewidth": 0,
              "ticks": ""
             }
            },
            "type": "scatter3d"
           }
          ],
          "scattercarpet": [
           {
            "marker": {
             "colorbar": {
              "outlinewidth": 0,
              "ticks": ""
             }
            },
            "type": "scattercarpet"
           }
          ],
          "scattergeo": [
           {
            "marker": {
             "colorbar": {
              "outlinewidth": 0,
              "ticks": ""
             }
            },
            "type": "scattergeo"
           }
          ],
          "scattergl": [
           {
            "marker": {
             "colorbar": {
              "outlinewidth": 0,
              "ticks": ""
             }
            },
            "type": "scattergl"
           }
          ],
          "scattermapbox": [
           {
            "marker": {
             "colorbar": {
              "outlinewidth": 0,
              "ticks": ""
             }
            },
            "type": "scattermapbox"
           }
          ],
          "scatterpolar": [
           {
            "marker": {
             "colorbar": {
              "outlinewidth": 0,
              "ticks": ""
             }
            },
            "type": "scatterpolar"
           }
          ],
          "scatterpolargl": [
           {
            "marker": {
             "colorbar": {
              "outlinewidth": 0,
              "ticks": ""
             }
            },
            "type": "scatterpolargl"
           }
          ],
          "scatterternary": [
           {
            "marker": {
             "colorbar": {
              "outlinewidth": 0,
              "ticks": ""
             }
            },
            "type": "scatterternary"
           }
          ],
          "surface": [
           {
            "colorbar": {
             "outlinewidth": 0,
             "ticks": ""
            },
            "colorscale": [
             [
              0,
              "#0d0887"
             ],
             [
              0.1111111111111111,
              "#46039f"
             ],
             [
              0.2222222222222222,
              "#7201a8"
             ],
             [
              0.3333333333333333,
              "#9c179e"
             ],
             [
              0.4444444444444444,
              "#bd3786"
             ],
             [
              0.5555555555555556,
              "#d8576b"
             ],
             [
              0.6666666666666666,
              "#ed7953"
             ],
             [
              0.7777777777777778,
              "#fb9f3a"
             ],
             [
              0.8888888888888888,
              "#fdca26"
             ],
             [
              1,
              "#f0f921"
             ]
            ],
            "type": "surface"
           }
          ],
          "table": [
           {
            "cells": {
             "fill": {
              "color": "#EBF0F8"
             },
             "line": {
              "color": "white"
             }
            },
            "header": {
             "fill": {
              "color": "#C8D4E3"
             },
             "line": {
              "color": "white"
             }
            },
            "type": "table"
           }
          ]
         },
         "layout": {
          "annotationdefaults": {
           "arrowcolor": "#2a3f5f",
           "arrowhead": 0,
           "arrowwidth": 1
          },
          "autotypenumbers": "strict",
          "coloraxis": {
           "colorbar": {
            "outlinewidth": 0,
            "ticks": ""
           }
          },
          "colorscale": {
           "diverging": [
            [
             0,
             "#8e0152"
            ],
            [
             0.1,
             "#c51b7d"
            ],
            [
             0.2,
             "#de77ae"
            ],
            [
             0.3,
             "#f1b6da"
            ],
            [
             0.4,
             "#fde0ef"
            ],
            [
             0.5,
             "#f7f7f7"
            ],
            [
             0.6,
             "#e6f5d0"
            ],
            [
             0.7,
             "#b8e186"
            ],
            [
             0.8,
             "#7fbc41"
            ],
            [
             0.9,
             "#4d9221"
            ],
            [
             1,
             "#276419"
            ]
           ],
           "sequential": [
            [
             0,
             "#0d0887"
            ],
            [
             0.1111111111111111,
             "#46039f"
            ],
            [
             0.2222222222222222,
             "#7201a8"
            ],
            [
             0.3333333333333333,
             "#9c179e"
            ],
            [
             0.4444444444444444,
             "#bd3786"
            ],
            [
             0.5555555555555556,
             "#d8576b"
            ],
            [
             0.6666666666666666,
             "#ed7953"
            ],
            [
             0.7777777777777778,
             "#fb9f3a"
            ],
            [
             0.8888888888888888,
             "#fdca26"
            ],
            [
             1,
             "#f0f921"
            ]
           ],
           "sequentialminus": [
            [
             0,
             "#0d0887"
            ],
            [
             0.1111111111111111,
             "#46039f"
            ],
            [
             0.2222222222222222,
             "#7201a8"
            ],
            [
             0.3333333333333333,
             "#9c179e"
            ],
            [
             0.4444444444444444,
             "#bd3786"
            ],
            [
             0.5555555555555556,
             "#d8576b"
            ],
            [
             0.6666666666666666,
             "#ed7953"
            ],
            [
             0.7777777777777778,
             "#fb9f3a"
            ],
            [
             0.8888888888888888,
             "#fdca26"
            ],
            [
             1,
             "#f0f921"
            ]
           ]
          },
          "colorway": [
           "#636efa",
           "#EF553B",
           "#00cc96",
           "#ab63fa",
           "#FFA15A",
           "#19d3f3",
           "#FF6692",
           "#B6E880",
           "#FF97FF",
           "#FECB52"
          ],
          "font": {
           "color": "#2a3f5f"
          },
          "geo": {
           "bgcolor": "white",
           "lakecolor": "white",
           "landcolor": "white",
           "showlakes": true,
           "showland": true,
           "subunitcolor": "#C8D4E3"
          },
          "hoverlabel": {
           "align": "left"
          },
          "hovermode": "closest",
          "mapbox": {
           "style": "light"
          },
          "paper_bgcolor": "white",
          "plot_bgcolor": "white",
          "polar": {
           "angularaxis": {
            "gridcolor": "#EBF0F8",
            "linecolor": "#EBF0F8",
            "ticks": ""
           },
           "bgcolor": "white",
           "radialaxis": {
            "gridcolor": "#EBF0F8",
            "linecolor": "#EBF0F8",
            "ticks": ""
           }
          },
          "scene": {
           "xaxis": {
            "backgroundcolor": "white",
            "gridcolor": "#DFE8F3",
            "gridwidth": 2,
            "linecolor": "#EBF0F8",
            "showbackground": true,
            "ticks": "",
            "zerolinecolor": "#EBF0F8"
           },
           "yaxis": {
            "backgroundcolor": "white",
            "gridcolor": "#DFE8F3",
            "gridwidth": 2,
            "linecolor": "#EBF0F8",
            "showbackground": true,
            "ticks": "",
            "zerolinecolor": "#EBF0F8"
           },
           "zaxis": {
            "backgroundcolor": "white",
            "gridcolor": "#DFE8F3",
            "gridwidth": 2,
            "linecolor": "#EBF0F8",
            "showbackground": true,
            "ticks": "",
            "zerolinecolor": "#EBF0F8"
           }
          },
          "shapedefaults": {
           "line": {
            "color": "#2a3f5f"
           }
          },
          "ternary": {
           "aaxis": {
            "gridcolor": "#DFE8F3",
            "linecolor": "#A2B1C6",
            "ticks": ""
           },
           "baxis": {
            "gridcolor": "#DFE8F3",
            "linecolor": "#A2B1C6",
            "ticks": ""
           },
           "bgcolor": "white",
           "caxis": {
            "gridcolor": "#DFE8F3",
            "linecolor": "#A2B1C6",
            "ticks": ""
           }
          },
          "title": {
           "x": 0.05
          },
          "xaxis": {
           "automargin": true,
           "gridcolor": "#EBF0F8",
           "linecolor": "#EBF0F8",
           "ticks": "",
           "title": {
            "standoff": 15
           },
           "zerolinecolor": "#EBF0F8",
           "zerolinewidth": 2
          },
          "yaxis": {
           "automargin": true,
           "gridcolor": "#EBF0F8",
           "linecolor": "#EBF0F8",
           "ticks": "",
           "title": {
            "standoff": 15
           },
           "zerolinecolor": "#EBF0F8",
           "zerolinewidth": 2
          }
         }
        },
        "title": {
         "font": {
          "family": "Arial",
          "size": 24
         },
         "text": "Water Leakage Costs by Sector in South Africa (2018-2022)"
        },
        "width": 1250
       }
      }
     },
     "metadata": {},
     "output_type": "display_data"
    }
   ],
   "source": [
    "\n",
    "# Load the data from the Excel file\n",
    "file_path = 'Economic_Effect.xlsx'\n",
    "df = pd.read_excel(file_path)\n",
    "\n",
    "# Filter the data for the relevant years (2018-2022)\n",
    "data_filtered = df[df['Year'].isin([2018, 2019, 2020, 2021, 2022])]\n",
    "\n",
    "# Create the Sunburst Chart\n",
    "sunburst_fig = px.sunburst(\n",
    "    data_filtered,\n",
    "    path=['Year', 'Sector'],  # Define the hierarchy for the sunburst chart\n",
    "    values='Water Leakage Cost (%)',  # Use 'Water Leakage Cost (%)' as the values\n",
    "    title='Water Leakage Costs by Sector in South Africa (2018-2022)',\n",
    "    color='Water Leakage Cost (%)',  # Color by Water Leakage Cost\n",
    "    color_continuous_scale='Greens',  # Change this to a green color scale\n",
    "    branchvalues='total',  # Calculate branch values as total\n",
    "    template='plotly_white'\n",
    ")\n",
    "\n",
    "# Update layout for the figure\n",
    "sunburst_fig.update_layout(\n",
    "    title_font_size=24,\n",
    "    title_font_family='Arial',\n",
    "    height=450,  # Set the height to 450\n",
    "    width=1250   # Set the width to 1250\n",
    ")\n",
    "\n",
    "# Show the plot\n",
    "sunburst_fig.show()"
   ]
  },
  {
   "cell_type": "markdown",
   "metadata": {},
   "source": []
  },
  {
   "cell_type": "code",
   "execution_count": 43,
   "metadata": {},
   "outputs": [
    {
     "data": {
      "text/html": [
       "\n",
       "        <iframe\n",
       "            width=\"100%\"\n",
       "            height=\"650\"\n",
       "            src=\"http://127.0.0.1:8020/\"\n",
       "            frameborder=\"0\"\n",
       "            allowfullscreen\n",
       "            \n",
       "        ></iframe>\n",
       "        "
      ],
      "text/plain": [
       "<IPython.lib.display.IFrame at 0x13ee81b5420>"
      ]
     },
     "metadata": {},
     "output_type": "display_data"
    },
    {
     "name": "stdout",
     "output_type": "stream",
     "text": [
      "Dash app running on http://127.0.0.1:8020/\n"
     ]
    }
   ],
   "source": [
    "import warnings\n",
    "warnings.filterwarnings(\"ignore\")\n",
    "\n",
    "import dash\n",
    "import dash_bootstrap_components as dbc\n",
    "import dash_core_components as dcc\n",
    "import dash_html_components as html\n",
    "from dash.dependencies import Input, Output\n",
    "from jupyter_dash import JupyterDash\n",
    "\n",
    "# Create the app\n",
    "app = JupyterDash(__name__, external_stylesheets=[dbc.themes.SLATE], suppress_callback_exceptions=True)\n",
    "\n",
    "# Sidebar layout with full height and centered buttons\n",
    "sidebar = html.Div(\n",
    "    [\n",
    "        html.Hr(),\n",
    "        html.H6(\"Investing in Infrastructure: Building a Sustainable Water Future\", style={'color': 'white', 'text-align': 'center', 'margin-bottom': '10px'}),\n",
    "        dbc.Button(\"Water Analysis\", href=\"/visuals1\", id=\"visuals1-button\", color=\"primary\", className=\"mb-2\", style={'border-radius': '25px', 'width': '150px'}),\n",
    "        dbc.Button(\"Water Impact\", href=\"/visuals2\", id=\"visuals2-button\", color=\"secondary\", className=\"mb-2\", style={'border-radius': '25px', 'width': '150px'}),\n",
    "        html.H6(\"Every Drop Saved: Cutting Costs Through Smart Leak Management\", style={'color': 'white', 'text-align': 'center', 'margin-bottom': '10px'}),\n",
    "    ],\n",
    "    style={\n",
    "        'width': '15%',\n",
    "        'position': 'fixed', \n",
    "        'top': '0',  \n",
    "        'right': '0', \n",
    "        'height': '100%',  \n",
    "        'backgroundColor': '#343a40',\n",
    "        'padding': '10px',\n",
    "        'z-index': '10',  \n",
    "        'display': 'flex',\n",
    "        'flexDirection': 'column',\n",
    "        'justifyContent': 'center',\n",
    "        'alignItems': 'center'\n",
    "    }\n",
    ")\n",
    "\n",
    "# Title of the dashboard\n",
    "title = html.H1(\"Print('Alpha')\", style={\n",
    "    'text-align': 'center', \n",
    "    'position': 'fixed', \n",
    "    'top': '10px', \n",
    "    'left': '50%', \n",
    "    'transform': 'translateX(-50%)', \n",
    "    'width': '100%', \n",
    "    'z-index': '999'\n",
    "})\n",
    "\n",
    "# Content layout with fixed height, adjusted for the sidebar\n",
    "content = html.Div(id=\"page-content\", style={\n",
    "    'margin-right': '15%',\n",
    "    'margin-left': '0',\n",
    "    'margin-top': '60px', \n",
    "    'height': 'calc(100vh - 100px)',  \n",
    "    'overflowY': 'auto',  \n",
    "    'padding': '10px',  \n",
    "    'z-index': '1',\n",
    "})\n",
    "\n",
    "# Define the first page visuals with proper spacing and centering\n",
    "first = dbc.Container([\n",
    "    dbc.Row(\n",
    "        dbc.Col(dcc.Graph(figure=fig1, style={'width': '100%', 'height': '400px'}), width=12),\n",
    "        justify=\"center\",  # Center the graph\n",
    "        style={'margin-bottom': '40px'}  # Space below fig1\n",
    "    ),\n",
    "    dbc.Row(\n",
    "        dbc.Col(html.Hr(style={'border': '1px solid #ccc', 'margin-bottom': '20px'})),  # Divider\n",
    "    ),\n",
    "    dbc.Row(\n",
    "        dbc.Col(dcc.Graph(figure=fig2, style={'width': '100%', 'height': '500px'}), width=12),\n",
    "        justify=\"center\",  # Center the graph\n",
    "        style={'margin-bottom': '40px'}  # Space below fig2\n",
    "    ),\n",
    "    dbc.Row(\n",
    "        dbc.Col(html.Hr(style={'border': '1px solid #ccc', 'margin-bottom': '20px'})),  # Divider\n",
    "    ),\n",
    "    dbc.Row(\n",
    "        dbc.Col(dcc.Graph(figure=fig3, style={'width': '100%', 'height': '450px'}), width=12),\n",
    "        justify=\"center\",  # Center the graph\n",
    "        style={'margin-bottom': '40px'}  # Space below fig3\n",
    "    ),\n",
    "], fluid=True)\n",
    "\n",
    "# Define the second page visuals with proper spacing and centering\n",
    "second = dbc.Container([\n",
    "    dbc.Row(\n",
    "        dbc.Col(dcc.Graph(figure=sunburst_fig, style={'width': '100%', 'height': '400px'}), width=12),\n",
    "        justify=\"center\",  # Center the graph\n",
    "        style={'margin-bottom': '40px'}  # Space below fig6\n",
    "    ),\n",
    "    dbc.Row(\n",
    "        dbc.Col(html.Hr(style={'border': '1px solid #ccc', 'margin-bottom': '20px'})),  # Divider\n",
    "    ),\n",
    "    dbc.Row(\n",
    "        dbc.Col(dcc.Graph(figure=fig5, style={'width': '100%', 'height': '450px'}), width=12),\n",
    "        justify=\"center\",  # Center the graph\n",
    "        style={'margin-bottom': '40px'}  # Space below fig5\n",
    "    ),\n",
    "    dbc.Row(\n",
    "        dbc.Col(html.Hr(style={'border': '1px solid #ccc', 'margin-bottom': '20px'})),  # Divider\n",
    "    ),\n",
    "    dbc.Row(\n",
    "        dbc.Col(dcc.Graph(figure=fig4, style={'width': '100%', 'height': '500px'}), width=12),\n",
    "        justify=\"center\",  # Center the graph\n",
    "        style={'margin-bottom': '40px'}  # Space below fig4\n",
    "    ),\n",
    "], fluid=True)\n",
    "\n",
    "# App layout\n",
    "app.layout = html.Div([\n",
    "    dcc.Location(id='url'),\n",
    "    sidebar,\n",
    "    title,\n",
    "    content\n",
    "])\n",
    "\n",
    "# Callback to control navigation\n",
    "@app.callback(Output(\"page-content\", \"children\"), [Input(\"url\", \"pathname\")])\n",
    "def display_page(pathname):\n",
    "    if pathname == \"/visuals1\" or pathname == \"/\":  \n",
    "        return first  \n",
    "    elif pathname == \"/visuals2\":\n",
    "        return second  \n",
    "    else:\n",
    "        return first  \n",
    "\n",
    "# Run the app on a different port\n",
    "if __name__ == \"__main__\":  \n",
    "    app.run_server(debug=True, port=8020)\n"
   ]
  },
  {
   "cell_type": "code",
   "execution_count": null,
   "metadata": {},
   "outputs": [],
   "source": []
  },
  {
   "cell_type": "code",
   "execution_count": null,
   "metadata": {},
   "outputs": [],
   "source": []
  }
 ],
 "metadata": {
  "kernelspec": {
   "display_name": "base",
   "language": "python",
   "name": "python3"
  },
  "language_info": {
   "codemirror_mode": {
    "name": "ipython",
    "version": 3
   },
   "file_extension": ".py",
   "mimetype": "text/x-python",
   "name": "python",
   "nbconvert_exporter": "python",
   "pygments_lexer": "ipython3",
   "version": "3.10.9"
  }
 },
 "nbformat": 4,
 "nbformat_minor": 2
}
